{
 "cells": [
  {
   "cell_type": "code",
   "execution_count": 42,
   "id": "091fc4ae",
   "metadata": {},
   "outputs": [],
   "source": [
    "import pandas as pd\n",
    "import numpy as np\n",
    "import matplotlib.pyplot as plt\n",
    "import seaborn as sns\n",
    "from scipy import stats \n",
    "%matplotlib inline"
   ]
  },
  {
   "cell_type": "code",
   "execution_count": 2,
   "id": "7c6ebb20",
   "metadata": {},
   "outputs": [],
   "source": [
    "data = pd.read_csv('dataset without outlier.csv')"
   ]
  },
  {
   "cell_type": "code",
   "execution_count": 3,
   "id": "85aaf7bd",
   "metadata": {},
   "outputs": [
    {
     "name": "stdout",
     "output_type": "stream",
     "text": [
      "<class 'pandas.core.frame.DataFrame'>\n",
      "RangeIndex: 54790 entries, 0 to 54789\n",
      "Data columns (total 29 columns):\n",
      " #   Column                        Non-Null Count  Dtype  \n",
      "---  ------                        --------------  -----  \n",
      " 0   local_ref_1                   54790 non-null  object \n",
      " 1   vn_marital_status             54790 non-null  object \n",
      " 2   resid_province                54790 non-null  float64\n",
      " 3   birth_incorp_date             54790 non-null  object \n",
      " 4   amount_week                   54790 non-null  float64\n",
      " 5   max_amount_week               54790 non-null  float64\n",
      " 6   min_amount_week               54790 non-null  float64\n",
      " 7   distinct_payment_code_week    54790 non-null  object \n",
      " 8   count_payment_code_week       54790 non-null  float64\n",
      " 9   distinct_trans_group_week     54790 non-null  object \n",
      " 10  distinct_ref_no_week          54790 non-null  float64\n",
      " 11  amount_month                  54790 non-null  float64\n",
      " 12  max_amount_month              54790 non-null  float64\n",
      " 13  min_amount_month              54790 non-null  float64\n",
      " 14  distinct_payment_code_month   54790 non-null  object \n",
      " 15  count_payment_code_month      54790 non-null  float64\n",
      " 16  distinct_trans_group_month    54790 non-null  object \n",
      " 17  distinct_ref_no_month         54790 non-null  float64\n",
      " 18  amount_3month                 54790 non-null  float64\n",
      " 19  max_amount_3month             54790 non-null  float64\n",
      " 20  min_amount_3month             54790 non-null  float64\n",
      " 21  distinct_payment_code_3month  54790 non-null  object \n",
      " 22  count_payment_code_3month     54790 non-null  float64\n",
      " 23  distinct_trans_group_3month   54790 non-null  object \n",
      " 24  distinct_ref_no_3month        54790 non-null  float64\n",
      " 25  Is_churn                      54790 non-null  int64  \n",
      " 26  diff_amount_month             54790 non-null  float64\n",
      " 27  diff_amount_week              54790 non-null  float64\n",
      " 28  diff_amount_3month            54790 non-null  float64\n",
      "dtypes: float64(19), int64(1), object(9)\n",
      "memory usage: 12.1+ MB\n"
     ]
    }
   ],
   "source": [
    "data.info()"
   ]
  },
  {
   "cell_type": "code",
   "execution_count": 4,
   "id": "bd25b8b6",
   "metadata": {},
   "outputs": [
    {
     "data": {
      "text/html": [
       "<div>\n",
       "<style scoped>\n",
       "    .dataframe tbody tr th:only-of-type {\n",
       "        vertical-align: middle;\n",
       "    }\n",
       "\n",
       "    .dataframe tbody tr th {\n",
       "        vertical-align: top;\n",
       "    }\n",
       "\n",
       "    .dataframe thead th {\n",
       "        text-align: right;\n",
       "    }\n",
       "</style>\n",
       "<table border=\"1\" class=\"dataframe\">\n",
       "  <thead>\n",
       "    <tr style=\"text-align: right;\">\n",
       "      <th></th>\n",
       "      <th>resid_province</th>\n",
       "      <th>amount_week</th>\n",
       "      <th>max_amount_week</th>\n",
       "      <th>min_amount_week</th>\n",
       "      <th>count_payment_code_week</th>\n",
       "      <th>distinct_ref_no_week</th>\n",
       "      <th>amount_month</th>\n",
       "      <th>max_amount_month</th>\n",
       "      <th>min_amount_month</th>\n",
       "      <th>count_payment_code_month</th>\n",
       "      <th>distinct_ref_no_month</th>\n",
       "      <th>amount_3month</th>\n",
       "      <th>max_amount_3month</th>\n",
       "      <th>min_amount_3month</th>\n",
       "      <th>count_payment_code_3month</th>\n",
       "      <th>distinct_ref_no_3month</th>\n",
       "      <th>Is_churn</th>\n",
       "      <th>diff_amount_month</th>\n",
       "      <th>diff_amount_week</th>\n",
       "      <th>diff_amount_3month</th>\n",
       "    </tr>\n",
       "  </thead>\n",
       "  <tbody>\n",
       "    <tr>\n",
       "      <th>count</th>\n",
       "      <td>54790.000000</td>\n",
       "      <td>54790.00000</td>\n",
       "      <td>5.479000e+04</td>\n",
       "      <td>54790.000000</td>\n",
       "      <td>54790.000000</td>\n",
       "      <td>54790.000000</td>\n",
       "      <td>5.479000e+04</td>\n",
       "      <td>5.479000e+04</td>\n",
       "      <td>54790.000000</td>\n",
       "      <td>54790.000000</td>\n",
       "      <td>54790.000000</td>\n",
       "      <td>5.479000e+04</td>\n",
       "      <td>5.479000e+04</td>\n",
       "      <td>5.479000e+04</td>\n",
       "      <td>54790.000000</td>\n",
       "      <td>54790.000000</td>\n",
       "      <td>54790.000000</td>\n",
       "      <td>54790.000000</td>\n",
       "      <td>54790.000000</td>\n",
       "      <td>54790.000000</td>\n",
       "    </tr>\n",
       "    <tr>\n",
       "      <th>mean</th>\n",
       "      <td>32.401643</td>\n",
       "      <td>0.00059</td>\n",
       "      <td>4.760065e-04</td>\n",
       "      <td>0.000122</td>\n",
       "      <td>0.472851</td>\n",
       "      <td>5.115094</td>\n",
       "      <td>5.914523e-04</td>\n",
       "      <td>1.228400e-03</td>\n",
       "      <td>0.000006</td>\n",
       "      <td>2.013068</td>\n",
       "      <td>21.111015</td>\n",
       "      <td>3.893395e-04</td>\n",
       "      <td>1.075430e-03</td>\n",
       "      <td>3.549816e-06</td>\n",
       "      <td>5.511453</td>\n",
       "      <td>54.553888</td>\n",
       "      <td>0.045556</td>\n",
       "      <td>0.001177</td>\n",
       "      <td>0.000202</td>\n",
       "      <td>0.001059</td>\n",
       "    </tr>\n",
       "    <tr>\n",
       "      <th>std</th>\n",
       "      <td>29.001154</td>\n",
       "      <td>0.00615</td>\n",
       "      <td>6.227605e-04</td>\n",
       "      <td>0.000153</td>\n",
       "      <td>0.764433</td>\n",
       "      <td>4.443873</td>\n",
       "      <td>7.547197e-04</td>\n",
       "      <td>1.525788e-03</td>\n",
       "      <td>0.000007</td>\n",
       "      <td>2.264628</td>\n",
       "      <td>18.700828</td>\n",
       "      <td>4.957798e-04</td>\n",
       "      <td>1.337041e-03</td>\n",
       "      <td>3.769087e-06</td>\n",
       "      <td>6.042546</td>\n",
       "      <td>48.718725</td>\n",
       "      <td>0.208522</td>\n",
       "      <td>0.001489</td>\n",
       "      <td>0.000543</td>\n",
       "      <td>0.001347</td>\n",
       "    </tr>\n",
       "    <tr>\n",
       "      <th>min</th>\n",
       "      <td>0.000000</td>\n",
       "      <td>0.00000</td>\n",
       "      <td>2.040000e-09</td>\n",
       "      <td>0.000000</td>\n",
       "      <td>0.000000</td>\n",
       "      <td>0.000000</td>\n",
       "      <td>2.800000e-10</td>\n",
       "      <td>2.040000e-09</td>\n",
       "      <td>0.000000</td>\n",
       "      <td>0.000000</td>\n",
       "      <td>0.000000</td>\n",
       "      <td>6.570000e-11</td>\n",
       "      <td>1.000000e-09</td>\n",
       "      <td>0.000000e+00</td>\n",
       "      <td>0.000000</td>\n",
       "      <td>0.000000</td>\n",
       "      <td>0.000000</td>\n",
       "      <td>-0.002339</td>\n",
       "      <td>-0.000783</td>\n",
       "      <td>-0.002137</td>\n",
       "    </tr>\n",
       "    <tr>\n",
       "      <th>25%</th>\n",
       "      <td>1.000000</td>\n",
       "      <td>0.00000</td>\n",
       "      <td>3.060000e-05</td>\n",
       "      <td>0.000011</td>\n",
       "      <td>0.000000</td>\n",
       "      <td>2.000000</td>\n",
       "      <td>4.980000e-05</td>\n",
       "      <td>1.378060e-04</td>\n",
       "      <td>0.000001</td>\n",
       "      <td>0.000000</td>\n",
       "      <td>7.000000</td>\n",
       "      <td>3.360000e-05</td>\n",
       "      <td>1.160000e-04</td>\n",
       "      <td>6.090000e-07</td>\n",
       "      <td>0.000000</td>\n",
       "      <td>18.000000</td>\n",
       "      <td>0.000000</td>\n",
       "      <td>0.000120</td>\n",
       "      <td>-0.000047</td>\n",
       "      <td>0.000103</td>\n",
       "    </tr>\n",
       "    <tr>\n",
       "      <th>50%</th>\n",
       "      <td>31.000000</td>\n",
       "      <td>0.00000</td>\n",
       "      <td>1.551020e-04</td>\n",
       "      <td>0.000045</td>\n",
       "      <td>0.000000</td>\n",
       "      <td>3.000000</td>\n",
       "      <td>1.905340e-04</td>\n",
       "      <td>4.081630e-04</td>\n",
       "      <td>0.000003</td>\n",
       "      <td>1.000000</td>\n",
       "      <td>14.000000</td>\n",
       "      <td>1.272535e-04</td>\n",
       "      <td>4.000000e-04</td>\n",
       "      <td>1.770000e-06</td>\n",
       "      <td>4.000000</td>\n",
       "      <td>37.000000</td>\n",
       "      <td>0.000000</td>\n",
       "      <td>0.000407</td>\n",
       "      <td>0.000027</td>\n",
       "      <td>0.000394</td>\n",
       "    </tr>\n",
       "    <tr>\n",
       "      <th>75%</th>\n",
       "      <td>51.000000</td>\n",
       "      <td>0.00000</td>\n",
       "      <td>7.297960e-04</td>\n",
       "      <td>0.000182</td>\n",
       "      <td>1.000000</td>\n",
       "      <td>7.000000</td>\n",
       "      <td>8.831660e-04</td>\n",
       "      <td>1.836735e-03</td>\n",
       "      <td>0.000009</td>\n",
       "      <td>3.000000</td>\n",
       "      <td>30.000000</td>\n",
       "      <td>5.851687e-04</td>\n",
       "      <td>1.600000e-03</td>\n",
       "      <td>5.260000e-06</td>\n",
       "      <td>9.000000</td>\n",
       "      <td>77.000000</td>\n",
       "      <td>0.000000</td>\n",
       "      <td>0.001760</td>\n",
       "      <td>0.000444</td>\n",
       "      <td>0.001596</td>\n",
       "    </tr>\n",
       "    <tr>\n",
       "      <th>max</th>\n",
       "      <td>96.000000</td>\n",
       "      <td>1.00000</td>\n",
       "      <td>1.778590e-03</td>\n",
       "      <td>0.000437</td>\n",
       "      <td>2.500000</td>\n",
       "      <td>14.500000</td>\n",
       "      <td>2.133215e-03</td>\n",
       "      <td>4.385052e-03</td>\n",
       "      <td>0.000021</td>\n",
       "      <td>7.500000</td>\n",
       "      <td>64.500000</td>\n",
       "      <td>1.412331e-03</td>\n",
       "      <td>3.826000e-03</td>\n",
       "      <td>1.223650e-05</td>\n",
       "      <td>22.500000</td>\n",
       "      <td>165.500000</td>\n",
       "      <td>1.000000</td>\n",
       "      <td>0.004219</td>\n",
       "      <td>0.001181</td>\n",
       "      <td>0.003837</td>\n",
       "    </tr>\n",
       "  </tbody>\n",
       "</table>\n",
       "</div>"
      ],
      "text/plain": [
       "       resid_province  amount_week  max_amount_week  min_amount_week  \\\n",
       "count    54790.000000  54790.00000     5.479000e+04     54790.000000   \n",
       "mean        32.401643      0.00059     4.760065e-04         0.000122   \n",
       "std         29.001154      0.00615     6.227605e-04         0.000153   \n",
       "min          0.000000      0.00000     2.040000e-09         0.000000   \n",
       "25%          1.000000      0.00000     3.060000e-05         0.000011   \n",
       "50%         31.000000      0.00000     1.551020e-04         0.000045   \n",
       "75%         51.000000      0.00000     7.297960e-04         0.000182   \n",
       "max         96.000000      1.00000     1.778590e-03         0.000437   \n",
       "\n",
       "       count_payment_code_week  distinct_ref_no_week  amount_month  \\\n",
       "count             54790.000000          54790.000000  5.479000e+04   \n",
       "mean                  0.472851              5.115094  5.914523e-04   \n",
       "std                   0.764433              4.443873  7.547197e-04   \n",
       "min                   0.000000              0.000000  2.800000e-10   \n",
       "25%                   0.000000              2.000000  4.980000e-05   \n",
       "50%                   0.000000              3.000000  1.905340e-04   \n",
       "75%                   1.000000              7.000000  8.831660e-04   \n",
       "max                   2.500000             14.500000  2.133215e-03   \n",
       "\n",
       "       max_amount_month  min_amount_month  count_payment_code_month  \\\n",
       "count      5.479000e+04      54790.000000              54790.000000   \n",
       "mean       1.228400e-03          0.000006                  2.013068   \n",
       "std        1.525788e-03          0.000007                  2.264628   \n",
       "min        2.040000e-09          0.000000                  0.000000   \n",
       "25%        1.378060e-04          0.000001                  0.000000   \n",
       "50%        4.081630e-04          0.000003                  1.000000   \n",
       "75%        1.836735e-03          0.000009                  3.000000   \n",
       "max        4.385052e-03          0.000021                  7.500000   \n",
       "\n",
       "       distinct_ref_no_month  amount_3month  max_amount_3month  \\\n",
       "count           54790.000000   5.479000e+04       5.479000e+04   \n",
       "mean               21.111015   3.893395e-04       1.075430e-03   \n",
       "std                18.700828   4.957798e-04       1.337041e-03   \n",
       "min                 0.000000   6.570000e-11       1.000000e-09   \n",
       "25%                 7.000000   3.360000e-05       1.160000e-04   \n",
       "50%                14.000000   1.272535e-04       4.000000e-04   \n",
       "75%                30.000000   5.851687e-04       1.600000e-03   \n",
       "max                64.500000   1.412331e-03       3.826000e-03   \n",
       "\n",
       "       min_amount_3month  count_payment_code_3month  distinct_ref_no_3month  \\\n",
       "count       5.479000e+04               54790.000000            54790.000000   \n",
       "mean        3.549816e-06                   5.511453               54.553888   \n",
       "std         3.769087e-06                   6.042546               48.718725   \n",
       "min         0.000000e+00                   0.000000                0.000000   \n",
       "25%         6.090000e-07                   0.000000               18.000000   \n",
       "50%         1.770000e-06                   4.000000               37.000000   \n",
       "75%         5.260000e-06                   9.000000               77.000000   \n",
       "max         1.223650e-05                  22.500000              165.500000   \n",
       "\n",
       "           Is_churn  diff_amount_month  diff_amount_week  diff_amount_3month  \n",
       "count  54790.000000       54790.000000      54790.000000        54790.000000  \n",
       "mean       0.045556           0.001177          0.000202            0.001059  \n",
       "std        0.208522           0.001489          0.000543            0.001347  \n",
       "min        0.000000          -0.002339         -0.000783           -0.002137  \n",
       "25%        0.000000           0.000120         -0.000047            0.000103  \n",
       "50%        0.000000           0.000407          0.000027            0.000394  \n",
       "75%        0.000000           0.001760          0.000444            0.001596  \n",
       "max        1.000000           0.004219          0.001181            0.003837  "
      ]
     },
     "execution_count": 4,
     "metadata": {},
     "output_type": "execute_result"
    }
   ],
   "source": [
    "data.describe()"
   ]
  },
  {
   "cell_type": "markdown",
   "id": "2b5463f2",
   "metadata": {},
   "source": [
    "We will Normalize the Min-Max method for the following columns:\n",
    "- resid_province                \n",
    "- max_amount_week  \n",
    "- min_amount_week               \n",
    "- count_payment_code_week       \n",
    "- distinct_ref_no_week          \n",
    "- amount_month                  \n",
    "- max_amount_month              \n",
    "- min_amount_month              \n",
    "- count_payment_code_month      \n",
    "- distinct_ref_no_month         \n",
    "- amount_3month                 \n",
    "- max_amount_3month             \n",
    "- min_amount_3month             \n",
    "- count_payment_code_3month     \n",
    "- distinct_ref_no_3month        \n",
    "- diff_amount_month             \n",
    "- diff_amount_week              \n",
    "- diff_amount_3month \n",
    "\n",
    "We will Normalize by Dummy variable method with the following columns:\n",
    "- local_ref_1                   \n",
    "- vn_marital_status             \n",
    "- birth_incorp_date             \n",
    "- distinct_payment_code_week    \n",
    "- distinct_trans_group_week     \n",
    "- distinct_payment_code_month   \n",
    "- distinct_trans_group_month    \n",
    "- distinct_payment_code_3month  \n",
    "- distinct_trans_group_3month   "
   ]
  },
  {
   "cell_type": "markdown",
   "id": "7e33026c",
   "metadata": {},
   "source": [
    "<h2> Dummy variable"
   ]
  },
  {
   "cell_type": "code",
   "execution_count": 5,
   "id": "81e1e528",
   "metadata": {},
   "outputs": [],
   "source": [
    "categorical_columns = ['local_ref_1', 'vn_marital_status', 'birth_incorp_date', 'distinct_payment_code_week'\n",
    "                      , 'distinct_trans_group_week', 'distinct_payment_code_month', 'distinct_trans_group_month'\n",
    "                      , 'distinct_payment_code_3month', 'distinct_trans_group_3month']\n",
    "\n",
    "prefix = ['sex', 'marital_status', 'age', 'payment_code_week', 'trans_group_week', 'payment_code_month', \n",
    "         'trans_group_month', 'payment_code_3month', 'trans_group_3month']\n",
    "\n",
    "data = pd.get_dummies(data = data, prefix = prefix, prefix_sep = '_', \n",
    "                      columns = categorical_columns, drop_first = False, dtype = 'int8')"
   ]
  },
  {
   "cell_type": "code",
   "execution_count": 6,
   "id": "de33809f",
   "metadata": {},
   "outputs": [
    {
     "data": {
      "text/html": [
       "<div>\n",
       "<style scoped>\n",
       "    .dataframe tbody tr th:only-of-type {\n",
       "        vertical-align: middle;\n",
       "    }\n",
       "\n",
       "    .dataframe tbody tr th {\n",
       "        vertical-align: top;\n",
       "    }\n",
       "\n",
       "    .dataframe thead th {\n",
       "        text-align: right;\n",
       "    }\n",
       "</style>\n",
       "<table border=\"1\" class=\"dataframe\">\n",
       "  <thead>\n",
       "    <tr style=\"text-align: right;\">\n",
       "      <th></th>\n",
       "      <th>resid_province</th>\n",
       "      <th>amount_week</th>\n",
       "      <th>max_amount_week</th>\n",
       "      <th>min_amount_week</th>\n",
       "      <th>count_payment_code_week</th>\n",
       "      <th>distinct_ref_no_week</th>\n",
       "      <th>amount_month</th>\n",
       "      <th>max_amount_month</th>\n",
       "      <th>min_amount_month</th>\n",
       "      <th>count_payment_code_month</th>\n",
       "      <th>...</th>\n",
       "      <th>payment_code_3month_0</th>\n",
       "      <th>payment_code_3month_1</th>\n",
       "      <th>payment_code_3month_2</th>\n",
       "      <th>payment_code_3month_3</th>\n",
       "      <th>payment_code_3month_Other</th>\n",
       "      <th>trans_group_3month_1</th>\n",
       "      <th>trans_group_3month_2</th>\n",
       "      <th>trans_group_3month_3</th>\n",
       "      <th>trans_group_3month_4</th>\n",
       "      <th>trans_group_3month_Other</th>\n",
       "    </tr>\n",
       "  </thead>\n",
       "  <tbody>\n",
       "    <tr>\n",
       "      <th>0</th>\n",
       "      <td>49.0</td>\n",
       "      <td>0.0</td>\n",
       "      <td>0.000114</td>\n",
       "      <td>0.000437</td>\n",
       "      <td>0.0</td>\n",
       "      <td>1.0</td>\n",
       "      <td>0.000097</td>\n",
       "      <td>0.000247</td>\n",
       "      <td>0.000001</td>\n",
       "      <td>5.0</td>\n",
       "      <td>...</td>\n",
       "      <td>0</td>\n",
       "      <td>1</td>\n",
       "      <td>0</td>\n",
       "      <td>0</td>\n",
       "      <td>0</td>\n",
       "      <td>0</td>\n",
       "      <td>0</td>\n",
       "      <td>1</td>\n",
       "      <td>0</td>\n",
       "      <td>0</td>\n",
       "    </tr>\n",
       "    <tr>\n",
       "      <th>1</th>\n",
       "      <td>38.0</td>\n",
       "      <td>0.0</td>\n",
       "      <td>0.000476</td>\n",
       "      <td>0.000011</td>\n",
       "      <td>0.0</td>\n",
       "      <td>11.0</td>\n",
       "      <td>0.000468</td>\n",
       "      <td>0.000571</td>\n",
       "      <td>0.000003</td>\n",
       "      <td>0.0</td>\n",
       "      <td>...</td>\n",
       "      <td>0</td>\n",
       "      <td>1</td>\n",
       "      <td>0</td>\n",
       "      <td>0</td>\n",
       "      <td>0</td>\n",
       "      <td>0</td>\n",
       "      <td>0</td>\n",
       "      <td>1</td>\n",
       "      <td>0</td>\n",
       "      <td>0</td>\n",
       "    </tr>\n",
       "    <tr>\n",
       "      <th>2</th>\n",
       "      <td>56.0</td>\n",
       "      <td>0.0</td>\n",
       "      <td>0.000014</td>\n",
       "      <td>0.000079</td>\n",
       "      <td>0.0</td>\n",
       "      <td>1.0</td>\n",
       "      <td>0.000011</td>\n",
       "      <td>0.000016</td>\n",
       "      <td>0.000003</td>\n",
       "      <td>3.0</td>\n",
       "      <td>...</td>\n",
       "      <td>0</td>\n",
       "      <td>1</td>\n",
       "      <td>0</td>\n",
       "      <td>0</td>\n",
       "      <td>0</td>\n",
       "      <td>0</td>\n",
       "      <td>0</td>\n",
       "      <td>1</td>\n",
       "      <td>0</td>\n",
       "      <td>0</td>\n",
       "    </tr>\n",
       "    <tr>\n",
       "      <th>3</th>\n",
       "      <td>92.0</td>\n",
       "      <td>0.0</td>\n",
       "      <td>0.000449</td>\n",
       "      <td>0.000437</td>\n",
       "      <td>0.0</td>\n",
       "      <td>4.0</td>\n",
       "      <td>0.000476</td>\n",
       "      <td>0.000449</td>\n",
       "      <td>0.000003</td>\n",
       "      <td>3.0</td>\n",
       "      <td>...</td>\n",
       "      <td>0</td>\n",
       "      <td>0</td>\n",
       "      <td>1</td>\n",
       "      <td>0</td>\n",
       "      <td>0</td>\n",
       "      <td>0</td>\n",
       "      <td>0</td>\n",
       "      <td>0</td>\n",
       "      <td>0</td>\n",
       "      <td>1</td>\n",
       "    </tr>\n",
       "    <tr>\n",
       "      <th>4</th>\n",
       "      <td>38.0</td>\n",
       "      <td>0.0</td>\n",
       "      <td>0.001429</td>\n",
       "      <td>0.000437</td>\n",
       "      <td>0.0</td>\n",
       "      <td>6.0</td>\n",
       "      <td>0.001129</td>\n",
       "      <td>0.001429</td>\n",
       "      <td>0.000006</td>\n",
       "      <td>0.0</td>\n",
       "      <td>...</td>\n",
       "      <td>1</td>\n",
       "      <td>0</td>\n",
       "      <td>0</td>\n",
       "      <td>0</td>\n",
       "      <td>0</td>\n",
       "      <td>0</td>\n",
       "      <td>0</td>\n",
       "      <td>1</td>\n",
       "      <td>0</td>\n",
       "      <td>0</td>\n",
       "    </tr>\n",
       "  </tbody>\n",
       "</table>\n",
       "<p>5 rows × 57 columns</p>\n",
       "</div>"
      ],
      "text/plain": [
       "   resid_province  amount_week  max_amount_week  min_amount_week  \\\n",
       "0            49.0          0.0         0.000114         0.000437   \n",
       "1            38.0          0.0         0.000476         0.000011   \n",
       "2            56.0          0.0         0.000014         0.000079   \n",
       "3            92.0          0.0         0.000449         0.000437   \n",
       "4            38.0          0.0         0.001429         0.000437   \n",
       "\n",
       "   count_payment_code_week  distinct_ref_no_week  amount_month  \\\n",
       "0                      0.0                   1.0      0.000097   \n",
       "1                      0.0                  11.0      0.000468   \n",
       "2                      0.0                   1.0      0.000011   \n",
       "3                      0.0                   4.0      0.000476   \n",
       "4                      0.0                   6.0      0.001129   \n",
       "\n",
       "   max_amount_month  min_amount_month  count_payment_code_month  ...  \\\n",
       "0          0.000247          0.000001                       5.0  ...   \n",
       "1          0.000571          0.000003                       0.0  ...   \n",
       "2          0.000016          0.000003                       3.0  ...   \n",
       "3          0.000449          0.000003                       3.0  ...   \n",
       "4          0.001429          0.000006                       0.0  ...   \n",
       "\n",
       "   payment_code_3month_0  payment_code_3month_1  payment_code_3month_2  \\\n",
       "0                      0                      1                      0   \n",
       "1                      0                      1                      0   \n",
       "2                      0                      1                      0   \n",
       "3                      0                      0                      1   \n",
       "4                      1                      0                      0   \n",
       "\n",
       "   payment_code_3month_3  payment_code_3month_Other  trans_group_3month_1  \\\n",
       "0                      0                          0                     0   \n",
       "1                      0                          0                     0   \n",
       "2                      0                          0                     0   \n",
       "3                      0                          0                     0   \n",
       "4                      0                          0                     0   \n",
       "\n",
       "   trans_group_3month_2  trans_group_3month_3  trans_group_3month_4  \\\n",
       "0                     0                     1                     0   \n",
       "1                     0                     1                     0   \n",
       "2                     0                     1                     0   \n",
       "3                     0                     0                     0   \n",
       "4                     0                     1                     0   \n",
       "\n",
       "   trans_group_3month_Other  \n",
       "0                         0  \n",
       "1                         0  \n",
       "2                         0  \n",
       "3                         1  \n",
       "4                         0  \n",
       "\n",
       "[5 rows x 57 columns]"
      ]
     },
     "execution_count": 6,
     "metadata": {},
     "output_type": "execute_result"
    }
   ],
   "source": [
    "data.head()"
   ]
  },
  {
   "cell_type": "markdown",
   "id": "19ced14b",
   "metadata": {},
   "source": [
    "<h2> Min-Max Normalization"
   ]
  },
  {
   "cell_type": "code",
   "execution_count": 7,
   "id": "7fcbbeff",
   "metadata": {},
   "outputs": [],
   "source": [
    "data['max_amount_week'] = (data['max_amount_week'] - data['max_amount_week'].min()) / (data['max_amount_week'].max() - data['max_amount_week'].min())"
   ]
  },
  {
   "cell_type": "code",
   "execution_count": 8,
   "id": "4d0dbebb",
   "metadata": {},
   "outputs": [],
   "source": [
    "data['min_amount_week'] = (data['min_amount_week'] - data['min_amount_week'].min()) / (data['min_amount_week'].max() - data['min_amount_week'].min())"
   ]
  },
  {
   "cell_type": "code",
   "execution_count": 9,
   "id": "263e8487",
   "metadata": {},
   "outputs": [],
   "source": [
    "data['count_payment_code_week'] = (data['count_payment_code_week'] - data['count_payment_code_week'].min()) / (data['count_payment_code_week'].max() - data['count_payment_code_week'].min())"
   ]
  },
  {
   "cell_type": "code",
   "execution_count": 10,
   "id": "a01e2b96",
   "metadata": {},
   "outputs": [],
   "source": [
    "data['distinct_ref_no_week'] = (data['distinct_ref_no_week'] - data['distinct_ref_no_week'].min()) / (data['distinct_ref_no_week'].max() - data['distinct_ref_no_week'].min())"
   ]
  },
  {
   "cell_type": "code",
   "execution_count": 11,
   "id": "e6a2cd7d",
   "metadata": {},
   "outputs": [],
   "source": [
    "data['amount_month'] = (data['amount_month'] - data['amount_month'].min()) / (data['amount_month'].max() - data['amount_month'].min())"
   ]
  },
  {
   "cell_type": "code",
   "execution_count": 12,
   "id": "3abdc298",
   "metadata": {},
   "outputs": [],
   "source": [
    "data['max_amount_month'] = (data['max_amount_month'] - data['max_amount_month'].min()) / (data['max_amount_month'].max() - data['max_amount_month'].min())"
   ]
  },
  {
   "cell_type": "code",
   "execution_count": 13,
   "id": "44a3de19",
   "metadata": {},
   "outputs": [],
   "source": [
    "data['min_amount_month'] = (data['min_amount_month'] - data['min_amount_month'].min()) / (data['min_amount_month'].max() - data['min_amount_month'].min())"
   ]
  },
  {
   "cell_type": "code",
   "execution_count": 14,
   "id": "a9bab9a9",
   "metadata": {},
   "outputs": [],
   "source": [
    "data['count_payment_code_month'] = (data['count_payment_code_month'] - data['count_payment_code_month'].min()) / (data['count_payment_code_month'].max() - data['count_payment_code_month'].min())"
   ]
  },
  {
   "cell_type": "code",
   "execution_count": 15,
   "id": "3c7abc59",
   "metadata": {},
   "outputs": [],
   "source": [
    "data['distinct_ref_no_month'] = (data['distinct_ref_no_month'] - data['distinct_ref_no_month'].min()) / (data['distinct_ref_no_month'].max() - data['distinct_ref_no_month'].min())"
   ]
  },
  {
   "cell_type": "code",
   "execution_count": 16,
   "id": "f6fe2ab2",
   "metadata": {},
   "outputs": [],
   "source": [
    "data['amount_3month'] = (data['amount_3month'] - data['amount_3month'].min()) / (data['amount_3month'].max() - data['amount_3month'].min())"
   ]
  },
  {
   "cell_type": "code",
   "execution_count": 17,
   "id": "146d14ab",
   "metadata": {},
   "outputs": [],
   "source": [
    "data['max_amount_3month'] = (data['max_amount_3month'] - data['max_amount_3month'].min()) / (data['max_amount_3month'].max() - data['max_amount_3month'].min())"
   ]
  },
  {
   "cell_type": "code",
   "execution_count": 18,
   "id": "6cdc1a01",
   "metadata": {},
   "outputs": [],
   "source": [
    "data['min_amount_3month'] = (data['min_amount_3month'] - data['min_amount_3month'].min()) / (data['min_amount_3month'].max() - data['min_amount_3month'].min())"
   ]
  },
  {
   "cell_type": "code",
   "execution_count": 19,
   "id": "72d436f2",
   "metadata": {},
   "outputs": [],
   "source": [
    "data['count_payment_code_3month'] = (data['count_payment_code_3month'] - data['count_payment_code_3month'].min()) / (data['count_payment_code_3month'].max() - data['count_payment_code_3month'].min())"
   ]
  },
  {
   "cell_type": "code",
   "execution_count": 20,
   "id": "dd92d52a",
   "metadata": {},
   "outputs": [],
   "source": [
    "data['distinct_ref_no_3month'] = (data['distinct_ref_no_3month'] - data['distinct_ref_no_3month'].min()) / (data['distinct_ref_no_3month'].max() - data['distinct_ref_no_3month'].min())"
   ]
  },
  {
   "cell_type": "code",
   "execution_count": 21,
   "id": "ea5e1445",
   "metadata": {},
   "outputs": [],
   "source": [
    "data['diff_amount_month'] = (data['diff_amount_month'] - data['diff_amount_month'].min()) / (data['diff_amount_month'].max() - data['diff_amount_month'].min())"
   ]
  },
  {
   "cell_type": "code",
   "execution_count": 22,
   "id": "85a4a07f",
   "metadata": {},
   "outputs": [],
   "source": [
    "data['diff_amount_week'] = (data['diff_amount_week'] - data['diff_amount_week'].min()) / (data['diff_amount_week'].max() - data['diff_amount_week'].min())"
   ]
  },
  {
   "cell_type": "code",
   "execution_count": 23,
   "id": "44c26c14",
   "metadata": {},
   "outputs": [],
   "source": [
    "data['diff_amount_3month'] = (data['diff_amount_3month'] - data['diff_amount_3month'].min()) / (data['diff_amount_3month'].max() - data['diff_amount_3month'].min())"
   ]
  },
  {
   "cell_type": "code",
   "execution_count": 24,
   "id": "64213c0e",
   "metadata": {},
   "outputs": [
    {
     "data": {
      "text/html": [
       "<div>\n",
       "<style scoped>\n",
       "    .dataframe tbody tr th:only-of-type {\n",
       "        vertical-align: middle;\n",
       "    }\n",
       "\n",
       "    .dataframe tbody tr th {\n",
       "        vertical-align: top;\n",
       "    }\n",
       "\n",
       "    .dataframe thead th {\n",
       "        text-align: right;\n",
       "    }\n",
       "</style>\n",
       "<table border=\"1\" class=\"dataframe\">\n",
       "  <thead>\n",
       "    <tr style=\"text-align: right;\">\n",
       "      <th></th>\n",
       "      <th>resid_province</th>\n",
       "      <th>amount_week</th>\n",
       "      <th>max_amount_week</th>\n",
       "      <th>min_amount_week</th>\n",
       "      <th>count_payment_code_week</th>\n",
       "      <th>distinct_ref_no_week</th>\n",
       "      <th>amount_month</th>\n",
       "      <th>max_amount_month</th>\n",
       "      <th>min_amount_month</th>\n",
       "      <th>count_payment_code_month</th>\n",
       "      <th>...</th>\n",
       "      <th>payment_code_3month_0</th>\n",
       "      <th>payment_code_3month_1</th>\n",
       "      <th>payment_code_3month_2</th>\n",
       "      <th>payment_code_3month_3</th>\n",
       "      <th>payment_code_3month_Other</th>\n",
       "      <th>trans_group_3month_1</th>\n",
       "      <th>trans_group_3month_2</th>\n",
       "      <th>trans_group_3month_3</th>\n",
       "      <th>trans_group_3month_4</th>\n",
       "      <th>trans_group_3month_Other</th>\n",
       "    </tr>\n",
       "  </thead>\n",
       "  <tbody>\n",
       "    <tr>\n",
       "      <th>count</th>\n",
       "      <td>54790.000000</td>\n",
       "      <td>54790.00000</td>\n",
       "      <td>54790.000000</td>\n",
       "      <td>54790.000000</td>\n",
       "      <td>54790.000000</td>\n",
       "      <td>54790.000000</td>\n",
       "      <td>54790.000000</td>\n",
       "      <td>54790.000000</td>\n",
       "      <td>54790.000000</td>\n",
       "      <td>54790.000000</td>\n",
       "      <td>...</td>\n",
       "      <td>54790.000000</td>\n",
       "      <td>54790.000000</td>\n",
       "      <td>54790.000000</td>\n",
       "      <td>54790.000000</td>\n",
       "      <td>54790.000000</td>\n",
       "      <td>54790.000000</td>\n",
       "      <td>54790.000000</td>\n",
       "      <td>54790.000000</td>\n",
       "      <td>54790.000000</td>\n",
       "      <td>54790.000000</td>\n",
       "    </tr>\n",
       "    <tr>\n",
       "      <th>mean</th>\n",
       "      <td>32.401643</td>\n",
       "      <td>0.00059</td>\n",
       "      <td>0.267631</td>\n",
       "      <td>0.278953</td>\n",
       "      <td>0.189140</td>\n",
       "      <td>0.352765</td>\n",
       "      <td>0.277259</td>\n",
       "      <td>0.280133</td>\n",
       "      <td>0.311214</td>\n",
       "      <td>0.268409</td>\n",
       "      <td>...</td>\n",
       "      <td>0.254316</td>\n",
       "      <td>0.478299</td>\n",
       "      <td>0.151305</td>\n",
       "      <td>0.072550</td>\n",
       "      <td>0.043530</td>\n",
       "      <td>0.070451</td>\n",
       "      <td>0.251214</td>\n",
       "      <td>0.430608</td>\n",
       "      <td>0.166563</td>\n",
       "      <td>0.081164</td>\n",
       "    </tr>\n",
       "    <tr>\n",
       "      <th>std</th>\n",
       "      <td>29.001154</td>\n",
       "      <td>0.00615</td>\n",
       "      <td>0.350143</td>\n",
       "      <td>0.350383</td>\n",
       "      <td>0.305773</td>\n",
       "      <td>0.306474</td>\n",
       "      <td>0.353795</td>\n",
       "      <td>0.347952</td>\n",
       "      <td>0.333123</td>\n",
       "      <td>0.301950</td>\n",
       "      <td>...</td>\n",
       "      <td>0.435480</td>\n",
       "      <td>0.499533</td>\n",
       "      <td>0.358349</td>\n",
       "      <td>0.259398</td>\n",
       "      <td>0.204048</td>\n",
       "      <td>0.255908</td>\n",
       "      <td>0.433715</td>\n",
       "      <td>0.495166</td>\n",
       "      <td>0.372589</td>\n",
       "      <td>0.273090</td>\n",
       "    </tr>\n",
       "    <tr>\n",
       "      <th>min</th>\n",
       "      <td>0.000000</td>\n",
       "      <td>0.00000</td>\n",
       "      <td>0.000000</td>\n",
       "      <td>0.000000</td>\n",
       "      <td>0.000000</td>\n",
       "      <td>0.000000</td>\n",
       "      <td>0.000000</td>\n",
       "      <td>0.000000</td>\n",
       "      <td>0.000000</td>\n",
       "      <td>0.000000</td>\n",
       "      <td>...</td>\n",
       "      <td>0.000000</td>\n",
       "      <td>0.000000</td>\n",
       "      <td>0.000000</td>\n",
       "      <td>0.000000</td>\n",
       "      <td>0.000000</td>\n",
       "      <td>0.000000</td>\n",
       "      <td>0.000000</td>\n",
       "      <td>0.000000</td>\n",
       "      <td>0.000000</td>\n",
       "      <td>0.000000</td>\n",
       "    </tr>\n",
       "    <tr>\n",
       "      <th>25%</th>\n",
       "      <td>1.000000</td>\n",
       "      <td>0.00000</td>\n",
       "      <td>0.017204</td>\n",
       "      <td>0.026083</td>\n",
       "      <td>0.000000</td>\n",
       "      <td>0.137931</td>\n",
       "      <td>0.023345</td>\n",
       "      <td>0.031426</td>\n",
       "      <td>0.056581</td>\n",
       "      <td>0.000000</td>\n",
       "      <td>...</td>\n",
       "      <td>0.000000</td>\n",
       "      <td>0.000000</td>\n",
       "      <td>0.000000</td>\n",
       "      <td>0.000000</td>\n",
       "      <td>0.000000</td>\n",
       "      <td>0.000000</td>\n",
       "      <td>0.000000</td>\n",
       "      <td>0.000000</td>\n",
       "      <td>0.000000</td>\n",
       "      <td>0.000000</td>\n",
       "    </tr>\n",
       "    <tr>\n",
       "      <th>50%</th>\n",
       "      <td>31.000000</td>\n",
       "      <td>0.00000</td>\n",
       "      <td>0.087204</td>\n",
       "      <td>0.103873</td>\n",
       "      <td>0.000000</td>\n",
       "      <td>0.206897</td>\n",
       "      <td>0.089318</td>\n",
       "      <td>0.093080</td>\n",
       "      <td>0.141932</td>\n",
       "      <td>0.133333</td>\n",
       "      <td>...</td>\n",
       "      <td>0.000000</td>\n",
       "      <td>0.000000</td>\n",
       "      <td>0.000000</td>\n",
       "      <td>0.000000</td>\n",
       "      <td>0.000000</td>\n",
       "      <td>0.000000</td>\n",
       "      <td>0.000000</td>\n",
       "      <td>0.000000</td>\n",
       "      <td>0.000000</td>\n",
       "      <td>0.000000</td>\n",
       "    </tr>\n",
       "    <tr>\n",
       "      <th>75%</th>\n",
       "      <td>51.000000</td>\n",
       "      <td>0.00000</td>\n",
       "      <td>0.410322</td>\n",
       "      <td>0.415650</td>\n",
       "      <td>0.400000</td>\n",
       "      <td>0.482759</td>\n",
       "      <td>0.414007</td>\n",
       "      <td>0.418862</td>\n",
       "      <td>0.433949</td>\n",
       "      <td>0.400000</td>\n",
       "      <td>...</td>\n",
       "      <td>1.000000</td>\n",
       "      <td>1.000000</td>\n",
       "      <td>0.000000</td>\n",
       "      <td>0.000000</td>\n",
       "      <td>0.000000</td>\n",
       "      <td>0.000000</td>\n",
       "      <td>1.000000</td>\n",
       "      <td>1.000000</td>\n",
       "      <td>0.000000</td>\n",
       "      <td>0.000000</td>\n",
       "    </tr>\n",
       "    <tr>\n",
       "      <th>max</th>\n",
       "      <td>96.000000</td>\n",
       "      <td>1.00000</td>\n",
       "      <td>1.000000</td>\n",
       "      <td>1.000000</td>\n",
       "      <td>1.000000</td>\n",
       "      <td>1.000000</td>\n",
       "      <td>1.000000</td>\n",
       "      <td>1.000000</td>\n",
       "      <td>1.000000</td>\n",
       "      <td>1.000000</td>\n",
       "      <td>...</td>\n",
       "      <td>1.000000</td>\n",
       "      <td>1.000000</td>\n",
       "      <td>1.000000</td>\n",
       "      <td>1.000000</td>\n",
       "      <td>1.000000</td>\n",
       "      <td>1.000000</td>\n",
       "      <td>1.000000</td>\n",
       "      <td>1.000000</td>\n",
       "      <td>1.000000</td>\n",
       "      <td>1.000000</td>\n",
       "    </tr>\n",
       "  </tbody>\n",
       "</table>\n",
       "<p>8 rows × 57 columns</p>\n",
       "</div>"
      ],
      "text/plain": [
       "       resid_province  amount_week  max_amount_week  min_amount_week  \\\n",
       "count    54790.000000  54790.00000     54790.000000     54790.000000   \n",
       "mean        32.401643      0.00059         0.267631         0.278953   \n",
       "std         29.001154      0.00615         0.350143         0.350383   \n",
       "min          0.000000      0.00000         0.000000         0.000000   \n",
       "25%          1.000000      0.00000         0.017204         0.026083   \n",
       "50%         31.000000      0.00000         0.087204         0.103873   \n",
       "75%         51.000000      0.00000         0.410322         0.415650   \n",
       "max         96.000000      1.00000         1.000000         1.000000   \n",
       "\n",
       "       count_payment_code_week  distinct_ref_no_week  amount_month  \\\n",
       "count             54790.000000          54790.000000  54790.000000   \n",
       "mean                  0.189140              0.352765      0.277259   \n",
       "std                   0.305773              0.306474      0.353795   \n",
       "min                   0.000000              0.000000      0.000000   \n",
       "25%                   0.000000              0.137931      0.023345   \n",
       "50%                   0.000000              0.206897      0.089318   \n",
       "75%                   0.400000              0.482759      0.414007   \n",
       "max                   1.000000              1.000000      1.000000   \n",
       "\n",
       "       max_amount_month  min_amount_month  count_payment_code_month  ...  \\\n",
       "count      54790.000000      54790.000000              54790.000000  ...   \n",
       "mean           0.280133          0.311214                  0.268409  ...   \n",
       "std            0.347952          0.333123                  0.301950  ...   \n",
       "min            0.000000          0.000000                  0.000000  ...   \n",
       "25%            0.031426          0.056581                  0.000000  ...   \n",
       "50%            0.093080          0.141932                  0.133333  ...   \n",
       "75%            0.418862          0.433949                  0.400000  ...   \n",
       "max            1.000000          1.000000                  1.000000  ...   \n",
       "\n",
       "       payment_code_3month_0  payment_code_3month_1  payment_code_3month_2  \\\n",
       "count           54790.000000           54790.000000           54790.000000   \n",
       "mean                0.254316               0.478299               0.151305   \n",
       "std                 0.435480               0.499533               0.358349   \n",
       "min                 0.000000               0.000000               0.000000   \n",
       "25%                 0.000000               0.000000               0.000000   \n",
       "50%                 0.000000               0.000000               0.000000   \n",
       "75%                 1.000000               1.000000               0.000000   \n",
       "max                 1.000000               1.000000               1.000000   \n",
       "\n",
       "       payment_code_3month_3  payment_code_3month_Other  trans_group_3month_1  \\\n",
       "count           54790.000000               54790.000000          54790.000000   \n",
       "mean                0.072550                   0.043530              0.070451   \n",
       "std                 0.259398                   0.204048              0.255908   \n",
       "min                 0.000000                   0.000000              0.000000   \n",
       "25%                 0.000000                   0.000000              0.000000   \n",
       "50%                 0.000000                   0.000000              0.000000   \n",
       "75%                 0.000000                   0.000000              0.000000   \n",
       "max                 1.000000                   1.000000              1.000000   \n",
       "\n",
       "       trans_group_3month_2  trans_group_3month_3  trans_group_3month_4  \\\n",
       "count          54790.000000          54790.000000          54790.000000   \n",
       "mean               0.251214              0.430608              0.166563   \n",
       "std                0.433715              0.495166              0.372589   \n",
       "min                0.000000              0.000000              0.000000   \n",
       "25%                0.000000              0.000000              0.000000   \n",
       "50%                0.000000              0.000000              0.000000   \n",
       "75%                1.000000              1.000000              0.000000   \n",
       "max                1.000000              1.000000              1.000000   \n",
       "\n",
       "       trans_group_3month_Other  \n",
       "count              54790.000000  \n",
       "mean                   0.081164  \n",
       "std                    0.273090  \n",
       "min                    0.000000  \n",
       "25%                    0.000000  \n",
       "50%                    0.000000  \n",
       "75%                    0.000000  \n",
       "max                    1.000000  \n",
       "\n",
       "[8 rows x 57 columns]"
      ]
     },
     "execution_count": 24,
     "metadata": {},
     "output_type": "execute_result"
    }
   ],
   "source": [
    "data.describe()"
   ]
  },
  {
   "cell_type": "code",
   "execution_count": 25,
   "id": "54c8f0bb",
   "metadata": {},
   "outputs": [],
   "source": [
    "corr = data.corr()"
   ]
  },
  {
   "cell_type": "code",
   "execution_count": 26,
   "id": "7e504b62",
   "metadata": {},
   "outputs": [
    {
     "data": {
      "text/plain": [
       "distinct_ref_no_3month      -0.111258\n",
       "distinct_ref_no_month       -0.110730\n",
       "diff_amount_3month          -0.101335\n",
       "diff_amount_week            -0.099806\n",
       "diff_amount_month           -0.099315\n",
       "amount_3month               -0.093126\n",
       "distinct_ref_no_week        -0.092334\n",
       "amount_month                -0.091895\n",
       "max_amount_3month           -0.091602\n",
       "max_amount_month            -0.086161\n",
       "max_amount_week             -0.079971\n",
       "count_payment_code_3month   -0.079773\n",
       "count_payment_code_month    -0.067064\n",
       "trans_group_month_Other     -0.058403\n",
       "trans_group_3month_Other    -0.057240\n",
       "trans_group_3month_4        -0.052797\n",
       "payment_code_3month_3       -0.052668\n",
       "payment_code_3month_2       -0.051211\n",
       "payment_code_month_2.0      -0.051003\n",
       "trans_group_3month_3        -0.050873\n",
       "payment_code_month_Other    -0.049941\n",
       "marital_status_Married      -0.046067\n",
       "trans_group_month_3.0       -0.040333\n",
       "trans_group_week_Other      -0.039097\n",
       "payment_code_3month_Other   -0.035025\n",
       "sex_FEMALE                  -0.030398\n",
       "age_31-50                   -0.027130\n",
       "payment_code_week_Other     -0.020331\n",
       "amount_week                 -0.011581\n",
       "trans_group_week_2.0        -0.009635\n",
       "payment_code_month_1.0      -0.008769\n",
       "trans_group_month_2.0       -0.007452\n",
       "count_payment_code_week     -0.006038\n",
       "resid_province              -0.004022\n",
       "marital_status_Divorced     -0.003961\n",
       "payment_code_week_0.0       -0.002461\n",
       "marital_status_Seperated    -0.001617\n",
       "age_19-30                   -0.001510\n",
       "marital_status_Widow        -0.001320\n",
       "marital_status_Other         0.000096\n",
       "payment_code_3month_1        0.005111\n",
       "marital_status_Partner       0.007628\n",
       "payment_code_week_1.0        0.009190\n",
       "age_Over 50                  0.011769\n",
       "min_amount_week              0.025271\n",
       "sex_MALE                     0.030398\n",
       "trans_group_week_1.0         0.031770\n",
       "marital_status_Single        0.045921\n",
       "min_amount_month             0.061263\n",
       "payment_code_month_0.0       0.068698\n",
       "trans_group_3month_2         0.072243\n",
       "min_amount_3month            0.074550\n",
       "age_6-18                     0.080717\n",
       "payment_code_3month_0        0.084062\n",
       "trans_group_month_1.0        0.095215\n",
       "trans_group_3month_1         0.113951\n",
       "Is_churn                     1.000000\n",
       "Name: Is_churn, dtype: float64"
      ]
     },
     "execution_count": 26,
     "metadata": {},
     "output_type": "execute_result"
    }
   ],
   "source": [
    "corr['Is_churn'].sort_values()"
   ]
  },
  {
   "cell_type": "code",
   "execution_count": 31,
   "id": "315320c0",
   "metadata": {},
   "outputs": [],
   "source": [
    "data.to_csv('dataset_normalized.csv', index=False)"
   ]
  },
  {
   "cell_type": "code",
   "execution_count": 27,
   "id": "b6442cff",
   "metadata": {},
   "outputs": [],
   "source": [
    "df = data[['distinct_ref_no_3month', 'distinct_ref_no_month', 'trans_group_3month_1', 'diff_amount_3month',\n",
    "          'diff_amount_week', 'diff_amount_month', 'trans_group_month_1.0', 'amount_3month', 'distinct_ref_no_week',\n",
    "          'amount_month', 'max_amount_3month']]"
   ]
  },
  {
   "cell_type": "code",
   "execution_count": 30,
   "id": "3fb68e68",
   "metadata": {
    "scrolled": true
   },
   "outputs": [
    {
     "data": {
      "text/plain": [
       "<AxesSubplot:xlabel='distinct_ref_no_3month', ylabel='Is_churn'>"
      ]
     },
     "execution_count": 30,
     "metadata": {},
     "output_type": "execute_result"
    },
    {
     "data": {
      "image/png": "[encoded data removed]",
      "text/plain": [
       "<Figure size 432x288 with 1 Axes>"
      ]
     },
     "metadata": {
      "needs_background": "light"
     },
     "output_type": "display_data"
    }
   ],
   "source": [
    "sns.regplot(x = 'distinct_ref_no_3month', y = 'Is_churn', data = data)"
   ]
  },
  {
   "cell_type": "code",
   "execution_count": 43,
   "id": "d6b27294",
   "metadata": {},
   "outputs": [
    {
     "name": "stdout",
     "output_type": "stream",
     "text": [
      "The Pearson Correlation Coefficient is -0.1112584171607214  with a P-value of P = 1.9931790157162314e-150\n"
     ]
    }
   ],
   "source": [
    "pearson_coef, p_value = stats.pearsonr(data['distinct_ref_no_3month'], data['Is_churn'])\n",
    "print(\"The Pearson Correlation Coefficient is\", pearson_coef, \" with a P-value of P =\", p_value) "
   ]
  },
  {
   "cell_type": "code",
   "execution_count": 47,
   "id": "25c16a13",
   "metadata": {},
   "outputs": [
    {
     "data": {
      "text/plain": [
       "<AxesSubplot:xlabel='Is_churn', ylabel='distinct_ref_no_3month'>"
      ]
     },
     "execution_count": 47,
     "metadata": {},
     "output_type": "execute_result"
    },
    {
     "data": {
      "image/png": "[encoded data removed]",
      "text/plain": [
       "<Figure size 432x288 with 1 Axes>"
      ]
     },
     "metadata": {
      "needs_background": "light"
     },
     "output_type": "display_data"
    }
   ],
   "source": [
    "sns.boxplot(x = 'Is_churn', y = 'distinct_ref_no_3month', data = data)"
   ]
  },
  {
   "cell_type": "code",
   "execution_count": 52,
   "id": "52447f59",
   "metadata": {},
   "outputs": [],
   "source": [
    "data_churn = data[data['Is_churn'] == 1]\n",
    "data_active = data[data['Is_churn'] == 0]"
   ]
  },
  {
   "cell_type": "code",
   "execution_count": 53,
   "id": "e852ffec",
   "metadata": {
    "scrolled": true
   },
   "outputs": [
    {
     "name": "stderr",
     "output_type": "stream",
     "text": [
      "C:\\Users\\Admin\\anaconda3\\lib\\site-packages\\seaborn\\distributions.py:2619: FutureWarning: `distplot` is a deprecated function and will be removed in a future version. Please adapt your code to use either `displot` (a figure-level function with similar flexibility) or `kdeplot` (an axes-level function for kernel density plots).\n",
      "  warnings.warn(msg, FutureWarning)\n",
      "C:\\Users\\Admin\\anaconda3\\lib\\site-packages\\seaborn\\distributions.py:2619: FutureWarning: `distplot` is a deprecated function and will be removed in a future version. Please adapt your code to use either `displot` (a figure-level function with similar flexibility) or `kdeplot` (an axes-level function for kernel density plots).\n",
      "  warnings.warn(msg, FutureWarning)\n"
     ]
    },
    {
     "data": {
      "image/png": "[encoded data removed]",
      "text/plain": [
       "<Figure size 432x288 with 1 Axes>"
      ]
     },
     "metadata": {
      "needs_background": "light"
     },
     "output_type": "display_data"
    }
   ],
   "source": [
    "ax1 = sns.distplot(data_active['distinct_ref_no_3month'], hist = False, color = 'b', label = 'Active Customer')\n",
    "sns.distplot(data_churn['distinct_ref_no_3month'], hist = False, color = 'r', label = 'Churn Customer', ax = ax1)\n",
    "plt.show()"
   ]
  },
  {
   "cell_type": "code",
   "execution_count": 55,
   "id": "73dd60ea",
   "metadata": {},
   "outputs": [
    {
     "data": {
      "text/plain": [
       "0    0.018127\n",
       "dtype: float64"
      ]
     },
     "execution_count": 55,
     "metadata": {},
     "output_type": "execute_result"
    }
   ],
   "source": [
    "data_churn['distinct_ref_no_3month'].mode()"
   ]
  },
  {
   "cell_type": "markdown",
   "id": "c1b3dc5e",
   "metadata": {},
   "source": [
    "<h5>Looking at the chart above, we see that when the values ​​of the 'distinct_ref_no_3month' column increase from the min value to 0.018, customers tend to churn. However, when the value of the column 'distinct_ref_no_3month' continued to increase from 0.018, the number of active customers greatly increased.</h5>"
   ]
  },
  {
   "cell_type": "code",
   "execution_count": 31,
   "id": "7652c261",
   "metadata": {},
   "outputs": [
    {
     "data": {
      "text/plain": [
       "<AxesSubplot:xlabel='distinct_ref_no_month', ylabel='Is_churn'>"
      ]
     },
     "execution_count": 31,
     "metadata": {},
     "output_type": "execute_result"
    },
    {
     "data": {
      "image/png": "[encoded data removed]",
      "text/plain": [
       "<Figure size 432x288 with 1 Axes>"
      ]
     },
     "metadata": {
      "needs_background": "light"
     },
     "output_type": "display_data"
    }
   ],
   "source": [
    "sns.regplot(x = 'distinct_ref_no_month', y = 'Is_churn', data = data)"
   ]
  },
  {
   "cell_type": "code",
   "execution_count": 66,
   "id": "1f9c672f",
   "metadata": {},
   "outputs": [
    {
     "name": "stdout",
     "output_type": "stream",
     "text": [
      "The Pearson Correlation Coefficient is -0.11073004109120035  with a P-value of P = 5.181560041986308e-149\n"
     ]
    }
   ],
   "source": [
    "pearson_coef, p_value = stats.pearsonr(data['distinct_ref_no_month'], data['Is_churn'])\n",
    "print(\"The Pearson Correlation Coefficient is\", pearson_coef, \" with a P-value of P =\", p_value) "
   ]
  },
  {
   "cell_type": "code",
   "execution_count": 67,
   "id": "bc7c0676",
   "metadata": {
    "scrolled": true
   },
   "outputs": [
    {
     "name": "stderr",
     "output_type": "stream",
     "text": [
      "C:\\Users\\Admin\\anaconda3\\lib\\site-packages\\seaborn\\distributions.py:2619: FutureWarning: `distplot` is a deprecated function and will be removed in a future version. Please adapt your code to use either `displot` (a figure-level function with similar flexibility) or `kdeplot` (an axes-level function for kernel density plots).\n",
      "  warnings.warn(msg, FutureWarning)\n",
      "C:\\Users\\Admin\\anaconda3\\lib\\site-packages\\seaborn\\distributions.py:2619: FutureWarning: `distplot` is a deprecated function and will be removed in a future version. Please adapt your code to use either `displot` (a figure-level function with similar flexibility) or `kdeplot` (an axes-level function for kernel density plots).\n",
      "  warnings.warn(msg, FutureWarning)\n"
     ]
    },
    {
     "data": {
      "image/png": "[encoded data removed]",
      "text/plain": [
       "<Figure size 432x288 with 1 Axes>"
      ]
     },
     "metadata": {
      "needs_background": "light"
     },
     "output_type": "display_data"
    }
   ],
   "source": [
    "ax1 = sns.distplot(data_active['distinct_ref_no_month'], hist = False, color = 'b', label = 'Active Customer')\n",
    "sns.distplot(data_churn['distinct_ref_no_month'], hist = False, color = 'r', label = 'Churn Customer', ax = ax1)\n",
    "plt.show()"
   ]
  },
  {
   "cell_type": "code",
   "execution_count": 68,
   "id": "7a87bb3e",
   "metadata": {
    "scrolled": true
   },
   "outputs": [
    {
     "data": {
      "text/plain": [
       "0    0.015504\n",
       "dtype: float64"
      ]
     },
     "execution_count": 68,
     "metadata": {},
     "output_type": "execute_result"
    }
   ],
   "source": [
    "data_churn['distinct_ref_no_month'].mode()"
   ]
  },
  {
   "cell_type": "markdown",
   "id": "4bd1f502",
   "metadata": {},
   "source": [
    "<h5> Similar to the trend histogram of column 'distinct_ref_no_3month', customers tend to be churn as values ​​in column 'distinct_ref_no_month' increase from min value to 0.015. <h5>"
   ]
  },
  {
   "cell_type": "code",
   "execution_count": 32,
   "id": "196790d7",
   "metadata": {
    "scrolled": true
   },
   "outputs": [
    {
     "data": {
      "text/plain": [
       "<AxesSubplot:xlabel='trans_group_3month_1', ylabel='Is_churn'>"
      ]
     },
     "execution_count": 32,
     "metadata": {},
     "output_type": "execute_result"
    },
    {
     "data": {
      "image/png": "[encoded data removed]",
      "text/plain": [
       "<Figure size 432x288 with 1 Axes>"
      ]
     },
     "metadata": {
      "needs_background": "light"
     },
     "output_type": "display_data"
    }
   ],
   "source": [
    "sns.regplot(x = 'trans_group_3month_1', y = 'Is_churn', data = data)"
   ]
  },
  {
   "cell_type": "code",
   "execution_count": 69,
   "id": "99276389",
   "metadata": {},
   "outputs": [
    {
     "name": "stdout",
     "output_type": "stream",
     "text": [
      "The Pearson Correlation Coefficient is 0.1139511277279152  with a P-value of P = 9.590803113555227e-158\n"
     ]
    }
   ],
   "source": [
    "pearson_coef, p_value = stats.pearsonr(data['trans_group_3month_1'], data['Is_churn'])\n",
    "print(\"The Pearson Correlation Coefficient is\", pearson_coef, \" with a P-value of P =\", p_value) "
   ]
  },
  {
   "cell_type": "code",
   "execution_count": 70,
   "id": "0d3046bf",
   "metadata": {},
   "outputs": [
    {
     "data": {
      "text/plain": [
       "<AxesSubplot:xlabel='Is_churn', ylabel='count'>"
      ]
     },
     "execution_count": 70,
     "metadata": {},
     "output_type": "execute_result"
    },
    {
     "data": {
      "image/png": "[encoded data removed]",
      "text/plain": [
       "<Figure size 432x288 with 1 Axes>"
      ]
     },
     "metadata": {
      "needs_background": "light"
     },
     "output_type": "display_data"
    }
   ],
   "source": [
    "sns.countplot(x = 'Is_churn', hue = 'trans_group_3month_1', data = data)"
   ]
  },
  {
   "cell_type": "code",
   "execution_count": 88,
   "id": "ae49c384",
   "metadata": {},
   "outputs": [
    {
     "name": "stderr",
     "output_type": "stream",
     "text": [
      "C:\\Users\\Admin\\anaconda3\\lib\\site-packages\\seaborn\\distributions.py:2619: FutureWarning: `distplot` is a deprecated function and will be removed in a future version. Please adapt your code to use either `displot` (a figure-level function with similar flexibility) or `kdeplot` (an axes-level function for kernel density plots).\n",
      "  warnings.warn(msg, FutureWarning)\n",
      "C:\\Users\\Admin\\anaconda3\\lib\\site-packages\\seaborn\\distributions.py:2619: FutureWarning: `distplot` is a deprecated function and will be removed in a future version. Please adapt your code to use either `displot` (a figure-level function with similar flexibility) or `kdeplot` (an axes-level function for kernel density plots).\n",
      "  warnings.warn(msg, FutureWarning)\n"
     ]
    },
    {
     "data": {
      "image/png": "[encoded data removed]",
      "text/plain": [
       "<Figure size 432x288 with 1 Axes>"
      ]
     },
     "metadata": {
      "needs_background": "light"
     },
     "output_type": "display_data"
    }
   ],
   "source": [
    "ax1 = sns.distplot(data_active['trans_group_3month_1'], hist = False, color = 'b', label = 'Active Customer')\n",
    "sns.distplot(data_churn['trans_group_3month_1'], hist = False, color = 'r', label = 'Churn Customer', ax = ax1)\n",
    "plt.show()"
   ]
  },
  {
   "cell_type": "code",
   "execution_count": 33,
   "id": "222ae2f9",
   "metadata": {},
   "outputs": [
    {
     "data": {
      "text/plain": [
       "<AxesSubplot:xlabel='diff_amount_3month', ylabel='Is_churn'>"
      ]
     },
     "execution_count": 33,
     "metadata": {},
     "output_type": "execute_result"
    },
    {
     "data": {
      "image/png": "[encoded data removed]",
      "text/plain": [
       "<Figure size 432x288 with 1 Axes>"
      ]
     },
     "metadata": {
      "needs_background": "light"
     },
     "output_type": "display_data"
    }
   ],
   "source": [
    "sns.regplot(x = 'diff_amount_3month', y = 'Is_churn', data = data)"
   ]
  },
  {
   "cell_type": "code",
   "execution_count": 71,
   "id": "43893677",
   "metadata": {},
   "outputs": [
    {
     "name": "stdout",
     "output_type": "stream",
     "text": [
      "The Pearson Correlation Coefficient is -0.10133491058661133  with a P-value of P = 5.325451515613173e-125\n"
     ]
    }
   ],
   "source": [
    "pearson_coef, p_value = stats.pearsonr(data['diff_amount_3month'], data['Is_churn'])\n",
    "print(\"The Pearson Correlation Coefficient is\", pearson_coef, \" with a P-value of P =\", p_value) "
   ]
  },
  {
   "cell_type": "code",
   "execution_count": 72,
   "id": "62c4b2f0",
   "metadata": {},
   "outputs": [
    {
     "name": "stderr",
     "output_type": "stream",
     "text": [
      "C:\\Users\\Admin\\anaconda3\\lib\\site-packages\\seaborn\\distributions.py:2619: FutureWarning: `distplot` is a deprecated function and will be removed in a future version. Please adapt your code to use either `displot` (a figure-level function with similar flexibility) or `kdeplot` (an axes-level function for kernel density plots).\n",
      "  warnings.warn(msg, FutureWarning)\n",
      "C:\\Users\\Admin\\anaconda3\\lib\\site-packages\\seaborn\\distributions.py:2619: FutureWarning: `distplot` is a deprecated function and will be removed in a future version. Please adapt your code to use either `displot` (a figure-level function with similar flexibility) or `kdeplot` (an axes-level function for kernel density plots).\n",
      "  warnings.warn(msg, FutureWarning)\n"
     ]
    },
    {
     "data": {
      "image/png": "[encoded data removed]",
      "text/plain": [
       "<Figure size 432x288 with 1 Axes>"
      ]
     },
     "metadata": {
      "needs_background": "light"
     },
     "output_type": "display_data"
    }
   ],
   "source": [
    "ax1 = sns.distplot(data_active['diff_amount_3month'], hist = False, color = 'b', label = 'Active Customer')\n",
    "sns.distplot(data_churn['diff_amount_3month'], hist = False, color = 'r', label = 'Churn Customer', ax = ax1)\n",
    "plt.show()"
   ]
  },
  {
   "cell_type": "markdown",
   "id": "35c4415e",
   "metadata": {},
   "source": [
    "<h5> We discover that the number of customers leaving tends to increase sharply if the difference between their transactions in the previous 3 months is between 0.2 and 0.4. </h5>"
   ]
  },
  {
   "cell_type": "code",
   "execution_count": 34,
   "id": "3f750f3c",
   "metadata": {},
   "outputs": [
    {
     "data": {
      "text/plain": [
       "<AxesSubplot:xlabel='diff_amount_week', ylabel='Is_churn'>"
      ]
     },
     "execution_count": 34,
     "metadata": {},
     "output_type": "execute_result"
    },
    {
     "data": {
      "image/png": "[encoded data removed]",
      "text/plain": [
       "<Figure size 432x288 with 1 Axes>"
      ]
     },
     "metadata": {
      "needs_background": "light"
     },
     "output_type": "display_data"
    }
   ],
   "source": [
    "sns.regplot(x = 'diff_amount_week', y = 'Is_churn', data = data)"
   ]
  },
  {
   "cell_type": "code",
   "execution_count": 73,
   "id": "6dcf25c4",
   "metadata": {},
   "outputs": [
    {
     "name": "stdout",
     "output_type": "stream",
     "text": [
      "The Pearson Correlation Coefficient is -0.09980643760480298  with a P-value of P = 2.6787426765183777e-121\n"
     ]
    }
   ],
   "source": [
    "pearson_coef, p_value = stats.pearsonr(data['diff_amount_week'], data['Is_churn'])\n",
    "print(\"The Pearson Correlation Coefficient is\", pearson_coef, \" with a P-value of P =\", p_value) "
   ]
  },
  {
   "cell_type": "code",
   "execution_count": 74,
   "id": "4b9f67bd",
   "metadata": {},
   "outputs": [
    {
     "name": "stderr",
     "output_type": "stream",
     "text": [
      "C:\\Users\\Admin\\anaconda3\\lib\\site-packages\\seaborn\\distributions.py:2619: FutureWarning: `distplot` is a deprecated function and will be removed in a future version. Please adapt your code to use either `displot` (a figure-level function with similar flexibility) or `kdeplot` (an axes-level function for kernel density plots).\n",
      "  warnings.warn(msg, FutureWarning)\n",
      "C:\\Users\\Admin\\anaconda3\\lib\\site-packages\\seaborn\\distributions.py:2619: FutureWarning: `distplot` is a deprecated function and will be removed in a future version. Please adapt your code to use either `displot` (a figure-level function with similar flexibility) or `kdeplot` (an axes-level function for kernel density plots).\n",
      "  warnings.warn(msg, FutureWarning)\n"
     ]
    },
    {
     "data": {
      "image/png": "[encoded data removed]",
      "text/plain": [
       "<Figure size 432x288 with 1 Axes>"
      ]
     },
     "metadata": {
      "needs_background": "light"
     },
     "output_type": "display_data"
    }
   ],
   "source": [
    "ax1 = sns.distplot(data_active['diff_amount_week'], hist = False, color = 'b', label = 'Active Customer')\n",
    "sns.distplot(data_churn['diff_amount_week'], hist = False, color = 'r', label = 'Churn Customer', ax = ax1)\n",
    "plt.show()"
   ]
  },
  {
   "cell_type": "markdown",
   "id": "82b7854b",
   "metadata": {},
   "source": [
    "<h5>In this column, we see that when the difference in customer transactions within the previous 1 week increases from min value to 0.4, both customer churn and active tend to increase sharply. However, at this range of values, the difference between the number of churn customers and the active customers is small. However, at the '1' value of the 'diff_amount_week' column, we see that customers tend to be active rather than churn.</h5>"
   ]
  },
  {
   "cell_type": "code",
   "execution_count": 35,
   "id": "1549b4d4",
   "metadata": {},
   "outputs": [
    {
     "data": {
      "text/plain": [
       "<AxesSubplot:xlabel='diff_amount_month', ylabel='Is_churn'>"
      ]
     },
     "execution_count": 35,
     "metadata": {},
     "output_type": "execute_result"
    },
    {
     "data": {
      "image/png": "[encoded data removed]",
      "text/plain": [
       "<Figure size 432x288 with 1 Axes>"
      ]
     },
     "metadata": {
      "needs_background": "light"
     },
     "output_type": "display_data"
    }
   ],
   "source": [
    "sns.regplot(x = 'diff_amount_month', y = 'Is_churn', data = data)"
   ]
  },
  {
   "cell_type": "code",
   "execution_count": 75,
   "id": "f11c97eb",
   "metadata": {},
   "outputs": [
    {
     "name": "stdout",
     "output_type": "stream",
     "text": [
      "The Pearson Correlation Coefficient is -0.09931458993141819  with a P-value of P = 4.044818517920034e-120\n"
     ]
    }
   ],
   "source": [
    "pearson_coef, p_value = stats.pearsonr(data['diff_amount_month'], data['Is_churn'])\n",
    "print(\"The Pearson Correlation Coefficient is\", pearson_coef, \" with a P-value of P =\", p_value) "
   ]
  },
  {
   "cell_type": "code",
   "execution_count": 76,
   "id": "79f452e8",
   "metadata": {},
   "outputs": [
    {
     "name": "stderr",
     "output_type": "stream",
     "text": [
      "C:\\Users\\Admin\\anaconda3\\lib\\site-packages\\seaborn\\distributions.py:2619: FutureWarning: `distplot` is a deprecated function and will be removed in a future version. Please adapt your code to use either `displot` (a figure-level function with similar flexibility) or `kdeplot` (an axes-level function for kernel density plots).\n",
      "  warnings.warn(msg, FutureWarning)\n",
      "C:\\Users\\Admin\\anaconda3\\lib\\site-packages\\seaborn\\distributions.py:2619: FutureWarning: `distplot` is a deprecated function and will be removed in a future version. Please adapt your code to use either `displot` (a figure-level function with similar flexibility) or `kdeplot` (an axes-level function for kernel density plots).\n",
      "  warnings.warn(msg, FutureWarning)\n"
     ]
    },
    {
     "data": {
      "image/png": "[encoded data removed]",
      "text/plain": [
       "<Figure size 432x288 with 1 Axes>"
      ]
     },
     "metadata": {
      "needs_background": "light"
     },
     "output_type": "display_data"
    }
   ],
   "source": [
    "ax1 = sns.distplot(data_active['diff_amount_month'], hist = False, color = 'b', label = 'Active Customer')\n",
    "sns.distplot(data_churn['diff_amount_month'], hist = False, color = 'r', label = 'Churn Customer', ax = ax1)\n",
    "plt.show()"
   ]
  },
  {
   "cell_type": "code",
   "execution_count": 36,
   "id": "5cbf6e94",
   "metadata": {},
   "outputs": [
    {
     "data": {
      "text/plain": [
       "<AxesSubplot:xlabel='trans_group_month_1.0', ylabel='Is_churn'>"
      ]
     },
     "execution_count": 36,
     "metadata": {},
     "output_type": "execute_result"
    },
    {
     "data": {
      "image/png": "[encoded data removed]",
      "text/plain": [
       "<Figure size 432x288 with 1 Axes>"
      ]
     },
     "metadata": {
      "needs_background": "light"
     },
     "output_type": "display_data"
    }
   ],
   "source": [
    "sns.regplot(x = 'trans_group_month_1.0', y = 'Is_churn', data = data)"
   ]
  },
  {
   "cell_type": "code",
   "execution_count": 77,
   "id": "d6b902bf",
   "metadata": {},
   "outputs": [
    {
     "name": "stdout",
     "output_type": "stream",
     "text": [
      "The Pearson Correlation Coefficient is 0.09521533916819501  with a P-value of P = 1.595233240238524e-110\n"
     ]
    }
   ],
   "source": [
    "pearson_coef, p_value = stats.pearsonr(data['trans_group_month_1.0'], data['Is_churn'])\n",
    "print(\"The Pearson Correlation Coefficient is\", pearson_coef, \" with a P-value of P =\", p_value) "
   ]
  },
  {
   "cell_type": "code",
   "execution_count": 78,
   "id": "9d08300d",
   "metadata": {},
   "outputs": [
    {
     "data": {
      "text/plain": [
       "<AxesSubplot:xlabel='Is_churn', ylabel='count'>"
      ]
     },
     "execution_count": 78,
     "metadata": {},
     "output_type": "execute_result"
    },
    {
     "data": {
      "image/png": "[encoded data removed]",
      "text/plain": [
       "<Figure size 432x288 with 1 Axes>"
      ]
     },
     "metadata": {
      "needs_background": "light"
     },
     "output_type": "display_data"
    }
   ],
   "source": [
    "sns.countplot(x = 'Is_churn', hue = 'trans_group_month_1.0', data = data)"
   ]
  },
  {
   "cell_type": "code",
   "execution_count": 87,
   "id": "bde15226",
   "metadata": {},
   "outputs": [
    {
     "name": "stderr",
     "output_type": "stream",
     "text": [
      "C:\\Users\\Admin\\anaconda3\\lib\\site-packages\\seaborn\\distributions.py:2619: FutureWarning: `distplot` is a deprecated function and will be removed in a future version. Please adapt your code to use either `displot` (a figure-level function with similar flexibility) or `kdeplot` (an axes-level function for kernel density plots).\n",
      "  warnings.warn(msg, FutureWarning)\n",
      "C:\\Users\\Admin\\anaconda3\\lib\\site-packages\\seaborn\\distributions.py:2619: FutureWarning: `distplot` is a deprecated function and will be removed in a future version. Please adapt your code to use either `displot` (a figure-level function with similar flexibility) or `kdeplot` (an axes-level function for kernel density plots).\n",
      "  warnings.warn(msg, FutureWarning)\n"
     ]
    },
    {
     "data": {
      "image/png": "[encoded data removed]",
      "text/plain": [
       "<Figure size 432x288 with 1 Axes>"
      ]
     },
     "metadata": {
      "needs_background": "light"
     },
     "output_type": "display_data"
    }
   ],
   "source": [
    "ax1 = sns.distplot(data_active['trans_group_month_1.0'], hist = False, color = 'b', label = 'Active Customer')\n",
    "sns.distplot(data_churn['trans_group_month_1.0'], hist = False, color = 'r', label = 'Churn Customer', ax = ax1)\n",
    "plt.show()"
   ]
  },
  {
   "cell_type": "code",
   "execution_count": 37,
   "id": "637672a7",
   "metadata": {},
   "outputs": [
    {
     "data": {
      "text/plain": [
       "<AxesSubplot:xlabel='amount_3month', ylabel='Is_churn'>"
      ]
     },
     "execution_count": 37,
     "metadata": {},
     "output_type": "execute_result"
    },
    {
     "data": {
      "image/png": "[encoded data removed]",
      "text/plain": [
       "<Figure size 432x288 with 1 Axes>"
      ]
     },
     "metadata": {
      "needs_background": "light"
     },
     "output_type": "display_data"
    }
   ],
   "source": [
    "sns.regplot(x = 'amount_3month', y = 'Is_churn', data = data)"
   ]
  },
  {
   "cell_type": "code",
   "execution_count": 79,
   "id": "5b0ed23e",
   "metadata": {},
   "outputs": [
    {
     "name": "stdout",
     "output_type": "stream",
     "text": [
      "The Pearson Correlation Coefficient is -0.09312640836282732  with a P-value of P = 8.609948157806502e-106\n"
     ]
    }
   ],
   "source": [
    "pearson_coef, p_value = stats.pearsonr(data['amount_3month'], data['Is_churn'])\n",
    "print(\"The Pearson Correlation Coefficient is\", pearson_coef, \" with a P-value of P =\", p_value) "
   ]
  },
  {
   "cell_type": "code",
   "execution_count": 80,
   "id": "41f26833",
   "metadata": {},
   "outputs": [
    {
     "name": "stderr",
     "output_type": "stream",
     "text": [
      "C:\\Users\\Admin\\anaconda3\\lib\\site-packages\\seaborn\\distributions.py:2619: FutureWarning: `distplot` is a deprecated function and will be removed in a future version. Please adapt your code to use either `displot` (a figure-level function with similar flexibility) or `kdeplot` (an axes-level function for kernel density plots).\n",
      "  warnings.warn(msg, FutureWarning)\n",
      "C:\\Users\\Admin\\anaconda3\\lib\\site-packages\\seaborn\\distributions.py:2619: FutureWarning: `distplot` is a deprecated function and will be removed in a future version. Please adapt your code to use either `displot` (a figure-level function with similar flexibility) or `kdeplot` (an axes-level function for kernel density plots).\n",
      "  warnings.warn(msg, FutureWarning)\n"
     ]
    },
    {
     "data": {
      "image/png": "[encoded data removed]",
      "text/plain": [
       "<Figure size 432x288 with 1 Axes>"
      ]
     },
     "metadata": {
      "needs_background": "light"
     },
     "output_type": "display_data"
    }
   ],
   "source": [
    "ax1 = sns.distplot(data_active['amount_3month'], hist = False, color = 'b', label = 'Active Customer')\n",
    "sns.distplot(data_churn['amount_3month'], hist = False, color = 'r', label = 'Churn Customer', ax = ax1)\n",
    "plt.show()"
   ]
  },
  {
   "cell_type": "code",
   "execution_count": 38,
   "id": "2e27308a",
   "metadata": {},
   "outputs": [
    {
     "data": {
      "text/plain": [
       "<AxesSubplot:xlabel='distinct_ref_no_week', ylabel='Is_churn'>"
      ]
     },
     "execution_count": 38,
     "metadata": {},
     "output_type": "execute_result"
    },
    {
     "data": {
      "image/png": "[encoded data removed]",
      "text/plain": [
       "<Figure size 432x288 with 1 Axes>"
      ]
     },
     "metadata": {
      "needs_background": "light"
     },
     "output_type": "display_data"
    }
   ],
   "source": [
    "sns.regplot(x = 'distinct_ref_no_week', y = 'Is_churn', data = data)"
   ]
  },
  {
   "cell_type": "code",
   "execution_count": 81,
   "id": "bc0f1ad9",
   "metadata": {},
   "outputs": [
    {
     "name": "stdout",
     "output_type": "stream",
     "text": [
      "The Pearson Correlation Coefficient is -0.09233381831622933  with a P-value of P = 5.0426803002158404e-104\n"
     ]
    }
   ],
   "source": [
    "pearson_coef, p_value = stats.pearsonr(data['distinct_ref_no_week'], data['Is_churn'])\n",
    "print(\"The Pearson Correlation Coefficient is\", pearson_coef, \" with a P-value of P =\", p_value) "
   ]
  },
  {
   "cell_type": "code",
   "execution_count": 82,
   "id": "7e098de7",
   "metadata": {},
   "outputs": [
    {
     "name": "stderr",
     "output_type": "stream",
     "text": [
      "C:\\Users\\Admin\\anaconda3\\lib\\site-packages\\seaborn\\distributions.py:2619: FutureWarning: `distplot` is a deprecated function and will be removed in a future version. Please adapt your code to use either `displot` (a figure-level function with similar flexibility) or `kdeplot` (an axes-level function for kernel density plots).\n",
      "  warnings.warn(msg, FutureWarning)\n",
      "C:\\Users\\Admin\\anaconda3\\lib\\site-packages\\seaborn\\distributions.py:2619: FutureWarning: `distplot` is a deprecated function and will be removed in a future version. Please adapt your code to use either `displot` (a figure-level function with similar flexibility) or `kdeplot` (an axes-level function for kernel density plots).\n",
      "  warnings.warn(msg, FutureWarning)\n"
     ]
    },
    {
     "data": {
      "image/png": "[encoded data removed]",
      "text/plain": [
       "<Figure size 432x288 with 1 Axes>"
      ]
     },
     "metadata": {
      "needs_background": "light"
     },
     "output_type": "display_data"
    }
   ],
   "source": [
    "ax1 = sns.distplot(data_active['distinct_ref_no_week'], hist = False, color = 'b', label = 'Active Customer')\n",
    "sns.distplot(data_churn['distinct_ref_no_week'], hist = False, color = 'r', label = 'Churn Customer', ax = ax1)\n",
    "plt.show()"
   ]
  },
  {
   "cell_type": "code",
   "execution_count": 39,
   "id": "ac7f2bd7",
   "metadata": {},
   "outputs": [
    {
     "data": {
      "text/plain": [
       "<AxesSubplot:xlabel='amount_month', ylabel='Is_churn'>"
      ]
     },
     "execution_count": 39,
     "metadata": {},
     "output_type": "execute_result"
    },
    {
     "data": {
      "image/png": "[encoded data removed]",
      "text/plain": [
       "<Figure size 432x288 with 1 Axes>"
      ]
     },
     "metadata": {
      "needs_background": "light"
     },
     "output_type": "display_data"
    }
   ],
   "source": [
    "sns.regplot(x = 'amount_month', y = 'Is_churn', data = data)"
   ]
  },
  {
   "cell_type": "code",
   "execution_count": 83,
   "id": "7da65ea4",
   "metadata": {},
   "outputs": [
    {
     "name": "stdout",
     "output_type": "stream",
     "text": [
      "The Pearson Correlation Coefficient is -0.0918946339930701  with a P-value of P = 4.73756489664431e-103\n"
     ]
    }
   ],
   "source": [
    "pearson_coef, p_value = stats.pearsonr(data['amount_month'], data['Is_churn'])\n",
    "print(\"The Pearson Correlation Coefficient is\", pearson_coef, \" with a P-value of P =\", p_value) "
   ]
  },
  {
   "cell_type": "code",
   "execution_count": 84,
   "id": "20392699",
   "metadata": {},
   "outputs": [
    {
     "name": "stderr",
     "output_type": "stream",
     "text": [
      "C:\\Users\\Admin\\anaconda3\\lib\\site-packages\\seaborn\\distributions.py:2619: FutureWarning: `distplot` is a deprecated function and will be removed in a future version. Please adapt your code to use either `displot` (a figure-level function with similar flexibility) or `kdeplot` (an axes-level function for kernel density plots).\n",
      "  warnings.warn(msg, FutureWarning)\n",
      "C:\\Users\\Admin\\anaconda3\\lib\\site-packages\\seaborn\\distributions.py:2619: FutureWarning: `distplot` is a deprecated function and will be removed in a future version. Please adapt your code to use either `displot` (a figure-level function with similar flexibility) or `kdeplot` (an axes-level function for kernel density plots).\n",
      "  warnings.warn(msg, FutureWarning)\n"
     ]
    },
    {
     "data": {
      "image/png": "[encoded data removed]",
      "text/plain": [
       "<Figure size 432x288 with 1 Axes>"
      ]
     },
     "metadata": {
      "needs_background": "light"
     },
     "output_type": "display_data"
    }
   ],
   "source": [
    "ax1 = sns.distplot(data_active['amount_month'], hist = False, color = 'b', label = 'Active Customer')\n",
    "sns.distplot(data_churn['amount_month'], hist = False, color = 'r', label = 'Churn Customer', ax = ax1)\n",
    "plt.show()"
   ]
  },
  {
   "cell_type": "code",
   "execution_count": 40,
   "id": "d9d5b27c",
   "metadata": {},
   "outputs": [
    {
     "data": {
      "text/plain": [
       "<AxesSubplot:xlabel='max_amount_3month', ylabel='Is_churn'>"
      ]
     },
     "execution_count": 40,
     "metadata": {},
     "output_type": "execute_result"
    },
    {
     "data": {
      "image/png": "[encoded data removed]",
      "text/plain": [
       "<Figure size 432x288 with 1 Axes>"
      ]
     },
     "metadata": {
      "needs_background": "light"
     },
     "output_type": "display_data"
    }
   ],
   "source": [
    "sns.regplot(x = 'max_amount_3month', y = 'Is_churn', data = data)"
   ]
  },
  {
   "cell_type": "code",
   "execution_count": 85,
   "id": "0945ce6c",
   "metadata": {},
   "outputs": [
    {
     "name": "stdout",
     "output_type": "stream",
     "text": [
      "The Pearson Correlation Coefficient is -0.09160221258491975  with a P-value of P = 2.092811980434715e-102\n"
     ]
    }
   ],
   "source": [
    "pearson_coef, p_value = stats.pearsonr(data['max_amount_3month'], data['Is_churn'])\n",
    "print(\"The Pearson Correlation Coefficient is\", pearson_coef, \" with a P-value of P =\", p_value) "
   ]
  },
  {
   "cell_type": "code",
   "execution_count": 86,
   "id": "11d6eb07",
   "metadata": {},
   "outputs": [
    {
     "name": "stderr",
     "output_type": "stream",
     "text": [
      "C:\\Users\\Admin\\anaconda3\\lib\\site-packages\\seaborn\\distributions.py:2619: FutureWarning: `distplot` is a deprecated function and will be removed in a future version. Please adapt your code to use either `displot` (a figure-level function with similar flexibility) or `kdeplot` (an axes-level function for kernel density plots).\n",
      "  warnings.warn(msg, FutureWarning)\n",
      "C:\\Users\\Admin\\anaconda3\\lib\\site-packages\\seaborn\\distributions.py:2619: FutureWarning: `distplot` is a deprecated function and will be removed in a future version. Please adapt your code to use either `displot` (a figure-level function with similar flexibility) or `kdeplot` (an axes-level function for kernel density plots).\n",
      "  warnings.warn(msg, FutureWarning)\n"
     ]
    },
    {
     "data": {
      "image/png": "[encoded data removed]",
      "text/plain": [
       "<Figure size 432x288 with 1 Axes>"
      ]
     },
     "metadata": {
      "needs_background": "light"
     },
     "output_type": "display_data"
    }
   ],
   "source": [
    "ax1 = sns.distplot(data_active['max_amount_3month'], hist = False, color = 'b', label = 'Active Customer')\n",
    "sns.distplot(data_churn['max_amount_3month'], hist = False, color = 'r', label = 'Churn Customer', ax = ax1)\n",
    "plt.show()"
   ]
  },
  {
   "cell_type": "code",
   "execution_count": null,
   "id": "169d824e",
   "metadata": {},
   "outputs": [],
   "source": []
  }
 ],
 "metadata": {
  "kernelspec": {
   "display_name": "Python 3 (ipykernel)",
   "language": "python",
   "name": "python3"
  },
  "language_info": {
   "codemirror_mode": {
    "name": "ipython",
    "version": 3
   },
   "file_extension": ".py",
   "mimetype": "text/x-python",
   "name": "python",
   "nbconvert_exporter": "python",
   "pygments_lexer": "ipython3",
   "version": "3.9.7"
  }
 },
 "nbformat": 4,
 "nbformat_minor": 5
}
