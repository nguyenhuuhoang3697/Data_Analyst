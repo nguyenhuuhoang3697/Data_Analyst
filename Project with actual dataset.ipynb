{
 "cells": [
  {
   "cell_type": "code",
   "execution_count": 1,
   "id": "cfca82a2",
   "metadata": {},
   "outputs": [],
   "source": [
    "import pandas as pd\n",
    "import numpy as np\n",
    "import matplotlib.pyplot as plt\n",
    "import seaborn as sns\n",
    "%matplotlib inline"
   ]
  },
  {
   "cell_type": "markdown",
   "id": "d6af8683",
   "metadata": {},
   "source": [
    "<h1> Import dataset </h1>"
   ]
  },
  {
   "cell_type": "code",
   "execution_count": 2,
   "id": "9d2e1c9a",
   "metadata": {},
   "outputs": [],
   "source": [
    "data = pd.read_csv('dataset.csv')"
   ]
  },
  {
   "cell_type": "code",
   "execution_count": 3,
   "id": "7ac58171",
   "metadata": {},
   "outputs": [
    {
     "data": {
      "text/html": [
       "<div>\n",
       "<style scoped>\n",
       "    .dataframe tbody tr th:only-of-type {\n",
       "        vertical-align: middle;\n",
       "    }\n",
       "\n",
       "    .dataframe tbody tr th {\n",
       "        vertical-align: top;\n",
       "    }\n",
       "\n",
       "    .dataframe thead th {\n",
       "        text-align: right;\n",
       "    }\n",
       "</style>\n",
       "<table border=\"1\" class=\"dataframe\">\n",
       "  <thead>\n",
       "    <tr style=\"text-align: right;\">\n",
       "      <th></th>\n",
       "      <th>local_ref_1</th>\n",
       "      <th>vn_marital_status</th>\n",
       "      <th>resid_province</th>\n",
       "      <th>resid_district</th>\n",
       "      <th>resid_wards</th>\n",
       "      <th>birth_incorp_date</th>\n",
       "      <th>amount_week</th>\n",
       "      <th>max_amount_week</th>\n",
       "      <th>min_amount_week</th>\n",
       "      <th>distinct_payment_code_week</th>\n",
       "      <th>...</th>\n",
       "      <th>distinct_trans_group_3month</th>\n",
       "      <th>distinct_ref_no_3month</th>\n",
       "      <th>most_act_mar2021_count</th>\n",
       "      <th>most_act_mar2021</th>\n",
       "      <th>total_act_mar2021</th>\n",
       "      <th>total_amt_mar2021</th>\n",
       "      <th>most_act_juin2021_count</th>\n",
       "      <th>most_act_juin2021</th>\n",
       "      <th>total_act_juin2021</th>\n",
       "      <th>total_amt_juin2021</th>\n",
       "    </tr>\n",
       "  </thead>\n",
       "  <tbody>\n",
       "    <tr>\n",
       "      <th>0</th>\n",
       "      <td>MALE</td>\n",
       "      <td>Married</td>\n",
       "      <td>27.0</td>\n",
       "      <td>262.0</td>\n",
       "      <td>9436.0</td>\n",
       "      <td>1992.0</td>\n",
       "      <td>NaN</td>\n",
       "      <td>NaN</td>\n",
       "      <td>NaN</td>\n",
       "      <td>0.0</td>\n",
       "      <td>...</td>\n",
       "      <td>2</td>\n",
       "      <td>33</td>\n",
       "      <td>5.0</td>\n",
       "      <td>Giao dich chuyen khoan</td>\n",
       "      <td>5.0</td>\n",
       "      <td>0.000016</td>\n",
       "      <td>14.0</td>\n",
       "      <td>Giao dich chuyen khoan</td>\n",
       "      <td>17.0</td>\n",
       "      <td>0.006543</td>\n",
       "    </tr>\n",
       "    <tr>\n",
       "      <th>1</th>\n",
       "      <td>MALE</td>\n",
       "      <td>Single</td>\n",
       "      <td>79.0</td>\n",
       "      <td>769.0</td>\n",
       "      <td>27097.0</td>\n",
       "      <td>1986.0</td>\n",
       "      <td>NaN</td>\n",
       "      <td>NaN</td>\n",
       "      <td>NaN</td>\n",
       "      <td>NaN</td>\n",
       "      <td>...</td>\n",
       "      <td>2</td>\n",
       "      <td>5</td>\n",
       "      <td>NaN</td>\n",
       "      <td>NaN</td>\n",
       "      <td>NaN</td>\n",
       "      <td>NaN</td>\n",
       "      <td>1.0</td>\n",
       "      <td>Giao dich thanh toan</td>\n",
       "      <td>1.0</td>\n",
       "      <td>0.000062</td>\n",
       "    </tr>\n",
       "    <tr>\n",
       "      <th>2</th>\n",
       "      <td>MALE</td>\n",
       "      <td>Married</td>\n",
       "      <td>1.0</td>\n",
       "      <td>250.0</td>\n",
       "      <td>8989.0</td>\n",
       "      <td>1980.0</td>\n",
       "      <td>NaN</td>\n",
       "      <td>NaN</td>\n",
       "      <td>NaN</td>\n",
       "      <td>NaN</td>\n",
       "      <td>...</td>\n",
       "      <td>2</td>\n",
       "      <td>7</td>\n",
       "      <td>4.0</td>\n",
       "      <td>Giao dich chuyen khoan</td>\n",
       "      <td>6.0</td>\n",
       "      <td>0.000046</td>\n",
       "      <td>1.0</td>\n",
       "      <td>Giao dich chuyen khoan</td>\n",
       "      <td>2.0</td>\n",
       "      <td>0.000071</td>\n",
       "    </tr>\n",
       "    <tr>\n",
       "      <th>3</th>\n",
       "      <td>MALE</td>\n",
       "      <td>Single</td>\n",
       "      <td>40.0</td>\n",
       "      <td>431.0</td>\n",
       "      <td>18055.0</td>\n",
       "      <td>2001.0</td>\n",
       "      <td>NaN</td>\n",
       "      <td>NaN</td>\n",
       "      <td>NaN</td>\n",
       "      <td>NaN</td>\n",
       "      <td>...</td>\n",
       "      <td>1</td>\n",
       "      <td>1</td>\n",
       "      <td>NaN</td>\n",
       "      <td>NaN</td>\n",
       "      <td>NaN</td>\n",
       "      <td>NaN</td>\n",
       "      <td>NaN</td>\n",
       "      <td>NaN</td>\n",
       "      <td>NaN</td>\n",
       "      <td>NaN</td>\n",
       "    </tr>\n",
       "    <tr>\n",
       "      <th>4</th>\n",
       "      <td>MALE</td>\n",
       "      <td>Married</td>\n",
       "      <td>49.0</td>\n",
       "      <td>512.0</td>\n",
       "      <td>20758.0</td>\n",
       "      <td>1989.0</td>\n",
       "      <td>0.0</td>\n",
       "      <td>0.000114</td>\n",
       "      <td>0.000636</td>\n",
       "      <td>0.0</td>\n",
       "      <td>...</td>\n",
       "      <td>3</td>\n",
       "      <td>24</td>\n",
       "      <td>9.0</td>\n",
       "      <td>Giao dich chuyen khoan</td>\n",
       "      <td>10.0</td>\n",
       "      <td>0.000170</td>\n",
       "      <td>17.0</td>\n",
       "      <td>Giao dich chuyen khoan</td>\n",
       "      <td>19.0</td>\n",
       "      <td>0.000575</td>\n",
       "    </tr>\n",
       "  </tbody>\n",
       "</table>\n",
       "<p>5 rows × 35 columns</p>\n",
       "</div>"
      ],
      "text/plain": [
       "  local_ref_1 vn_marital_status  resid_province  resid_district  resid_wards  \\\n",
       "0        MALE           Married            27.0           262.0       9436.0   \n",
       "1        MALE            Single            79.0           769.0      27097.0   \n",
       "2        MALE           Married             1.0           250.0       8989.0   \n",
       "3        MALE            Single            40.0           431.0      18055.0   \n",
       "4        MALE           Married            49.0           512.0      20758.0   \n",
       "\n",
       "   birth_incorp_date  amount_week  max_amount_week  min_amount_week  \\\n",
       "0             1992.0          NaN              NaN              NaN   \n",
       "1             1986.0          NaN              NaN              NaN   \n",
       "2             1980.0          NaN              NaN              NaN   \n",
       "3             2001.0          NaN              NaN              NaN   \n",
       "4             1989.0          0.0         0.000114         0.000636   \n",
       "\n",
       "   distinct_payment_code_week  ...  distinct_trans_group_3month  \\\n",
       "0                         0.0  ...                            2   \n",
       "1                         NaN  ...                            2   \n",
       "2                         NaN  ...                            2   \n",
       "3                         NaN  ...                            1   \n",
       "4                         0.0  ...                            3   \n",
       "\n",
       "   distinct_ref_no_3month  most_act_mar2021_count        most_act_mar2021  \\\n",
       "0                      33                     5.0  Giao dich chuyen khoan   \n",
       "1                       5                     NaN                     NaN   \n",
       "2                       7                     4.0  Giao dich chuyen khoan   \n",
       "3                       1                     NaN                     NaN   \n",
       "4                      24                     9.0  Giao dich chuyen khoan   \n",
       "\n",
       "   total_act_mar2021  total_amt_mar2021  most_act_juin2021_count  \\\n",
       "0                5.0           0.000016                     14.0   \n",
       "1                NaN                NaN                      1.0   \n",
       "2                6.0           0.000046                      1.0   \n",
       "3                NaN                NaN                      NaN   \n",
       "4               10.0           0.000170                     17.0   \n",
       "\n",
       "        most_act_juin2021  total_act_juin2021  total_amt_juin2021  \n",
       "0  Giao dich chuyen khoan                17.0            0.006543  \n",
       "1    Giao dich thanh toan                 1.0            0.000062  \n",
       "2  Giao dich chuyen khoan                 2.0            0.000071  \n",
       "3                     NaN                 NaN                 NaN  \n",
       "4  Giao dich chuyen khoan                19.0            0.000575  \n",
       "\n",
       "[5 rows x 35 columns]"
      ]
     },
     "execution_count": 3,
     "metadata": {},
     "output_type": "execute_result"
    }
   ],
   "source": [
    "data.head()"
   ]
  },
  {
   "cell_type": "code",
   "execution_count": 4,
   "id": "61b8da47",
   "metadata": {},
   "outputs": [],
   "source": [
    "#Filter out customers who have transactions in both the last 1 month and in the last 3 months\n",
    "data.dropna(axis = 0, subset = ['amount_month', 'amount_3month'], inplace = True)"
   ]
  },
  {
   "cell_type": "code",
   "execution_count": 5,
   "id": "053bb00a",
   "metadata": {},
   "outputs": [],
   "source": [
    "#Categorize churn and active customers\n",
    "data[\"Is_churn\"] = np.where(\n",
    "   (data['total_amt_mar2021'].isna() == True) & (data['total_amt_juin2021'].isna() == True), 1, 0)"
   ]
  },
  {
   "cell_type": "code",
   "execution_count": 6,
   "id": "4bd808d7",
   "metadata": {
    "scrolled": false
   },
   "outputs": [
    {
     "data": {
      "text/plain": [
       "0    70628\n",
       "1     6372\n",
       "Name: Is_churn, dtype: int64"
      ]
     },
     "execution_count": 6,
     "metadata": {},
     "output_type": "execute_result"
    }
   ],
   "source": [
    "data['Is_churn'].value_counts()"
   ]
  },
  {
   "cell_type": "code",
   "execution_count": 7,
   "id": "468adee7",
   "metadata": {},
   "outputs": [],
   "source": [
    "#Drop columns related to March and June\n",
    "data = data.drop(['most_act_mar2021_count', 'most_act_mar2021', 'total_act_mar2021', 'total_amt_mar2021',\n",
    "           'most_act_juin2021_count', 'most_act_juin2021', 'total_act_juin2021', 'total_amt_juin2021'], axis = 1)"
   ]
  },
  {
   "cell_type": "markdown",
   "id": "55bee5f1",
   "metadata": {},
   "source": [
    "<h1> Handing missing data </h1>"
   ]
  },
  {
   "cell_type": "code",
   "execution_count": 8,
   "id": "134e1be4",
   "metadata": {
    "scrolled": true
   },
   "outputs": [
    {
     "name": "stdout",
     "output_type": "stream",
     "text": [
      "<class 'pandas.core.frame.DataFrame'>\n",
      "Int64Index: 77000 entries, 0 to 99997\n",
      "Data columns (total 28 columns):\n",
      " #   Column                        Non-Null Count  Dtype  \n",
      "---  ------                        --------------  -----  \n",
      " 0   local_ref_1                   74607 non-null  object \n",
      " 1   vn_marital_status             74357 non-null  object \n",
      " 2   resid_province                71332 non-null  float64\n",
      " 3   resid_district                71332 non-null  float64\n",
      " 4   resid_wards                   71330 non-null  float64\n",
      " 5   birth_incorp_date             76992 non-null  float64\n",
      " 6   amount_week                   54800 non-null  float64\n",
      " 7   max_amount_week               54800 non-null  float64\n",
      " 8   min_amount_week               54800 non-null  float64\n",
      " 9   distinct_payment_code_week    55345 non-null  float64\n",
      " 10  count_payment_code_week       55345 non-null  float64\n",
      " 11  distinct_trans_group_week     55345 non-null  float64\n",
      " 12  distinct_ref_no_week          55345 non-null  float64\n",
      " 13  amount_month                  77000 non-null  float64\n",
      " 14  max_amount_month              77000 non-null  float64\n",
      " 15  min_amount_month              77000 non-null  float64\n",
      " 16  distinct_payment_code_month   77000 non-null  float64\n",
      " 17  count_payment_code_month      77000 non-null  float64\n",
      " 18  distinct_trans_group_month    77000 non-null  float64\n",
      " 19  distinct_ref_no_month         77000 non-null  float64\n",
      " 20  amount_3month                 77000 non-null  float64\n",
      " 21  max_amount_3month             77000 non-null  float64\n",
      " 22  min_amount_3month             77000 non-null  float64\n",
      " 23  distinct_payment_code_3month  77000 non-null  int64  \n",
      " 24  count_payment_code_3month     77000 non-null  int64  \n",
      " 25  distinct_trans_group_3month   77000 non-null  int64  \n",
      " 26  distinct_ref_no_3month        77000 non-null  int64  \n",
      " 27  Is_churn                      77000 non-null  int32  \n",
      "dtypes: float64(21), int32(1), int64(4), object(2)\n",
      "memory usage: 16.7+ MB\n"
     ]
    }
   ],
   "source": [
    "data.info()"
   ]
  },
  {
   "cell_type": "markdown",
   "id": "2ddb6a00",
   "metadata": {},
   "source": [
    "Column 'amount_week' is containing 22200 missing data. These null values ​​represent the customer with no transactions in the previous 1 week. Therefore, we will delete these null lines."
   ]
  },
  {
   "cell_type": "code",
   "execution_count": 9,
   "id": "c9a37227",
   "metadata": {},
   "outputs": [],
   "source": [
    "data = data[data['amount_week'].notna()]"
   ]
  },
  {
   "cell_type": "markdown",
   "id": "08b08df7",
   "metadata": {},
   "source": [
    "We will check the dataset, which columns contain missing data"
   ]
  },
  {
   "cell_type": "code",
   "execution_count": 10,
   "id": "d1d2921e",
   "metadata": {},
   "outputs": [
    {
     "name": "stdout",
     "output_type": "stream",
     "text": [
      "local_ref_1\n",
      "False    53149\n",
      "True      1651\n",
      "Name: local_ref_1, dtype: int64\n",
      "\n",
      "vn_marital_status\n",
      "False    52982\n",
      "True      1818\n",
      "Name: vn_marital_status, dtype: int64\n",
      "\n",
      "resid_province\n",
      "False    50988\n",
      "True      3812\n",
      "Name: resid_province, dtype: int64\n",
      "\n",
      "resid_district\n",
      "False    50991\n",
      "True      3809\n",
      "Name: resid_district, dtype: int64\n",
      "\n",
      "resid_wards\n",
      "False    50991\n",
      "True      3809\n",
      "Name: resid_wards, dtype: int64\n",
      "\n",
      "birth_incorp_date\n",
      "False    54796\n",
      "True         4\n",
      "Name: birth_incorp_date, dtype: int64\n",
      "\n",
      "amount_week\n",
      "False    54800\n",
      "Name: amount_week, dtype: int64\n",
      "\n",
      "max_amount_week\n",
      "False    54800\n",
      "Name: max_amount_week, dtype: int64\n",
      "\n",
      "min_amount_week\n",
      "False    54800\n",
      "Name: min_amount_week, dtype: int64\n",
      "\n",
      "distinct_payment_code_week\n",
      "False    54800\n",
      "Name: distinct_payment_code_week, dtype: int64\n",
      "\n",
      "count_payment_code_week\n",
      "False    54800\n",
      "Name: count_payment_code_week, dtype: int64\n",
      "\n",
      "distinct_trans_group_week\n",
      "False    54800\n",
      "Name: distinct_trans_group_week, dtype: int64\n",
      "\n",
      "distinct_ref_no_week\n",
      "False    54800\n",
      "Name: distinct_ref_no_week, dtype: int64\n",
      "\n",
      "amount_month\n",
      "False    54800\n",
      "Name: amount_month, dtype: int64\n",
      "\n",
      "max_amount_month\n",
      "False    54800\n",
      "Name: max_amount_month, dtype: int64\n",
      "\n",
      "min_amount_month\n",
      "False    54800\n",
      "Name: min_amount_month, dtype: int64\n",
      "\n",
      "distinct_payment_code_month\n",
      "False    54800\n",
      "Name: distinct_payment_code_month, dtype: int64\n",
      "\n",
      "count_payment_code_month\n",
      "False    54800\n",
      "Name: count_payment_code_month, dtype: int64\n",
      "\n",
      "distinct_trans_group_month\n",
      "False    54800\n",
      "Name: distinct_trans_group_month, dtype: int64\n",
      "\n",
      "distinct_ref_no_month\n",
      "False    54800\n",
      "Name: distinct_ref_no_month, dtype: int64\n",
      "\n",
      "amount_3month\n",
      "False    54800\n",
      "Name: amount_3month, dtype: int64\n",
      "\n",
      "max_amount_3month\n",
      "False    54800\n",
      "Name: max_amount_3month, dtype: int64\n",
      "\n",
      "min_amount_3month\n",
      "False    54800\n",
      "Name: min_amount_3month, dtype: int64\n",
      "\n",
      "distinct_payment_code_3month\n",
      "False    54800\n",
      "Name: distinct_payment_code_3month, dtype: int64\n",
      "\n",
      "count_payment_code_3month\n",
      "False    54800\n",
      "Name: count_payment_code_3month, dtype: int64\n",
      "\n",
      "distinct_trans_group_3month\n",
      "False    54800\n",
      "Name: distinct_trans_group_3month, dtype: int64\n",
      "\n",
      "distinct_ref_no_3month\n",
      "False    54800\n",
      "Name: distinct_ref_no_3month, dtype: int64\n",
      "\n",
      "Is_churn\n",
      "False    54800\n",
      "Name: Is_churn, dtype: int64\n",
      "\n"
     ]
    }
   ],
   "source": [
    "missing_data = data.isnull()\n",
    "for column in missing_data.columns.values.tolist():\n",
    "    print(column)\n",
    "    print (missing_data[column].value_counts())\n",
    "    print(\"\")   "
   ]
  },
  {
   "cell_type": "markdown",
   "id": "94ca4af2",
   "metadata": {},
   "source": [
    "Thus, we currently have 6 columns containing missing values:\n",
    "<ol>\n",
    "    <li>\"local_ref_1\": 1651 missing data\n",
    "    <li>\"vn_marital_status\": 1818 missing data\n",
    "    <li>\"resid_province\": 3812 missing data\n",
    "    <li>:\"resid_district\": 3809 missing data\n",
    "    <li>:\"resid_wards\": 3809 missing data\n",
    "    <li>:\"birth_incorp_date\": 4 missing data"
   ]
  },
  {
   "cell_type": "markdown",
   "id": "daa16d7b",
   "metadata": {},
   "source": [
    "<h2> Replace missing values of 'birth_incorp_date' column by mean </h2>"
   ]
  },
  {
   "cell_type": "code",
   "execution_count": 11,
   "id": "6f211ca1",
   "metadata": {},
   "outputs": [],
   "source": [
    "data['birth_incorp_date'] = 2020 - data[['birth_incorp_date']]"
   ]
  },
  {
   "cell_type": "code",
   "execution_count": 12,
   "id": "d67bfb98",
   "metadata": {},
   "outputs": [
    {
     "data": {
      "text/plain": [
       "28.0     3033\n",
       "30.0     3008\n",
       "29.0     2978\n",
       "27.0     2870\n",
       "26.0     2814\n",
       "31.0     2601\n",
       "32.0     2480\n",
       "25.0     2359\n",
       "33.0     2307\n",
       "35.0     2285\n",
       "24.0     2148\n",
       "36.0     2102\n",
       "34.0     2040\n",
       "37.0     1988\n",
       "23.0     1984\n",
       "38.0     1801\n",
       "39.0     1386\n",
       "22.0     1379\n",
       "40.0     1180\n",
       "41.0     1076\n",
       "21.0     1013\n",
       "42.0      892\n",
       "43.0      876\n",
       "20.0      841\n",
       "44.0      819\n",
       "18.0      812\n",
       "19.0      764\n",
       "45.0      682\n",
       "46.0      601\n",
       "47.0      513\n",
       "48.0      459\n",
       "49.0      418\n",
       "50.0      335\n",
       "17.0      297\n",
       "51.0      235\n",
       "52.0      218\n",
       "16.0      165\n",
       "53.0      160\n",
       "54.0      154\n",
       "55.0      106\n",
       "56.0       93\n",
       "57.0       85\n",
       "58.0       64\n",
       "60.0       61\n",
       "59.0       57\n",
       "15.0       52\n",
       "61.0       46\n",
       "62.0       39\n",
       "64.0       27\n",
       "63.0       22\n",
       "66.0       16\n",
       "65.0        8\n",
       "69.0        8\n",
       "71.0        4\n",
       "10.0        4\n",
       "67.0        4\n",
       "11.0        3\n",
       "1.0         3\n",
       "70.0        3\n",
       "68.0        2\n",
       "2.0         2\n",
       "75.0        2\n",
       "82.0        1\n",
       "13.0        1\n",
       "947.0       1\n",
       "12.0        1\n",
       "3.0         1\n",
       "76.0        1\n",
       "80.0        1\n",
       "5.0         1\n",
       "88.0        1\n",
       "241.0       1\n",
       "77.0        1\n",
       "0.0         1\n",
       "Name: birth_incorp_date, dtype: int64"
      ]
     },
     "execution_count": 12,
     "metadata": {},
     "output_type": "execute_result"
    }
   ],
   "source": [
    "pd.options.display.max_rows = 999\n",
    "data['birth_incorp_date'].value_counts()"
   ]
  },
  {
   "cell_type": "code",
   "execution_count": 13,
   "id": "9d41e60c",
   "metadata": {
    "scrolled": true
   },
   "outputs": [],
   "source": [
    "data1 = data.loc[(data['birth_incorp_date'] < 101) & (data['birth_incorp_date'] > 5)]"
   ]
  },
  {
   "cell_type": "code",
   "execution_count": 14,
   "id": "843d0f8b",
   "metadata": {},
   "outputs": [
    {
     "data": {
      "text/plain": [
       "32.024477056182235"
      ]
     },
     "execution_count": 14,
     "metadata": {},
     "output_type": "execute_result"
    }
   ],
   "source": [
    "avg_age = data1['birth_incorp_date'].mean(axis=0)\n",
    "avg_age"
   ]
  },
  {
   "cell_type": "code",
   "execution_count": 15,
   "id": "586142b1",
   "metadata": {},
   "outputs": [],
   "source": [
    "data['birth_incorp_date'].replace(np.nan, 32, inplace = True)"
   ]
  },
  {
   "cell_type": "markdown",
   "id": "971643c6",
   "metadata": {},
   "source": [
    "We only observed customers between the ages of 6 and 100."
   ]
  },
  {
   "cell_type": "code",
   "execution_count": 16,
   "id": "577d49c0",
   "metadata": {},
   "outputs": [
    {
     "name": "stdout",
     "output_type": "stream",
     "text": [
      "<class 'pandas.core.frame.DataFrame'>\n",
      "Int64Index: 54790 entries, 4 to 99993\n",
      "Data columns (total 28 columns):\n",
      " #   Column                        Non-Null Count  Dtype  \n",
      "---  ------                        --------------  -----  \n",
      " 0   local_ref_1                   53140 non-null  object \n",
      " 1   vn_marital_status             52973 non-null  object \n",
      " 2   resid_province                50980 non-null  float64\n",
      " 3   resid_district                50983 non-null  float64\n",
      " 4   resid_wards                   50983 non-null  float64\n",
      " 5   birth_incorp_date             54790 non-null  float64\n",
      " 6   amount_week                   54790 non-null  float64\n",
      " 7   max_amount_week               54790 non-null  float64\n",
      " 8   min_amount_week               54790 non-null  float64\n",
      " 9   distinct_payment_code_week    54790 non-null  float64\n",
      " 10  count_payment_code_week       54790 non-null  float64\n",
      " 11  distinct_trans_group_week     54790 non-null  float64\n",
      " 12  distinct_ref_no_week          54790 non-null  float64\n",
      " 13  amount_month                  54790 non-null  float64\n",
      " 14  max_amount_month              54790 non-null  float64\n",
      " 15  min_amount_month              54790 non-null  float64\n",
      " 16  distinct_payment_code_month   54790 non-null  float64\n",
      " 17  count_payment_code_month      54790 non-null  float64\n",
      " 18  distinct_trans_group_month    54790 non-null  float64\n",
      " 19  distinct_ref_no_month         54790 non-null  float64\n",
      " 20  amount_3month                 54790 non-null  float64\n",
      " 21  max_amount_3month             54790 non-null  float64\n",
      " 22  min_amount_3month             54790 non-null  float64\n",
      " 23  distinct_payment_code_3month  54790 non-null  int64  \n",
      " 24  count_payment_code_3month     54790 non-null  int64  \n",
      " 25  distinct_trans_group_3month   54790 non-null  int64  \n",
      " 26  distinct_ref_no_3month        54790 non-null  int64  \n",
      " 27  Is_churn                      54790 non-null  int32  \n",
      "dtypes: float64(21), int32(1), int64(4), object(2)\n",
      "memory usage: 11.9+ MB\n"
     ]
    }
   ],
   "source": [
    "data = data.loc[(data['birth_incorp_date'] < 101) & (data['birth_incorp_date'] > 5)]\n",
    "data.info()"
   ]
  },
  {
   "cell_type": "markdown",
   "id": "1416066b",
   "metadata": {},
   "source": [
    "<h2> Handling missing data in 'vn_marital_status' column </h2>"
   ]
  },
  {
   "cell_type": "code",
   "execution_count": 17,
   "id": "3a748eaa",
   "metadata": {},
   "outputs": [],
   "source": [
    "data['age_group'] = 0"
   ]
  },
  {
   "cell_type": "code",
   "execution_count": 18,
   "id": "83dc7a89",
   "metadata": {},
   "outputs": [],
   "source": [
    "def impute_age_group(col):\n",
    "    birth_incorp_date = col[0]\n",
    "    if birth_incorp_date < 19:\n",
    "        return '6_18'\n",
    "    if birth_incorp_date < 41:\n",
    "        return '19_40'\n",
    "    else:\n",
    "        return 'over 40'"
   ]
  },
  {
   "cell_type": "code",
   "execution_count": 19,
   "id": "71cd38c8",
   "metadata": {},
   "outputs": [],
   "source": [
    "data['age_group'] = data[['birth_incorp_date']].apply(impute_age_group, axis = 1)"
   ]
  },
  {
   "cell_type": "code",
   "execution_count": 20,
   "id": "34c05427",
   "metadata": {},
   "outputs": [
    {
     "data": {
      "text/html": [
       "<div>\n",
       "<style scoped>\n",
       "    .dataframe tbody tr th:only-of-type {\n",
       "        vertical-align: middle;\n",
       "    }\n",
       "\n",
       "    .dataframe tbody tr th {\n",
       "        vertical-align: top;\n",
       "    }\n",
       "\n",
       "    .dataframe thead th {\n",
       "        text-align: right;\n",
       "    }\n",
       "</style>\n",
       "<table border=\"1\" class=\"dataframe\">\n",
       "  <thead>\n",
       "    <tr style=\"text-align: right;\">\n",
       "      <th></th>\n",
       "      <th>vn_marital_status</th>\n",
       "      <th>age_group</th>\n",
       "      <th>test_column</th>\n",
       "    </tr>\n",
       "  </thead>\n",
       "  <tbody>\n",
       "    <tr>\n",
       "      <th>0</th>\n",
       "      <td>Divorced</td>\n",
       "      <td>19_40</td>\n",
       "      <td>12</td>\n",
       "    </tr>\n",
       "    <tr>\n",
       "      <th>2</th>\n",
       "      <td>Married</td>\n",
       "      <td>19_40</td>\n",
       "      <td>19807</td>\n",
       "    </tr>\n",
       "    <tr>\n",
       "      <th>5</th>\n",
       "      <td>Other</td>\n",
       "      <td>19_40</td>\n",
       "      <td>194</td>\n",
       "    </tr>\n",
       "    <tr>\n",
       "      <th>8</th>\n",
       "      <td>Partner</td>\n",
       "      <td>19_40</td>\n",
       "      <td>19</td>\n",
       "    </tr>\n",
       "    <tr>\n",
       "      <th>10</th>\n",
       "      <td>Seperated</td>\n",
       "      <td>19_40</td>\n",
       "      <td>2</td>\n",
       "    </tr>\n",
       "    <tr>\n",
       "      <th>12</th>\n",
       "      <td>Single</td>\n",
       "      <td>19_40</td>\n",
       "      <td>24000</td>\n",
       "    </tr>\n",
       "    <tr>\n",
       "      <th>15</th>\n",
       "      <td>Widow</td>\n",
       "      <td>19_40</td>\n",
       "      <td>2</td>\n",
       "    </tr>\n",
       "    <tr>\n",
       "      <th>3</th>\n",
       "      <td>Married</td>\n",
       "      <td>6_18</td>\n",
       "      <td>34</td>\n",
       "    </tr>\n",
       "    <tr>\n",
       "      <th>6</th>\n",
       "      <td>Other</td>\n",
       "      <td>6_18</td>\n",
       "      <td>1</td>\n",
       "    </tr>\n",
       "    <tr>\n",
       "      <th>13</th>\n",
       "      <td>Single</td>\n",
       "      <td>6_18</td>\n",
       "      <td>1296</td>\n",
       "    </tr>\n",
       "    <tr>\n",
       "      <th>1</th>\n",
       "      <td>Divorced</td>\n",
       "      <td>over 40</td>\n",
       "      <td>6</td>\n",
       "    </tr>\n",
       "    <tr>\n",
       "      <th>4</th>\n",
       "      <td>Married</td>\n",
       "      <td>over 40</td>\n",
       "      <td>6113</td>\n",
       "    </tr>\n",
       "    <tr>\n",
       "      <th>7</th>\n",
       "      <td>Other</td>\n",
       "      <td>over 40</td>\n",
       "      <td>23</td>\n",
       "    </tr>\n",
       "    <tr>\n",
       "      <th>9</th>\n",
       "      <td>Partner</td>\n",
       "      <td>over 40</td>\n",
       "      <td>6</td>\n",
       "    </tr>\n",
       "    <tr>\n",
       "      <th>11</th>\n",
       "      <td>Seperated</td>\n",
       "      <td>over 40</td>\n",
       "      <td>1</td>\n",
       "    </tr>\n",
       "    <tr>\n",
       "      <th>14</th>\n",
       "      <td>Single</td>\n",
       "      <td>over 40</td>\n",
       "      <td>1457</td>\n",
       "    </tr>\n",
       "  </tbody>\n",
       "</table>\n",
       "</div>"
      ],
      "text/plain": [
       "   vn_marital_status age_group  test_column\n",
       "0           Divorced     19_40           12\n",
       "2            Married     19_40        19807\n",
       "5              Other     19_40          194\n",
       "8            Partner     19_40           19\n",
       "10         Seperated     19_40            2\n",
       "12            Single     19_40        24000\n",
       "15             Widow     19_40            2\n",
       "3            Married      6_18           34\n",
       "6              Other      6_18            1\n",
       "13            Single      6_18         1296\n",
       "1           Divorced   over 40            6\n",
       "4            Married   over 40         6113\n",
       "7              Other   over 40           23\n",
       "9            Partner   over 40            6\n",
       "11         Seperated   over 40            1\n",
       "14            Single   over 40         1457"
      ]
     },
     "execution_count": 20,
     "metadata": {},
     "output_type": "execute_result"
    }
   ],
   "source": [
    "data['test_column'] = 1\n",
    "data_grtest = data[['vn_marital_status', 'age_group', 'test_column']]\n",
    "group_test = data_grtest.groupby(['vn_marital_status', 'age_group'], as_index = False).sum()\n",
    "group_test.sort_values('age_group')"
   ]
  },
  {
   "cell_type": "markdown",
   "id": "9920ceef",
   "metadata": {},
   "source": [
    "From the above information, we will fill 'Single' for customers whose age_group is '19-40'; 'Married' for customers whose age_group is 'over 40'; 'Single' for customers whose age_group is '6-18'."
   ]
  },
  {
   "cell_type": "code",
   "execution_count": 21,
   "id": "0e2f712b",
   "metadata": {},
   "outputs": [],
   "source": [
    "def impute_marrital_status(cols):\n",
    "    vn_marital_status = cols[0]\n",
    "    age_group = cols[1]\n",
    "    if pd.isnull(vn_marital_status):\n",
    "        if age_group == '6-18':\n",
    "            return 'Single'\n",
    "        if age_group == '19-40':\n",
    "            return 'Single'\n",
    "        else:\n",
    "            return 'Married'\n",
    "    else:\n",
    "        return vn_marital_status"
   ]
  },
  {
   "cell_type": "code",
   "execution_count": 22,
   "id": "9cec46de",
   "metadata": {},
   "outputs": [],
   "source": [
    "data['vn_marital_status'] = data[['vn_marital_status', 'age_group']].apply(impute_marrital_status, axis = 1)"
   ]
  },
  {
   "cell_type": "markdown",
   "id": "87871b28",
   "metadata": {},
   "source": [
    "<h2> Handling missing data in 'local_ref_1' column </h2>"
   ]
  },
  {
   "cell_type": "markdown",
   "id": "e8f5644e",
   "metadata": {},
   "source": [
    "We will fill missing values ​​of column 'local_ref_1' with frequent value based on 2 columns 'vn_marital_status' and 'age_group'."
   ]
  },
  {
   "cell_type": "code",
   "execution_count": 23,
   "id": "f2e5e18b",
   "metadata": {},
   "outputs": [
    {
     "data": {
      "text/html": [
       "<div>\n",
       "<style scoped>\n",
       "    .dataframe tbody tr th:only-of-type {\n",
       "        vertical-align: middle;\n",
       "    }\n",
       "\n",
       "    .dataframe tbody tr th {\n",
       "        vertical-align: top;\n",
       "    }\n",
       "\n",
       "    .dataframe thead th {\n",
       "        text-align: right;\n",
       "    }\n",
       "</style>\n",
       "<table border=\"1\" class=\"dataframe\">\n",
       "  <thead>\n",
       "    <tr style=\"text-align: right;\">\n",
       "      <th></th>\n",
       "      <th>local_ref_1</th>\n",
       "      <th>vn_marital_status</th>\n",
       "      <th>age_group</th>\n",
       "      <th>test_column</th>\n",
       "    </tr>\n",
       "  </thead>\n",
       "  <tbody>\n",
       "    <tr>\n",
       "      <th>0</th>\n",
       "      <td>FEMALE</td>\n",
       "      <td>Divorced</td>\n",
       "      <td>19_40</td>\n",
       "      <td>7</td>\n",
       "    </tr>\n",
       "    <tr>\n",
       "      <th>14</th>\n",
       "      <td>MALE</td>\n",
       "      <td>Divorced</td>\n",
       "      <td>19_40</td>\n",
       "      <td>5</td>\n",
       "    </tr>\n",
       "    <tr>\n",
       "      <th>2</th>\n",
       "      <td>FEMALE</td>\n",
       "      <td>Married</td>\n",
       "      <td>19_40</td>\n",
       "      <td>7856</td>\n",
       "    </tr>\n",
       "    <tr>\n",
       "      <th>16</th>\n",
       "      <td>MALE</td>\n",
       "      <td>Married</td>\n",
       "      <td>19_40</td>\n",
       "      <td>12100</td>\n",
       "    </tr>\n",
       "    <tr>\n",
       "      <th>5</th>\n",
       "      <td>FEMALE</td>\n",
       "      <td>Other</td>\n",
       "      <td>19_40</td>\n",
       "      <td>88</td>\n",
       "    </tr>\n",
       "    <tr>\n",
       "      <th>19</th>\n",
       "      <td>MALE</td>\n",
       "      <td>Other</td>\n",
       "      <td>19_40</td>\n",
       "      <td>106</td>\n",
       "    </tr>\n",
       "    <tr>\n",
       "      <th>7</th>\n",
       "      <td>FEMALE</td>\n",
       "      <td>Partner</td>\n",
       "      <td>19_40</td>\n",
       "      <td>3</td>\n",
       "    </tr>\n",
       "    <tr>\n",
       "      <th>22</th>\n",
       "      <td>MALE</td>\n",
       "      <td>Partner</td>\n",
       "      <td>19_40</td>\n",
       "      <td>16</td>\n",
       "    </tr>\n",
       "    <tr>\n",
       "      <th>8</th>\n",
       "      <td>FEMALE</td>\n",
       "      <td>Seperated</td>\n",
       "      <td>19_40</td>\n",
       "      <td>2</td>\n",
       "    </tr>\n",
       "    <tr>\n",
       "      <th>10</th>\n",
       "      <td>FEMALE</td>\n",
       "      <td>Single</td>\n",
       "      <td>19_40</td>\n",
       "      <td>8428</td>\n",
       "    </tr>\n",
       "    <tr>\n",
       "      <th>24</th>\n",
       "      <td>MALE</td>\n",
       "      <td>Single</td>\n",
       "      <td>19_40</td>\n",
       "      <td>15564</td>\n",
       "    </tr>\n",
       "    <tr>\n",
       "      <th>13</th>\n",
       "      <td>FEMALE</td>\n",
       "      <td>Widow</td>\n",
       "      <td>19_40</td>\n",
       "      <td>1</td>\n",
       "    </tr>\n",
       "    <tr>\n",
       "      <th>27</th>\n",
       "      <td>MALE</td>\n",
       "      <td>Widow</td>\n",
       "      <td>19_40</td>\n",
       "      <td>1</td>\n",
       "    </tr>\n",
       "    <tr>\n",
       "      <th>3</th>\n",
       "      <td>FEMALE</td>\n",
       "      <td>Married</td>\n",
       "      <td>6_18</td>\n",
       "      <td>15</td>\n",
       "    </tr>\n",
       "    <tr>\n",
       "      <th>17</th>\n",
       "      <td>MALE</td>\n",
       "      <td>Married</td>\n",
       "      <td>6_18</td>\n",
       "      <td>21</td>\n",
       "    </tr>\n",
       "    <tr>\n",
       "      <th>20</th>\n",
       "      <td>MALE</td>\n",
       "      <td>Other</td>\n",
       "      <td>6_18</td>\n",
       "      <td>1</td>\n",
       "    </tr>\n",
       "    <tr>\n",
       "      <th>11</th>\n",
       "      <td>FEMALE</td>\n",
       "      <td>Single</td>\n",
       "      <td>6_18</td>\n",
       "      <td>610</td>\n",
       "    </tr>\n",
       "    <tr>\n",
       "      <th>25</th>\n",
       "      <td>MALE</td>\n",
       "      <td>Single</td>\n",
       "      <td>6_18</td>\n",
       "      <td>686</td>\n",
       "    </tr>\n",
       "    <tr>\n",
       "      <th>1</th>\n",
       "      <td>FEMALE</td>\n",
       "      <td>Divorced</td>\n",
       "      <td>over 40</td>\n",
       "      <td>3</td>\n",
       "    </tr>\n",
       "    <tr>\n",
       "      <th>15</th>\n",
       "      <td>MALE</td>\n",
       "      <td>Divorced</td>\n",
       "      <td>over 40</td>\n",
       "      <td>3</td>\n",
       "    </tr>\n",
       "    <tr>\n",
       "      <th>4</th>\n",
       "      <td>FEMALE</td>\n",
       "      <td>Married</td>\n",
       "      <td>over 40</td>\n",
       "      <td>1916</td>\n",
       "    </tr>\n",
       "    <tr>\n",
       "      <th>18</th>\n",
       "      <td>MALE</td>\n",
       "      <td>Married</td>\n",
       "      <td>over 40</td>\n",
       "      <td>4222</td>\n",
       "    </tr>\n",
       "    <tr>\n",
       "      <th>6</th>\n",
       "      <td>FEMALE</td>\n",
       "      <td>Other</td>\n",
       "      <td>over 40</td>\n",
       "      <td>5</td>\n",
       "    </tr>\n",
       "    <tr>\n",
       "      <th>21</th>\n",
       "      <td>MALE</td>\n",
       "      <td>Other</td>\n",
       "      <td>over 40</td>\n",
       "      <td>18</td>\n",
       "    </tr>\n",
       "    <tr>\n",
       "      <th>23</th>\n",
       "      <td>MALE</td>\n",
       "      <td>Partner</td>\n",
       "      <td>over 40</td>\n",
       "      <td>6</td>\n",
       "    </tr>\n",
       "    <tr>\n",
       "      <th>9</th>\n",
       "      <td>FEMALE</td>\n",
       "      <td>Seperated</td>\n",
       "      <td>over 40</td>\n",
       "      <td>1</td>\n",
       "    </tr>\n",
       "    <tr>\n",
       "      <th>12</th>\n",
       "      <td>FEMALE</td>\n",
       "      <td>Single</td>\n",
       "      <td>over 40</td>\n",
       "      <td>449</td>\n",
       "    </tr>\n",
       "    <tr>\n",
       "      <th>26</th>\n",
       "      <td>MALE</td>\n",
       "      <td>Single</td>\n",
       "      <td>over 40</td>\n",
       "      <td>1007</td>\n",
       "    </tr>\n",
       "  </tbody>\n",
       "</table>\n",
       "</div>"
      ],
      "text/plain": [
       "   local_ref_1 vn_marital_status age_group  test_column\n",
       "0       FEMALE          Divorced     19_40            7\n",
       "14        MALE          Divorced     19_40            5\n",
       "2       FEMALE           Married     19_40         7856\n",
       "16        MALE           Married     19_40        12100\n",
       "5       FEMALE             Other     19_40           88\n",
       "19        MALE             Other     19_40          106\n",
       "7       FEMALE           Partner     19_40            3\n",
       "22        MALE           Partner     19_40           16\n",
       "8       FEMALE         Seperated     19_40            2\n",
       "10      FEMALE            Single     19_40         8428\n",
       "24        MALE            Single     19_40        15564\n",
       "13      FEMALE             Widow     19_40            1\n",
       "27        MALE             Widow     19_40            1\n",
       "3       FEMALE           Married      6_18           15\n",
       "17        MALE           Married      6_18           21\n",
       "20        MALE             Other      6_18            1\n",
       "11      FEMALE            Single      6_18          610\n",
       "25        MALE            Single      6_18          686\n",
       "1       FEMALE          Divorced   over 40            3\n",
       "15        MALE          Divorced   over 40            3\n",
       "4       FEMALE           Married   over 40         1916\n",
       "18        MALE           Married   over 40         4222\n",
       "6       FEMALE             Other   over 40            5\n",
       "21        MALE             Other   over 40           18\n",
       "23        MALE           Partner   over 40            6\n",
       "9       FEMALE         Seperated   over 40            1\n",
       "12      FEMALE            Single   over 40          449\n",
       "26        MALE            Single   over 40         1007"
      ]
     },
     "execution_count": 23,
     "metadata": {},
     "output_type": "execute_result"
    }
   ],
   "source": [
    "data_grtest1 = data[['local_ref_1','vn_marital_status', 'age_group', 'test_column']]\n",
    "group_test1 = data_grtest1.groupby(['local_ref_1','vn_marital_status', 'age_group'], as_index = False).sum()\n",
    "group_test1.sort_values([ 'age_group', 'vn_marital_status'])"
   ]
  },
  {
   "cell_type": "code",
   "execution_count": 24,
   "id": "f6e4d65c",
   "metadata": {},
   "outputs": [],
   "source": [
    "def impute_sex(cols):\n",
    "    sex = cols[0]\n",
    "    age_group = cols[1]\n",
    "    marital_status = cols[2]\n",
    "    if pd.isnull(sex):\n",
    "        if age_group == '6-18':\n",
    "            if marital_status == 'Single':\n",
    "                return 'FEMALE'\n",
    "            else:\n",
    "                return 'MALE'\n",
    "        if age_group == '19-40':\n",
    "            if marital_status == 'Divorced':\n",
    "                return 'FEMALE'\n",
    "            if marital_status == 'Married':\n",
    "                return 'MALE'\n",
    "            if marital_status == 'Other':\n",
    "                return 'MALE'\n",
    "            if marital_status == 'Partner':\n",
    "                return 'MALE'\n",
    "            if marital_status == 'Seperated':\n",
    "                return 'FEMALE'\n",
    "            else:\n",
    "                return 'MALE'\n",
    "        else:\n",
    "            if marital_status == 'Divorced':\n",
    "                return 'MALE'\n",
    "            if marital_status == 'Married':\n",
    "                return 'MALE'\n",
    "            if marital_status == 'Other':\n",
    "                return 'MALE'\n",
    "            if marital_status == 'Partner':\n",
    "                return 'MALE'\n",
    "            if marital_status == 'Seperated':\n",
    "                return 'FEMALE'\n",
    "            else:\n",
    "                return 'MALE'\n",
    "    else:\n",
    "        return sex"
   ]
  },
  {
   "cell_type": "code",
   "execution_count": 25,
   "id": "1f6d6df2",
   "metadata": {},
   "outputs": [],
   "source": [
    "data['local_ref_1'] = data[['local_ref_1', 'age_group', 'vn_marital_status']].apply(impute_sex, axis = 1)"
   ]
  },
  {
   "cell_type": "markdown",
   "id": "152de63b",
   "metadata": {},
   "source": [
    "<h2> Handing missing data in 'resid_province' column by mode</h2>"
   ]
  },
  {
   "cell_type": "code",
   "execution_count": 26,
   "id": "7f069538",
   "metadata": {},
   "outputs": [
    {
     "data": {
      "text/plain": [
       "1.0"
      ]
     },
     "execution_count": 26,
     "metadata": {},
     "output_type": "execute_result"
    }
   ],
   "source": [
    "# Find frequent value in column 'resid_provice'\n",
    "data['resid_province'].value_counts().idxmax()"
   ]
  },
  {
   "cell_type": "code",
   "execution_count": 27,
   "id": "41caef7d",
   "metadata": {},
   "outputs": [],
   "source": [
    "# Replace NaN values with '1'\n",
    "data['resid_province'].replace(np.nan, 1, inplace = True)"
   ]
  },
  {
   "cell_type": "markdown",
   "id": "b9f1a1b3",
   "metadata": {},
   "source": [
    "We do not discover the relationship with the two fields 'resid_district' and 'resid_wards'."
   ]
  },
  {
   "cell_type": "code",
   "execution_count": 28,
   "id": "414ae208",
   "metadata": {},
   "outputs": [],
   "source": [
    "data.drop(['resid_district', 'resid_wards'], axis = 1, inplace = True)"
   ]
  },
  {
   "cell_type": "code",
   "execution_count": 29,
   "id": "3857292a",
   "metadata": {},
   "outputs": [],
   "source": [
    "data.drop(['test_column', 'age_group'], axis = 1, inplace = True)"
   ]
  },
  {
   "cell_type": "markdown",
   "id": "3d24cfc3",
   "metadata": {},
   "source": [
    "Note:\n",
    "- Find customers who churn mostly in any age range.\n",
    "        data_grtest2 = data[['birth_incorp_date', 'Is_churn', 'test_column']]\n",
    "        group_test2 = data_grtest2.groupby(['birth_incorp_date', 'Is_churn'], as_index = False).sum()\n",
    "        group_test2.sort_values('Is_churn')\n",
    "- Create a new group_age from the found age range.\n",
    "        def impute_age_group(col):\n",
    "            birth_incorp_date = col[0]\n",
    "            if birth_incorp_date < 16:\n",
    "                 return '6_15'\n",
    "            if birth_incorp_date < 46:\n",
    "                 return '16_45'\n",
    "            else:\n",
    "                 return 'over 45'\n",
    "        data['age_group'] = data[['birth_incorp_date']].apply(impute_age_group, axis = 1)\n",
    "- See churn rate by age range.\n",
    "         data_grtest3 = data[['age_group', 'Is_churn', 'test_column']]\n",
    "         group_test3 = data_grtest3.groupby(['age_group', 'Is_churn'], as_index = False).sum()\n",
    "         group_test3.sort_values('Is_churn')"
   ]
  },
  {
   "cell_type": "code",
   "execution_count": 30,
   "id": "a270fe3c",
   "metadata": {},
   "outputs": [],
   "source": [
    "# Create a variable 'diff_amount_month' which is the difference between the largest and smallest transaction in the previous 1 month\n",
    "data['diff_amount_month'] = data['max_amount_month'] - data['min_amount_month']"
   ]
  },
  {
   "cell_type": "code",
   "execution_count": 31,
   "id": "eda2d8af",
   "metadata": {},
   "outputs": [],
   "source": [
    "# Create a variable 'diff_amount_week' which is the difference between the largest transaction and the smallest transaction in the previous 1 week\n",
    "data['diff_amount_week'] = data['max_amount_week'] - data['min_amount_week']"
   ]
  },
  {
   "cell_type": "code",
   "execution_count": 32,
   "id": "05409d28",
   "metadata": {},
   "outputs": [],
   "source": [
    "# Create a variable 'diff_amount_3month' which is the difference between the largest and smallest transaction in the previous 3 months\n",
    "data['diff_amount_3month'] = data['max_amount_3month'] - data['min_amount_3month']"
   ]
  },
  {
   "cell_type": "markdown",
   "id": "a9141dc2",
   "metadata": {},
   "source": [
    "## Handling Outliers"
   ]
  },
  {
   "cell_type": "markdown",
   "id": "8fb4fe49",
   "metadata": {},
   "source": [
    "<h2> 1. 'birth_incorp_date' column"
   ]
  },
  {
   "cell_type": "code",
   "execution_count": 33,
   "id": "777a1ecb",
   "metadata": {},
   "outputs": [
    {
     "name": "stderr",
     "output_type": "stream",
     "text": [
      "C:\\Users\\user\\anaconda3\\lib\\site-packages\\seaborn\\distributions.py:2619: FutureWarning: `distplot` is a deprecated function and will be removed in a future version. Please adapt your code to use either `displot` (a figure-level function with similar flexibility) or `kdeplot` (an axes-level function for kernel density plots).\n",
      "  warnings.warn(msg, FutureWarning)\n"
     ]
    },
    {
     "data": {
      "text/plain": [
       "<AxesSubplot:xlabel='birth_incorp_date', ylabel='Density'>"
      ]
     },
     "execution_count": 33,
     "metadata": {},
     "output_type": "execute_result"
    },
    {
     "data": {
      "image/png": "[encoded data removed]",
      "text/plain": [
       "<Figure size 432x288 with 1 Axes>"
      ]
     },
     "metadata": {
      "needs_background": "light"
     },
     "output_type": "display_data"
    }
   ],
   "source": [
    "sns.distplot(data['birth_incorp_date'], hist = False, color = 'b')"
   ]
  },
  {
   "cell_type": "code",
   "execution_count": 34,
   "id": "99949e82",
   "metadata": {},
   "outputs": [
    {
     "name": "stderr",
     "output_type": "stream",
     "text": [
      "C:\\Users\\user\\anaconda3\\lib\\site-packages\\seaborn\\_decorators.py:36: FutureWarning: Pass the following variable as a keyword arg: x. From version 0.12, the only valid positional argument will be `data`, and passing other arguments without an explicit keyword will result in an error or misinterpretation.\n",
      "  warnings.warn(\n"
     ]
    },
    {
     "data": {
      "text/plain": [
       "<AxesSubplot:xlabel='birth_incorp_date'>"
      ]
     },
     "execution_count": 34,
     "metadata": {},
     "output_type": "execute_result"
    },
    {
     "data": {
      "image/png": "[encoded data removed]",
      "text/plain": [
       "<Figure size 432x288 with 1 Axes>"
      ]
     },
     "metadata": {
      "needs_background": "light"
     },
     "output_type": "display_data"
    }
   ],
   "source": [
    "sns.boxplot('birth_incorp_date',data=data)"
   ]
  },
  {
   "cell_type": "markdown",
   "id": "fa75d625",
   "metadata": {},
   "source": [
    "We will handle Outliers in 'birth_incorp_date' column by Binning."
   ]
  },
  {
   "cell_type": "code",
   "execution_count": 35,
   "id": "59728a34",
   "metadata": {},
   "outputs": [],
   "source": [
    "birth_incorp_date = data['birth_incorp_date'].values.tolist()\n",
    "\n",
    "def impute_birth_incorp_date(col):\n",
    "    birth_incorp_date = col[0]\n",
    "    if birth_incorp_date < 19:\n",
    "        return '6-18'\n",
    "    if birth_incorp_date < 31:\n",
    "        return '19-30'\n",
    "    if birth_incorp_date < 51:\n",
    "        return '31-50'\n",
    "    else:\n",
    "        return 'Over 50'"
   ]
  },
  {
   "cell_type": "code",
   "execution_count": 36,
   "id": "ea541e6b",
   "metadata": {},
   "outputs": [],
   "source": [
    "data['birth_incorp_date'] = data[['birth_incorp_date']].apply(impute_birth_incorp_date, axis = 1)"
   ]
  },
  {
   "cell_type": "code",
   "execution_count": 37,
   "id": "2bb937a3",
   "metadata": {},
   "outputs": [
    {
     "data": {
      "text/plain": [
       "31-50      26845\n",
       "19-30      25191\n",
       "Over 50     1419\n",
       "6-18        1335\n",
       "Name: birth_incorp_date, dtype: int64"
      ]
     },
     "execution_count": 37,
     "metadata": {},
     "output_type": "execute_result"
    }
   ],
   "source": [
    "data['birth_incorp_date'].value_counts()"
   ]
  },
  {
   "cell_type": "markdown",
   "id": "65b7433c",
   "metadata": {},
   "source": [
    "<h2> 2. 'max_amount_week' column"
   ]
  },
  {
   "cell_type": "code",
   "execution_count": 38,
   "id": "83f16ccf",
   "metadata": {},
   "outputs": [
    {
     "name": "stderr",
     "output_type": "stream",
     "text": [
      "C:\\Users\\user\\anaconda3\\lib\\site-packages\\seaborn\\_decorators.py:36: FutureWarning: Pass the following variable as a keyword arg: x. From version 0.12, the only valid positional argument will be `data`, and passing other arguments without an explicit keyword will result in an error or misinterpretation.\n",
      "  warnings.warn(\n"
     ]
    },
    {
     "data": {
      "text/plain": [
       "<AxesSubplot:xlabel='max_amount_week'>"
      ]
     },
     "execution_count": 38,
     "metadata": {},
     "output_type": "execute_result"
    },
    {
     "data": {
      "image/png": "[encoded data removed]",
      "text/plain": [
       "<Figure size 432x288 with 1 Axes>"
      ]
     },
     "metadata": {
      "needs_background": "light"
     },
     "output_type": "display_data"
    }
   ],
   "source": [
    "sns.boxplot('max_amount_week',data=data)"
   ]
  },
  {
   "cell_type": "markdown",
   "id": "3ebea9ed",
   "metadata": {},
   "source": [
    "We will identify Outlier in 'max_amount_week' column by IQR method."
   ]
  },
  {
   "cell_type": "code",
   "execution_count": 39,
   "id": "59732d89",
   "metadata": {},
   "outputs": [],
   "source": [
    "max_amount_week = data['max_amount_week'].values.tolist()\n",
    "Q1 = np.percentile(data[['max_amount_week']], 25, interpolation = 'midpoint')\n",
    "Q2 = np.percentile(data[['max_amount_week']], 50, interpolation = 'midpoint')\n",
    "Q3 = np.percentile(data[['max_amount_week']], 75, interpolation = 'midpoint')\n",
    "IQR = Q3 - Q1\n",
    "low_lim = Q1 - 1.5 * IQR\n",
    "up_lim = Q3 + 1.5 * IQR"
   ]
  },
  {
   "cell_type": "markdown",
   "id": "44a2fcb8",
   "metadata": {},
   "source": [
    "We will handling Outliers in this column by Capping:\n",
    "- If Outlier < low_lim, replace them by low_lim\n",
    "- If Outlier > up_lim, replace them by up_lim"
   ]
  },
  {
   "cell_type": "code",
   "execution_count": 40,
   "id": "8ad70c3c",
   "metadata": {},
   "outputs": [],
   "source": [
    "data['max_amount_week'] = np.where(data['max_amount_week'] > up_lim, up_lim, \n",
    "                               np.where(data['max_amount_week'] < low_lim, low_lim, data['max_amount_week']))"
   ]
  },
  {
   "cell_type": "code",
   "execution_count": 41,
   "id": "b80dfff8",
   "metadata": {},
   "outputs": [
    {
     "name": "stderr",
     "output_type": "stream",
     "text": [
      "C:\\Users\\user\\anaconda3\\lib\\site-packages\\seaborn\\_decorators.py:36: FutureWarning: Pass the following variable as a keyword arg: x. From version 0.12, the only valid positional argument will be `data`, and passing other arguments without an explicit keyword will result in an error or misinterpretation.\n",
      "  warnings.warn(\n"
     ]
    },
    {
     "data": {
      "text/plain": [
       "<AxesSubplot:xlabel='max_amount_week'>"
      ]
     },
     "execution_count": 41,
     "metadata": {},
     "output_type": "execute_result"
    },
    {
     "data": {
      "image/png": "[encoded data removed]",
      "text/plain": [
       "<Figure size 432x288 with 1 Axes>"
      ]
     },
     "metadata": {
      "needs_background": "light"
     },
     "output_type": "display_data"
    }
   ],
   "source": [
    "sns.boxplot('max_amount_week',data=data)"
   ]
  },
  {
   "cell_type": "markdown",
   "id": "0917ad2a",
   "metadata": {},
   "source": [
    "<h2> 3. 'min_amount_week' column"
   ]
  },
  {
   "cell_type": "code",
   "execution_count": 43,
   "id": "836c7e03",
   "metadata": {},
   "outputs": [
    {
     "name": "stderr",
     "output_type": "stream",
     "text": [
      "C:\\Users\\user\\anaconda3\\lib\\site-packages\\seaborn\\_decorators.py:36: FutureWarning: Pass the following variable as a keyword arg: x. From version 0.12, the only valid positional argument will be `data`, and passing other arguments without an explicit keyword will result in an error or misinterpretation.\n",
      "  warnings.warn(\n"
     ]
    },
    {
     "data": {
      "text/plain": [
       "<AxesSubplot:xlabel='min_amount_week'>"
      ]
     },
     "execution_count": 43,
     "metadata": {},
     "output_type": "execute_result"
    },
    {
     "data": {
      "image/png": "[encoded data removed]",
      "text/plain": [
       "<Figure size 432x288 with 1 Axes>"
      ]
     },
     "metadata": {
      "needs_background": "light"
     },
     "output_type": "display_data"
    }
   ],
   "source": [
    "sns.boxplot('min_amount_week',data=data)"
   ]
  },
  {
   "cell_type": "markdown",
   "id": "141ddaf2",
   "metadata": {},
   "source": [
    "Use IQR to identify Outliers."
   ]
  },
  {
   "cell_type": "code",
   "execution_count": 44,
   "id": "9943d1ea",
   "metadata": {},
   "outputs": [],
   "source": [
    "min_amount_week = data['min_amount_week'].values.tolist()\n",
    "Q1 = np.percentile(data[['min_amount_week']], 25, interpolation = 'midpoint')\n",
    "Q2 = np.percentile(data[['min_amount_week']], 50, interpolation = 'midpoint')\n",
    "Q3 = np.percentile(data[['min_amount_week']], 75, interpolation = 'midpoint')\n",
    "IQR = Q3 - Q1\n",
    "low_lim = Q1 - 1.5 * IQR\n",
    "up_lim = Q3 + 1.5 * IQR"
   ]
  },
  {
   "cell_type": "markdown",
   "id": "98208efc",
   "metadata": {},
   "source": [
    "Handling Outliers by Capping."
   ]
  },
  {
   "cell_type": "code",
   "execution_count": 45,
   "id": "21536d6f",
   "metadata": {},
   "outputs": [],
   "source": [
    "data['min_amount_week'] = np.where(data['min_amount_week'] > up_lim, up_lim, \n",
    "                               np.where(data['min_amount_week'] < low_lim, low_lim, data['min_amount_week']))"
   ]
  },
  {
   "cell_type": "code",
   "execution_count": 46,
   "id": "d0247c73",
   "metadata": {},
   "outputs": [
    {
     "name": "stderr",
     "output_type": "stream",
     "text": [
      "C:\\Users\\user\\anaconda3\\lib\\site-packages\\seaborn\\_decorators.py:36: FutureWarning: Pass the following variable as a keyword arg: x. From version 0.12, the only valid positional argument will be `data`, and passing other arguments without an explicit keyword will result in an error or misinterpretation.\n",
      "  warnings.warn(\n"
     ]
    },
    {
     "data": {
      "text/plain": [
       "<AxesSubplot:xlabel='min_amount_week'>"
      ]
     },
     "execution_count": 46,
     "metadata": {},
     "output_type": "execute_result"
    },
    {
     "data": {
      "image/png": "[encoded data removed]",
      "text/plain": [
       "<Figure size 432x288 with 1 Axes>"
      ]
     },
     "metadata": {
      "needs_background": "light"
     },
     "output_type": "display_data"
    }
   ],
   "source": [
    "sns.boxplot('min_amount_week',data=data)"
   ]
  },
  {
   "cell_type": "markdown",
   "id": "23c2db7a",
   "metadata": {},
   "source": [
    "<h2> 4. 'diff_amount_week' column"
   ]
  },
  {
   "cell_type": "code",
   "execution_count": 47,
   "id": "7ff4596e",
   "metadata": {},
   "outputs": [
    {
     "name": "stderr",
     "output_type": "stream",
     "text": [
      "C:\\Users\\user\\anaconda3\\lib\\site-packages\\seaborn\\_decorators.py:36: FutureWarning: Pass the following variable as a keyword arg: x. From version 0.12, the only valid positional argument will be `data`, and passing other arguments without an explicit keyword will result in an error or misinterpretation.\n",
      "  warnings.warn(\n"
     ]
    },
    {
     "data": {
      "text/plain": [
       "<AxesSubplot:xlabel='diff_amount_week'>"
      ]
     },
     "execution_count": 47,
     "metadata": {},
     "output_type": "execute_result"
    },
    {
     "data": {
      "image/png": "[encoded data removed]",
      "text/plain": [
       "<Figure size 432x288 with 1 Axes>"
      ]
     },
     "metadata": {
      "needs_background": "light"
     },
     "output_type": "display_data"
    }
   ],
   "source": [
    "sns.boxplot('diff_amount_week',data=data)"
   ]
  },
  {
   "cell_type": "markdown",
   "id": "38e0abaa",
   "metadata": {},
   "source": [
    "Use IQR method to identify Outliers."
   ]
  },
  {
   "cell_type": "code",
   "execution_count": 48,
   "id": "f5435672",
   "metadata": {},
   "outputs": [],
   "source": [
    "diff_amount_week = data['diff_amount_week'].values.tolist()\n",
    "Q1 = np.percentile(data[['diff_amount_week']], 25, interpolation = 'midpoint')\n",
    "Q2 = np.percentile(data[['diff_amount_week']], 50, interpolation = 'midpoint')\n",
    "Q3 = np.percentile(data[['diff_amount_week']], 75, interpolation = 'midpoint')\n",
    "IQR = Q3 - Q1\n",
    "low_lim = Q1 - 1.5 * IQR\n",
    "up_lim = Q3 + 1.5 * IQR"
   ]
  },
  {
   "cell_type": "markdown",
   "id": "81693ee9",
   "metadata": {},
   "source": [
    "Handling Outliers by Capping."
   ]
  },
  {
   "cell_type": "code",
   "execution_count": 50,
   "id": "67366c8e",
   "metadata": {},
   "outputs": [],
   "source": [
    "data['diff_amount_week'] = np.where(data['diff_amount_week'] > up_lim, up_lim, \n",
    "                               np.where(data['diff_amount_week'] < low_lim, low_lim, data['diff_amount_week']))"
   ]
  },
  {
   "cell_type": "code",
   "execution_count": 51,
   "id": "0a037c35",
   "metadata": {},
   "outputs": [
    {
     "name": "stderr",
     "output_type": "stream",
     "text": [
      "C:\\Users\\user\\anaconda3\\lib\\site-packages\\seaborn\\_decorators.py:36: FutureWarning: Pass the following variable as a keyword arg: x. From version 0.12, the only valid positional argument will be `data`, and passing other arguments without an explicit keyword will result in an error or misinterpretation.\n",
      "  warnings.warn(\n"
     ]
    },
    {
     "data": {
      "text/plain": [
       "<AxesSubplot:xlabel='diff_amount_week'>"
      ]
     },
     "execution_count": 51,
     "metadata": {},
     "output_type": "execute_result"
    },
    {
     "data": {
      "image/png": "[encoded data removed]",
      "text/plain": [
       "<Figure size 432x288 with 1 Axes>"
      ]
     },
     "metadata": {
      "needs_background": "light"
     },
     "output_type": "display_data"
    }
   ],
   "source": [
    "sns.boxplot('diff_amount_week',data=data)"
   ]
  },
  {
   "cell_type": "markdown",
   "id": "b2ce9397",
   "metadata": {},
   "source": [
    "<h2> 5. 'distinct_payment_code_week' column"
   ]
  },
  {
   "cell_type": "code",
   "execution_count": 52,
   "id": "09f3b3bc",
   "metadata": {},
   "outputs": [
    {
     "name": "stderr",
     "output_type": "stream",
     "text": [
      "C:\\Users\\user\\anaconda3\\lib\\site-packages\\seaborn\\_decorators.py:36: FutureWarning: Pass the following variable as a keyword arg: x. From version 0.12, the only valid positional argument will be `data`, and passing other arguments without an explicit keyword will result in an error or misinterpretation.\n",
      "  warnings.warn(\n"
     ]
    },
    {
     "data": {
      "text/plain": [
       "<AxesSubplot:xlabel='distinct_payment_code_week'>"
      ]
     },
     "execution_count": 52,
     "metadata": {},
     "output_type": "execute_result"
    },
    {
     "data": {
      "image/png": "[encoded data removed]",
      "text/plain": [
       "<Figure size 432x288 with 1 Axes>"
      ]
     },
     "metadata": {
      "needs_background": "light"
     },
     "output_type": "display_data"
    }
   ],
   "source": [
    "sns.boxplot('distinct_payment_code_week',data=data)"
   ]
  },
  {
   "cell_type": "markdown",
   "id": "c82aa0bc",
   "metadata": {},
   "source": [
    "With Outliers in 'distinct_payment_code_week' column, we will handle them by Binning."
   ]
  },
  {
   "cell_type": "code",
   "execution_count": 53,
   "id": "cfe16f33",
   "metadata": {},
   "outputs": [],
   "source": [
    "distinct_payment_code_week = data['distinct_payment_code_week'].values.tolist()\n",
    "\n",
    "def impute_distinct_payment_code_week(col):\n",
    "    distinct_payment_code_week = col[0]\n",
    "    if distinct_payment_code_week < 2:\n",
    "        return distinct_payment_code_week\n",
    "    else:\n",
    "        return 'Other'"
   ]
  },
  {
   "cell_type": "code",
   "execution_count": 54,
   "id": "6c64c3d7",
   "metadata": {},
   "outputs": [],
   "source": [
    "data['distinct_payment_code_week'] = data[['distinct_payment_code_week']].apply(impute_distinct_payment_code_week, axis = 1)"
   ]
  },
  {
   "cell_type": "code",
   "execution_count": 55,
   "id": "07a43ab2",
   "metadata": {},
   "outputs": [
    {
     "data": {
      "text/plain": [
       "0.0      37035\n",
       "1.0      16482\n",
       "Other     1273\n",
       "Name: distinct_payment_code_week, dtype: int64"
      ]
     },
     "execution_count": 55,
     "metadata": {},
     "output_type": "execute_result"
    }
   ],
   "source": [
    "data['distinct_payment_code_week'].value_counts()"
   ]
  },
  {
   "cell_type": "markdown",
   "id": "d8626fbb",
   "metadata": {},
   "source": [
    "<h2> 6. 'count_payment_code_week' column"
   ]
  },
  {
   "cell_type": "code",
   "execution_count": 57,
   "id": "670e0246",
   "metadata": {},
   "outputs": [
    {
     "data": {
      "text/plain": [
       "<AxesSubplot:ylabel='count_payment_code_week'>"
      ]
     },
     "execution_count": 57,
     "metadata": {},
     "output_type": "execute_result"
    },
    {
     "data": {
      "image/png": "[encoded data removed]",
      "text/plain": [
       "<Figure size 432x288 with 1 Axes>"
      ]
     },
     "metadata": {
      "needs_background": "light"
     },
     "output_type": "display_data"
    }
   ],
   "source": [
    "sns.boxplot(y='count_payment_code_week',data=data)"
   ]
  },
  {
   "cell_type": "markdown",
   "id": "26111082",
   "metadata": {},
   "source": [
    "Use IQR method to identify Outliers."
   ]
  },
  {
   "cell_type": "code",
   "execution_count": 58,
   "id": "3e39f720",
   "metadata": {},
   "outputs": [],
   "source": [
    "count_payment_code_week = data['count_payment_code_week'].values.tolist()\n",
    "Q1 = np.percentile(data[['count_payment_code_week']], 25, interpolation = 'midpoint')\n",
    "Q2 = np.percentile(data[['count_payment_code_week']], 50, interpolation = 'midpoint')\n",
    "Q3 = np.percentile(data[['count_payment_code_week']], 75, interpolation = 'midpoint')\n",
    "IQR = Q3 - Q1\n",
    "low_lim = Q1 - 1.5 * IQR\n",
    "up_lim = Q3 + 1.5 * IQR"
   ]
  },
  {
   "cell_type": "markdown",
   "id": "c0b2ef66",
   "metadata": {},
   "source": [
    "Handling Outliers by Capping."
   ]
  },
  {
   "cell_type": "code",
   "execution_count": 59,
   "id": "ed869999",
   "metadata": {},
   "outputs": [],
   "source": [
    "data['count_payment_code_week'] = np.where(data['count_payment_code_week'] > up_lim, up_lim, \n",
    "                               np.where(data['count_payment_code_week'] < low_lim, low_lim, data['count_payment_code_week']))"
   ]
  },
  {
   "cell_type": "code",
   "execution_count": 60,
   "id": "0934cdf7",
   "metadata": {},
   "outputs": [
    {
     "data": {
      "text/plain": [
       "<AxesSubplot:ylabel='count_payment_code_week'>"
      ]
     },
     "execution_count": 60,
     "metadata": {},
     "output_type": "execute_result"
    },
    {
     "data": {
      "image/png": "[encoded data removed]",
      "text/plain": [
       "<Figure size 432x288 with 1 Axes>"
      ]
     },
     "metadata": {
      "needs_background": "light"
     },
     "output_type": "display_data"
    }
   ],
   "source": [
    "sns.boxplot(y='count_payment_code_week',data=data)"
   ]
  },
  {
   "cell_type": "markdown",
   "id": "a59064e1",
   "metadata": {},
   "source": [
    "<h2> 7. 'distinct_trans_group_week' column\n"
   ]
  },
  {
   "cell_type": "code",
   "execution_count": 61,
   "id": "929efa28",
   "metadata": {},
   "outputs": [
    {
     "data": {
      "text/plain": [
       "<AxesSubplot:xlabel='Is_churn', ylabel='distinct_trans_group_week'>"
      ]
     },
     "execution_count": 61,
     "metadata": {},
     "output_type": "execute_result"
    },
    {
     "data": {
      "image/png": "[encoded data removed]",
      "text/plain": [
       "<Figure size 432x288 with 1 Axes>"
      ]
     },
     "metadata": {
      "needs_background": "light"
     },
     "output_type": "display_data"
    }
   ],
   "source": [
    "sns.boxplot(x = 'Is_churn', y='distinct_trans_group_week',data=data)"
   ]
  },
  {
   "cell_type": "code",
   "execution_count": 62,
   "id": "26bd7377",
   "metadata": {},
   "outputs": [
    {
     "data": {
      "text/plain": [
       "<AxesSubplot:ylabel='distinct_trans_group_week'>"
      ]
     },
     "execution_count": 62,
     "metadata": {},
     "output_type": "execute_result"
    },
    {
     "data": {
      "image/png": "[encoded data removed]",
      "text/plain": [
       "<Figure size 432x288 with 1 Axes>"
      ]
     },
     "metadata": {
      "needs_background": "light"
     },
     "output_type": "display_data"
    }
   ],
   "source": [
    "sns.boxplot(y = 'distinct_trans_group_week',data=data)"
   ]
  },
  {
   "cell_type": "markdown",
   "id": "c9673f8c",
   "metadata": {},
   "source": [
    "Handling Outliers by Binning."
   ]
  },
  {
   "cell_type": "code",
   "execution_count": 63,
   "id": "40a052ca",
   "metadata": {},
   "outputs": [],
   "source": [
    "distinct_trans_group_week = data['distinct_trans_group_week'].values.tolist()\n",
    "\n",
    "def impute_distinct_trans_group_week(col):\n",
    "    distinct_trans_group_week = col[0]\n",
    "    if distinct_trans_group_week < 3:\n",
    "        return distinct_trans_group_week\n",
    "    else:\n",
    "        return 'Other'"
   ]
  },
  {
   "cell_type": "code",
   "execution_count": 64,
   "id": "0f323e7f",
   "metadata": {},
   "outputs": [],
   "source": [
    "data['distinct_trans_group_week'] = data[['distinct_trans_group_week']].apply(impute_distinct_trans_group_week, axis = 1)"
   ]
  },
  {
   "cell_type": "code",
   "execution_count": 65,
   "id": "73cab467",
   "metadata": {},
   "outputs": [
    {
     "data": {
      "text/plain": [
       "1.0      32842\n",
       "2.0      17100\n",
       "Other     4848\n",
       "Name: distinct_trans_group_week, dtype: int64"
      ]
     },
     "execution_count": 65,
     "metadata": {},
     "output_type": "execute_result"
    }
   ],
   "source": [
    "data['distinct_trans_group_week'].value_counts()"
   ]
  },
  {
   "cell_type": "markdown",
   "id": "dadfdb34",
   "metadata": {},
   "source": [
    "<h2> 8. 'distinct_ref_no_week' column"
   ]
  },
  {
   "cell_type": "code",
   "execution_count": 66,
   "id": "b0e4b577",
   "metadata": {},
   "outputs": [
    {
     "name": "stderr",
     "output_type": "stream",
     "text": [
      "C:\\Users\\user\\anaconda3\\lib\\site-packages\\seaborn\\_decorators.py:36: FutureWarning: Pass the following variable as a keyword arg: x. From version 0.12, the only valid positional argument will be `data`, and passing other arguments without an explicit keyword will result in an error or misinterpretation.\n",
      "  warnings.warn(\n"
     ]
    },
    {
     "data": {
      "text/plain": [
       "<AxesSubplot:xlabel='distinct_ref_no_week'>"
      ]
     },
     "execution_count": 66,
     "metadata": {},
     "output_type": "execute_result"
    },
    {
     "data": {
      "image/png": "[encoded data removed]",
      "text/plain": [
       "<Figure size 432x288 with 1 Axes>"
      ]
     },
     "metadata": {
      "needs_background": "light"
     },
     "output_type": "display_data"
    }
   ],
   "source": [
    "sns.boxplot('distinct_ref_no_week',data=data)"
   ]
  },
  {
   "cell_type": "code",
   "execution_count": 67,
   "id": "4ac72d42",
   "metadata": {},
   "outputs": [],
   "source": [
    "distinct_ref_no_week = data['distinct_ref_no_week'].values.tolist()\n",
    "Q1 = np.percentile(data[['distinct_ref_no_week']], 25, interpolation = 'midpoint')\n",
    "Q2 = np.percentile(data[['distinct_ref_no_week']], 50, interpolation = 'midpoint')\n",
    "Q3 = np.percentile(data[['distinct_ref_no_week']], 75, interpolation = 'midpoint')\n",
    "IQR = Q3 - Q1\n",
    "low_lim = Q1 - 1.5 * IQR\n",
    "up_lim = Q3 + 1.5 * IQR"
   ]
  },
  {
   "cell_type": "code",
   "execution_count": 68,
   "id": "1b4d1fde",
   "metadata": {},
   "outputs": [],
   "source": [
    "data['distinct_ref_no_week'] = np.where(data['distinct_ref_no_week'] > up_lim, up_lim, \n",
    "                               np.where(data['distinct_ref_no_week'] < low_lim, low_lim, data['distinct_ref_no_week']))"
   ]
  },
  {
   "cell_type": "code",
   "execution_count": 69,
   "id": "1768d29b",
   "metadata": {},
   "outputs": [
    {
     "name": "stderr",
     "output_type": "stream",
     "text": [
      "C:\\Users\\user\\anaconda3\\lib\\site-packages\\seaborn\\_decorators.py:36: FutureWarning: Pass the following variable as a keyword arg: x. From version 0.12, the only valid positional argument will be `data`, and passing other arguments without an explicit keyword will result in an error or misinterpretation.\n",
      "  warnings.warn(\n"
     ]
    },
    {
     "data": {
      "text/plain": [
       "<AxesSubplot:xlabel='distinct_ref_no_week'>"
      ]
     },
     "execution_count": 69,
     "metadata": {},
     "output_type": "execute_result"
    },
    {
     "data": {
      "image/png": "[encoded data removed]",
      "text/plain": [
       "<Figure size 432x288 with 1 Axes>"
      ]
     },
     "metadata": {
      "needs_background": "light"
     },
     "output_type": "display_data"
    }
   ],
   "source": [
    "sns.boxplot('distinct_ref_no_week',data=data)"
   ]
  },
  {
   "cell_type": "markdown",
   "id": "7fd28e43",
   "metadata": {},
   "source": [
    "<h2> 9. 'amount_month' column"
   ]
  },
  {
   "cell_type": "code",
   "execution_count": 70,
   "id": "747e149e",
   "metadata": {},
   "outputs": [
    {
     "name": "stderr",
     "output_type": "stream",
     "text": [
      "C:\\Users\\user\\anaconda3\\lib\\site-packages\\seaborn\\distributions.py:2619: FutureWarning: `distplot` is a deprecated function and will be removed in a future version. Please adapt your code to use either `displot` (a figure-level function with similar flexibility) or `kdeplot` (an axes-level function for kernel density plots).\n",
      "  warnings.warn(msg, FutureWarning)\n"
     ]
    },
    {
     "data": {
      "text/plain": [
       "<AxesSubplot:xlabel='amount_month', ylabel='Density'>"
      ]
     },
     "execution_count": 70,
     "metadata": {},
     "output_type": "execute_result"
    },
    {
     "data": {
      "image/png": "[encoded data removed]",
      "text/plain": [
       "<Figure size 432x288 with 1 Axes>"
      ]
     },
     "metadata": {
      "needs_background": "light"
     },
     "output_type": "display_data"
    }
   ],
   "source": [
    "sns.distplot(data['amount_month'], hist = False, color = 'b')"
   ]
  },
  {
   "cell_type": "code",
   "execution_count": 71,
   "id": "f0b12f4d",
   "metadata": {},
   "outputs": [
    {
     "name": "stderr",
     "output_type": "stream",
     "text": [
      "C:\\Users\\user\\anaconda3\\lib\\site-packages\\seaborn\\_decorators.py:36: FutureWarning: Pass the following variable as a keyword arg: x. From version 0.12, the only valid positional argument will be `data`, and passing other arguments without an explicit keyword will result in an error or misinterpretation.\n",
      "  warnings.warn(\n"
     ]
    },
    {
     "data": {
      "text/plain": [
       "<AxesSubplot:xlabel='amount_month'>"
      ]
     },
     "execution_count": 71,
     "metadata": {},
     "output_type": "execute_result"
    },
    {
     "data": {
      "image/png": "[encoded data removed]",
      "text/plain": [
       "<Figure size 432x288 with 1 Axes>"
      ]
     },
     "metadata": {
      "needs_background": "light"
     },
     "output_type": "display_data"
    }
   ],
   "source": [
    "sns.boxplot('amount_month',data=data)"
   ]
  },
  {
   "cell_type": "markdown",
   "id": "343b6ca8",
   "metadata": {},
   "source": [
    "Use IQR to identify Outliers."
   ]
  },
  {
   "cell_type": "code",
   "execution_count": 72,
   "id": "6942503d",
   "metadata": {},
   "outputs": [],
   "source": [
    "amount_month = data['amount_month'].values.tolist()\n",
    "Q1 = np.percentile(data[['amount_month']], 25, interpolation = 'midpoint')\n",
    "Q2 = np.percentile(data[['amount_month']], 50, interpolation = 'midpoint')\n",
    "Q3 = np.percentile(data[['amount_month']], 75, interpolation = 'midpoint')\n",
    "IQR = Q3 - Q1\n",
    "low_lim = Q1 - 1.5 * IQR\n",
    "up_lim = Q3 + 1.5 * IQR"
   ]
  },
  {
   "cell_type": "markdown",
   "id": "388eaace",
   "metadata": {},
   "source": [
    "Handling Outliers by Capping."
   ]
  },
  {
   "cell_type": "code",
   "execution_count": 73,
   "id": "b19632d3",
   "metadata": {},
   "outputs": [],
   "source": [
    "data['amount_month'] = np.where(data['amount_month'] > up_lim, up_lim, \n",
    "                               np.where(data['amount_month'] < low_lim, low_lim, data['amount_month']))"
   ]
  },
  {
   "cell_type": "code",
   "execution_count": 74,
   "id": "9d94fe64",
   "metadata": {},
   "outputs": [
    {
     "name": "stderr",
     "output_type": "stream",
     "text": [
      "C:\\Users\\user\\anaconda3\\lib\\site-packages\\seaborn\\_decorators.py:36: FutureWarning: Pass the following variable as a keyword arg: x. From version 0.12, the only valid positional argument will be `data`, and passing other arguments without an explicit keyword will result in an error or misinterpretation.\n",
      "  warnings.warn(\n"
     ]
    },
    {
     "data": {
      "text/plain": [
       "<AxesSubplot:xlabel='amount_month'>"
      ]
     },
     "execution_count": 74,
     "metadata": {},
     "output_type": "execute_result"
    },
    {
     "data": {
      "image/png": "[encoded data removed]",
      "text/plain": [
       "<Figure size 432x288 with 1 Axes>"
      ]
     },
     "metadata": {
      "needs_background": "light"
     },
     "output_type": "display_data"
    }
   ],
   "source": [
    "sns.boxplot('amount_month',data=data)"
   ]
  },
  {
   "cell_type": "markdown",
   "id": "6388d9d1",
   "metadata": {},
   "source": [
    "<h2> 10. 'max_amount_month' column"
   ]
  },
  {
   "cell_type": "code",
   "execution_count": 75,
   "id": "97a1648e",
   "metadata": {},
   "outputs": [
    {
     "name": "stderr",
     "output_type": "stream",
     "text": [
      "C:\\Users\\user\\anaconda3\\lib\\site-packages\\seaborn\\_decorators.py:36: FutureWarning: Pass the following variable as a keyword arg: x. From version 0.12, the only valid positional argument will be `data`, and passing other arguments without an explicit keyword will result in an error or misinterpretation.\n",
      "  warnings.warn(\n"
     ]
    },
    {
     "data": {
      "text/plain": [
       "<AxesSubplot:xlabel='max_amount_month'>"
      ]
     },
     "execution_count": 75,
     "metadata": {},
     "output_type": "execute_result"
    },
    {
     "data": {
      "image/png": "[encoded data removed]",
      "text/plain": [
       "<Figure size 432x288 with 1 Axes>"
      ]
     },
     "metadata": {
      "needs_background": "light"
     },
     "output_type": "display_data"
    }
   ],
   "source": [
    "sns.boxplot('max_amount_month',data=data)"
   ]
  },
  {
   "cell_type": "markdown",
   "id": "f9eb55d1",
   "metadata": {},
   "source": [
    "Use IQR method to identify Outliers."
   ]
  },
  {
   "cell_type": "code",
   "execution_count": 77,
   "id": "b444dfaf",
   "metadata": {},
   "outputs": [],
   "source": [
    "max_amount_month = data['max_amount_month'].values.tolist()\n",
    "Q1 = np.percentile(data[['max_amount_month']], 25, interpolation = 'midpoint')\n",
    "Q2 = np.percentile(data[['max_amount_month']], 50, interpolation = 'midpoint')\n",
    "Q3 = np.percentile(data[['max_amount_month']], 75, interpolation = 'midpoint')\n",
    "IQR = Q3 - Q1\n",
    "low_lim = Q1 - 1.5 * IQR\n",
    "up_lim = Q3 + 1.5 * IQR"
   ]
  },
  {
   "cell_type": "markdown",
   "id": "d116ed7c",
   "metadata": {},
   "source": [
    "Handling Outliers by Capping."
   ]
  },
  {
   "cell_type": "code",
   "execution_count": 79,
   "id": "b425bf54",
   "metadata": {},
   "outputs": [],
   "source": [
    "data['max_amount_month'] = np.where(data['max_amount_month'] > up_lim, up_lim, \n",
    "                               np.where(data['max_amount_month'] < low_lim, low_lim, data['max_amount_month']))"
   ]
  },
  {
   "cell_type": "code",
   "execution_count": 80,
   "id": "98d3fd92",
   "metadata": {},
   "outputs": [
    {
     "name": "stderr",
     "output_type": "stream",
     "text": [
      "C:\\Users\\user\\anaconda3\\lib\\site-packages\\seaborn\\_decorators.py:36: FutureWarning: Pass the following variable as a keyword arg: x. From version 0.12, the only valid positional argument will be `data`, and passing other arguments without an explicit keyword will result in an error or misinterpretation.\n",
      "  warnings.warn(\n"
     ]
    },
    {
     "data": {
      "text/plain": [
       "<AxesSubplot:xlabel='max_amount_month'>"
      ]
     },
     "execution_count": 80,
     "metadata": {},
     "output_type": "execute_result"
    },
    {
     "data": {
      "image/png": "[encoded data removed]",
      "text/plain": [
       "<Figure size 432x288 with 1 Axes>"
      ]
     },
     "metadata": {
      "needs_background": "light"
     },
     "output_type": "display_data"
    }
   ],
   "source": [
    "sns.boxplot('max_amount_month',data=data)"
   ]
  },
  {
   "cell_type": "markdown",
   "id": "fdb29773",
   "metadata": {},
   "source": [
    "<h2> 11. 'min_amount_month' column"
   ]
  },
  {
   "cell_type": "code",
   "execution_count": 81,
   "id": "e2ab760c",
   "metadata": {},
   "outputs": [
    {
     "name": "stderr",
     "output_type": "stream",
     "text": [
      "C:\\Users\\user\\anaconda3\\lib\\site-packages\\seaborn\\_decorators.py:36: FutureWarning: Pass the following variable as a keyword arg: x. From version 0.12, the only valid positional argument will be `data`, and passing other arguments without an explicit keyword will result in an error or misinterpretation.\n",
      "  warnings.warn(\n"
     ]
    },
    {
     "data": {
      "text/plain": [
       "<AxesSubplot:xlabel='min_amount_month'>"
      ]
     },
     "execution_count": 81,
     "metadata": {},
     "output_type": "execute_result"
    },
    {
     "data": {
      "image/png": "[encoded data removed]",
      "text/plain": [
       "<Figure size 432x288 with 1 Axes>"
      ]
     },
     "metadata": {
      "needs_background": "light"
     },
     "output_type": "display_data"
    }
   ],
   "source": [
    "sns.boxplot('min_amount_month',data=data)"
   ]
  },
  {
   "cell_type": "code",
   "execution_count": 82,
   "id": "4a674bf9",
   "metadata": {},
   "outputs": [],
   "source": [
    "min_amount_month = data['min_amount_month'].values.tolist()\n",
    "Q1 = np.percentile(data[['min_amount_month']], 25, interpolation = 'midpoint')\n",
    "Q2 = np.percentile(data[['min_amount_month']], 50, interpolation = 'midpoint')\n",
    "Q3 = np.percentile(data[['min_amount_month']], 75, interpolation = 'midpoint')\n",
    "IQR = Q3 - Q1\n",
    "low_lim = Q1 - 1.5 * IQR\n",
    "up_lim = Q3 + 1.5 * IQR"
   ]
  },
  {
   "cell_type": "code",
   "execution_count": 83,
   "id": "051c1ac2",
   "metadata": {},
   "outputs": [],
   "source": [
    "data['min_amount_month'] = np.where(data['min_amount_month'] > up_lim, up_lim, \n",
    "                               np.where(data['min_amount_month'] < low_lim, low_lim, data['min_amount_month']))"
   ]
  },
  {
   "cell_type": "code",
   "execution_count": 84,
   "id": "4217c3fb",
   "metadata": {},
   "outputs": [
    {
     "name": "stderr",
     "output_type": "stream",
     "text": [
      "C:\\Users\\user\\anaconda3\\lib\\site-packages\\seaborn\\_decorators.py:36: FutureWarning: Pass the following variable as a keyword arg: x. From version 0.12, the only valid positional argument will be `data`, and passing other arguments without an explicit keyword will result in an error or misinterpretation.\n",
      "  warnings.warn(\n"
     ]
    },
    {
     "data": {
      "text/plain": [
       "<AxesSubplot:xlabel='min_amount_month'>"
      ]
     },
     "execution_count": 84,
     "metadata": {},
     "output_type": "execute_result"
    },
    {
     "data": {
      "image/png": "[encoded data removed]",
      "text/plain": [
       "<Figure size 432x288 with 1 Axes>"
      ]
     },
     "metadata": {
      "needs_background": "light"
     },
     "output_type": "display_data"
    }
   ],
   "source": [
    "sns.boxplot('min_amount_month',data=data)"
   ]
  },
  {
   "cell_type": "markdown",
   "id": "84a576e5",
   "metadata": {},
   "source": [
    "<h2> 12. 'diff_amount_month' column"
   ]
  },
  {
   "cell_type": "code",
   "execution_count": 85,
   "id": "a306b059",
   "metadata": {},
   "outputs": [
    {
     "name": "stderr",
     "output_type": "stream",
     "text": [
      "C:\\Users\\user\\anaconda3\\lib\\site-packages\\seaborn\\_decorators.py:36: FutureWarning: Pass the following variable as a keyword arg: x. From version 0.12, the only valid positional argument will be `data`, and passing other arguments without an explicit keyword will result in an error or misinterpretation.\n",
      "  warnings.warn(\n"
     ]
    },
    {
     "data": {
      "text/plain": [
       "<AxesSubplot:xlabel='diff_amount_month'>"
      ]
     },
     "execution_count": 85,
     "metadata": {},
     "output_type": "execute_result"
    },
    {
     "data": {
      "image/png": "[encoded data removed]",
      "text/plain": [
       "<Figure size 432x288 with 1 Axes>"
      ]
     },
     "metadata": {
      "needs_background": "light"
     },
     "output_type": "display_data"
    }
   ],
   "source": [
    "sns.boxplot('diff_amount_month',data=data)"
   ]
  },
  {
   "cell_type": "code",
   "execution_count": 86,
   "id": "410c6f32",
   "metadata": {},
   "outputs": [],
   "source": [
    "diff_amount_month = data['diff_amount_month'].values.tolist()\n",
    "Q1 = np.percentile(data[['diff_amount_month']], 25, interpolation = 'midpoint')\n",
    "Q2 = np.percentile(data[['diff_amount_month']], 50, interpolation = 'midpoint')\n",
    "Q3 = np.percentile(data[['diff_amount_month']], 75, interpolation = 'midpoint')\n",
    "IQR = Q3 - Q1\n",
    "low_lim = Q1 - 1.5 * IQR\n",
    "up_lim = Q3 + 1.5 * IQR"
   ]
  },
  {
   "cell_type": "code",
   "execution_count": 87,
   "id": "ebb4e47a",
   "metadata": {},
   "outputs": [],
   "source": [
    "data['diff_amount_month'] = np.where(data['diff_amount_month'] > up_lim, up_lim, \n",
    "                               np.where(data['diff_amount_month'] < low_lim, low_lim, data['diff_amount_month']))"
   ]
  },
  {
   "cell_type": "code",
   "execution_count": 88,
   "id": "6d2203b1",
   "metadata": {},
   "outputs": [
    {
     "name": "stderr",
     "output_type": "stream",
     "text": [
      "C:\\Users\\user\\anaconda3\\lib\\site-packages\\seaborn\\_decorators.py:36: FutureWarning: Pass the following variable as a keyword arg: x. From version 0.12, the only valid positional argument will be `data`, and passing other arguments without an explicit keyword will result in an error or misinterpretation.\n",
      "  warnings.warn(\n"
     ]
    },
    {
     "data": {
      "text/plain": [
       "<AxesSubplot:xlabel='diff_amount_month'>"
      ]
     },
     "execution_count": 88,
     "metadata": {},
     "output_type": "execute_result"
    },
    {
     "data": {
      "image/png": "[encoded data removed]",
      "text/plain": [
       "<Figure size 432x288 with 1 Axes>"
      ]
     },
     "metadata": {
      "needs_background": "light"
     },
     "output_type": "display_data"
    }
   ],
   "source": [
    "sns.boxplot('diff_amount_month',data=data)"
   ]
  },
  {
   "cell_type": "markdown",
   "id": "2e4baece",
   "metadata": {},
   "source": [
    "<h2> 13. 'distinct_payment_code_month' column"
   ]
  },
  {
   "cell_type": "code",
   "execution_count": 89,
   "id": "81cef988",
   "metadata": {},
   "outputs": [
    {
     "data": {
      "text/plain": [
       "<AxesSubplot:ylabel='distinct_payment_code_month'>"
      ]
     },
     "execution_count": 89,
     "metadata": {},
     "output_type": "execute_result"
    },
    {
     "data": {
      "image/png": "[encoded data removed]",
      "text/plain": [
       "<Figure size 432x288 with 1 Axes>"
      ]
     },
     "metadata": {
      "needs_background": "light"
     },
     "output_type": "display_data"
    }
   ],
   "source": [
    "sns.boxplot(y='distinct_payment_code_month',data=data)"
   ]
  },
  {
   "cell_type": "code",
   "execution_count": 90,
   "id": "16ca6732",
   "metadata": {},
   "outputs": [],
   "source": [
    "distinct_payment_code_month = data['distinct_payment_code_month'].values.tolist()\n",
    "\n",
    "def impute_distinct_payment_code_month(col):\n",
    "    distinct_payment_code_month = col[0]\n",
    "    if distinct_payment_code_month < 3:\n",
    "        return distinct_payment_code_month\n",
    "    else:\n",
    "        return 'Other'"
   ]
  },
  {
   "cell_type": "code",
   "execution_count": 91,
   "id": "5092aa04",
   "metadata": {},
   "outputs": [],
   "source": [
    "data['distinct_payment_code_month'] = data[['distinct_payment_code_month']].apply(impute_distinct_payment_code_month, axis = 1)"
   ]
  },
  {
   "cell_type": "code",
   "execution_count": 92,
   "id": "8eea09cf",
   "metadata": {},
   "outputs": [
    {
     "data": {
      "text/plain": [
       "1.0      24868\n",
       "0.0      19940\n",
       "2.0       6479\n",
       "Other     3503\n",
       "Name: distinct_payment_code_month, dtype: int64"
      ]
     },
     "execution_count": 92,
     "metadata": {},
     "output_type": "execute_result"
    }
   ],
   "source": [
    "data['distinct_payment_code_month'].value_counts()"
   ]
  },
  {
   "cell_type": "markdown",
   "id": "8462ecbd",
   "metadata": {},
   "source": [
    "<h2> 14. 'count_payment_code_month' column"
   ]
  },
  {
   "cell_type": "code",
   "execution_count": 93,
   "id": "7cf78256",
   "metadata": {},
   "outputs": [
    {
     "data": {
      "text/plain": [
       "<AxesSubplot:ylabel='count_payment_code_month'>"
      ]
     },
     "execution_count": 93,
     "metadata": {},
     "output_type": "execute_result"
    },
    {
     "data": {
      "image/png": "[encoded data removed]",
      "text/plain": [
       "<Figure size 432x288 with 1 Axes>"
      ]
     },
     "metadata": {
      "needs_background": "light"
     },
     "output_type": "display_data"
    }
   ],
   "source": [
    "sns.boxplot(y='count_payment_code_month',data=data)"
   ]
  },
  {
   "cell_type": "code",
   "execution_count": 94,
   "id": "3e64bde2",
   "metadata": {},
   "outputs": [],
   "source": [
    "count_payment_code_month = data['count_payment_code_month'].values.tolist()\n",
    "Q1 = np.percentile(data[['count_payment_code_month']], 25, interpolation = 'midpoint')\n",
    "Q2 = np.percentile(data[['count_payment_code_month']], 50, interpolation = 'midpoint')\n",
    "Q3 = np.percentile(data[['count_payment_code_month']], 75, interpolation = 'midpoint')\n",
    "IQR = Q3 - Q1\n",
    "low_lim = Q1 - 1.5 * IQR\n",
    "up_lim = Q3 + 1.5 * IQR"
   ]
  },
  {
   "cell_type": "code",
   "execution_count": 95,
   "id": "9f5e2e1a",
   "metadata": {},
   "outputs": [],
   "source": [
    "data['count_payment_code_month'] = np.where(data['count_payment_code_month'] > up_lim, up_lim, \n",
    "                               np.where(data['count_payment_code_month'] < low_lim, low_lim, data['count_payment_code_month']))"
   ]
  },
  {
   "cell_type": "code",
   "execution_count": 96,
   "id": "380c0a96",
   "metadata": {},
   "outputs": [
    {
     "data": {
      "text/plain": [
       "<AxesSubplot:ylabel='count_payment_code_month'>"
      ]
     },
     "execution_count": 96,
     "metadata": {},
     "output_type": "execute_result"
    },
    {
     "data": {
      "image/png": "[encoded data removed]",
      "text/plain": [
       "<Figure size 432x288 with 1 Axes>"
      ]
     },
     "metadata": {
      "needs_background": "light"
     },
     "output_type": "display_data"
    }
   ],
   "source": [
    "sns.boxplot(y='count_payment_code_month',data=data)"
   ]
  },
  {
   "cell_type": "markdown",
   "id": "7acfc740",
   "metadata": {},
   "source": [
    "<h2> 15. 'distinct_trans_group_month' column"
   ]
  },
  {
   "cell_type": "code",
   "execution_count": 97,
   "id": "328f4f7a",
   "metadata": {},
   "outputs": [
    {
     "data": {
      "text/plain": [
       "<AxesSubplot:ylabel='distinct_trans_group_month'>"
      ]
     },
     "execution_count": 97,
     "metadata": {},
     "output_type": "execute_result"
    },
    {
     "data": {
      "image/png": "[encoded data removed]",
      "text/plain": [
       "<Figure size 432x288 with 1 Axes>"
      ]
     },
     "metadata": {
      "needs_background": "light"
     },
     "output_type": "display_data"
    }
   ],
   "source": [
    "sns.boxplot(y='distinct_trans_group_month',data=data)"
   ]
  },
  {
   "cell_type": "code",
   "execution_count": 98,
   "id": "d122b405",
   "metadata": {},
   "outputs": [],
   "source": [
    "distinct_trans_group_month = data['distinct_trans_group_month'].values.tolist()\n",
    "\n",
    "def impute_distinct_trans_group_month(col):\n",
    "    distinct_trans_group_month = col[0]\n",
    "    if distinct_trans_group_month < 4:\n",
    "        return distinct_trans_group_month\n",
    "    else:\n",
    "        return 'Other'"
   ]
  },
  {
   "cell_type": "code",
   "execution_count": 99,
   "id": "8b443fa4",
   "metadata": {},
   "outputs": [],
   "source": [
    "data['distinct_trans_group_month'] = data[['distinct_trans_group_month']].apply(impute_distinct_trans_group_month, axis = 1)"
   ]
  },
  {
   "cell_type": "code",
   "execution_count": 100,
   "id": "b2dfea1e",
   "metadata": {},
   "outputs": [
    {
     "data": {
      "text/plain": [
       "2.0      24747\n",
       "3.0      12473\n",
       "1.0      11569\n",
       "Other     6001\n",
       "Name: distinct_trans_group_month, dtype: int64"
      ]
     },
     "execution_count": 100,
     "metadata": {},
     "output_type": "execute_result"
    }
   ],
   "source": [
    "data['distinct_trans_group_month'].value_counts()"
   ]
  },
  {
   "cell_type": "markdown",
   "id": "7a05f3c5",
   "metadata": {},
   "source": [
    "<h2> 16. 'distinct_ref_no_month' column"
   ]
  },
  {
   "cell_type": "code",
   "execution_count": 101,
   "id": "25db071a",
   "metadata": {},
   "outputs": [
    {
     "data": {
      "text/plain": [
       "<AxesSubplot:ylabel='distinct_ref_no_month'>"
      ]
     },
     "execution_count": 101,
     "metadata": {},
     "output_type": "execute_result"
    },
    {
     "data": {
      "image/png": "[encoded data removed]",
      "text/plain": [
       "<Figure size 432x288 with 1 Axes>"
      ]
     },
     "metadata": {
      "needs_background": "light"
     },
     "output_type": "display_data"
    }
   ],
   "source": [
    "sns.boxplot(y = 'distinct_ref_no_month',data=data)"
   ]
  },
  {
   "cell_type": "code",
   "execution_count": 102,
   "id": "28a9b24f",
   "metadata": {},
   "outputs": [],
   "source": [
    "distinct_ref_no_month = data['distinct_ref_no_month'].values.tolist()\n",
    "Q1 = np.percentile(data[['distinct_ref_no_month']], 25, interpolation = 'midpoint')\n",
    "Q2 = np.percentile(data[['distinct_ref_no_month']], 50, interpolation = 'midpoint')\n",
    "Q3 = np.percentile(data[['distinct_ref_no_month']], 75, interpolation = 'midpoint')\n",
    "IQR = Q3 - Q1\n",
    "low_lim = Q1 - 1.5 * IQR\n",
    "up_lim = Q3 + 1.5 * IQR"
   ]
  },
  {
   "cell_type": "code",
   "execution_count": 103,
   "id": "7f65df5d",
   "metadata": {},
   "outputs": [],
   "source": [
    "data['distinct_ref_no_month'] = np.where(data['distinct_ref_no_month'] > up_lim, up_lim, \n",
    "                               np.where(data['distinct_ref_no_month'] < low_lim, low_lim, data['distinct_ref_no_month']))"
   ]
  },
  {
   "cell_type": "code",
   "execution_count": 104,
   "id": "0fdd7383",
   "metadata": {},
   "outputs": [
    {
     "data": {
      "text/plain": [
       "<AxesSubplot:ylabel='distinct_ref_no_month'>"
      ]
     },
     "execution_count": 104,
     "metadata": {},
     "output_type": "execute_result"
    },
    {
     "data": {
      "image/png": "[encoded data removed]",
      "text/plain": [
       "<Figure size 432x288 with 1 Axes>"
      ]
     },
     "metadata": {
      "needs_background": "light"
     },
     "output_type": "display_data"
    }
   ],
   "source": [
    "sns.boxplot(y = 'distinct_ref_no_month',data=data)"
   ]
  },
  {
   "cell_type": "markdown",
   "id": "427002d3",
   "metadata": {},
   "source": [
    "<h2> 17. 'amount_3month' column"
   ]
  },
  {
   "cell_type": "code",
   "execution_count": 105,
   "id": "3244701d",
   "metadata": {},
   "outputs": [
    {
     "name": "stderr",
     "output_type": "stream",
     "text": [
      "C:\\Users\\user\\anaconda3\\lib\\site-packages\\seaborn\\distributions.py:2619: FutureWarning: `distplot` is a deprecated function and will be removed in a future version. Please adapt your code to use either `displot` (a figure-level function with similar flexibility) or `kdeplot` (an axes-level function for kernel density plots).\n",
      "  warnings.warn(msg, FutureWarning)\n"
     ]
    },
    {
     "data": {
      "text/plain": [
       "<AxesSubplot:xlabel='amount_3month', ylabel='Density'>"
      ]
     },
     "execution_count": 105,
     "metadata": {},
     "output_type": "execute_result"
    },
    {
     "data": {
      "image/png": "[encoded data removed]",
      "text/plain": [
       "<Figure size 432x288 with 1 Axes>"
      ]
     },
     "metadata": {
      "needs_background": "light"
     },
     "output_type": "display_data"
    }
   ],
   "source": [
    "sns.distplot(data['amount_3month'], hist = False, color = 'b')"
   ]
  },
  {
   "cell_type": "code",
   "execution_count": 106,
   "id": "82b40fe9",
   "metadata": {},
   "outputs": [
    {
     "data": {
      "text/plain": [
       "<AxesSubplot:ylabel='amount_3month'>"
      ]
     },
     "execution_count": 106,
     "metadata": {},
     "output_type": "execute_result"
    },
    {
     "data": {
      "image/png": "[encoded data removed]",
      "text/plain": [
       "<Figure size 432x288 with 1 Axes>"
      ]
     },
     "metadata": {
      "needs_background": "light"
     },
     "output_type": "display_data"
    }
   ],
   "source": [
    "sns.boxplot(y = 'amount_3month',data=data)"
   ]
  },
  {
   "cell_type": "code",
   "execution_count": 107,
   "id": "afb9eb37",
   "metadata": {},
   "outputs": [],
   "source": [
    "amount_3month = data['amount_3month'].values.tolist()\n",
    "Q1 = np.percentile(data[['amount_3month']], 25, interpolation = 'midpoint')\n",
    "Q2 = np.percentile(data[['amount_3month']], 50, interpolation = 'midpoint')\n",
    "Q3 = np.percentile(data[['amount_3month']], 75, interpolation = 'midpoint')\n",
    "IQR = Q3 - Q1\n",
    "low_lim = Q1 - 1.5 * IQR\n",
    "up_lim = Q3 + 1.5 * IQR"
   ]
  },
  {
   "cell_type": "code",
   "execution_count": 108,
   "id": "b6b9a7df",
   "metadata": {},
   "outputs": [],
   "source": [
    "data['amount_3month'] = np.where(data['amount_3month'] > up_lim, up_lim, \n",
    "                               np.where(data['amount_3month'] < low_lim, low_lim, data['amount_3month']))"
   ]
  },
  {
   "cell_type": "code",
   "execution_count": 109,
   "id": "5708ecc2",
   "metadata": {},
   "outputs": [
    {
     "data": {
      "text/plain": [
       "<AxesSubplot:ylabel='amount_3month'>"
      ]
     },
     "execution_count": 109,
     "metadata": {},
     "output_type": "execute_result"
    },
    {
     "data": {
      "image/png": "[encoded data removed]",
      "text/plain": [
       "<Figure size 432x288 with 1 Axes>"
      ]
     },
     "metadata": {
      "needs_background": "light"
     },
     "output_type": "display_data"
    }
   ],
   "source": [
    "sns.boxplot(y = 'amount_3month',data=data)"
   ]
  },
  {
   "cell_type": "markdown",
   "id": "8e4a1057",
   "metadata": {},
   "source": [
    "<h2> 18. 'max_amount_3month' column"
   ]
  },
  {
   "cell_type": "code",
   "execution_count": 111,
   "id": "f1510ac0",
   "metadata": {},
   "outputs": [
    {
     "data": {
      "text/plain": [
       "<AxesSubplot:ylabel='max_amount_3month'>"
      ]
     },
     "execution_count": 111,
     "metadata": {},
     "output_type": "execute_result"
    },
    {
     "data": {
      "image/png": "[encoded data removed]",
      "text/plain": [
       "<Figure size 432x288 with 1 Axes>"
      ]
     },
     "metadata": {
      "needs_background": "light"
     },
     "output_type": "display_data"
    }
   ],
   "source": [
    "sns.boxplot(y = 'max_amount_3month',data=data)"
   ]
  },
  {
   "cell_type": "code",
   "execution_count": 112,
   "id": "a4aed3dc",
   "metadata": {},
   "outputs": [],
   "source": [
    "max_amount_3month = data['max_amount_3month'].values.tolist()\n",
    "Q1 = np.percentile(data[['max_amount_3month']], 25, interpolation = 'midpoint')\n",
    "Q2 = np.percentile(data[['max_amount_3month']], 50, interpolation = 'midpoint')\n",
    "Q3 = np.percentile(data[['max_amount_3month']], 75, interpolation = 'midpoint')\n",
    "IQR = Q3 - Q1\n",
    "low_lim = Q1 - 1.5 * IQR\n",
    "up_lim = Q3 + 1.5 * IQR"
   ]
  },
  {
   "cell_type": "code",
   "execution_count": 113,
   "id": "8caf7136",
   "metadata": {},
   "outputs": [],
   "source": [
    "data['max_amount_3month'] = np.where(data['max_amount_3month'] > up_lim, up_lim, \n",
    "                               np.where(data['max_amount_3month'] < low_lim, low_lim, data['max_amount_3month']))"
   ]
  },
  {
   "cell_type": "code",
   "execution_count": 114,
   "id": "56b4cac2",
   "metadata": {},
   "outputs": [
    {
     "name": "stderr",
     "output_type": "stream",
     "text": [
      "C:\\Users\\user\\anaconda3\\lib\\site-packages\\seaborn\\_decorators.py:36: FutureWarning: Pass the following variable as a keyword arg: x. From version 0.12, the only valid positional argument will be `data`, and passing other arguments without an explicit keyword will result in an error or misinterpretation.\n",
      "  warnings.warn(\n"
     ]
    },
    {
     "data": {
      "text/plain": [
       "<AxesSubplot:xlabel='max_amount_3month'>"
      ]
     },
     "execution_count": 114,
     "metadata": {},
     "output_type": "execute_result"
    },
    {
     "data": {
      "image/png": "[encoded data removed]",
      "text/plain": [
       "<Figure size 432x288 with 1 Axes>"
      ]
     },
     "metadata": {
      "needs_background": "light"
     },
     "output_type": "display_data"
    }
   ],
   "source": [
    "sns.boxplot('max_amount_3month',data=data)"
   ]
  },
  {
   "cell_type": "markdown",
   "id": "8d88e555",
   "metadata": {},
   "source": [
    "<h2> 19. 'min_amount_3month' column"
   ]
  },
  {
   "cell_type": "code",
   "execution_count": 115,
   "id": "301e3d81",
   "metadata": {},
   "outputs": [
    {
     "data": {
      "text/plain": [
       "<AxesSubplot:ylabel='min_amount_3month'>"
      ]
     },
     "execution_count": 115,
     "metadata": {},
     "output_type": "execute_result"
    },
    {
     "data": {
      "image/png": "[encoded data removed]",
      "text/plain": [
       "<Figure size 432x288 with 1 Axes>"
      ]
     },
     "metadata": {
      "needs_background": "light"
     },
     "output_type": "display_data"
    }
   ],
   "source": [
    "sns.boxplot(y = 'min_amount_3month',data=data)"
   ]
  },
  {
   "cell_type": "code",
   "execution_count": 116,
   "id": "0be6bccf",
   "metadata": {},
   "outputs": [],
   "source": [
    "min_amount_3month = data['min_amount_3month'].values.tolist()\n",
    "Q1 = np.percentile(data[['min_amount_3month']], 25, interpolation = 'midpoint')\n",
    "Q2 = np.percentile(data[['min_amount_3month']], 50, interpolation = 'midpoint')\n",
    "Q3 = np.percentile(data[['min_amount_3month']], 75, interpolation = 'midpoint')\n",
    "IQR = Q3 - Q1\n",
    "low_lim = Q1 - 1.5 * IQR\n",
    "up_lim = Q3 + 1.5 * IQR"
   ]
  },
  {
   "cell_type": "code",
   "execution_count": 117,
   "id": "f8c03887",
   "metadata": {},
   "outputs": [],
   "source": [
    "data['min_amount_3month'] = np.where(data['min_amount_3month'] > up_lim, up_lim, \n",
    "                               np.where(data['min_amount_3month'] < low_lim, low_lim, data['min_amount_3month']))"
   ]
  },
  {
   "cell_type": "code",
   "execution_count": 118,
   "id": "93dc4801",
   "metadata": {},
   "outputs": [
    {
     "data": {
      "text/plain": [
       "<AxesSubplot:ylabel='min_amount_3month'>"
      ]
     },
     "execution_count": 118,
     "metadata": {},
     "output_type": "execute_result"
    },
    {
     "data": {
      "image/png": "[encoded data removed]",
      "text/plain": [
       "<Figure size 432x288 with 1 Axes>"
      ]
     },
     "metadata": {
      "needs_background": "light"
     },
     "output_type": "display_data"
    }
   ],
   "source": [
    "sns.boxplot(y = 'min_amount_3month',data=data)"
   ]
  },
  {
   "cell_type": "markdown",
   "id": "49970ab8",
   "metadata": {},
   "source": [
    "<h2> 20. 'diff_amount_3month' column"
   ]
  },
  {
   "cell_type": "code",
   "execution_count": 119,
   "id": "5c1ba4b8",
   "metadata": {},
   "outputs": [
    {
     "data": {
      "text/plain": [
       "<AxesSubplot:ylabel='diff_amount_3month'>"
      ]
     },
     "execution_count": 119,
     "metadata": {},
     "output_type": "execute_result"
    },
    {
     "data": {
      "image/png": "[encoded data removed]",
      "text/plain": [
       "<Figure size 432x288 with 1 Axes>"
      ]
     },
     "metadata": {
      "needs_background": "light"
     },
     "output_type": "display_data"
    }
   ],
   "source": [
    "sns.boxplot(y = 'diff_amount_3month',data=data)"
   ]
  },
  {
   "cell_type": "code",
   "execution_count": 120,
   "id": "69e58c92",
   "metadata": {},
   "outputs": [],
   "source": [
    "diff_amount_3month = data['diff_amount_3month'].values.tolist()\n",
    "Q1 = np.percentile(data[['diff_amount_3month']], 25, interpolation = 'midpoint')\n",
    "Q2 = np.percentile(data[['diff_amount_3month']], 50, interpolation = 'midpoint')\n",
    "Q3 = np.percentile(data[['diff_amount_3month']], 75, interpolation = 'midpoint')\n",
    "IQR = Q3 - Q1\n",
    "low_lim = Q1 - 1.5 * IQR\n",
    "up_lim = Q3 + 1.5 * IQR"
   ]
  },
  {
   "cell_type": "code",
   "execution_count": 121,
   "id": "0cc2efeb",
   "metadata": {},
   "outputs": [],
   "source": [
    "data['diff_amount_3month'] = np.where(data['diff_amount_3month'] > up_lim, up_lim, \n",
    "                               np.where(data['diff_amount_3month'] < low_lim, low_lim, data['diff_amount_3month']))"
   ]
  },
  {
   "cell_type": "code",
   "execution_count": 122,
   "id": "d25f6af8",
   "metadata": {},
   "outputs": [
    {
     "data": {
      "text/plain": [
       "<AxesSubplot:ylabel='diff_amount_3month'>"
      ]
     },
     "execution_count": 122,
     "metadata": {},
     "output_type": "execute_result"
    },
    {
     "data": {
      "image/png": "[encoded data removed]",
      "text/plain": [
       "<Figure size 432x288 with 1 Axes>"
      ]
     },
     "metadata": {
      "needs_background": "light"
     },
     "output_type": "display_data"
    }
   ],
   "source": [
    "sns.boxplot(y = 'diff_amount_3month',data=data)"
   ]
  },
  {
   "cell_type": "markdown",
   "id": "3f763331",
   "metadata": {},
   "source": [
    "<h2> 21. 'distinct_payment_code_3month' column\n"
   ]
  },
  {
   "cell_type": "code",
   "execution_count": 123,
   "id": "6a69a304",
   "metadata": {},
   "outputs": [
    {
     "data": {
      "text/plain": [
       "<AxesSubplot:ylabel='distinct_payment_code_3month'>"
      ]
     },
     "execution_count": 123,
     "metadata": {},
     "output_type": "execute_result"
    },
    {
     "data": {
      "image/png": "[encoded data removed]",
      "text/plain": [
       "<Figure size 432x288 with 1 Axes>"
      ]
     },
     "metadata": {
      "needs_background": "light"
     },
     "output_type": "display_data"
    }
   ],
   "source": [
    "sns.boxplot(y = 'distinct_payment_code_3month',data=data)"
   ]
  },
  {
   "cell_type": "code",
   "execution_count": 124,
   "id": "eb598ad0",
   "metadata": {},
   "outputs": [],
   "source": [
    "distinct_payment_code_3month = data['distinct_payment_code_3month'].values.tolist()\n",
    "\n",
    "def impute_distinct_payment_code_3month(col):\n",
    "    distinct_payment_code_3month = col[0]\n",
    "    if distinct_payment_code_3month < 4:\n",
    "        return distinct_payment_code_3month\n",
    "    else:\n",
    "        return 'Other'"
   ]
  },
  {
   "cell_type": "code",
   "execution_count": 125,
   "id": "9b7e4225",
   "metadata": {},
   "outputs": [],
   "source": [
    "data['distinct_payment_code_3month'] = data[['distinct_payment_code_3month']].apply(impute_distinct_payment_code_3month, axis = 1)"
   ]
  },
  {
   "cell_type": "code",
   "execution_count": 126,
   "id": "8da51db2",
   "metadata": {},
   "outputs": [
    {
     "data": {
      "text/plain": [
       "1        26206\n",
       "0        13934\n",
       "2         8290\n",
       "3         3975\n",
       "Other     2385\n",
       "Name: distinct_payment_code_3month, dtype: int64"
      ]
     },
     "execution_count": 126,
     "metadata": {},
     "output_type": "execute_result"
    }
   ],
   "source": [
    "data['distinct_payment_code_3month'].value_counts()"
   ]
  },
  {
   "cell_type": "markdown",
   "id": "f0af95d2",
   "metadata": {},
   "source": [
    "<h2> 22. 'count_payment_code_3month' column"
   ]
  },
  {
   "cell_type": "code",
   "execution_count": 128,
   "id": "db929c31",
   "metadata": {},
   "outputs": [
    {
     "data": {
      "text/plain": [
       "<AxesSubplot:ylabel='count_payment_code_3month'>"
      ]
     },
     "execution_count": 128,
     "metadata": {},
     "output_type": "execute_result"
    },
    {
     "data": {
      "image/png": "[encoded data removed]",
      "text/plain": [
       "<Figure size 432x288 with 1 Axes>"
      ]
     },
     "metadata": {
      "needs_background": "light"
     },
     "output_type": "display_data"
    }
   ],
   "source": [
    "sns.boxplot(y='count_payment_code_3month',data=data)"
   ]
  },
  {
   "cell_type": "code",
   "execution_count": 129,
   "id": "961dd8a8",
   "metadata": {},
   "outputs": [],
   "source": [
    "count_payment_code_3month = data['count_payment_code_3month'].values.tolist()\n",
    "Q1 = np.percentile(data[['count_payment_code_3month']], 25, interpolation = 'midpoint')\n",
    "Q2 = np.percentile(data[['count_payment_code_3month']], 50, interpolation = 'midpoint')\n",
    "Q3 = np.percentile(data[['count_payment_code_3month']], 75, interpolation = 'midpoint')\n",
    "IQR = Q3 - Q1\n",
    "low_lim = Q1 - 1.5 * IQR\n",
    "up_lim = Q3 + 1.5 * IQR"
   ]
  },
  {
   "cell_type": "code",
   "execution_count": 130,
   "id": "5da96e5e",
   "metadata": {},
   "outputs": [],
   "source": [
    "data['count_payment_code_3month'] = np.where(data['count_payment_code_3month'] > up_lim, up_lim, \n",
    "                               np.where(data['count_payment_code_3month'] < low_lim, low_lim, data['count_payment_code_3month']))"
   ]
  },
  {
   "cell_type": "code",
   "execution_count": 131,
   "id": "669e8950",
   "metadata": {},
   "outputs": [
    {
     "data": {
      "text/plain": [
       "<AxesSubplot:ylabel='count_payment_code_3month'>"
      ]
     },
     "execution_count": 131,
     "metadata": {},
     "output_type": "execute_result"
    },
    {
     "data": {
      "image/png": "[encoded data removed]",
      "text/plain": [
       "<Figure size 432x288 with 1 Axes>"
      ]
     },
     "metadata": {
      "needs_background": "light"
     },
     "output_type": "display_data"
    }
   ],
   "source": [
    "sns.boxplot(y='count_payment_code_3month',data=data)"
   ]
  },
  {
   "cell_type": "markdown",
   "id": "3462fcbf",
   "metadata": {},
   "source": [
    "<h2> 23. 'distinct_trans_group_3month' column"
   ]
  },
  {
   "cell_type": "code",
   "execution_count": 132,
   "id": "c28490cc",
   "metadata": {},
   "outputs": [
    {
     "data": {
      "text/plain": [
       "<AxesSubplot:ylabel='distinct_trans_group_3month'>"
      ]
     },
     "execution_count": 132,
     "metadata": {},
     "output_type": "execute_result"
    },
    {
     "data": {
      "image/png": "[encoded data removed]",
      "text/plain": [
       "<Figure size 432x288 with 1 Axes>"
      ]
     },
     "metadata": {
      "needs_background": "light"
     },
     "output_type": "display_data"
    }
   ],
   "source": [
    "sns.boxplot(y='distinct_trans_group_3month',data=data)"
   ]
  },
  {
   "cell_type": "code",
   "execution_count": 133,
   "id": "6161831e",
   "metadata": {},
   "outputs": [],
   "source": [
    "distinct_trans_group_3month = data['distinct_trans_group_3month'].values.tolist()\n",
    "\n",
    "def impute_distinct_trans_group_3month(col):\n",
    "    distinct_trans_group_3month = col[0]\n",
    "    if distinct_trans_group_3month < 5:\n",
    "        return distinct_trans_group_3month\n",
    "    else:\n",
    "        return 'Other'"
   ]
  },
  {
   "cell_type": "code",
   "execution_count": 134,
   "id": "da8fb6b2",
   "metadata": {},
   "outputs": [],
   "source": [
    "data['distinct_trans_group_3month'] = data[['distinct_trans_group_3month']].apply(impute_distinct_trans_group_3month, axis = 1)"
   ]
  },
  {
   "cell_type": "code",
   "execution_count": 135,
   "id": "cedc1e26",
   "metadata": {},
   "outputs": [
    {
     "data": {
      "text/plain": [
       "3        23593\n",
       "2        13764\n",
       "4         9126\n",
       "Other     4447\n",
       "1         3860\n",
       "Name: distinct_trans_group_3month, dtype: int64"
      ]
     },
     "execution_count": 135,
     "metadata": {},
     "output_type": "execute_result"
    }
   ],
   "source": [
    "data['distinct_trans_group_3month'].value_counts()"
   ]
  },
  {
   "cell_type": "markdown",
   "id": "a62c70fc",
   "metadata": {},
   "source": [
    "<h2> 24. 'distinct_ref_no_3month' column"
   ]
  },
  {
   "cell_type": "code",
   "execution_count": 136,
   "id": "131f8f04",
   "metadata": {},
   "outputs": [
    {
     "data": {
      "text/plain": [
       "<AxesSubplot:ylabel='distinct_ref_no_3month'>"
      ]
     },
     "execution_count": 136,
     "metadata": {},
     "output_type": "execute_result"
    },
    {
     "data": {
      "image/png": "[encoded data removed]",
      "text/plain": [
       "<Figure size 432x288 with 1 Axes>"
      ]
     },
     "metadata": {
      "needs_background": "light"
     },
     "output_type": "display_data"
    }
   ],
   "source": [
    "sns.boxplot(y ='distinct_ref_no_3month',data=data)"
   ]
  },
  {
   "cell_type": "code",
   "execution_count": 137,
   "id": "68d2ceed",
   "metadata": {},
   "outputs": [],
   "source": [
    "distinct_ref_no_3month = data['distinct_ref_no_3month'].values.tolist()\n",
    "Q1 = np.percentile(data[['distinct_ref_no_3month']], 25, interpolation = 'midpoint')\n",
    "Q2 = np.percentile(data[['distinct_ref_no_3month']], 50, interpolation = 'midpoint')\n",
    "Q3 = np.percentile(data[['distinct_ref_no_3month']], 75, interpolation = 'midpoint')\n",
    "IQR = Q3 - Q1\n",
    "low_lim = Q1 - 1.5 * IQR\n",
    "up_lim = Q3 + 1.5 * IQR"
   ]
  },
  {
   "cell_type": "code",
   "execution_count": 138,
   "id": "8ac6a381",
   "metadata": {},
   "outputs": [],
   "source": [
    "data['distinct_ref_no_3month'] = np.where(data['distinct_ref_no_3month'] > up_lim, up_lim, \n",
    "                               np.where(data['distinct_ref_no_3month'] < low_lim, low_lim, data['distinct_ref_no_3month']))"
   ]
  },
  {
   "cell_type": "code",
   "execution_count": 139,
   "id": "02dd6155",
   "metadata": {},
   "outputs": [
    {
     "data": {
      "text/plain": [
       "<AxesSubplot:ylabel='distinct_ref_no_3month'>"
      ]
     },
     "execution_count": 139,
     "metadata": {},
     "output_type": "execute_result"
    },
    {
     "data": {
      "image/png": "[encoded data removed]",
      "text/plain": [
       "<Figure size 432x288 with 1 Axes>"
      ]
     },
     "metadata": {
      "needs_background": "light"
     },
     "output_type": "display_data"
    }
   ],
   "source": [
    "sns.boxplot(y = 'distinct_ref_no_3month',data=data)"
   ]
  },
  {
   "cell_type": "markdown",
   "id": "d37a2ffd",
   "metadata": {},
   "source": [
    "## Data Normalization"
   ]
  },
  {
   "cell_type": "code",
   "execution_count": 140,
   "id": "c3852335",
   "metadata": {},
   "outputs": [
    {
     "data": {
      "text/html": [
       "<div>\n",
       "<style scoped>\n",
       "    .dataframe tbody tr th:only-of-type {\n",
       "        vertical-align: middle;\n",
       "    }\n",
       "\n",
       "    .dataframe tbody tr th {\n",
       "        vertical-align: top;\n",
       "    }\n",
       "\n",
       "    .dataframe thead th {\n",
       "        text-align: right;\n",
       "    }\n",
       "</style>\n",
       "<table border=\"1\" class=\"dataframe\">\n",
       "  <thead>\n",
       "    <tr style=\"text-align: right;\">\n",
       "      <th></th>\n",
       "      <th>resid_province</th>\n",
       "      <th>amount_week</th>\n",
       "      <th>max_amount_week</th>\n",
       "      <th>min_amount_week</th>\n",
       "      <th>count_payment_code_week</th>\n",
       "      <th>distinct_ref_no_week</th>\n",
       "      <th>amount_month</th>\n",
       "      <th>max_amount_month</th>\n",
       "      <th>min_amount_month</th>\n",
       "      <th>count_payment_code_month</th>\n",
       "      <th>distinct_ref_no_month</th>\n",
       "      <th>amount_3month</th>\n",
       "      <th>max_amount_3month</th>\n",
       "      <th>min_amount_3month</th>\n",
       "      <th>count_payment_code_3month</th>\n",
       "      <th>distinct_ref_no_3month</th>\n",
       "      <th>Is_churn</th>\n",
       "      <th>diff_amount_month</th>\n",
       "      <th>diff_amount_week</th>\n",
       "      <th>diff_amount_3month</th>\n",
       "    </tr>\n",
       "  </thead>\n",
       "  <tbody>\n",
       "    <tr>\n",
       "      <th>count</th>\n",
       "      <td>54790.000000</td>\n",
       "      <td>54790.00000</td>\n",
       "      <td>5.479000e+04</td>\n",
       "      <td>54790.000000</td>\n",
       "      <td>54790.000000</td>\n",
       "      <td>54790.000000</td>\n",
       "      <td>5.479000e+04</td>\n",
       "      <td>5.479000e+04</td>\n",
       "      <td>54790.000000</td>\n",
       "      <td>54790.000000</td>\n",
       "      <td>54790.000000</td>\n",
       "      <td>5.479000e+04</td>\n",
       "      <td>5.479000e+04</td>\n",
       "      <td>5.479000e+04</td>\n",
       "      <td>54790.000000</td>\n",
       "      <td>54790.000000</td>\n",
       "      <td>54790.000000</td>\n",
       "      <td>54790.000000</td>\n",
       "      <td>54790.000000</td>\n",
       "      <td>54790.000000</td>\n",
       "    </tr>\n",
       "    <tr>\n",
       "      <th>mean</th>\n",
       "      <td>32.401643</td>\n",
       "      <td>0.00059</td>\n",
       "      <td>4.760065e-04</td>\n",
       "      <td>0.000122</td>\n",
       "      <td>0.472851</td>\n",
       "      <td>5.115094</td>\n",
       "      <td>5.914523e-04</td>\n",
       "      <td>1.228400e-03</td>\n",
       "      <td>0.000006</td>\n",
       "      <td>2.013068</td>\n",
       "      <td>21.111015</td>\n",
       "      <td>3.893395e-04</td>\n",
       "      <td>1.075430e-03</td>\n",
       "      <td>3.549816e-06</td>\n",
       "      <td>5.511453</td>\n",
       "      <td>54.553888</td>\n",
       "      <td>0.045556</td>\n",
       "      <td>0.001177</td>\n",
       "      <td>0.000202</td>\n",
       "      <td>0.001059</td>\n",
       "    </tr>\n",
       "    <tr>\n",
       "      <th>std</th>\n",
       "      <td>29.001154</td>\n",
       "      <td>0.00615</td>\n",
       "      <td>6.227605e-04</td>\n",
       "      <td>0.000153</td>\n",
       "      <td>0.764433</td>\n",
       "      <td>4.443873</td>\n",
       "      <td>7.547197e-04</td>\n",
       "      <td>1.525788e-03</td>\n",
       "      <td>0.000007</td>\n",
       "      <td>2.264628</td>\n",
       "      <td>18.700828</td>\n",
       "      <td>4.957798e-04</td>\n",
       "      <td>1.337041e-03</td>\n",
       "      <td>3.769087e-06</td>\n",
       "      <td>6.042546</td>\n",
       "      <td>48.718725</td>\n",
       "      <td>0.208522</td>\n",
       "      <td>0.001489</td>\n",
       "      <td>0.000543</td>\n",
       "      <td>0.001347</td>\n",
       "    </tr>\n",
       "    <tr>\n",
       "      <th>min</th>\n",
       "      <td>0.000000</td>\n",
       "      <td>0.00000</td>\n",
       "      <td>2.040000e-09</td>\n",
       "      <td>0.000000</td>\n",
       "      <td>0.000000</td>\n",
       "      <td>0.000000</td>\n",
       "      <td>2.800000e-10</td>\n",
       "      <td>2.040000e-09</td>\n",
       "      <td>0.000000</td>\n",
       "      <td>0.000000</td>\n",
       "      <td>0.000000</td>\n",
       "      <td>6.570000e-11</td>\n",
       "      <td>1.000000e-09</td>\n",
       "      <td>0.000000e+00</td>\n",
       "      <td>0.000000</td>\n",
       "      <td>0.000000</td>\n",
       "      <td>0.000000</td>\n",
       "      <td>-0.002339</td>\n",
       "      <td>-0.000783</td>\n",
       "      <td>-0.002137</td>\n",
       "    </tr>\n",
       "    <tr>\n",
       "      <th>25%</th>\n",
       "      <td>1.000000</td>\n",
       "      <td>0.00000</td>\n",
       "      <td>3.060000e-05</td>\n",
       "      <td>0.000011</td>\n",
       "      <td>0.000000</td>\n",
       "      <td>2.000000</td>\n",
       "      <td>4.980000e-05</td>\n",
       "      <td>1.378060e-04</td>\n",
       "      <td>0.000001</td>\n",
       "      <td>0.000000</td>\n",
       "      <td>7.000000</td>\n",
       "      <td>3.360000e-05</td>\n",
       "      <td>1.160000e-04</td>\n",
       "      <td>6.090000e-07</td>\n",
       "      <td>0.000000</td>\n",
       "      <td>18.000000</td>\n",
       "      <td>0.000000</td>\n",
       "      <td>0.000120</td>\n",
       "      <td>-0.000047</td>\n",
       "      <td>0.000103</td>\n",
       "    </tr>\n",
       "    <tr>\n",
       "      <th>50%</th>\n",
       "      <td>31.000000</td>\n",
       "      <td>0.00000</td>\n",
       "      <td>1.551020e-04</td>\n",
       "      <td>0.000045</td>\n",
       "      <td>0.000000</td>\n",
       "      <td>3.000000</td>\n",
       "      <td>1.905340e-04</td>\n",
       "      <td>4.081630e-04</td>\n",
       "      <td>0.000003</td>\n",
       "      <td>1.000000</td>\n",
       "      <td>14.000000</td>\n",
       "      <td>1.272535e-04</td>\n",
       "      <td>4.000000e-04</td>\n",
       "      <td>1.770000e-06</td>\n",
       "      <td>4.000000</td>\n",
       "      <td>37.000000</td>\n",
       "      <td>0.000000</td>\n",
       "      <td>0.000407</td>\n",
       "      <td>0.000027</td>\n",
       "      <td>0.000394</td>\n",
       "    </tr>\n",
       "    <tr>\n",
       "      <th>75%</th>\n",
       "      <td>51.000000</td>\n",
       "      <td>0.00000</td>\n",
       "      <td>7.297960e-04</td>\n",
       "      <td>0.000182</td>\n",
       "      <td>1.000000</td>\n",
       "      <td>7.000000</td>\n",
       "      <td>8.831660e-04</td>\n",
       "      <td>1.836735e-03</td>\n",
       "      <td>0.000009</td>\n",
       "      <td>3.000000</td>\n",
       "      <td>30.000000</td>\n",
       "      <td>5.851687e-04</td>\n",
       "      <td>1.600000e-03</td>\n",
       "      <td>5.260000e-06</td>\n",
       "      <td>9.000000</td>\n",
       "      <td>77.000000</td>\n",
       "      <td>0.000000</td>\n",
       "      <td>0.001760</td>\n",
       "      <td>0.000444</td>\n",
       "      <td>0.001596</td>\n",
       "    </tr>\n",
       "    <tr>\n",
       "      <th>max</th>\n",
       "      <td>96.000000</td>\n",
       "      <td>1.00000</td>\n",
       "      <td>1.778590e-03</td>\n",
       "      <td>0.000437</td>\n",
       "      <td>2.500000</td>\n",
       "      <td>14.500000</td>\n",
       "      <td>2.133215e-03</td>\n",
       "      <td>4.385052e-03</td>\n",
       "      <td>0.000021</td>\n",
       "      <td>7.500000</td>\n",
       "      <td>64.500000</td>\n",
       "      <td>1.412331e-03</td>\n",
       "      <td>3.826000e-03</td>\n",
       "      <td>1.223650e-05</td>\n",
       "      <td>22.500000</td>\n",
       "      <td>165.500000</td>\n",
       "      <td>1.000000</td>\n",
       "      <td>0.004219</td>\n",
       "      <td>0.001181</td>\n",
       "      <td>0.003837</td>\n",
       "    </tr>\n",
       "  </tbody>\n",
       "</table>\n",
       "</div>"
      ],
      "text/plain": [
       "       resid_province  amount_week  max_amount_week  min_amount_week  \\\n",
       "count    54790.000000  54790.00000     5.479000e+04     54790.000000   \n",
       "mean        32.401643      0.00059     4.760065e-04         0.000122   \n",
       "std         29.001154      0.00615     6.227605e-04         0.000153   \n",
       "min          0.000000      0.00000     2.040000e-09         0.000000   \n",
       "25%          1.000000      0.00000     3.060000e-05         0.000011   \n",
       "50%         31.000000      0.00000     1.551020e-04         0.000045   \n",
       "75%         51.000000      0.00000     7.297960e-04         0.000182   \n",
       "max         96.000000      1.00000     1.778590e-03         0.000437   \n",
       "\n",
       "       count_payment_code_week  distinct_ref_no_week  amount_month  \\\n",
       "count             54790.000000          54790.000000  5.479000e+04   \n",
       "mean                  0.472851              5.115094  5.914523e-04   \n",
       "std                   0.764433              4.443873  7.547197e-04   \n",
       "min                   0.000000              0.000000  2.800000e-10   \n",
       "25%                   0.000000              2.000000  4.980000e-05   \n",
       "50%                   0.000000              3.000000  1.905340e-04   \n",
       "75%                   1.000000              7.000000  8.831660e-04   \n",
       "max                   2.500000             14.500000  2.133215e-03   \n",
       "\n",
       "       max_amount_month  min_amount_month  count_payment_code_month  \\\n",
       "count      5.479000e+04      54790.000000              54790.000000   \n",
       "mean       1.228400e-03          0.000006                  2.013068   \n",
       "std        1.525788e-03          0.000007                  2.264628   \n",
       "min        2.040000e-09          0.000000                  0.000000   \n",
       "25%        1.378060e-04          0.000001                  0.000000   \n",
       "50%        4.081630e-04          0.000003                  1.000000   \n",
       "75%        1.836735e-03          0.000009                  3.000000   \n",
       "max        4.385052e-03          0.000021                  7.500000   \n",
       "\n",
       "       distinct_ref_no_month  amount_3month  max_amount_3month  \\\n",
       "count           54790.000000   5.479000e+04       5.479000e+04   \n",
       "mean               21.111015   3.893395e-04       1.075430e-03   \n",
       "std                18.700828   4.957798e-04       1.337041e-03   \n",
       "min                 0.000000   6.570000e-11       1.000000e-09   \n",
       "25%                 7.000000   3.360000e-05       1.160000e-04   \n",
       "50%                14.000000   1.272535e-04       4.000000e-04   \n",
       "75%                30.000000   5.851687e-04       1.600000e-03   \n",
       "max                64.500000   1.412331e-03       3.826000e-03   \n",
       "\n",
       "       min_amount_3month  count_payment_code_3month  distinct_ref_no_3month  \\\n",
       "count       5.479000e+04               54790.000000            54790.000000   \n",
       "mean        3.549816e-06                   5.511453               54.553888   \n",
       "std         3.769087e-06                   6.042546               48.718725   \n",
       "min         0.000000e+00                   0.000000                0.000000   \n",
       "25%         6.090000e-07                   0.000000               18.000000   \n",
       "50%         1.770000e-06                   4.000000               37.000000   \n",
       "75%         5.260000e-06                   9.000000               77.000000   \n",
       "max         1.223650e-05                  22.500000              165.500000   \n",
       "\n",
       "           Is_churn  diff_amount_month  diff_amount_week  diff_amount_3month  \n",
       "count  54790.000000       54790.000000      54790.000000        54790.000000  \n",
       "mean       0.045556           0.001177          0.000202            0.001059  \n",
       "std        0.208522           0.001489          0.000543            0.001347  \n",
       "min        0.000000          -0.002339         -0.000783           -0.002137  \n",
       "25%        0.000000           0.000120         -0.000047            0.000103  \n",
       "50%        0.000000           0.000407          0.000027            0.000394  \n",
       "75%        0.000000           0.001760          0.000444            0.001596  \n",
       "max        1.000000           0.004219          0.001181            0.003837  "
      ]
     },
     "execution_count": 140,
     "metadata": {},
     "output_type": "execute_result"
    }
   ],
   "source": [
    "data.describe()"
   ]
  },
  {
   "cell_type": "markdown",
   "id": "b172500f",
   "metadata": {},
   "source": [
    "We will Normalize the Min-Max method for the following columns:\n",
    "- resid_province                \n",
    "- max_amount_week  \n",
    "- min_amount_week               \n",
    "- count_payment_code_week       \n",
    "- distinct_ref_no_week          \n",
    "- amount_month                  \n",
    "- max_amount_month              \n",
    "- min_amount_month              \n",
    "- count_payment_code_month      \n",
    "- distinct_ref_no_month         \n",
    "- amount_3month                 \n",
    "- max_amount_3month             \n",
    "- min_amount_3month             \n",
    "- count_payment_code_3month     \n",
    "- distinct_ref_no_3month        \n",
    "- diff_amount_month             \n",
    "- diff_amount_week              \n",
    "- diff_amount_3month \n",
    "\n",
    "We will Normalize by Dummy variable method with the following columns:\n",
    "- local_ref_1                   \n",
    "- vn_marital_status             \n",
    "- birth_incorp_date             \n",
    "- distinct_payment_code_week    \n",
    "- distinct_trans_group_week     \n",
    "- distinct_payment_code_month   \n",
    "- distinct_trans_group_month    \n",
    "- distinct_payment_code_3month  \n",
    "- distinct_trans_group_3month   "
   ]
  },
  {
   "cell_type": "markdown",
   "id": "c6bce66a",
   "metadata": {},
   "source": [
    "<h2> Dummy variable"
   ]
  },
  {
   "cell_type": "code",
   "execution_count": 141,
   "id": "e08e5fb1",
   "metadata": {},
   "outputs": [],
   "source": [
    "categorical_columns = ['local_ref_1', 'vn_marital_status', 'birth_incorp_date', 'distinct_payment_code_week'\n",
    "                      , 'distinct_trans_group_week', 'distinct_payment_code_month', 'distinct_trans_group_month'\n",
    "                      , 'distinct_payment_code_3month', 'distinct_trans_group_3month']\n",
    "\n",
    "prefix = ['sex', 'marital_status', 'age', 'payment_code_week', 'trans_group_week', 'payment_code_month', \n",
    "         'trans_group_month', 'payment_code_3month', 'trans_group_3month']\n",
    "\n",
    "data = pd.get_dummies(data = data, prefix = prefix, prefix_sep = '_', \n",
    "                      columns = categorical_columns, drop_first = False, dtype = 'int8')"
   ]
  },
  {
   "cell_type": "code",
   "execution_count": 142,
   "id": "074eba9c",
   "metadata": {},
   "outputs": [
    {
     "data": {
      "text/html": [
       "<div>\n",
       "<style scoped>\n",
       "    .dataframe tbody tr th:only-of-type {\n",
       "        vertical-align: middle;\n",
       "    }\n",
       "\n",
       "    .dataframe tbody tr th {\n",
       "        vertical-align: top;\n",
       "    }\n",
       "\n",
       "    .dataframe thead th {\n",
       "        text-align: right;\n",
       "    }\n",
       "</style>\n",
       "<table border=\"1\" class=\"dataframe\">\n",
       "  <thead>\n",
       "    <tr style=\"text-align: right;\">\n",
       "      <th></th>\n",
       "      <th>resid_province</th>\n",
       "      <th>amount_week</th>\n",
       "      <th>max_amount_week</th>\n",
       "      <th>min_amount_week</th>\n",
       "      <th>count_payment_code_week</th>\n",
       "      <th>distinct_ref_no_week</th>\n",
       "      <th>amount_month</th>\n",
       "      <th>max_amount_month</th>\n",
       "      <th>min_amount_month</th>\n",
       "      <th>count_payment_code_month</th>\n",
       "      <th>...</th>\n",
       "      <th>payment_code_3month_0</th>\n",
       "      <th>payment_code_3month_1</th>\n",
       "      <th>payment_code_3month_2</th>\n",
       "      <th>payment_code_3month_3</th>\n",
       "      <th>payment_code_3month_Other</th>\n",
       "      <th>trans_group_3month_1</th>\n",
       "      <th>trans_group_3month_2</th>\n",
       "      <th>trans_group_3month_3</th>\n",
       "      <th>trans_group_3month_4</th>\n",
       "      <th>trans_group_3month_Other</th>\n",
       "    </tr>\n",
       "  </thead>\n",
       "  <tbody>\n",
       "    <tr>\n",
       "      <th>4</th>\n",
       "      <td>49.0</td>\n",
       "      <td>0.0</td>\n",
       "      <td>0.000114</td>\n",
       "      <td>0.000437</td>\n",
       "      <td>0.0</td>\n",
       "      <td>1.0</td>\n",
       "      <td>0.000097</td>\n",
       "      <td>0.000247</td>\n",
       "      <td>0.000001</td>\n",
       "      <td>5.0</td>\n",
       "      <td>...</td>\n",
       "      <td>0</td>\n",
       "      <td>1</td>\n",
       "      <td>0</td>\n",
       "      <td>0</td>\n",
       "      <td>0</td>\n",
       "      <td>0</td>\n",
       "      <td>0</td>\n",
       "      <td>1</td>\n",
       "      <td>0</td>\n",
       "      <td>0</td>\n",
       "    </tr>\n",
       "    <tr>\n",
       "      <th>7</th>\n",
       "      <td>38.0</td>\n",
       "      <td>0.0</td>\n",
       "      <td>0.000476</td>\n",
       "      <td>0.000011</td>\n",
       "      <td>0.0</td>\n",
       "      <td>11.0</td>\n",
       "      <td>0.000468</td>\n",
       "      <td>0.000571</td>\n",
       "      <td>0.000003</td>\n",
       "      <td>0.0</td>\n",
       "      <td>...</td>\n",
       "      <td>0</td>\n",
       "      <td>1</td>\n",
       "      <td>0</td>\n",
       "      <td>0</td>\n",
       "      <td>0</td>\n",
       "      <td>0</td>\n",
       "      <td>0</td>\n",
       "      <td>1</td>\n",
       "      <td>0</td>\n",
       "      <td>0</td>\n",
       "    </tr>\n",
       "    <tr>\n",
       "      <th>12</th>\n",
       "      <td>56.0</td>\n",
       "      <td>0.0</td>\n",
       "      <td>0.000014</td>\n",
       "      <td>0.000079</td>\n",
       "      <td>0.0</td>\n",
       "      <td>1.0</td>\n",
       "      <td>0.000011</td>\n",
       "      <td>0.000016</td>\n",
       "      <td>0.000003</td>\n",
       "      <td>3.0</td>\n",
       "      <td>...</td>\n",
       "      <td>0</td>\n",
       "      <td>1</td>\n",
       "      <td>0</td>\n",
       "      <td>0</td>\n",
       "      <td>0</td>\n",
       "      <td>0</td>\n",
       "      <td>0</td>\n",
       "      <td>1</td>\n",
       "      <td>0</td>\n",
       "      <td>0</td>\n",
       "    </tr>\n",
       "    <tr>\n",
       "      <th>17</th>\n",
       "      <td>92.0</td>\n",
       "      <td>0.0</td>\n",
       "      <td>0.000449</td>\n",
       "      <td>0.000437</td>\n",
       "      <td>0.0</td>\n",
       "      <td>4.0</td>\n",
       "      <td>0.000476</td>\n",
       "      <td>0.000449</td>\n",
       "      <td>0.000003</td>\n",
       "      <td>3.0</td>\n",
       "      <td>...</td>\n",
       "      <td>0</td>\n",
       "      <td>0</td>\n",
       "      <td>1</td>\n",
       "      <td>0</td>\n",
       "      <td>0</td>\n",
       "      <td>0</td>\n",
       "      <td>0</td>\n",
       "      <td>0</td>\n",
       "      <td>0</td>\n",
       "      <td>1</td>\n",
       "    </tr>\n",
       "    <tr>\n",
       "      <th>18</th>\n",
       "      <td>38.0</td>\n",
       "      <td>0.0</td>\n",
       "      <td>0.001429</td>\n",
       "      <td>0.000437</td>\n",
       "      <td>0.0</td>\n",
       "      <td>6.0</td>\n",
       "      <td>0.001129</td>\n",
       "      <td>0.001429</td>\n",
       "      <td>0.000006</td>\n",
       "      <td>0.0</td>\n",
       "      <td>...</td>\n",
       "      <td>1</td>\n",
       "      <td>0</td>\n",
       "      <td>0</td>\n",
       "      <td>0</td>\n",
       "      <td>0</td>\n",
       "      <td>0</td>\n",
       "      <td>0</td>\n",
       "      <td>1</td>\n",
       "      <td>0</td>\n",
       "      <td>0</td>\n",
       "    </tr>\n",
       "  </tbody>\n",
       "</table>\n",
       "<p>5 rows × 57 columns</p>\n",
       "</div>"
      ],
      "text/plain": [
       "    resid_province  amount_week  max_amount_week  min_amount_week  \\\n",
       "4             49.0          0.0         0.000114         0.000437   \n",
       "7             38.0          0.0         0.000476         0.000011   \n",
       "12            56.0          0.0         0.000014         0.000079   \n",
       "17            92.0          0.0         0.000449         0.000437   \n",
       "18            38.0          0.0         0.001429         0.000437   \n",
       "\n",
       "    count_payment_code_week  distinct_ref_no_week  amount_month  \\\n",
       "4                       0.0                   1.0      0.000097   \n",
       "7                       0.0                  11.0      0.000468   \n",
       "12                      0.0                   1.0      0.000011   \n",
       "17                      0.0                   4.0      0.000476   \n",
       "18                      0.0                   6.0      0.001129   \n",
       "\n",
       "    max_amount_month  min_amount_month  count_payment_code_month  ...  \\\n",
       "4           0.000247          0.000001                       5.0  ...   \n",
       "7           0.000571          0.000003                       0.0  ...   \n",
       "12          0.000016          0.000003                       3.0  ...   \n",
       "17          0.000449          0.000003                       3.0  ...   \n",
       "18          0.001429          0.000006                       0.0  ...   \n",
       "\n",
       "    payment_code_3month_0  payment_code_3month_1  payment_code_3month_2  \\\n",
       "4                       0                      1                      0   \n",
       "7                       0                      1                      0   \n",
       "12                      0                      1                      0   \n",
       "17                      0                      0                      1   \n",
       "18                      1                      0                      0   \n",
       "\n",
       "    payment_code_3month_3  payment_code_3month_Other  trans_group_3month_1  \\\n",
       "4                       0                          0                     0   \n",
       "7                       0                          0                     0   \n",
       "12                      0                          0                     0   \n",
       "17                      0                          0                     0   \n",
       "18                      0                          0                     0   \n",
       "\n",
       "    trans_group_3month_2  trans_group_3month_3  trans_group_3month_4  \\\n",
       "4                      0                     1                     0   \n",
       "7                      0                     1                     0   \n",
       "12                     0                     1                     0   \n",
       "17                     0                     0                     0   \n",
       "18                     0                     1                     0   \n",
       "\n",
       "    trans_group_3month_Other  \n",
       "4                          0  \n",
       "7                          0  \n",
       "12                         0  \n",
       "17                         1  \n",
       "18                         0  \n",
       "\n",
       "[5 rows x 57 columns]"
      ]
     },
     "execution_count": 142,
     "metadata": {},
     "output_type": "execute_result"
    }
   ],
   "source": [
    "data.head()"
   ]
  },
  {
   "cell_type": "markdown",
   "id": "eca0f9e8",
   "metadata": {},
   "source": [
    "<h2> Min-Max Normalization"
   ]
  },
  {
   "cell_type": "code",
   "execution_count": 143,
   "id": "a17cf105",
   "metadata": {},
   "outputs": [],
   "source": [
    "data['max_amount_week'] = (data['max_amount_week'] - data['max_amount_week'].min()) / (data['max_amount_week'].max() - data['max_amount_week'].min())"
   ]
  },
  {
   "cell_type": "code",
   "execution_count": 144,
   "id": "e6ae08ca",
   "metadata": {},
   "outputs": [],
   "source": [
    "data['min_amount_week'] = (data['min_amount_week'] - data['min_amount_week'].min()) / (data['min_amount_week'].max() - data['min_amount_week'].min())"
   ]
  },
  {
   "cell_type": "code",
   "execution_count": 145,
   "id": "745f0aed",
   "metadata": {},
   "outputs": [],
   "source": [
    "data['count_payment_code_week'] = (data['count_payment_code_week'] - data['count_payment_code_week'].min()) / (data['count_payment_code_week'].max() - data['count_payment_code_week'].min())"
   ]
  },
  {
   "cell_type": "code",
   "execution_count": 146,
   "id": "88ead743",
   "metadata": {},
   "outputs": [],
   "source": [
    "data['distinct_ref_no_week'] = (data['distinct_ref_no_week'] - data['distinct_ref_no_week'].min()) / (data['distinct_ref_no_week'].max() - data['distinct_ref_no_week'].min())"
   ]
  },
  {
   "cell_type": "code",
   "execution_count": 147,
   "id": "5b1098b2",
   "metadata": {},
   "outputs": [],
   "source": [
    "data['amount_month'] = (data['amount_month'] - data['amount_month'].min()) / (data['amount_month'].max() - data['amount_month'].min())"
   ]
  },
  {
   "cell_type": "code",
   "execution_count": 148,
   "id": "aadb4639",
   "metadata": {},
   "outputs": [],
   "source": [
    "data['max_amount_month'] = (data['max_amount_month'] - data['max_amount_month'].min()) / (data['max_amount_month'].max() - data['max_amount_month'].min())"
   ]
  },
  {
   "cell_type": "code",
   "execution_count": 149,
   "id": "1a9b5f67",
   "metadata": {},
   "outputs": [],
   "source": [
    "data['min_amount_month'] = (data['min_amount_month'] - data['min_amount_month'].min()) / (data['min_amount_month'].max() - data['min_amount_month'].min())"
   ]
  },
  {
   "cell_type": "code",
   "execution_count": 150,
   "id": "db846678",
   "metadata": {},
   "outputs": [],
   "source": [
    "data['count_payment_code_month'] = (data['count_payment_code_month'] - data['count_payment_code_month'].min()) / (data['count_payment_code_month'].max() - data['count_payment_code_month'].min())"
   ]
  },
  {
   "cell_type": "code",
   "execution_count": 151,
   "id": "1165a229",
   "metadata": {},
   "outputs": [],
   "source": [
    "data['distinct_ref_no_month'] = (data['distinct_ref_no_month'] - data['distinct_ref_no_month'].min()) / (data['distinct_ref_no_month'].max() - data['distinct_ref_no_month'].min())"
   ]
  },
  {
   "cell_type": "code",
   "execution_count": 152,
   "id": "e178e260",
   "metadata": {},
   "outputs": [],
   "source": [
    "data['amount_3month'] = (data['amount_3month'] - data['amount_3month'].min()) / (data['amount_3month'].max() - data['amount_3month'].min())"
   ]
  },
  {
   "cell_type": "code",
   "execution_count": 153,
   "id": "839150fd",
   "metadata": {},
   "outputs": [],
   "source": [
    "data['max_amount_3month'] = (data['max_amount_3month'] - data['max_amount_3month'].min()) / (data['max_amount_3month'].max() - data['max_amount_3month'].min())"
   ]
  },
  {
   "cell_type": "code",
   "execution_count": 154,
   "id": "80097c0e",
   "metadata": {},
   "outputs": [],
   "source": [
    "data['min_amount_3month'] = (data['min_amount_3month'] - data['min_amount_3month'].min()) / (data['min_amount_3month'].max() - data['min_amount_3month'].min())"
   ]
  },
  {
   "cell_type": "code",
   "execution_count": 155,
   "id": "909b65de",
   "metadata": {},
   "outputs": [],
   "source": [
    "data['count_payment_code_3month'] = (data['count_payment_code_3month'] - data['count_payment_code_3month'].min()) / (data['count_payment_code_3month'].max() - data['count_payment_code_3month'].min())"
   ]
  },
  {
   "cell_type": "code",
   "execution_count": 156,
   "id": "5a082582",
   "metadata": {},
   "outputs": [],
   "source": [
    "data['distinct_ref_no_3month'] = (data['distinct_ref_no_3month'] - data['distinct_ref_no_3month'].min()) / (data['distinct_ref_no_3month'].max() - data['distinct_ref_no_3month'].min())"
   ]
  },
  {
   "cell_type": "code",
   "execution_count": 157,
   "id": "1d1d0d1b",
   "metadata": {},
   "outputs": [],
   "source": [
    "data['diff_amount_month'] = (data['diff_amount_month'] - data['diff_amount_month'].min()) / (data['diff_amount_month'].max() - data['diff_amount_month'].min())"
   ]
  },
  {
   "cell_type": "code",
   "execution_count": 158,
   "id": "5036385f",
   "metadata": {},
   "outputs": [],
   "source": [
    "data['diff_amount_week'] = (data['diff_amount_week'] - data['diff_amount_week'].min()) / (data['diff_amount_week'].max() - data['diff_amount_week'].min())"
   ]
  },
  {
   "cell_type": "code",
   "execution_count": 159,
   "id": "93c1a8dc",
   "metadata": {},
   "outputs": [],
   "source": [
    "data['diff_amount_3month'] = (data['diff_amount_3month'] - data['diff_amount_3month'].min()) / (data['diff_amount_3month'].max() - data['diff_amount_3month'].min())"
   ]
  },
  {
   "cell_type": "code",
   "execution_count": 160,
   "id": "a282e651",
   "metadata": {},
   "outputs": [
    {
     "data": {
      "text/html": [
       "<div>\n",
       "<style scoped>\n",
       "    .dataframe tbody tr th:only-of-type {\n",
       "        vertical-align: middle;\n",
       "    }\n",
       "\n",
       "    .dataframe tbody tr th {\n",
       "        vertical-align: top;\n",
       "    }\n",
       "\n",
       "    .dataframe thead th {\n",
       "        text-align: right;\n",
       "    }\n",
       "</style>\n",
       "<table border=\"1\" class=\"dataframe\">\n",
       "  <thead>\n",
       "    <tr style=\"text-align: right;\">\n",
       "      <th></th>\n",
       "      <th>resid_province</th>\n",
       "      <th>amount_week</th>\n",
       "      <th>max_amount_week</th>\n",
       "      <th>min_amount_week</th>\n",
       "      <th>count_payment_code_week</th>\n",
       "      <th>distinct_ref_no_week</th>\n",
       "      <th>amount_month</th>\n",
       "      <th>max_amount_month</th>\n",
       "      <th>min_amount_month</th>\n",
       "      <th>count_payment_code_month</th>\n",
       "      <th>...</th>\n",
       "      <th>payment_code_3month_0</th>\n",
       "      <th>payment_code_3month_1</th>\n",
       "      <th>payment_code_3month_2</th>\n",
       "      <th>payment_code_3month_3</th>\n",
       "      <th>payment_code_3month_Other</th>\n",
       "      <th>trans_group_3month_1</th>\n",
       "      <th>trans_group_3month_2</th>\n",
       "      <th>trans_group_3month_3</th>\n",
       "      <th>trans_group_3month_4</th>\n",
       "      <th>trans_group_3month_Other</th>\n",
       "    </tr>\n",
       "  </thead>\n",
       "  <tbody>\n",
       "    <tr>\n",
       "      <th>count</th>\n",
       "      <td>54790.000000</td>\n",
       "      <td>54790.00000</td>\n",
       "      <td>54790.000000</td>\n",
       "      <td>54790.000000</td>\n",
       "      <td>54790.000000</td>\n",
       "      <td>54790.000000</td>\n",
       "      <td>54790.000000</td>\n",
       "      <td>54790.000000</td>\n",
       "      <td>54790.000000</td>\n",
       "      <td>54790.000000</td>\n",
       "      <td>...</td>\n",
       "      <td>54790.000000</td>\n",
       "      <td>54790.000000</td>\n",
       "      <td>54790.000000</td>\n",
       "      <td>54790.000000</td>\n",
       "      <td>54790.000000</td>\n",
       "      <td>54790.000000</td>\n",
       "      <td>54790.000000</td>\n",
       "      <td>54790.000000</td>\n",
       "      <td>54790.000000</td>\n",
       "      <td>54790.000000</td>\n",
       "    </tr>\n",
       "    <tr>\n",
       "      <th>mean</th>\n",
       "      <td>32.401643</td>\n",
       "      <td>0.00059</td>\n",
       "      <td>0.267631</td>\n",
       "      <td>0.278953</td>\n",
       "      <td>0.189140</td>\n",
       "      <td>0.352765</td>\n",
       "      <td>0.277259</td>\n",
       "      <td>0.280133</td>\n",
       "      <td>0.311214</td>\n",
       "      <td>0.268409</td>\n",
       "      <td>...</td>\n",
       "      <td>0.254316</td>\n",
       "      <td>0.478299</td>\n",
       "      <td>0.151305</td>\n",
       "      <td>0.072550</td>\n",
       "      <td>0.043530</td>\n",
       "      <td>0.070451</td>\n",
       "      <td>0.251214</td>\n",
       "      <td>0.430608</td>\n",
       "      <td>0.166563</td>\n",
       "      <td>0.081164</td>\n",
       "    </tr>\n",
       "    <tr>\n",
       "      <th>std</th>\n",
       "      <td>29.001154</td>\n",
       "      <td>0.00615</td>\n",
       "      <td>0.350143</td>\n",
       "      <td>0.350383</td>\n",
       "      <td>0.305773</td>\n",
       "      <td>0.306474</td>\n",
       "      <td>0.353795</td>\n",
       "      <td>0.347952</td>\n",
       "      <td>0.333123</td>\n",
       "      <td>0.301950</td>\n",
       "      <td>...</td>\n",
       "      <td>0.435480</td>\n",
       "      <td>0.499533</td>\n",
       "      <td>0.358349</td>\n",
       "      <td>0.259398</td>\n",
       "      <td>0.204048</td>\n",
       "      <td>0.255908</td>\n",
       "      <td>0.433715</td>\n",
       "      <td>0.495166</td>\n",
       "      <td>0.372589</td>\n",
       "      <td>0.273090</td>\n",
       "    </tr>\n",
       "    <tr>\n",
       "      <th>min</th>\n",
       "      <td>0.000000</td>\n",
       "      <td>0.00000</td>\n",
       "      <td>0.000000</td>\n",
       "      <td>0.000000</td>\n",
       "      <td>0.000000</td>\n",
       "      <td>0.000000</td>\n",
       "      <td>0.000000</td>\n",
       "      <td>0.000000</td>\n",
       "      <td>0.000000</td>\n",
       "      <td>0.000000</td>\n",
       "      <td>...</td>\n",
       "      <td>0.000000</td>\n",
       "      <td>0.000000</td>\n",
       "      <td>0.000000</td>\n",
       "      <td>0.000000</td>\n",
       "      <td>0.000000</td>\n",
       "      <td>0.000000</td>\n",
       "      <td>0.000000</td>\n",
       "      <td>0.000000</td>\n",
       "      <td>0.000000</td>\n",
       "      <td>0.000000</td>\n",
       "    </tr>\n",
       "    <tr>\n",
       "      <th>25%</th>\n",
       "      <td>1.000000</td>\n",
       "      <td>0.00000</td>\n",
       "      <td>0.017204</td>\n",
       "      <td>0.026083</td>\n",
       "      <td>0.000000</td>\n",
       "      <td>0.137931</td>\n",
       "      <td>0.023345</td>\n",
       "      <td>0.031426</td>\n",
       "      <td>0.056581</td>\n",
       "      <td>0.000000</td>\n",
       "      <td>...</td>\n",
       "      <td>0.000000</td>\n",
       "      <td>0.000000</td>\n",
       "      <td>0.000000</td>\n",
       "      <td>0.000000</td>\n",
       "      <td>0.000000</td>\n",
       "      <td>0.000000</td>\n",
       "      <td>0.000000</td>\n",
       "      <td>0.000000</td>\n",
       "      <td>0.000000</td>\n",
       "      <td>0.000000</td>\n",
       "    </tr>\n",
       "    <tr>\n",
       "      <th>50%</th>\n",
       "      <td>31.000000</td>\n",
       "      <td>0.00000</td>\n",
       "      <td>0.087204</td>\n",
       "      <td>0.103873</td>\n",
       "      <td>0.000000</td>\n",
       "      <td>0.206897</td>\n",
       "      <td>0.089318</td>\n",
       "      <td>0.093080</td>\n",
       "      <td>0.141932</td>\n",
       "      <td>0.133333</td>\n",
       "      <td>...</td>\n",
       "      <td>0.000000</td>\n",
       "      <td>0.000000</td>\n",
       "      <td>0.000000</td>\n",
       "      <td>0.000000</td>\n",
       "      <td>0.000000</td>\n",
       "      <td>0.000000</td>\n",
       "      <td>0.000000</td>\n",
       "      <td>0.000000</td>\n",
       "      <td>0.000000</td>\n",
       "      <td>0.000000</td>\n",
       "    </tr>\n",
       "    <tr>\n",
       "      <th>75%</th>\n",
       "      <td>51.000000</td>\n",
       "      <td>0.00000</td>\n",
       "      <td>0.410322</td>\n",
       "      <td>0.415650</td>\n",
       "      <td>0.400000</td>\n",
       "      <td>0.482759</td>\n",
       "      <td>0.414007</td>\n",
       "      <td>0.418862</td>\n",
       "      <td>0.433949</td>\n",
       "      <td>0.400000</td>\n",
       "      <td>...</td>\n",
       "      <td>1.000000</td>\n",
       "      <td>1.000000</td>\n",
       "      <td>0.000000</td>\n",
       "      <td>0.000000</td>\n",
       "      <td>0.000000</td>\n",
       "      <td>0.000000</td>\n",
       "      <td>1.000000</td>\n",
       "      <td>1.000000</td>\n",
       "      <td>0.000000</td>\n",
       "      <td>0.000000</td>\n",
       "    </tr>\n",
       "    <tr>\n",
       "      <th>max</th>\n",
       "      <td>96.000000</td>\n",
       "      <td>1.00000</td>\n",
       "      <td>1.000000</td>\n",
       "      <td>1.000000</td>\n",
       "      <td>1.000000</td>\n",
       "      <td>1.000000</td>\n",
       "      <td>1.000000</td>\n",
       "      <td>1.000000</td>\n",
       "      <td>1.000000</td>\n",
       "      <td>1.000000</td>\n",
       "      <td>...</td>\n",
       "      <td>1.000000</td>\n",
       "      <td>1.000000</td>\n",
       "      <td>1.000000</td>\n",
       "      <td>1.000000</td>\n",
       "      <td>1.000000</td>\n",
       "      <td>1.000000</td>\n",
       "      <td>1.000000</td>\n",
       "      <td>1.000000</td>\n",
       "      <td>1.000000</td>\n",
       "      <td>1.000000</td>\n",
       "    </tr>\n",
       "  </tbody>\n",
       "</table>\n",
       "<p>8 rows × 57 columns</p>\n",
       "</div>"
      ],
      "text/plain": [
       "       resid_province  amount_week  max_amount_week  min_amount_week  \\\n",
       "count    54790.000000  54790.00000     54790.000000     54790.000000   \n",
       "mean        32.401643      0.00059         0.267631         0.278953   \n",
       "std         29.001154      0.00615         0.350143         0.350383   \n",
       "min          0.000000      0.00000         0.000000         0.000000   \n",
       "25%          1.000000      0.00000         0.017204         0.026083   \n",
       "50%         31.000000      0.00000         0.087204         0.103873   \n",
       "75%         51.000000      0.00000         0.410322         0.415650   \n",
       "max         96.000000      1.00000         1.000000         1.000000   \n",
       "\n",
       "       count_payment_code_week  distinct_ref_no_week  amount_month  \\\n",
       "count             54790.000000          54790.000000  54790.000000   \n",
       "mean                  0.189140              0.352765      0.277259   \n",
       "std                   0.305773              0.306474      0.353795   \n",
       "min                   0.000000              0.000000      0.000000   \n",
       "25%                   0.000000              0.137931      0.023345   \n",
       "50%                   0.000000              0.206897      0.089318   \n",
       "75%                   0.400000              0.482759      0.414007   \n",
       "max                   1.000000              1.000000      1.000000   \n",
       "\n",
       "       max_amount_month  min_amount_month  count_payment_code_month  ...  \\\n",
       "count      54790.000000      54790.000000              54790.000000  ...   \n",
       "mean           0.280133          0.311214                  0.268409  ...   \n",
       "std            0.347952          0.333123                  0.301950  ...   \n",
       "min            0.000000          0.000000                  0.000000  ...   \n",
       "25%            0.031426          0.056581                  0.000000  ...   \n",
       "50%            0.093080          0.141932                  0.133333  ...   \n",
       "75%            0.418862          0.433949                  0.400000  ...   \n",
       "max            1.000000          1.000000                  1.000000  ...   \n",
       "\n",
       "       payment_code_3month_0  payment_code_3month_1  payment_code_3month_2  \\\n",
       "count           54790.000000           54790.000000           54790.000000   \n",
       "mean                0.254316               0.478299               0.151305   \n",
       "std                 0.435480               0.499533               0.358349   \n",
       "min                 0.000000               0.000000               0.000000   \n",
       "25%                 0.000000               0.000000               0.000000   \n",
       "50%                 0.000000               0.000000               0.000000   \n",
       "75%                 1.000000               1.000000               0.000000   \n",
       "max                 1.000000               1.000000               1.000000   \n",
       "\n",
       "       payment_code_3month_3  payment_code_3month_Other  trans_group_3month_1  \\\n",
       "count           54790.000000               54790.000000          54790.000000   \n",
       "mean                0.072550                   0.043530              0.070451   \n",
       "std                 0.259398                   0.204048              0.255908   \n",
       "min                 0.000000                   0.000000              0.000000   \n",
       "25%                 0.000000                   0.000000              0.000000   \n",
       "50%                 0.000000                   0.000000              0.000000   \n",
       "75%                 0.000000                   0.000000              0.000000   \n",
       "max                 1.000000                   1.000000              1.000000   \n",
       "\n",
       "       trans_group_3month_2  trans_group_3month_3  trans_group_3month_4  \\\n",
       "count          54790.000000          54790.000000          54790.000000   \n",
       "mean               0.251214              0.430608              0.166563   \n",
       "std                0.433715              0.495166              0.372589   \n",
       "min                0.000000              0.000000              0.000000   \n",
       "25%                0.000000              0.000000              0.000000   \n",
       "50%                0.000000              0.000000              0.000000   \n",
       "75%                1.000000              1.000000              0.000000   \n",
       "max                1.000000              1.000000              1.000000   \n",
       "\n",
       "       trans_group_3month_Other  \n",
       "count              54790.000000  \n",
       "mean                   0.081164  \n",
       "std                    0.273090  \n",
       "min                    0.000000  \n",
       "25%                    0.000000  \n",
       "50%                    0.000000  \n",
       "75%                    0.000000  \n",
       "max                    1.000000  \n",
       "\n",
       "[8 rows x 57 columns]"
      ]
     },
     "execution_count": 160,
     "metadata": {},
     "output_type": "execute_result"
    }
   ],
   "source": [
    "data.describe()"
   ]
  },
  {
   "cell_type": "code",
   "execution_count": 161,
   "id": "f3453e32",
   "metadata": {},
   "outputs": [],
   "source": [
    "corr = data.corr()"
   ]
  },
  {
   "cell_type": "code",
   "execution_count": 162,
   "id": "85756585",
   "metadata": {},
   "outputs": [
    {
     "data": {
      "text/plain": [
       "distinct_ref_no_3month      -0.111258\n",
       "distinct_ref_no_month       -0.110730\n",
       "diff_amount_3month          -0.101335\n",
       "diff_amount_week            -0.099806\n",
       "diff_amount_month           -0.099315\n",
       "amount_3month               -0.093126\n",
       "distinct_ref_no_week        -0.092334\n",
       "amount_month                -0.091895\n",
       "max_amount_3month           -0.091602\n",
       "max_amount_month            -0.086161\n",
       "max_amount_week             -0.079971\n",
       "count_payment_code_3month   -0.079773\n",
       "count_payment_code_month    -0.067064\n",
       "trans_group_month_Other     -0.058403\n",
       "trans_group_3month_Other    -0.057240\n",
       "trans_group_3month_4        -0.052797\n",
       "payment_code_3month_3       -0.052668\n",
       "payment_code_3month_2       -0.051211\n",
       "payment_code_month_2.0      -0.051003\n",
       "trans_group_3month_3        -0.050873\n",
       "payment_code_month_Other    -0.049941\n",
       "marital_status_Married      -0.046067\n",
       "trans_group_month_3.0       -0.040333\n",
       "trans_group_week_Other      -0.039097\n",
       "payment_code_3month_Other   -0.035025\n",
       "sex_FEMALE                  -0.030398\n",
       "age_31-50                   -0.027130\n",
       "payment_code_week_Other     -0.020331\n",
       "amount_week                 -0.011581\n",
       "trans_group_week_2.0        -0.009635\n",
       "payment_code_month_1.0      -0.008769\n",
       "trans_group_month_2.0       -0.007452\n",
       "count_payment_code_week     -0.006038\n",
       "resid_province              -0.004022\n",
       "marital_status_Divorced     -0.003961\n",
       "payment_code_week_0.0       -0.002461\n",
       "marital_status_Seperated    -0.001617\n",
       "age_19-30                   -0.001510\n",
       "marital_status_Widow        -0.001320\n",
       "marital_status_Other         0.000096\n",
       "payment_code_3month_1        0.005111\n",
       "marital_status_Partner       0.007628\n",
       "payment_code_week_1.0        0.009190\n",
       "age_Over 50                  0.011769\n",
       "min_amount_week              0.025271\n",
       "sex_MALE                     0.030398\n",
       "trans_group_week_1.0         0.031770\n",
       "marital_status_Single        0.045921\n",
       "min_amount_month             0.061263\n",
       "payment_code_month_0.0       0.068698\n",
       "trans_group_3month_2         0.072243\n",
       "min_amount_3month            0.074550\n",
       "age_6-18                     0.080717\n",
       "payment_code_3month_0        0.084062\n",
       "trans_group_month_1.0        0.095215\n",
       "trans_group_3month_1         0.113951\n",
       "Is_churn                     1.000000\n",
       "Name: Is_churn, dtype: float64"
      ]
     },
     "execution_count": 162,
     "metadata": {},
     "output_type": "execute_result"
    }
   ],
   "source": [
    "corr['Is_churn'].sort_values()"
   ]
  },
  {
   "cell_type": "code",
   "execution_count": 164,
   "id": "c75a2520",
   "metadata": {},
   "outputs": [],
   "source": [
    "df = data[['distinct_ref_no_3month', 'distinct_ref_no_month', 'trans_group_3month_1', 'diff_amount_3month',\n",
    "          'diff_amount_week', 'diff_amount_month', 'trans_group_month_1.0', 'amount_3month', 'distinct_ref_no_week',\n",
    "          'amount_month', 'max_amount_3month']]"
   ]
  },
  {
   "cell_type": "code",
   "execution_count": 165,
   "id": "14ca06f6",
   "metadata": {},
   "outputs": [
    {
     "data": {
      "text/plain": [
       "<AxesSubplot:xlabel='distinct_ref_no_3month', ylabel='Is_churn'>"
      ]
     },
     "execution_count": 165,
     "metadata": {},
     "output_type": "execute_result"
    },
    {
     "data": {
      "image/png": "[encoded data removed]",
      "text/plain": [
       "<Figure size 432x288 with 1 Axes>"
      ]
     },
     "metadata": {
      "needs_background": "light"
     },
     "output_type": "display_data"
    }
   ],
   "source": [
    "sns.regplot(x = 'distinct_ref_no_3month', y = 'Is_churn', data = data)"
   ]
  },
  {
   "cell_type": "code",
   "execution_count": 167,
   "id": "1ac9f403",
   "metadata": {},
   "outputs": [
    {
     "name": "stdout",
     "output_type": "stream",
     "text": [
      "The Pearson Correlation Coefficient is -0.11125841716072146  with a P-value of P = 1.9931790157089803e-150\n"
     ]
    }
   ],
   "source": [
    "from scipy import stats \n",
    "pearson_coef, p_value = stats.pearsonr(data['distinct_ref_no_3month'], data['Is_churn'])\n",
    "print(\"The Pearson Correlation Coefficient is\", pearson_coef, \" with a P-value of P =\", p_value) "
   ]
  },
  {
   "cell_type": "code",
   "execution_count": 168,
   "id": "41843104",
   "metadata": {},
   "outputs": [
    {
     "data": {
      "text/plain": [
       "<AxesSubplot:xlabel='Is_churn', ylabel='distinct_ref_no_3month'>"
      ]
     },
     "execution_count": 168,
     "metadata": {},
     "output_type": "execute_result"
    },
    {
     "data": {
      "image/png": "[encoded data removed]",
      "text/plain": [
       "<Figure size 432x288 with 1 Axes>"
      ]
     },
     "metadata": {
      "needs_background": "light"
     },
     "output_type": "display_data"
    }
   ],
   "source": [
    "sns.boxplot(x = 'Is_churn', y = 'distinct_ref_no_3month', data = data)"
   ]
  },
  {
   "cell_type": "code",
   "execution_count": 169,
   "id": "ea134fc0",
   "metadata": {},
   "outputs": [],
   "source": [
    "data_churn = data[data['Is_churn'] == 1]\n",
    "data_active = data[data['Is_churn'] == 0]"
   ]
  },
  {
   "cell_type": "code",
   "execution_count": 170,
   "id": "c19da276",
   "metadata": {},
   "outputs": [
    {
     "name": "stderr",
     "output_type": "stream",
     "text": [
      "C:\\Users\\user\\anaconda3\\lib\\site-packages\\seaborn\\distributions.py:2619: FutureWarning: `distplot` is a deprecated function and will be removed in a future version. Please adapt your code to use either `displot` (a figure-level function with similar flexibility) or `kdeplot` (an axes-level function for kernel density plots).\n",
      "  warnings.warn(msg, FutureWarning)\n",
      "C:\\Users\\user\\anaconda3\\lib\\site-packages\\seaborn\\distributions.py:2619: FutureWarning: `distplot` is a deprecated function and will be removed in a future version. Please adapt your code to use either `displot` (a figure-level function with similar flexibility) or `kdeplot` (an axes-level function for kernel density plots).\n",
      "  warnings.warn(msg, FutureWarning)\n"
     ]
    },
    {
     "data": {
      "image/png": "[encoded data removed]",
      "text/plain": [
       "<Figure size 432x288 with 1 Axes>"
      ]
     },
     "metadata": {
      "needs_background": "light"
     },
     "output_type": "display_data"
    }
   ],
   "source": [
    "ax1 = sns.distplot(data_active['distinct_ref_no_3month'], hist = False, color = 'b', label = 'Active Customer')\n",
    "sns.distplot(data_churn['distinct_ref_no_3month'], hist = False, color = 'r', label = 'Churn Customer', ax = ax1)\n",
    "plt.show()"
   ]
  },
  {
   "cell_type": "code",
   "execution_count": 171,
   "id": "4b9f3a39",
   "metadata": {},
   "outputs": [
    {
     "data": {
      "text/plain": [
       "0    0.018127\n",
       "dtype: float64"
      ]
     },
     "execution_count": 171,
     "metadata": {},
     "output_type": "execute_result"
    }
   ],
   "source": [
    "data_churn['distinct_ref_no_3month'].mode()"
   ]
  },
  {
   "cell_type": "markdown",
   "id": "7c0a2dfa",
   "metadata": {},
   "source": [
    "<h5>Looking at the chart above, we see that when the values ​​of the 'distinct_ref_no_3month' column increase from the min value to 0.018, customers tend to churn. However, when the value of the column 'distinct_ref_no_3month' continued to increase from 0.018, the number of active customers greatly increased.</h5>"
   ]
  },
  {
   "cell_type": "code",
   "execution_count": 172,
   "id": "284036aa",
   "metadata": {},
   "outputs": [
    {
     "data": {
      "text/plain": [
       "<AxesSubplot:xlabel='distinct_ref_no_month', ylabel='Is_churn'>"
      ]
     },
     "execution_count": 172,
     "metadata": {},
     "output_type": "execute_result"
    },
    {
     "data": {
      "image/png": "[encoded data removed]",
      "text/plain": [
       "<Figure size 432x288 with 1 Axes>"
      ]
     },
     "metadata": {
      "needs_background": "light"
     },
     "output_type": "display_data"
    }
   ],
   "source": [
    "sns.regplot(x = 'distinct_ref_no_month', y = 'Is_churn', data = data)"
   ]
  },
  {
   "cell_type": "code",
   "execution_count": 173,
   "id": "d5d5c457",
   "metadata": {},
   "outputs": [
    {
     "name": "stdout",
     "output_type": "stream",
     "text": [
      "The Pearson Correlation Coefficient is -0.11073004109119988  with a P-value of P = 5.181560041986308e-149\n"
     ]
    }
   ],
   "source": [
    "pearson_coef, p_value = stats.pearsonr(data['distinct_ref_no_month'], data['Is_churn'])\n",
    "print(\"The Pearson Correlation Coefficient is\", pearson_coef, \" with a P-value of P =\", p_value) "
   ]
  },
  {
   "cell_type": "code",
   "execution_count": 174,
   "id": "6c01f8d5",
   "metadata": {},
   "outputs": [
    {
     "name": "stderr",
     "output_type": "stream",
     "text": [
      "C:\\Users\\user\\anaconda3\\lib\\site-packages\\seaborn\\distributions.py:2619: FutureWarning: `distplot` is a deprecated function and will be removed in a future version. Please adapt your code to use either `displot` (a figure-level function with similar flexibility) or `kdeplot` (an axes-level function for kernel density plots).\n",
      "  warnings.warn(msg, FutureWarning)\n",
      "C:\\Users\\user\\anaconda3\\lib\\site-packages\\seaborn\\distributions.py:2619: FutureWarning: `distplot` is a deprecated function and will be removed in a future version. Please adapt your code to use either `displot` (a figure-level function with similar flexibility) or `kdeplot` (an axes-level function for kernel density plots).\n",
      "  warnings.warn(msg, FutureWarning)\n"
     ]
    },
    {
     "data": {
      "image/png": "[encoded data removed]",
      "text/plain": [
       "<Figure size 432x288 with 1 Axes>"
      ]
     },
     "metadata": {
      "needs_background": "light"
     },
     "output_type": "display_data"
    }
   ],
   "source": [
    "ax1 = sns.distplot(data_active['distinct_ref_no_month'], hist = False, color = 'b', label = 'Active Customer')\n",
    "sns.distplot(data_churn['distinct_ref_no_month'], hist = False, color = 'r', label = 'Churn Customer', ax = ax1)\n",
    "plt.show()"
   ]
  },
  {
   "cell_type": "code",
   "execution_count": 175,
   "id": "fdb01225",
   "metadata": {},
   "outputs": [
    {
     "data": {
      "text/plain": [
       "0    0.015504\n",
       "dtype: float64"
      ]
     },
     "execution_count": 175,
     "metadata": {},
     "output_type": "execute_result"
    }
   ],
   "source": [
    "data_churn['distinct_ref_no_month'].mode()"
   ]
  },
  {
   "cell_type": "markdown",
   "id": "8b0ab4db",
   "metadata": {},
   "source": [
    "<h5> Similar to the trend histogram of column 'distinct_ref_no_3month', customers tend to be churn as values ​​in column 'distinct_ref_no_month' increase from min value to 0.015. <h5>"
   ]
  },
  {
   "cell_type": "code",
   "execution_count": 176,
   "id": "79502085",
   "metadata": {},
   "outputs": [
    {
     "data": {
      "text/plain": [
       "<AxesSubplot:xlabel='trans_group_3month_1', ylabel='Is_churn'>"
      ]
     },
     "execution_count": 176,
     "metadata": {},
     "output_type": "execute_result"
    },
    {
     "data": {
      "image/png": "[encoded data removed]",
      "text/plain": [
       "<Figure size 432x288 with 1 Axes>"
      ]
     },
     "metadata": {
      "needs_background": "light"
     },
     "output_type": "display_data"
    }
   ],
   "source": [
    "sns.regplot(x = 'trans_group_3month_1', y = 'Is_churn', data = data)"
   ]
  },
  {
   "cell_type": "code",
   "execution_count": 177,
   "id": "13edd18a",
   "metadata": {},
   "outputs": [
    {
     "name": "stdout",
     "output_type": "stream",
     "text": [
      "The Pearson Correlation Coefficient is 0.11395112772791523  with a P-value of P = 9.590803113555227e-158\n"
     ]
    }
   ],
   "source": [
    "pearson_coef, p_value = stats.pearsonr(data['trans_group_3month_1'], data['Is_churn'])\n",
    "print(\"The Pearson Correlation Coefficient is\", pearson_coef, \" with a P-value of P =\", p_value) "
   ]
  },
  {
   "cell_type": "code",
   "execution_count": 178,
   "id": "fefb716d",
   "metadata": {},
   "outputs": [
    {
     "data": {
      "text/plain": [
       "<AxesSubplot:xlabel='Is_churn', ylabel='count'>"
      ]
     },
     "execution_count": 178,
     "metadata": {},
     "output_type": "execute_result"
    },
    {
     "data": {
      "image/png": "[encoded data removed]",
      "text/plain": [
       "<Figure size 432x288 with 1 Axes>"
      ]
     },
     "metadata": {
      "needs_background": "light"
     },
     "output_type": "display_data"
    }
   ],
   "source": [
    "sns.countplot(x = 'Is_churn', hue = 'trans_group_3month_1', data = data)"
   ]
  },
  {
   "cell_type": "code",
   "execution_count": 179,
   "id": "0461f430",
   "metadata": {},
   "outputs": [
    {
     "name": "stderr",
     "output_type": "stream",
     "text": [
      "C:\\Users\\user\\anaconda3\\lib\\site-packages\\seaborn\\distributions.py:2619: FutureWarning: `distplot` is a deprecated function and will be removed in a future version. Please adapt your code to use either `displot` (a figure-level function with similar flexibility) or `kdeplot` (an axes-level function for kernel density plots).\n",
      "  warnings.warn(msg, FutureWarning)\n",
      "C:\\Users\\user\\anaconda3\\lib\\site-packages\\seaborn\\distributions.py:2619: FutureWarning: `distplot` is a deprecated function and will be removed in a future version. Please adapt your code to use either `displot` (a figure-level function with similar flexibility) or `kdeplot` (an axes-level function for kernel density plots).\n",
      "  warnings.warn(msg, FutureWarning)\n"
     ]
    },
    {
     "data": {
      "image/png": "[encoded data removed]",
      "text/plain": [
       "<Figure size 432x288 with 1 Axes>"
      ]
     },
     "metadata": {
      "needs_background": "light"
     },
     "output_type": "display_data"
    }
   ],
   "source": [
    "ax1 = sns.distplot(data_active['trans_group_3month_1'], hist = False, color = 'b', label = 'Active Customer')\n",
    "sns.distplot(data_churn['trans_group_3month_1'], hist = False, color = 'r', label = 'Churn Customer', ax = ax1)\n",
    "plt.show()"
   ]
  },
  {
   "cell_type": "code",
   "execution_count": 180,
   "id": "23dd2c70",
   "metadata": {},
   "outputs": [
    {
     "data": {
      "text/plain": [
       "<AxesSubplot:xlabel='diff_amount_3month', ylabel='Is_churn'>"
      ]
     },
     "execution_count": 180,
     "metadata": {},
     "output_type": "execute_result"
    },
    {
     "data": {
      "image/png": "[encoded data removed]",
      "text/plain": [
       "<Figure size 432x288 with 1 Axes>"
      ]
     },
     "metadata": {
      "needs_background": "light"
     },
     "output_type": "display_data"
    }
   ],
   "source": [
    "sns.regplot(x = 'diff_amount_3month', y = 'Is_churn', data = data)"
   ]
  },
  {
   "cell_type": "code",
   "execution_count": 181,
   "id": "d2fc90d5",
   "metadata": {},
   "outputs": [
    {
     "name": "stdout",
     "output_type": "stream",
     "text": [
      "The Pearson Correlation Coefficient is -0.10133491058661155  with a P-value of P = 5.325451515574425e-125\n"
     ]
    }
   ],
   "source": [
    "pearson_coef, p_value = stats.pearsonr(data['diff_amount_3month'], data['Is_churn'])\n",
    "print(\"The Pearson Correlation Coefficient is\", pearson_coef, \" with a P-value of P =\", p_value) "
   ]
  },
  {
   "cell_type": "code",
   "execution_count": 182,
   "id": "c5daef1e",
   "metadata": {},
   "outputs": [
    {
     "name": "stderr",
     "output_type": "stream",
     "text": [
      "C:\\Users\\user\\anaconda3\\lib\\site-packages\\seaborn\\distributions.py:2619: FutureWarning: `distplot` is a deprecated function and will be removed in a future version. Please adapt your code to use either `displot` (a figure-level function with similar flexibility) or `kdeplot` (an axes-level function for kernel density plots).\n",
      "  warnings.warn(msg, FutureWarning)\n",
      "C:\\Users\\user\\anaconda3\\lib\\site-packages\\seaborn\\distributions.py:2619: FutureWarning: `distplot` is a deprecated function and will be removed in a future version. Please adapt your code to use either `displot` (a figure-level function with similar flexibility) or `kdeplot` (an axes-level function for kernel density plots).\n",
      "  warnings.warn(msg, FutureWarning)\n"
     ]
    },
    {
     "data": {
      "image/png": "[encoded data removed]",
      "text/plain": [
       "<Figure size 432x288 with 1 Axes>"
      ]
     },
     "metadata": {
      "needs_background": "light"
     },
     "output_type": "display_data"
    }
   ],
   "source": [
    "ax1 = sns.distplot(data_active['diff_amount_3month'], hist = False, color = 'b', label = 'Active Customer')\n",
    "sns.distplot(data_churn['diff_amount_3month'], hist = False, color = 'r', label = 'Churn Customer', ax = ax1)\n",
    "plt.show()"
   ]
  },
  {
   "cell_type": "markdown",
   "id": "f325afcd",
   "metadata": {},
   "source": [
    "<h5> We discover that the number of customers leaving tends to increase sharply if the difference between their transactions in the previous 3 months is between 0.2 and 0.4. </h5>"
   ]
  },
  {
   "cell_type": "code",
   "execution_count": 183,
   "id": "bc5d9fd5",
   "metadata": {},
   "outputs": [
    {
     "data": {
      "text/plain": [
       "<AxesSubplot:xlabel='diff_amount_week', ylabel='Is_churn'>"
      ]
     },
     "execution_count": 183,
     "metadata": {},
     "output_type": "execute_result"
    },
    {
     "data": {
      "image/png": "[encoded data removed]",
      "text/plain": [
       "<Figure size 432x288 with 1 Axes>"
      ]
     },
     "metadata": {
      "needs_background": "light"
     },
     "output_type": "display_data"
    }
   ],
   "source": [
    "sns.regplot(x = 'diff_amount_week', y = 'Is_churn', data = data)"
   ]
  },
  {
   "cell_type": "code",
   "execution_count": 184,
   "id": "79df1500",
   "metadata": {},
   "outputs": [
    {
     "name": "stdout",
     "output_type": "stream",
     "text": [
      "The Pearson Correlation Coefficient is -0.09980643760480298  with a P-value of P = 2.6787426765183777e-121\n"
     ]
    }
   ],
   "source": [
    "pearson_coef, p_value = stats.pearsonr(data['diff_amount_week'], data['Is_churn'])\n",
    "print(\"The Pearson Correlation Coefficient is\", pearson_coef, \" with a P-value of P =\", p_value) "
   ]
  },
  {
   "cell_type": "code",
   "execution_count": 185,
   "id": "d072f4e5",
   "metadata": {},
   "outputs": [
    {
     "name": "stderr",
     "output_type": "stream",
     "text": [
      "C:\\Users\\user\\anaconda3\\lib\\site-packages\\seaborn\\distributions.py:2619: FutureWarning: `distplot` is a deprecated function and will be removed in a future version. Please adapt your code to use either `displot` (a figure-level function with similar flexibility) or `kdeplot` (an axes-level function for kernel density plots).\n",
      "  warnings.warn(msg, FutureWarning)\n",
      "C:\\Users\\user\\anaconda3\\lib\\site-packages\\seaborn\\distributions.py:2619: FutureWarning: `distplot` is a deprecated function and will be removed in a future version. Please adapt your code to use either `displot` (a figure-level function with similar flexibility) or `kdeplot` (an axes-level function for kernel density plots).\n",
      "  warnings.warn(msg, FutureWarning)\n"
     ]
    },
    {
     "data": {
      "image/png": "[encoded data removed]",
      "text/plain": [
       "<Figure size 432x288 with 1 Axes>"
      ]
     },
     "metadata": {
      "needs_background": "light"
     },
     "output_type": "display_data"
    }
   ],
   "source": [
    "ax1 = sns.distplot(data_active['diff_amount_week'], hist = False, color = 'b', label = 'Active Customer')\n",
    "sns.distplot(data_churn['diff_amount_week'], hist = False, color = 'r', label = 'Churn Customer', ax = ax1)\n",
    "plt.show()"
   ]
  },
  {
   "cell_type": "markdown",
   "id": "09a6a05f",
   "metadata": {},
   "source": [
    "<h5>In this column, we see that when the difference in customer transactions within the previous 1 week increases from min value to 0.4, both customer churn and active tend to increase sharply. However, at this range of values, the difference between the number of churn customers and the active customers is small. However, at the '1' value of the 'diff_amount_week' column, we see that customers tend to be active rather than churn.</h5>"
   ]
  },
  {
   "cell_type": "code",
   "execution_count": 187,
   "id": "38395b23",
   "metadata": {},
   "outputs": [
    {
     "data": {
      "text/plain": [
       "<AxesSubplot:xlabel='diff_amount_month', ylabel='Is_churn'>"
      ]
     },
     "execution_count": 187,
     "metadata": {},
     "output_type": "execute_result"
    },
    {
     "data": {
      "image/png": "[encoded data removed]",
      "text/plain": [
       "<Figure size 432x288 with 1 Axes>"
      ]
     },
     "metadata": {
      "needs_background": "light"
     },
     "output_type": "display_data"
    }
   ],
   "source": [
    "sns.regplot(x = 'diff_amount_month', y = 'Is_churn', data = data)"
   ]
  },
  {
   "cell_type": "code",
   "execution_count": 188,
   "id": "db7d49e9",
   "metadata": {},
   "outputs": [
    {
     "name": "stdout",
     "output_type": "stream",
     "text": [
      "The Pearson Correlation Coefficient is -0.09931458993141892  with a P-value of P = 4.044818517905089e-120\n"
     ]
    }
   ],
   "source": [
    "pearson_coef, p_value = stats.pearsonr(data['diff_amount_month'], data['Is_churn'])\n",
    "print(\"The Pearson Correlation Coefficient is\", pearson_coef, \" with a P-value of P =\", p_value) "
   ]
  },
  {
   "cell_type": "code",
   "execution_count": 189,
   "id": "642223c5",
   "metadata": {},
   "outputs": [
    {
     "name": "stderr",
     "output_type": "stream",
     "text": [
      "C:\\Users\\user\\anaconda3\\lib\\site-packages\\seaborn\\distributions.py:2619: FutureWarning: `distplot` is a deprecated function and will be removed in a future version. Please adapt your code to use either `displot` (a figure-level function with similar flexibility) or `kdeplot` (an axes-level function for kernel density plots).\n",
      "  warnings.warn(msg, FutureWarning)\n",
      "C:\\Users\\user\\anaconda3\\lib\\site-packages\\seaborn\\distributions.py:2619: FutureWarning: `distplot` is a deprecated function and will be removed in a future version. Please adapt your code to use either `displot` (a figure-level function with similar flexibility) or `kdeplot` (an axes-level function for kernel density plots).\n",
      "  warnings.warn(msg, FutureWarning)\n"
     ]
    },
    {
     "data": {
      "image/png": "[encoded data removed]",
      "text/plain": [
       "<Figure size 432x288 with 1 Axes>"
      ]
     },
     "metadata": {
      "needs_background": "light"
     },
     "output_type": "display_data"
    }
   ],
   "source": [
    "ax1 = sns.distplot(data_active['diff_amount_month'], hist = False, color = 'b', label = 'Active Customer')\n",
    "sns.distplot(data_churn['diff_amount_month'], hist = False, color = 'r', label = 'Churn Customer', ax = ax1)\n",
    "plt.show()"
   ]
  },
  {
   "cell_type": "code",
   "execution_count": 190,
   "id": "9231640d",
   "metadata": {},
   "outputs": [
    {
     "data": {
      "text/plain": [
       "<AxesSubplot:xlabel='trans_group_month_1.0', ylabel='Is_churn'>"
      ]
     },
     "execution_count": 190,
     "metadata": {},
     "output_type": "execute_result"
    },
    {
     "data": {
      "image/png": "[encoded data removed]",
      "text/plain": [
       "<Figure size 432x288 with 1 Axes>"
      ]
     },
     "metadata": {
      "needs_background": "light"
     },
     "output_type": "display_data"
    }
   ],
   "source": [
    "sns.regplot(x = 'trans_group_month_1.0', y = 'Is_churn', data = data)"
   ]
  },
  {
   "cell_type": "code",
   "execution_count": 191,
   "id": "5cb84c45",
   "metadata": {},
   "outputs": [
    {
     "name": "stdout",
     "output_type": "stream",
     "text": [
      "The Pearson Correlation Coefficient is 0.09521533916819441  with a P-value of P = 1.5952332402501308e-110\n"
     ]
    }
   ],
   "source": [
    "pearson_coef, p_value = stats.pearsonr(data['trans_group_month_1.0'], data['Is_churn'])\n",
    "print(\"The Pearson Correlation Coefficient is\", pearson_coef, \" with a P-value of P =\", p_value) "
   ]
  },
  {
   "cell_type": "code",
   "execution_count": 192,
   "id": "27692a18",
   "metadata": {},
   "outputs": [
    {
     "data": {
      "text/plain": [
       "<AxesSubplot:xlabel='Is_churn', ylabel='count'>"
      ]
     },
     "execution_count": 192,
     "metadata": {},
     "output_type": "execute_result"
    },
    {
     "data": {
      "image/png": "[encoded data removed]",
      "text/plain": [
       "<Figure size 432x288 with 1 Axes>"
      ]
     },
     "metadata": {
      "needs_background": "light"
     },
     "output_type": "display_data"
    }
   ],
   "source": [
    "sns.countplot(x = 'Is_churn', hue = 'trans_group_month_1.0', data = data)"
   ]
  },
  {
   "cell_type": "code",
   "execution_count": 193,
   "id": "42de25da",
   "metadata": {},
   "outputs": [
    {
     "name": "stderr",
     "output_type": "stream",
     "text": [
      "C:\\Users\\user\\anaconda3\\lib\\site-packages\\seaborn\\distributions.py:2619: FutureWarning: `distplot` is a deprecated function and will be removed in a future version. Please adapt your code to use either `displot` (a figure-level function with similar flexibility) or `kdeplot` (an axes-level function for kernel density plots).\n",
      "  warnings.warn(msg, FutureWarning)\n",
      "C:\\Users\\user\\anaconda3\\lib\\site-packages\\seaborn\\distributions.py:2619: FutureWarning: `distplot` is a deprecated function and will be removed in a future version. Please adapt your code to use either `displot` (a figure-level function with similar flexibility) or `kdeplot` (an axes-level function for kernel density plots).\n",
      "  warnings.warn(msg, FutureWarning)\n"
     ]
    },
    {
     "data": {
      "image/png": "[encoded data removed]",
      "text/plain": [
       "<Figure size 432x288 with 1 Axes>"
      ]
     },
     "metadata": {
      "needs_background": "light"
     },
     "output_type": "display_data"
    }
   ],
   "source": [
    "ax1 = sns.distplot(data_active['trans_group_month_1.0'], hist = False, color = 'b', label = 'Active Customer')\n",
    "sns.distplot(data_churn['trans_group_month_1.0'], hist = False, color = 'r', label = 'Churn Customer', ax = ax1)\n",
    "plt.show()"
   ]
  },
  {
   "cell_type": "code",
   "execution_count": 194,
   "id": "3dfbec59",
   "metadata": {},
   "outputs": [
    {
     "data": {
      "text/plain": [
       "<AxesSubplot:xlabel='amount_3month', ylabel='Is_churn'>"
      ]
     },
     "execution_count": 194,
     "metadata": {},
     "output_type": "execute_result"
    },
    {
     "data": {
      "image/png": "[encoded data removed]",
      "text/plain": [
       "<Figure size 432x288 with 1 Axes>"
      ]
     },
     "metadata": {
      "needs_background": "light"
     },
     "output_type": "display_data"
    }
   ],
   "source": [
    "sns.regplot(x = 'amount_3month', y = 'Is_churn', data = data)"
   ]
  },
  {
   "cell_type": "code",
   "execution_count": 195,
   "id": "115bda6e",
   "metadata": {},
   "outputs": [
    {
     "name": "stdout",
     "output_type": "stream",
     "text": [
      "The Pearson Correlation Coefficient is -0.09312640836282726  with a P-value of P = 8.609948157869148e-106\n"
     ]
    }
   ],
   "source": [
    "pearson_coef, p_value = stats.pearsonr(data['amount_3month'], data['Is_churn'])\n",
    "print(\"The Pearson Correlation Coefficient is\", pearson_coef, \" with a P-value of P =\", p_value) "
   ]
  },
  {
   "cell_type": "code",
   "execution_count": 196,
   "id": "0b9edfbd",
   "metadata": {},
   "outputs": [
    {
     "name": "stderr",
     "output_type": "stream",
     "text": [
      "C:\\Users\\user\\anaconda3\\lib\\site-packages\\seaborn\\distributions.py:2619: FutureWarning: `distplot` is a deprecated function and will be removed in a future version. Please adapt your code to use either `displot` (a figure-level function with similar flexibility) or `kdeplot` (an axes-level function for kernel density plots).\n",
      "  warnings.warn(msg, FutureWarning)\n",
      "C:\\Users\\user\\anaconda3\\lib\\site-packages\\seaborn\\distributions.py:2619: FutureWarning: `distplot` is a deprecated function and will be removed in a future version. Please adapt your code to use either `displot` (a figure-level function with similar flexibility) or `kdeplot` (an axes-level function for kernel density plots).\n",
      "  warnings.warn(msg, FutureWarning)\n"
     ]
    },
    {
     "data": {
      "image/png": "[encoded data removed]",
      "text/plain": [
       "<Figure size 432x288 with 1 Axes>"
      ]
     },
     "metadata": {
      "needs_background": "light"
     },
     "output_type": "display_data"
    }
   ],
   "source": [
    "ax1 = sns.distplot(data_active['amount_3month'], hist = False, color = 'b', label = 'Active Customer')\n",
    "sns.distplot(data_churn['amount_3month'], hist = False, color = 'r', label = 'Churn Customer', ax = ax1)\n",
    "plt.show()"
   ]
  },
  {
   "cell_type": "code",
   "execution_count": 197,
   "id": "0afa6b50",
   "metadata": {},
   "outputs": [
    {
     "data": {
      "text/plain": [
       "<AxesSubplot:xlabel='distinct_ref_no_week', ylabel='Is_churn'>"
      ]
     },
     "execution_count": 197,
     "metadata": {},
     "output_type": "execute_result"
    },
    {
     "data": {
      "image/png": "[encoded data removed]",
      "text/plain": [
       "<Figure size 432x288 with 1 Axes>"
      ]
     },
     "metadata": {
      "needs_background": "light"
     },
     "output_type": "display_data"
    }
   ],
   "source": [
    "sns.regplot(x = 'distinct_ref_no_week', y = 'Is_churn', data = data)"
   ]
  },
  {
   "cell_type": "code",
   "execution_count": 198,
   "id": "e0dd903c",
   "metadata": {},
   "outputs": [
    {
     "name": "stdout",
     "output_type": "stream",
     "text": [
      "The Pearson Correlation Coefficient is -0.09233381831622933  with a P-value of P = 5.0426803002158404e-104\n"
     ]
    }
   ],
   "source": [
    "pearson_coef, p_value = stats.pearsonr(data['distinct_ref_no_week'], data['Is_churn'])\n",
    "print(\"The Pearson Correlation Coefficient is\", pearson_coef, \" with a P-value of P =\", p_value) "
   ]
  },
  {
   "cell_type": "code",
   "execution_count": 199,
   "id": "a2d8a6ff",
   "metadata": {},
   "outputs": [
    {
     "name": "stderr",
     "output_type": "stream",
     "text": [
      "C:\\Users\\user\\anaconda3\\lib\\site-packages\\seaborn\\distributions.py:2619: FutureWarning: `distplot` is a deprecated function and will be removed in a future version. Please adapt your code to use either `displot` (a figure-level function with similar flexibility) or `kdeplot` (an axes-level function for kernel density plots).\n",
      "  warnings.warn(msg, FutureWarning)\n",
      "C:\\Users\\user\\anaconda3\\lib\\site-packages\\seaborn\\distributions.py:2619: FutureWarning: `distplot` is a deprecated function and will be removed in a future version. Please adapt your code to use either `displot` (a figure-level function with similar flexibility) or `kdeplot` (an axes-level function for kernel density plots).\n",
      "  warnings.warn(msg, FutureWarning)\n"
     ]
    },
    {
     "data": {
      "image/png": "[encoded data removed]",
      "text/plain": [
       "<Figure size 432x288 with 1 Axes>"
      ]
     },
     "metadata": {
      "needs_background": "light"
     },
     "output_type": "display_data"
    }
   ],
   "source": [
    "ax1 = sns.distplot(data_active['distinct_ref_no_week'], hist = False, color = 'b', label = 'Active Customer')\n",
    "sns.distplot(data_churn['distinct_ref_no_week'], hist = False, color = 'r', label = 'Churn Customer', ax = ax1)\n",
    "plt.show()"
   ]
  },
  {
   "cell_type": "code",
   "execution_count": 200,
   "id": "cec66be1",
   "metadata": {},
   "outputs": [
    {
     "data": {
      "text/plain": [
       "<AxesSubplot:xlabel='amount_month', ylabel='Is_churn'>"
      ]
     },
     "execution_count": 200,
     "metadata": {},
     "output_type": "execute_result"
    },
    {
     "data": {
      "image/png": "[encoded data removed]",
      "text/plain": [
       "<Figure size 432x288 with 1 Axes>"
      ]
     },
     "metadata": {
      "needs_background": "light"
     },
     "output_type": "display_data"
    }
   ],
   "source": [
    "sns.regplot(x = 'amount_month', y = 'Is_churn', data = data)"
   ]
  },
  {
   "cell_type": "code",
   "execution_count": 201,
   "id": "272555e6",
   "metadata": {},
   "outputs": [
    {
     "name": "stdout",
     "output_type": "stream",
     "text": [
      "The Pearson Correlation Coefficient is -0.09189463399307016  with a P-value of P = 4.73756489664431e-103\n"
     ]
    }
   ],
   "source": [
    "pearson_coef, p_value = stats.pearsonr(data['amount_month'], data['Is_churn'])\n",
    "print(\"The Pearson Correlation Coefficient is\", pearson_coef, \" with a P-value of P =\", p_value) "
   ]
  },
  {
   "cell_type": "code",
   "execution_count": 202,
   "id": "a973e6de",
   "metadata": {},
   "outputs": [
    {
     "name": "stderr",
     "output_type": "stream",
     "text": [
      "C:\\Users\\user\\anaconda3\\lib\\site-packages\\seaborn\\distributions.py:2619: FutureWarning: `distplot` is a deprecated function and will be removed in a future version. Please adapt your code to use either `displot` (a figure-level function with similar flexibility) or `kdeplot` (an axes-level function for kernel density plots).\n",
      "  warnings.warn(msg, FutureWarning)\n",
      "C:\\Users\\user\\anaconda3\\lib\\site-packages\\seaborn\\distributions.py:2619: FutureWarning: `distplot` is a deprecated function and will be removed in a future version. Please adapt your code to use either `displot` (a figure-level function with similar flexibility) or `kdeplot` (an axes-level function for kernel density plots).\n",
      "  warnings.warn(msg, FutureWarning)\n"
     ]
    },
    {
     "data": {
      "image/png": "[encoded data removed]",
      "text/plain": [
       "<Figure size 432x288 with 1 Axes>"
      ]
     },
     "metadata": {
      "needs_background": "light"
     },
     "output_type": "display_data"
    }
   ],
   "source": [
    "ax1 = sns.distplot(data_active['amount_month'], hist = False, color = 'b', label = 'Active Customer')\n",
    "sns.distplot(data_churn['amount_month'], hist = False, color = 'r', label = 'Churn Customer', ax = ax1)\n",
    "plt.show()"
   ]
  },
  {
   "cell_type": "code",
   "execution_count": 203,
   "id": "e6e92870",
   "metadata": {},
   "outputs": [
    {
     "data": {
      "text/plain": [
       "<AxesSubplot:xlabel='max_amount_3month', ylabel='Is_churn'>"
      ]
     },
     "execution_count": 203,
     "metadata": {},
     "output_type": "execute_result"
    },
    {
     "data": {
      "image/png": "[encoded data removed]",
      "text/plain": [
       "<Figure size 432x288 with 1 Axes>"
      ]
     },
     "metadata": {
      "needs_background": "light"
     },
     "output_type": "display_data"
    }
   ],
   "source": [
    "sns.regplot(x = 'max_amount_3month', y = 'Is_churn', data = data)"
   ]
  },
  {
   "cell_type": "code",
   "execution_count": 204,
   "id": "57d5b1e5",
   "metadata": {},
   "outputs": [
    {
     "name": "stdout",
     "output_type": "stream",
     "text": [
      "The Pearson Correlation Coefficient is -0.09160221258491974  with a P-value of P = 2.092811980434715e-102\n"
     ]
    }
   ],
   "source": [
    "pearson_coef, p_value = stats.pearsonr(data['max_amount_3month'], data['Is_churn'])\n",
    "print(\"The Pearson Correlation Coefficient is\", pearson_coef, \" with a P-value of P =\", p_value) "
   ]
  },
  {
   "cell_type": "code",
   "execution_count": 205,
   "id": "5616e9d9",
   "metadata": {
    "scrolled": true
   },
   "outputs": [
    {
     "name": "stderr",
     "output_type": "stream",
     "text": [
      "C:\\Users\\user\\anaconda3\\lib\\site-packages\\seaborn\\distributions.py:2619: FutureWarning: `distplot` is a deprecated function and will be removed in a future version. Please adapt your code to use either `displot` (a figure-level function with similar flexibility) or `kdeplot` (an axes-level function for kernel density plots).\n",
      "  warnings.warn(msg, FutureWarning)\n",
      "C:\\Users\\user\\anaconda3\\lib\\site-packages\\seaborn\\distributions.py:2619: FutureWarning: `distplot` is a deprecated function and will be removed in a future version. Please adapt your code to use either `displot` (a figure-level function with similar flexibility) or `kdeplot` (an axes-level function for kernel density plots).\n",
      "  warnings.warn(msg, FutureWarning)\n"
     ]
    },
    {
     "data": {
      "image/png": "[encoded data removed]",
      "text/plain": [
       "<Figure size 432x288 with 1 Axes>"
      ]
     },
     "metadata": {
      "needs_background": "light"
     },
     "output_type": "display_data"
    }
   ],
   "source": [
    "ax1 = sns.distplot(data_active['max_amount_3month'], hist = False, color = 'b', label = 'Active Customer')\n",
    "sns.distplot(data_churn['max_amount_3month'], hist = False, color = 'r', label = 'Churn Customer', ax = ax1)\n",
    "plt.show()"
   ]
  },
  {
   "cell_type": "markdown",
   "id": "33adcc7c",
   "metadata": {},
   "source": [
    "## Handling Imbalanced Data"
   ]
  },
  {
   "cell_type": "code",
   "execution_count": 211,
   "id": "d36fcba4",
   "metadata": {},
   "outputs": [],
   "source": [
    "from sklearn.model_selection import train_test_split"
   ]
  },
  {
   "cell_type": "code",
   "execution_count": 207,
   "id": "c3ed651e",
   "metadata": {},
   "outputs": [
    {
     "data": {
      "text/plain": [
       "<AxesSubplot:xlabel='Is_churn', ylabel='count'>"
      ]
     },
     "execution_count": 207,
     "metadata": {},
     "output_type": "execute_result"
    },
    {
     "data": {
      "image/png": "[encoded data removed]",
      "text/plain": [
       "<Figure size 432x288 with 1 Axes>"
      ]
     },
     "metadata": {
      "needs_background": "light"
     },
     "output_type": "display_data"
    }
   ],
   "source": [
    "sns.countplot(x = 'Is_churn', data = data)"
   ]
  },
  {
   "cell_type": "markdown",
   "id": "2555825d",
   "metadata": {},
   "source": [
    "First, we split the dataset into data_train and data_test."
   ]
  },
  {
   "cell_type": "code",
   "execution_count": 208,
   "id": "a66fdef5",
   "metadata": {},
   "outputs": [],
   "source": [
    "data_train, data_test = train_test_split(data, test_size = 0.2, stratify = data['Is_churn'], random_state = 999)"
   ]
  },
  {
   "cell_type": "code",
   "execution_count": 209,
   "id": "06b48b61",
   "metadata": {},
   "outputs": [
    {
     "data": {
      "text/plain": [
       "0    41835\n",
       "1     1997\n",
       "Name: Is_churn, dtype: int64"
      ]
     },
     "execution_count": 209,
     "metadata": {},
     "output_type": "execute_result"
    }
   ],
   "source": [
    "data_train['Is_churn'].value_counts()"
   ]
  },
  {
   "cell_type": "code",
   "execution_count": 210,
   "id": "770a6bff",
   "metadata": {},
   "outputs": [
    {
     "data": {
      "text/plain": [
       "0    10459\n",
       "1      499\n",
       "Name: Is_churn, dtype: int64"
      ]
     },
     "execution_count": 210,
     "metadata": {},
     "output_type": "execute_result"
    }
   ],
   "source": [
    "data_test['Is_churn'].value_counts()"
   ]
  },
  {
   "cell_type": "markdown",
   "id": "dedf555a",
   "metadata": {},
   "source": [
    "<h2> OverSampling"
   ]
  },
  {
   "cell_type": "markdown",
   "id": "e68c367d",
   "metadata": {},
   "source": [
    "We perform OverSampling on the data_train set."
   ]
  },
  {
   "cell_type": "code",
   "execution_count": 212,
   "id": "597a79fc",
   "metadata": {},
   "outputs": [],
   "source": [
    "from imblearn.over_sampling import RandomOverSampler"
   ]
  },
  {
   "cell_type": "code",
   "execution_count": 213,
   "id": "853f12c4",
   "metadata": {},
   "outputs": [],
   "source": [
    "ros = RandomOverSampler(random_state = 999)\n",
    "x = data_train.drop('Is_churn', axis = 1)\n",
    "y = data_train['Is_churn']\n",
    "x_resampled, y_resampled = ros.fit_resample(x, y)"
   ]
  },
  {
   "cell_type": "code",
   "execution_count": 214,
   "id": "aeb993f8",
   "metadata": {},
   "outputs": [
    {
     "data": {
      "text/plain": [
       "1    41835\n",
       "0    41835\n",
       "Name: Is_churn, dtype: int64"
      ]
     },
     "execution_count": 214,
     "metadata": {},
     "output_type": "execute_result"
    }
   ],
   "source": [
    "y_resampled.value_counts()"
   ]
  },
  {
   "cell_type": "code",
   "execution_count": 215,
   "id": "4c641f9e",
   "metadata": {},
   "outputs": [],
   "source": [
    "data_train = pd.concat([x_resampled, y_resampled], axis = 1)"
   ]
  },
  {
   "cell_type": "code",
   "execution_count": 216,
   "id": "e710b716",
   "metadata": {
    "scrolled": true
   },
   "outputs": [
    {
     "data": {
      "text/plain": [
       "<AxesSubplot:xlabel='Is_churn', ylabel='count'>"
      ]
     },
     "execution_count": 216,
     "metadata": {},
     "output_type": "execute_result"
    },
    {
     "data": {
      "image/png": "[encoded data removed]",
      "text/plain": [
       "<Figure size 432x288 with 1 Axes>"
      ]
     },
     "metadata": {
      "needs_background": "light"
     },
     "output_type": "display_data"
    }
   ],
   "source": [
    "sns.countplot(x = 'Is_churn', data = data_train)"
   ]
  },
  {
   "cell_type": "markdown",
   "id": "077c56bf",
   "metadata": {},
   "source": [
    "## Model by Logistic Regression"
   ]
  },
  {
   "cell_type": "code",
   "execution_count": 217,
   "id": "a4df28c7",
   "metadata": {},
   "outputs": [],
   "source": [
    "from sklearn.linear_model import LogisticRegression\n",
    "from sklearn.metrics import confusion_matrix, accuracy_score, classification_report, precision_score, recall_score, f1_score\n",
    "from sklearn.metrics import roc_auc_score\n",
    "from sklearn.preprocessing import PolynomialFeatures"
   ]
  },
  {
   "cell_type": "code",
   "execution_count": 218,
   "id": "fe2c53d2",
   "metadata": {},
   "outputs": [],
   "source": [
    "x_train = data_train[['distinct_ref_no_3month', 'distinct_ref_no_month', 'trans_group_3month_1', 'diff_amount_3month',\n",
    "          'diff_amount_week', 'diff_amount_month', 'trans_group_month_1.0', 'amount_3month', 'distinct_ref_no_week',\n",
    "          'amount_month', 'max_amount_3month']]\n",
    "y_train = data_train['Is_churn']\n",
    "x_test = data_test[['distinct_ref_no_3month', 'distinct_ref_no_month', 'trans_group_3month_1', 'diff_amount_3month',\n",
    "          'diff_amount_week', 'diff_amount_month', 'trans_group_month_1.0', 'amount_3month', 'distinct_ref_no_week',\n",
    "          'amount_month', 'max_amount_3month']]\n",
    "y_test = data_test['Is_churn']"
   ]
  },
  {
   "cell_type": "code",
   "execution_count": 219,
   "id": "4370934e",
   "metadata": {},
   "outputs": [
    {
     "name": "stdout",
     "output_type": "stream",
     "text": [
      "              precision    recall  f1-score   support\n",
      "\n",
      "           0       0.98      0.60      0.74     10459\n",
      "           1       0.08      0.72      0.14       499\n",
      "\n",
      "    accuracy                           0.60     10958\n",
      "   macro avg       0.53      0.66      0.44     10958\n",
      "weighted avg       0.94      0.60      0.71     10958\n",
      "\n"
     ]
    }
   ],
   "source": [
    "lr = LogisticRegression(max_iter = 1000)\n",
    "lr.fit(x_train, y_train)\n",
    "y_pred = lr.predict(x_test)\n",
    "print(classification_report(y_test, y_pred))"
   ]
  },
  {
   "cell_type": "code",
   "execution_count": 220,
   "id": "58825582",
   "metadata": {},
   "outputs": [],
   "source": [
    "poly = PolynomialFeatures(degree = 4)\n",
    "x_train_poly = poly.fit_transform(x_train)\n",
    "x_test_poly = poly.fit_transform(x_test)"
   ]
  },
  {
   "cell_type": "code",
   "execution_count": 221,
   "id": "83b68e78",
   "metadata": {},
   "outputs": [
    {
     "name": "stdout",
     "output_type": "stream",
     "text": [
      "              precision    recall  f1-score   support\n",
      "\n",
      "           0       0.98      0.75      0.85     10459\n",
      "           1       0.11      0.69      0.20       499\n",
      "\n",
      "    accuracy                           0.74     10958\n",
      "   macro avg       0.55      0.72      0.52     10958\n",
      "weighted avg       0.94      0.74      0.82     10958\n",
      "\n"
     ]
    },
    {
     "name": "stderr",
     "output_type": "stream",
     "text": [
      "C:\\Users\\user\\anaconda3\\lib\\site-packages\\sklearn\\linear_model\\_logistic.py:814: ConvergenceWarning: lbfgs failed to converge (status=1):\n",
      "STOP: TOTAL NO. of ITERATIONS REACHED LIMIT.\n",
      "\n",
      "Increase the number of iterations (max_iter) or scale the data as shown in:\n",
      "    https://scikit-learn.org/stable/modules/preprocessing.html\n",
      "Please also refer to the documentation for alternative solver options:\n",
      "    https://scikit-learn.org/stable/modules/linear_model.html#logistic-regression\n",
      "  n_iter_i = _check_optimize_result(\n"
     ]
    }
   ],
   "source": [
    "lr = LogisticRegression(max_iter = 4000, C = 1000)\n",
    "lr.fit(x_train_poly, y_train)\n",
    "y_pred = lr.predict(x_test_poly)\n",
    "print(classification_report(y_test, y_pred))"
   ]
  },
  {
   "cell_type": "code",
   "execution_count": 222,
   "id": "0f57098f",
   "metadata": {},
   "outputs": [
    {
     "data": {
      "text/plain": [
       "0.718099838648518"
      ]
     },
     "execution_count": 222,
     "metadata": {},
     "output_type": "execute_result"
    }
   ],
   "source": [
    "roc_auc_score(y_test, y_pred)"
   ]
  },
  {
   "cell_type": "markdown",
   "id": "b21cc0cf",
   "metadata": {},
   "source": [
    "## Model by K Nearest Neighbors"
   ]
  },
  {
   "cell_type": "code",
   "execution_count": 225,
   "id": "7353f917",
   "metadata": {},
   "outputs": [],
   "source": [
    "from sklearn.neighbors import KNeighborsClassifier"
   ]
  },
  {
   "cell_type": "code",
   "execution_count": 226,
   "id": "bb15c62a",
   "metadata": {},
   "outputs": [
    {
     "name": "stdout",
     "output_type": "stream",
     "text": [
      "              precision    recall  f1-score   support\n",
      "\n",
      "           0       0.97      0.97      0.97     10459\n",
      "           1       0.38      0.36      0.37       499\n",
      "\n",
      "    accuracy                           0.94     10958\n",
      "   macro avg       0.68      0.67      0.67     10958\n",
      "weighted avg       0.94      0.94      0.94     10958\n",
      "\n"
     ]
    }
   ],
   "source": [
    "knn = KNeighborsClassifier(n_neighbors = 2, metric = 'minkowski', p=2, algorithm = 'brute')\n",
    "knn.fit(x_train, y_train)\n",
    "y_pred = knn.predict(x_test)\n",
    "print(classification_report(y_test, y_pred))"
   ]
  },
  {
   "cell_type": "code",
   "execution_count": 227,
   "id": "8450df28",
   "metadata": {},
   "outputs": [],
   "source": [
    "poly = PolynomialFeatures(degree = 3)\n",
    "x_train_poly = poly.fit_transform(x_train)\n",
    "x_test_poly = poly.fit_transform(x_test)"
   ]
  },
  {
   "cell_type": "code",
   "execution_count": 228,
   "id": "cf367458",
   "metadata": {},
   "outputs": [
    {
     "name": "stdout",
     "output_type": "stream",
     "text": [
      "              precision    recall  f1-score   support\n",
      "\n",
      "           0       0.97      0.97      0.97     10459\n",
      "           1       0.39      0.36      0.37       499\n",
      "\n",
      "    accuracy                           0.95     10958\n",
      "   macro avg       0.68      0.67      0.67     10958\n",
      "weighted avg       0.94      0.95      0.94     10958\n",
      "\n"
     ]
    }
   ],
   "source": [
    "knn = KNeighborsClassifier(n_neighbors = 2, metric = 'minkowski', p=2, algorithm = 'brute')\n",
    "knn.fit(x_train_poly, y_train)\n",
    "y_pred = knn.predict(x_test_poly)\n",
    "print(classification_report(y_test, y_pred))"
   ]
  },
  {
   "cell_type": "code",
   "execution_count": 229,
   "id": "48b0da8c",
   "metadata": {},
   "outputs": [
    {
     "data": {
      "text/plain": [
       "0.6650667239441116"
      ]
     },
     "execution_count": 229,
     "metadata": {},
     "output_type": "execute_result"
    }
   ],
   "source": [
    "roc_auc_score(y_test, y_pred)"
   ]
  },
  {
   "cell_type": "code",
   "execution_count": 230,
   "id": "996edeba",
   "metadata": {},
   "outputs": [
    {
     "name": "stdout",
     "output_type": "stream",
     "text": [
      "              precision    recall  f1-score   support\n",
      "\n",
      "           0       0.94      1.00      0.97     41835\n",
      "           1       1.00      0.93      0.97     41835\n",
      "\n",
      "    accuracy                           0.97     83670\n",
      "   macro avg       0.97      0.97      0.97     83670\n",
      "weighted avg       0.97      0.97      0.97     83670\n",
      "\n"
     ]
    }
   ],
   "source": [
    "y_pred = knn.predict(x_train_poly)\n",
    "print(classification_report(y_train, y_pred))"
   ]
  },
  {
   "cell_type": "code",
   "execution_count": 231,
   "id": "6e80130d",
   "metadata": {},
   "outputs": [
    {
     "data": {
      "text/plain": [
       "0.9667742321023067"
      ]
     },
     "execution_count": 231,
     "metadata": {},
     "output_type": "execute_result"
    }
   ],
   "source": [
    "roc_auc_score(y_train, y_pred)"
   ]
  },
  {
   "cell_type": "markdown",
   "id": "9e3a9536",
   "metadata": {},
   "source": [
    "\n",
    "<h5> Conclusion, Run Model by kNN (n_neighbors=2) combined with PolynomialFeatures (degree=3)"
   ]
  },
  {
   "cell_type": "markdown",
   "id": "ab479615",
   "metadata": {},
   "source": [
    "## Model by Naive Bayes"
   ]
  },
  {
   "cell_type": "code",
   "execution_count": 232,
   "id": "70bdb311",
   "metadata": {},
   "outputs": [],
   "source": [
    "from sklearn.naive_bayes import GaussianNB"
   ]
  },
  {
   "cell_type": "code",
   "execution_count": 233,
   "id": "796504d9",
   "metadata": {},
   "outputs": [
    {
     "name": "stdout",
     "output_type": "stream",
     "text": [
      "              precision    recall  f1-score   support\n",
      "\n",
      "           0       0.98      0.42      0.58     10459\n",
      "           1       0.06      0.79      0.11       499\n",
      "\n",
      "    accuracy                           0.43     10958\n",
      "   macro avg       0.52      0.60      0.35     10958\n",
      "weighted avg       0.93      0.43      0.56     10958\n",
      "\n"
     ]
    }
   ],
   "source": [
    "nb = GaussianNB()\n",
    "nb.fit(x_train, y_train)\n",
    "y_pred = nb.predict(x_test)\n",
    "print(classification_report(y_test, y_pred))"
   ]
  },
  {
   "cell_type": "code",
   "execution_count": 234,
   "id": "b23490cb",
   "metadata": {},
   "outputs": [
    {
     "data": {
      "text/plain": [
       "0.6025073380339414"
      ]
     },
     "execution_count": 234,
     "metadata": {},
     "output_type": "execute_result"
    }
   ],
   "source": [
    "roc_auc_score(y_test, y_pred)"
   ]
  },
  {
   "cell_type": "code",
   "execution_count": 235,
   "id": "cbfb768b",
   "metadata": {},
   "outputs": [
    {
     "name": "stdout",
     "output_type": "stream",
     "text": [
      "              precision    recall  f1-score   support\n",
      "\n",
      "           0       0.70      0.42      0.52     41835\n",
      "           1       0.58      0.82      0.68     41835\n",
      "\n",
      "    accuracy                           0.62     83670\n",
      "   macro avg       0.64      0.62      0.60     83670\n",
      "weighted avg       0.64      0.62      0.60     83670\n",
      "\n"
     ]
    }
   ],
   "source": [
    "y_pred = nb.predict(x_train)\n",
    "print(classification_report(y_train, y_pred))"
   ]
  },
  {
   "cell_type": "code",
   "execution_count": 236,
   "id": "da6c5215",
   "metadata": {},
   "outputs": [
    {
     "data": {
      "text/plain": [
       "0.618549061790367"
      ]
     },
     "execution_count": 236,
     "metadata": {},
     "output_type": "execute_result"
    }
   ],
   "source": [
    "roc_auc_score(y_train, y_pred)"
   ]
  },
  {
   "cell_type": "markdown",
   "id": "f35a3673",
   "metadata": {},
   "source": [
    "## Model by Support Vector Machine (SVM)"
   ]
  },
  {
   "cell_type": "code",
   "execution_count": 237,
   "id": "eb1d7438",
   "metadata": {},
   "outputs": [],
   "source": [
    "from sklearn.svm import SVC"
   ]
  },
  {
   "cell_type": "code",
   "execution_count": 238,
   "id": "a09630d7",
   "metadata": {},
   "outputs": [
    {
     "name": "stdout",
     "output_type": "stream",
     "text": [
      "              precision    recall  f1-score   support\n",
      "\n",
      "           0       0.98      0.74      0.84     10459\n",
      "           1       0.11      0.67      0.19       499\n",
      "\n",
      "    accuracy                           0.74     10958\n",
      "   macro avg       0.54      0.71      0.52     10958\n",
      "weighted avg       0.94      0.74      0.81     10958\n",
      "\n"
     ]
    }
   ],
   "source": [
    "svc = SVC(kernel='rbf')\n",
    "svc.fit(x_train, y_train)\n",
    "y_pred = svc.predict(x_test)\n",
    "print(classification_report(y_test, y_pred))"
   ]
  },
  {
   "cell_type": "code",
   "execution_count": 239,
   "id": "ebd2aea1",
   "metadata": {},
   "outputs": [
    {
     "data": {
      "text/plain": [
       "0.7074544921183796"
      ]
     },
     "execution_count": 239,
     "metadata": {},
     "output_type": "execute_result"
    }
   ],
   "source": [
    "roc_auc_score(y_test, y_pred)\n"
   ]
  },
  {
   "cell_type": "code",
   "execution_count": 240,
   "id": "c9bc09ef",
   "metadata": {},
   "outputs": [
    {
     "name": "stdout",
     "output_type": "stream",
     "text": [
      "              precision    recall  f1-score   support\n",
      "\n",
      "           0       0.73      0.74      0.73     41835\n",
      "           1       0.73      0.72      0.73     41835\n",
      "\n",
      "    accuracy                           0.73     83670\n",
      "   macro avg       0.73      0.73      0.73     83670\n",
      "weighted avg       0.73      0.73      0.73     83670\n",
      "\n"
     ]
    }
   ],
   "source": [
    "y_pred = svc.predict(x_train)\n",
    "print(classification_report(y_train, y_pred))"
   ]
  },
  {
   "cell_type": "code",
   "execution_count": 241,
   "id": "ce612a9b",
   "metadata": {},
   "outputs": [
    {
     "data": {
      "text/plain": [
       "0.7301661288394884"
      ]
     },
     "execution_count": 241,
     "metadata": {},
     "output_type": "execute_result"
    }
   ],
   "source": [
    "roc_auc_score(y_train, y_pred)"
   ]
  },
  {
   "cell_type": "markdown",
   "id": "af5eb5a3",
   "metadata": {},
   "source": [
    "## Conclusion"
   ]
  },
  {
   "cell_type": "markdown",
   "id": "587d1a70",
   "metadata": {},
   "source": [
    "Based on these above information, we can see that the K_Nearest Neighbors model is\n",
    "the most efficient model with Accuracy reaching 94%, AUC reaching 66.5% and F1-score reaching 37%. Do\n",
    "Therefore, we have selected K-Nearest Neighbors as the Churn Customer forecasting model."
   ]
  },
  {
   "cell_type": "code",
   "execution_count": null,
   "id": "3e29ed31",
   "metadata": {},
   "outputs": [],
   "source": []
  }
 ],
 "metadata": {
  "kernelspec": {
   "display_name": "Python 3 (ipykernel)",
   "language": "python",
   "name": "python3"
  },
  "language_info": {
   "codemirror_mode": {
    "name": "ipython",
    "version": 3
   },
   "file_extension": ".py",
   "mimetype": "text/x-python",
   "name": "python",
   "nbconvert_exporter": "python",
   "pygments_lexer": "ipython3",
   "version": "3.9.7"
  }
 },
 "nbformat": 4,
 "nbformat_minor": 5
}
