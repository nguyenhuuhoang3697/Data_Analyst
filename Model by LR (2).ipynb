{
 "cells": [
  {
   "cell_type": "code",
   "execution_count": 1,
   "id": "a8c2c429",
   "metadata": {},
   "outputs": [],
   "source": [
    "import pandas as pd\n",
    "import numpy as np\n",
    "import matplotlib.pyplot as plt\n",
    "from sklearn.linear_model import LogisticRegression\n",
    "from sklearn.metrics import confusion_matrix, accuracy_score, classification_report, precision_score, recall_score, f1_score\n",
    "from sklearn.metrics import roc_auc_score\n",
    "from sklearn.preprocessing import PolynomialFeatures\n",
    "%matplotlib inline"
   ]
  },
  {
   "cell_type": "code",
   "execution_count": 2,
   "id": "e99e86e1",
   "metadata": {},
   "outputs": [],
   "source": [
    "data_train = pd.read_csv('data_train_ros.csv')\n",
    "data_test = pd.read_csv('data_test.csv')"
   ]
  },
  {
   "cell_type": "code",
   "execution_count": 3,
   "id": "7e7661c8",
   "metadata": {},
   "outputs": [],
   "source": [
    "x_train = data_train[['distinct_ref_no_3month', 'distinct_ref_no_month', 'trans_group_3month_1', 'diff_amount_3month',\n",
    "          'diff_amount_week', 'diff_amount_month', 'trans_group_month_1.0', 'amount_3month', 'distinct_ref_no_week',\n",
    "          'amount_month', 'max_amount_3month']]\n",
    "y_train = data_train['Is_churn']\n",
    "x_test = data_test[['distinct_ref_no_3month', 'distinct_ref_no_month', 'trans_group_3month_1', 'diff_amount_3month',\n",
    "          'diff_amount_week', 'diff_amount_month', 'trans_group_month_1.0', 'amount_3month', 'distinct_ref_no_week',\n",
    "          'amount_month', 'max_amount_3month']]\n",
    "y_test = data_test['Is_churn']"
   ]
  },
  {
   "cell_type": "code",
   "execution_count": 4,
   "id": "ead17a1e",
   "metadata": {},
   "outputs": [
    {
     "name": "stdout",
     "output_type": "stream",
     "text": [
      "              precision    recall  f1-score   support\n",
      "\n",
      "           0       0.98      0.60      0.74     10459\n",
      "           1       0.08      0.72      0.14       499\n",
      "\n",
      "    accuracy                           0.60     10958\n",
      "   macro avg       0.53      0.66      0.44     10958\n",
      "weighted avg       0.94      0.60      0.71     10958\n",
      "\n"
     ]
    }
   ],
   "source": [
    "lr = LogisticRegression(max_iter = 1000)\n",
    "lr.fit(x_train, y_train)\n",
    "y_pred = lr.predict(x_test)\n",
    "print(classification_report(y_test, y_pred))"
   ]
  },
  {
   "cell_type": "code",
   "execution_count": 5,
   "id": "606bac6c",
   "metadata": {},
   "outputs": [],
   "source": [
    "poly = PolynomialFeatures(degree = 4)\n",
    "x_train_poly = poly.fit_transform(x_train)\n",
    "x_test_poly = poly.fit_transform(x_test)"
   ]
  },
  {
   "cell_type": "code",
   "execution_count": 9,
   "id": "ad596550",
   "metadata": {
    "scrolled": true
   },
   "outputs": [
    {
     "name": "stderr",
     "output_type": "stream",
     "text": [
      "C:\\Users\\Admin\\anaconda3\\lib\\site-packages\\sklearn\\linear_model\\_logistic.py:814: ConvergenceWarning: lbfgs failed to converge (status=1):\n",
      "STOP: TOTAL NO. of ITERATIONS REACHED LIMIT.\n",
      "\n",
      "Increase the number of iterations (max_iter) or scale the data as shown in:\n",
      "    https://scikit-learn.org/stable/modules/preprocessing.html\n",
      "Please also refer to the documentation for alternative solver options:\n",
      "    https://scikit-learn.org/stable/modules/linear_model.html#logistic-regression\n",
      "  n_iter_i = _check_optimize_result(\n"
     ]
    },
    {
     "name": "stdout",
     "output_type": "stream",
     "text": [
      "              precision    recall  f1-score   support\n",
      "\n",
      "           0       0.98      0.75      0.85     10459\n",
      "           1       0.12      0.69      0.20       499\n",
      "\n",
      "    accuracy                           0.75     10958\n",
      "   macro avg       0.55      0.72      0.52     10958\n",
      "weighted avg       0.94      0.75      0.82     10958\n",
      "\n"
     ]
    }
   ],
   "source": [
    "lr = LogisticRegression(max_iter = 4000, C = 1000)\n",
    "lr.fit(x_train_poly, y_train)\n",
    "y_pred = lr.predict(x_test_poly)\n",
    "print(classification_report(y_test, y_pred))"
   ]
  },
  {
   "cell_type": "code",
   "execution_count": 10,
   "id": "f44e6c0a",
   "metadata": {},
   "outputs": [
    {
     "data": {
      "text/plain": [
       "0.7197233169848638"
      ]
     },
     "execution_count": 10,
     "metadata": {},
     "output_type": "execute_result"
    }
   ],
   "source": [
    "roc_auc_score(y_test, y_pred)"
   ]
  },
  {
   "cell_type": "code",
   "execution_count": 7,
   "id": "7696405f",
   "metadata": {},
   "outputs": [
    {
     "name": "stdout",
     "output_type": "stream",
     "text": [
      "              precision    recall  f1-score   support\n",
      "\n",
      "           0       0.76      0.75      0.76     41835\n",
      "           1       0.75      0.77      0.76     41835\n",
      "\n",
      "    accuracy                           0.76     83670\n",
      "   macro avg       0.76      0.76      0.76     83670\n",
      "weighted avg       0.76      0.76      0.76     83670\n",
      "\n"
     ]
    }
   ],
   "source": [
    "y_pred = lr.predict(x_train_poly)\n",
    "print(classification_report(y_train, y_pred))"
   ]
  },
  {
   "cell_type": "code",
   "execution_count": 8,
   "id": "3c1d0329",
   "metadata": {},
   "outputs": [
    {
     "data": {
      "text/plain": [
       "0.757595314927692"
      ]
     },
     "execution_count": 8,
     "metadata": {},
     "output_type": "execute_result"
    }
   ],
   "source": [
    "roc_auc_score(y_train, y_pred)"
   ]
  },
  {
   "cell_type": "code",
   "execution_count": null,
   "id": "c4aafefb",
   "metadata": {},
   "outputs": [],
   "source": []
  }
 ],
 "metadata": {
  "kernelspec": {
   "display_name": "Python 3 (ipykernel)",
   "language": "python",
   "name": "python3"
  },
  "language_info": {
   "codemirror_mode": {
    "name": "ipython",
    "version": 3
   },
   "file_extension": ".py",
   "mimetype": "text/x-python",
   "name": "python",
   "nbconvert_exporter": "python",
   "pygments_lexer": "ipython3",
   "version": "3.9.7"
  }
 },
 "nbformat": 4,
 "nbformat_minor": 5
}
