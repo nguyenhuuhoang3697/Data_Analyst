{
 "cells": [
  {
   "cell_type": "code",
   "execution_count": 9,
   "id": "a78aa044",
   "metadata": {},
   "outputs": [],
   "source": [
    "import pandas as pd\n",
    "import numpy as np\n",
    "import matplotlib.pyplot as plt\n",
    "from sklearn.neighbors import KNeighborsClassifier\n",
    "from sklearn.metrics import confusion_matrix, accuracy_score, classification_report, precision_score, recall_score, f1_score\n",
    "from sklearn.metrics import roc_auc_score\n",
    "from sklearn.preprocessing import PolynomialFeatures\n",
    "%matplotlib inline"
   ]
  },
  {
   "cell_type": "code",
   "execution_count": 10,
   "id": "9743e6be",
   "metadata": {},
   "outputs": [],
   "source": [
    "data_train = pd.read_csv('data_train_ros.csv')\n",
    "data_test = pd.read_csv('data_test.csv')"
   ]
  },
  {
   "cell_type": "code",
   "execution_count": 3,
   "id": "6df83498",
   "metadata": {},
   "outputs": [],
   "source": [
    "x_train = data_train[['distinct_ref_no_3month', 'distinct_ref_no_month', 'trans_group_3month_1', 'diff_amount_3month',\n",
    "          'diff_amount_week', 'diff_amount_month', 'trans_group_month_1.0', 'amount_3month', 'distinct_ref_no_week',\n",
    "          'amount_month', 'max_amount_3month']]\n",
    "y_train = data_train['Is_churn']\n",
    "x_test = data_test[['distinct_ref_no_3month', 'distinct_ref_no_month', 'trans_group_3month_1', 'diff_amount_3month',\n",
    "          'diff_amount_week', 'diff_amount_month', 'trans_group_month_1.0', 'amount_3month', 'distinct_ref_no_week',\n",
    "          'amount_month', 'max_amount_3month']]\n",
    "y_test = data_test['Is_churn']"
   ]
  },
  {
   "cell_type": "code",
   "execution_count": 5,
   "id": "d8eaec09",
   "metadata": {},
   "outputs": [
    {
     "name": "stdout",
     "output_type": "stream",
     "text": [
      "              precision    recall  f1-score   support\n",
      "\n",
      "           0       0.97      0.97      0.97     10459\n",
      "           1       0.38      0.36      0.37       499\n",
      "\n",
      "    accuracy                           0.94     10958\n",
      "   macro avg       0.68      0.67      0.67     10958\n",
      "weighted avg       0.94      0.94      0.94     10958\n",
      "\n"
     ]
    }
   ],
   "source": [
    "knn = KNeighborsClassifier(n_neighbors = 2, metric = 'minkowski', p=2, algorithm = 'brute')\n",
    "knn.fit(x_train, y_train)\n",
    "y_pred = knn.predict(x_test)\n",
    "print(classification_report(y_test, y_pred))"
   ]
  },
  {
   "cell_type": "code",
   "execution_count": 7,
   "id": "917513e5",
   "metadata": {},
   "outputs": [],
   "source": [
    "poly = PolynomialFeatures(degree = 3)\n",
    "x_train_poly = poly.fit_transform(x_train)\n",
    "x_test_poly = poly.fit_transform(x_test)"
   ]
  },
  {
   "cell_type": "code",
   "execution_count": 8,
   "id": "93226893",
   "metadata": {
    "scrolled": false
   },
   "outputs": [
    {
     "name": "stdout",
     "output_type": "stream",
     "text": [
      "              precision    recall  f1-score   support\n",
      "\n",
      "           0       0.97      0.97      0.97     10459\n",
      "           1       0.39      0.36      0.37       499\n",
      "\n",
      "    accuracy                           0.95     10958\n",
      "   macro avg       0.68      0.67      0.67     10958\n",
      "weighted avg       0.94      0.95      0.94     10958\n",
      "\n"
     ]
    }
   ],
   "source": [
    "knn = KNeighborsClassifier(n_neighbors = 2, metric = 'minkowski', p=2, algorithm = 'brute')\n",
    "knn.fit(x_train_poly, y_train)\n",
    "y_pred = knn.predict(x_test_poly)\n",
    "print(classification_report(y_test, y_pred))"
   ]
  },
  {
   "cell_type": "code",
   "execution_count": 11,
   "id": "dd541442",
   "metadata": {},
   "outputs": [
    {
     "data": {
      "text/plain": [
       "0.6650667239441116"
      ]
     },
     "execution_count": 11,
     "metadata": {},
     "output_type": "execute_result"
    }
   ],
   "source": [
    "roc_auc_score(y_test, y_pred)"
   ]
  },
  {
   "cell_type": "code",
   "execution_count": 12,
   "id": "e6a53432",
   "metadata": {
    "scrolled": true
   },
   "outputs": [
    {
     "name": "stdout",
     "output_type": "stream",
     "text": [
      "              precision    recall  f1-score   support\n",
      "\n",
      "           0       0.94      1.00      0.97     41835\n",
      "           1       1.00      0.94      0.97     41835\n",
      "\n",
      "    accuracy                           0.97     83670\n",
      "   macro avg       0.97      0.97      0.97     83670\n",
      "weighted avg       0.97      0.97      0.97     83670\n",
      "\n"
     ]
    }
   ],
   "source": [
    "y_pred = knn.predict(x_train_poly)\n",
    "print(classification_report(y_train, y_pred))"
   ]
  },
  {
   "cell_type": "code",
   "execution_count": 13,
   "id": "daf1a47c",
   "metadata": {},
   "outputs": [
    {
     "data": {
      "text/plain": [
       "0.967551093581929"
      ]
     },
     "execution_count": 13,
     "metadata": {},
     "output_type": "execute_result"
    }
   ],
   "source": [
    "roc_auc_score(y_train, y_pred)"
   ]
  },
  {
   "cell_type": "markdown",
   "id": "79be67c7",
   "metadata": {},
   "source": [
    "<h5> Conclusion, Run Model by kNN (n_neighbors=2) combined with PolynomialFeatures (degree=3)"
   ]
  },
  {
   "cell_type": "code",
   "execution_count": null,
   "id": "aa6f3310",
   "metadata": {},
   "outputs": [],
   "source": []
  }
 ],
 "metadata": {
  "kernelspec": {
   "display_name": "Python 3 (ipykernel)",
   "language": "python",
   "name": "python3"
  },
  "language_info": {
   "codemirror_mode": {
    "name": "ipython",
    "version": 3
   },
   "file_extension": ".py",
   "mimetype": "text/x-python",
   "name": "python",
   "nbconvert_exporter": "python",
   "pygments_lexer": "ipython3",
   "version": "3.9.7"
  }
 },
 "nbformat": 4,
 "nbformat_minor": 5
}
