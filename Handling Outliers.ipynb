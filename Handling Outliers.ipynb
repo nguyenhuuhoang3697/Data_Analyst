{
 "cells": [
  {
   "cell_type": "markdown",
   "id": "87704e55",
   "metadata": {},
   "source": [
    "<h1> Import Librabries and Dataset"
   ]
  },
  {
   "cell_type": "code",
   "execution_count": 1,
   "id": "9966d38a",
   "metadata": {},
   "outputs": [],
   "source": [
    "import pandas as pd\n",
    "import numpy as np\n",
    "import matplotlib.pyplot as plt\n",
    "import seaborn as sns\n",
    "%matplotlib inline"
   ]
  },
  {
   "cell_type": "code",
   "execution_count": 2,
   "id": "aa2e5ff2",
   "metadata": {},
   "outputs": [],
   "source": [
    "data = pd.read_csv('clean_dataset.csv')"
   ]
  },
  {
   "cell_type": "markdown",
   "id": "f0c49076",
   "metadata": {},
   "source": [
    "## Handling Outliers"
   ]
  },
  {
   "cell_type": "markdown",
   "id": "cdd28bb5",
   "metadata": {},
   "source": [
    "<h2> 1. 'birth_incorp_date' column"
   ]
  },
  {
   "cell_type": "code",
   "execution_count": 3,
   "id": "5043e705",
   "metadata": {},
   "outputs": [
    {
     "name": "stderr",
     "output_type": "stream",
     "text": [
      "C:\\Users\\Admin\\anaconda3\\lib\\site-packages\\seaborn\\distributions.py:2619: FutureWarning: `distplot` is a deprecated function and will be removed in a future version. Please adapt your code to use either `displot` (a figure-level function with similar flexibility) or `kdeplot` (an axes-level function for kernel density plots).\n",
      "  warnings.warn(msg, FutureWarning)\n"
     ]
    },
    {
     "data": {
      "text/plain": [
       "<AxesSubplot:xlabel='birth_incorp_date', ylabel='Density'>"
      ]
     },
     "execution_count": 3,
     "metadata": {},
     "output_type": "execute_result"
    },
    {
     "data": {
      "image/png": "[encoded data removed]",
      "text/plain": [
       "<Figure size 432x288 with 1 Axes>"
      ]
     },
     "metadata": {
      "needs_background": "light"
     },
     "output_type": "display_data"
    }
   ],
   "source": [
    "sns.distplot(data['birth_incorp_date'], hist = False, color = 'b')"
   ]
  },
  {
   "cell_type": "code",
   "execution_count": 4,
   "id": "b8d78173",
   "metadata": {},
   "outputs": [
    {
     "name": "stderr",
     "output_type": "stream",
     "text": [
      "C:\\Users\\Admin\\anaconda3\\lib\\site-packages\\seaborn\\_decorators.py:36: FutureWarning: Pass the following variable as a keyword arg: x. From version 0.12, the only valid positional argument will be `data`, and passing other arguments without an explicit keyword will result in an error or misinterpretation.\n",
      "  warnings.warn(\n"
     ]
    },
    {
     "data": {
      "text/plain": [
       "<AxesSubplot:xlabel='birth_incorp_date'>"
      ]
     },
     "execution_count": 4,
     "metadata": {},
     "output_type": "execute_result"
    },
    {
     "data": {
      "image/png": "[encoded data removed]",
      "text/plain": [
       "<Figure size 432x288 with 1 Axes>"
      ]
     },
     "metadata": {
      "needs_background": "light"
     },
     "output_type": "display_data"
    }
   ],
   "source": [
    "sns.boxplot('birth_incorp_date',data=data)"
   ]
  },
  {
   "cell_type": "markdown",
   "id": "5d5d644b",
   "metadata": {},
   "source": [
    "We will handle Outliers in 'birth_incorp_date' column by Binning."
   ]
  },
  {
   "cell_type": "code",
   "execution_count": 5,
   "id": "c6117d38",
   "metadata": {},
   "outputs": [],
   "source": [
    "birth_incorp_date = data['birth_incorp_date'].values.tolist()\n",
    "\n",
    "def impute_birth_incorp_date(col):\n",
    "    birth_incorp_date = col[0]\n",
    "    if birth_incorp_date < 19:\n",
    "        return '6-18'\n",
    "    if birth_incorp_date < 31:\n",
    "        return '19-30'\n",
    "    if birth_incorp_date < 51:\n",
    "        return '31-50'\n",
    "    else:\n",
    "        return 'Over 50'"
   ]
  },
  {
   "cell_type": "code",
   "execution_count": 6,
   "id": "5c795afc",
   "metadata": {},
   "outputs": [],
   "source": [
    "data['birth_incorp_date'] = data[['birth_incorp_date']].apply(impute_birth_incorp_date, axis = 1)"
   ]
  },
  {
   "cell_type": "code",
   "execution_count": 7,
   "id": "efbd2bdc",
   "metadata": {},
   "outputs": [
    {
     "data": {
      "text/plain": [
       "31-50      26845\n",
       "19-30      25191\n",
       "Over 50     1419\n",
       "6-18        1335\n",
       "Name: birth_incorp_date, dtype: int64"
      ]
     },
     "execution_count": 7,
     "metadata": {},
     "output_type": "execute_result"
    }
   ],
   "source": [
    "data['birth_incorp_date'].value_counts()"
   ]
  },
  {
   "cell_type": "markdown",
   "id": "b912d984",
   "metadata": {},
   "source": [
    "<h2> 2. 'max_amount_week' column"
   ]
  },
  {
   "cell_type": "code",
   "execution_count": 8,
   "id": "73d98dbd",
   "metadata": {},
   "outputs": [
    {
     "name": "stderr",
     "output_type": "stream",
     "text": [
      "C:\\Users\\Admin\\anaconda3\\lib\\site-packages\\seaborn\\_decorators.py:36: FutureWarning: Pass the following variable as a keyword arg: x. From version 0.12, the only valid positional argument will be `data`, and passing other arguments without an explicit keyword will result in an error or misinterpretation.\n",
      "  warnings.warn(\n"
     ]
    },
    {
     "data": {
      "text/plain": [
       "<AxesSubplot:xlabel='max_amount_week'>"
      ]
     },
     "execution_count": 8,
     "metadata": {},
     "output_type": "execute_result"
    },
    {
     "data": {
      "image/png": "[encoded data removed]",
      "text/plain": [
       "<Figure size 432x288 with 1 Axes>"
      ]
     },
     "metadata": {
      "needs_background": "light"
     },
     "output_type": "display_data"
    }
   ],
   "source": [
    "sns.boxplot('max_amount_week',data=data)"
   ]
  },
  {
   "cell_type": "markdown",
   "id": "f2cf569c",
   "metadata": {},
   "source": [
    "We will identify Outlier in 'max_amount_week' column by IQR method."
   ]
  },
  {
   "cell_type": "code",
   "execution_count": 9,
   "id": "f2a13b70",
   "metadata": {},
   "outputs": [],
   "source": [
    "max_amount_week = data['max_amount_week'].values.tolist()\n",
    "Q1 = np.percentile(data[['max_amount_week']], 25, interpolation = 'midpoint')\n",
    "Q2 = np.percentile(data[['max_amount_week']], 50, interpolation = 'midpoint')\n",
    "Q3 = np.percentile(data[['max_amount_week']], 75, interpolation = 'midpoint')\n",
    "IQR = Q3 - Q1\n",
    "low_lim = Q1 - 1.5 * IQR\n",
    "up_lim = Q3 + 1.5 * IQR"
   ]
  },
  {
   "cell_type": "markdown",
   "id": "15f0363c",
   "metadata": {},
   "source": [
    "We will handling Outliers in this column by Capping:\n",
    "- If Outlier < low_lim, replace them by low_lim\n",
    "- If Outlier > up_lim, replace them by up_lim"
   ]
  },
  {
   "cell_type": "code",
   "execution_count": 10,
   "id": "34f4f356",
   "metadata": {},
   "outputs": [],
   "source": [
    "data['max_amount_week'] = np.where(data['max_amount_week'] > up_lim, up_lim, \n",
    "                               np.where(data['max_amount_week'] < low_lim, low_lim, data['max_amount_week']))"
   ]
  },
  {
   "cell_type": "code",
   "execution_count": 11,
   "id": "0ef28882",
   "metadata": {},
   "outputs": [
    {
     "name": "stderr",
     "output_type": "stream",
     "text": [
      "C:\\Users\\Admin\\anaconda3\\lib\\site-packages\\seaborn\\_decorators.py:36: FutureWarning: Pass the following variable as a keyword arg: x. From version 0.12, the only valid positional argument will be `data`, and passing other arguments without an explicit keyword will result in an error or misinterpretation.\n",
      "  warnings.warn(\n"
     ]
    },
    {
     "data": {
      "text/plain": [
       "<AxesSubplot:xlabel='max_amount_week'>"
      ]
     },
     "execution_count": 11,
     "metadata": {},
     "output_type": "execute_result"
    },
    {
     "data": {
      "image/png": "[encoded data removed]",
      "text/plain": [
       "<Figure size 432x288 with 1 Axes>"
      ]
     },
     "metadata": {
      "needs_background": "light"
     },
     "output_type": "display_data"
    }
   ],
   "source": [
    "sns.boxplot('max_amount_week',data=data)"
   ]
  },
  {
   "cell_type": "markdown",
   "id": "56aa01d4",
   "metadata": {},
   "source": [
    "<h2> 3. 'min_amount_week' column"
   ]
  },
  {
   "cell_type": "code",
   "execution_count": 12,
   "id": "edcda10c",
   "metadata": {},
   "outputs": [
    {
     "name": "stderr",
     "output_type": "stream",
     "text": [
      "C:\\Users\\Admin\\anaconda3\\lib\\site-packages\\seaborn\\_decorators.py:36: FutureWarning: Pass the following variable as a keyword arg: x. From version 0.12, the only valid positional argument will be `data`, and passing other arguments without an explicit keyword will result in an error or misinterpretation.\n",
      "  warnings.warn(\n"
     ]
    },
    {
     "data": {
      "text/plain": [
       "<AxesSubplot:xlabel='min_amount_week'>"
      ]
     },
     "execution_count": 12,
     "metadata": {},
     "output_type": "execute_result"
    },
    {
     "data": {
      "image/png": "[encoded data removed]",
      "text/plain": [
       "<Figure size 432x288 with 1 Axes>"
      ]
     },
     "metadata": {
      "needs_background": "light"
     },
     "output_type": "display_data"
    }
   ],
   "source": [
    "sns.boxplot('min_amount_week',data=data)"
   ]
  },
  {
   "cell_type": "markdown",
   "id": "72dc8fb4",
   "metadata": {},
   "source": [
    "Use IQR to identify Outliers."
   ]
  },
  {
   "cell_type": "code",
   "execution_count": 13,
   "id": "bb1dfceb",
   "metadata": {},
   "outputs": [],
   "source": [
    "min_amount_week = data['min_amount_week'].values.tolist()\n",
    "Q1 = np.percentile(data[['min_amount_week']], 25, interpolation = 'midpoint')\n",
    "Q2 = np.percentile(data[['min_amount_week']], 50, interpolation = 'midpoint')\n",
    "Q3 = np.percentile(data[['min_amount_week']], 75, interpolation = 'midpoint')\n",
    "IQR = Q3 - Q1\n",
    "low_lim = Q1 - 1.5 * IQR\n",
    "up_lim = Q3 + 1.5 * IQR"
   ]
  },
  {
   "cell_type": "markdown",
   "id": "7b85c86a",
   "metadata": {},
   "source": [
    "Handling Outliers by Capping."
   ]
  },
  {
   "cell_type": "code",
   "execution_count": 14,
   "id": "defefd35",
   "metadata": {},
   "outputs": [],
   "source": [
    "data['min_amount_week'] = np.where(data['min_amount_week'] > up_lim, up_lim, \n",
    "                               np.where(data['min_amount_week'] < low_lim, low_lim, data['min_amount_week']))"
   ]
  },
  {
   "cell_type": "code",
   "execution_count": 15,
   "id": "d77668ec",
   "metadata": {},
   "outputs": [
    {
     "name": "stderr",
     "output_type": "stream",
     "text": [
      "C:\\Users\\Admin\\anaconda3\\lib\\site-packages\\seaborn\\_decorators.py:36: FutureWarning: Pass the following variable as a keyword arg: x. From version 0.12, the only valid positional argument will be `data`, and passing other arguments without an explicit keyword will result in an error or misinterpretation.\n",
      "  warnings.warn(\n"
     ]
    },
    {
     "data": {
      "text/plain": [
       "<AxesSubplot:xlabel='min_amount_week'>"
      ]
     },
     "execution_count": 15,
     "metadata": {},
     "output_type": "execute_result"
    },
    {
     "data": {
      "image/png": "[encoded data removed]",
      "text/plain": [
       "<Figure size 432x288 with 1 Axes>"
      ]
     },
     "metadata": {
      "needs_background": "light"
     },
     "output_type": "display_data"
    }
   ],
   "source": [
    "sns.boxplot('min_amount_week',data=data)"
   ]
  },
  {
   "cell_type": "markdown",
   "id": "050d091c",
   "metadata": {},
   "source": [
    "<h2> 4. 'diff_amount_week' column"
   ]
  },
  {
   "cell_type": "code",
   "execution_count": 16,
   "id": "0d11623e",
   "metadata": {},
   "outputs": [
    {
     "name": "stderr",
     "output_type": "stream",
     "text": [
      "C:\\Users\\Admin\\anaconda3\\lib\\site-packages\\seaborn\\_decorators.py:36: FutureWarning: Pass the following variable as a keyword arg: x. From version 0.12, the only valid positional argument will be `data`, and passing other arguments without an explicit keyword will result in an error or misinterpretation.\n",
      "  warnings.warn(\n"
     ]
    },
    {
     "data": {
      "text/plain": [
       "<AxesSubplot:xlabel='diff_amount_week'>"
      ]
     },
     "execution_count": 16,
     "metadata": {},
     "output_type": "execute_result"
    },
    {
     "data": {
      "image/png": "[encoded data removed]",
      "text/plain": [
       "<Figure size 432x288 with 1 Axes>"
      ]
     },
     "metadata": {
      "needs_background": "light"
     },
     "output_type": "display_data"
    }
   ],
   "source": [
    "sns.boxplot('diff_amount_week',data=data)"
   ]
  },
  {
   "cell_type": "markdown",
   "id": "8757af56",
   "metadata": {},
   "source": [
    "Use IQR method to identify Outliers."
   ]
  },
  {
   "cell_type": "code",
   "execution_count": 17,
   "id": "faf709ca",
   "metadata": {},
   "outputs": [],
   "source": [
    "diff_amount_week = data['diff_amount_week'].values.tolist()\n",
    "Q1 = np.percentile(data[['diff_amount_week']], 25, interpolation = 'midpoint')\n",
    "Q2 = np.percentile(data[['diff_amount_week']], 50, interpolation = 'midpoint')\n",
    "Q3 = np.percentile(data[['diff_amount_week']], 75, interpolation = 'midpoint')\n",
    "IQR = Q3 - Q1\n",
    "low_lim = Q1 - 1.5 * IQR\n",
    "up_lim = Q3 + 1.5 * IQR"
   ]
  },
  {
   "cell_type": "markdown",
   "id": "0517c3e5",
   "metadata": {},
   "source": [
    "Handling Outliers by Capping."
   ]
  },
  {
   "cell_type": "code",
   "execution_count": 18,
   "id": "d5305c5b",
   "metadata": {},
   "outputs": [],
   "source": [
    "data['diff_amount_week'] = np.where(data['diff_amount_week'] > up_lim, up_lim, \n",
    "                               np.where(data['diff_amount_week'] < low_lim, low_lim, data['diff_amount_week']))"
   ]
  },
  {
   "cell_type": "code",
   "execution_count": 19,
   "id": "953d7870",
   "metadata": {},
   "outputs": [
    {
     "name": "stderr",
     "output_type": "stream",
     "text": [
      "C:\\Users\\Admin\\anaconda3\\lib\\site-packages\\seaborn\\_decorators.py:36: FutureWarning: Pass the following variable as a keyword arg: x. From version 0.12, the only valid positional argument will be `data`, and passing other arguments without an explicit keyword will result in an error or misinterpretation.\n",
      "  warnings.warn(\n"
     ]
    },
    {
     "data": {
      "text/plain": [
       "<AxesSubplot:xlabel='diff_amount_week'>"
      ]
     },
     "execution_count": 19,
     "metadata": {},
     "output_type": "execute_result"
    },
    {
     "data": {
      "image/png": "[encoded data removed]",
      "text/plain": [
       "<Figure size 432x288 with 1 Axes>"
      ]
     },
     "metadata": {
      "needs_background": "light"
     },
     "output_type": "display_data"
    }
   ],
   "source": [
    "sns.boxplot('diff_amount_week',data=data)"
   ]
  },
  {
   "cell_type": "markdown",
   "id": "bd1f2888",
   "metadata": {},
   "source": [
    "<h2> 5. 'distinct_payment_code_week' column"
   ]
  },
  {
   "cell_type": "code",
   "execution_count": 20,
   "id": "545d6be3",
   "metadata": {},
   "outputs": [
    {
     "name": "stderr",
     "output_type": "stream",
     "text": [
      "C:\\Users\\Admin\\anaconda3\\lib\\site-packages\\seaborn\\_decorators.py:36: FutureWarning: Pass the following variable as a keyword arg: x. From version 0.12, the only valid positional argument will be `data`, and passing other arguments without an explicit keyword will result in an error or misinterpretation.\n",
      "  warnings.warn(\n"
     ]
    },
    {
     "data": {
      "text/plain": [
       "<AxesSubplot:xlabel='distinct_payment_code_week'>"
      ]
     },
     "execution_count": 20,
     "metadata": {},
     "output_type": "execute_result"
    },
    {
     "data": {
      "image/png": "[encoded data removed]",
      "text/plain": [
       "<Figure size 432x288 with 1 Axes>"
      ]
     },
     "metadata": {
      "needs_background": "light"
     },
     "output_type": "display_data"
    }
   ],
   "source": [
    "sns.boxplot('distinct_payment_code_week',data=data)"
   ]
  },
  {
   "cell_type": "markdown",
   "id": "7316b5ed",
   "metadata": {},
   "source": [
    "With Outliers in 'distinct_payment_code_week' column, we will handle them by Binning."
   ]
  },
  {
   "cell_type": "code",
   "execution_count": 21,
   "id": "748b9dfb",
   "metadata": {},
   "outputs": [],
   "source": [
    "distinct_payment_code_week = data['distinct_payment_code_week'].values.tolist()\n",
    "\n",
    "def impute_distinct_payment_code_week(col):\n",
    "    distinct_payment_code_week = col[0]\n",
    "    if distinct_payment_code_week < 2:\n",
    "        return distinct_payment_code_week\n",
    "    else:\n",
    "        return 'Other'"
   ]
  },
  {
   "cell_type": "code",
   "execution_count": 22,
   "id": "b337783e",
   "metadata": {},
   "outputs": [],
   "source": [
    "data['distinct_payment_code_week'] = data[['distinct_payment_code_week']].apply(impute_distinct_payment_code_week, axis = 1)"
   ]
  },
  {
   "cell_type": "code",
   "execution_count": 23,
   "id": "77188966",
   "metadata": {},
   "outputs": [
    {
     "data": {
      "text/plain": [
       "0.0      37035\n",
       "1.0      16482\n",
       "Other     1273\n",
       "Name: distinct_payment_code_week, dtype: int64"
      ]
     },
     "execution_count": 23,
     "metadata": {},
     "output_type": "execute_result"
    }
   ],
   "source": [
    "data['distinct_payment_code_week'].value_counts()"
   ]
  },
  {
   "cell_type": "markdown",
   "id": "da60724a",
   "metadata": {},
   "source": [
    "<h2> 6. 'count_payment_code_week' column"
   ]
  },
  {
   "cell_type": "code",
   "execution_count": 24,
   "id": "084920f2",
   "metadata": {},
   "outputs": [
    {
     "data": {
      "text/plain": [
       "<AxesSubplot:ylabel='count_payment_code_week'>"
      ]
     },
     "execution_count": 24,
     "metadata": {},
     "output_type": "execute_result"
    },
    {
     "data": {
      "image/png": "[encoded data removed]",
      "text/plain": [
       "<Figure size 432x288 with 1 Axes>"
      ]
     },
     "metadata": {
      "needs_background": "light"
     },
     "output_type": "display_data"
    }
   ],
   "source": [
    "sns.boxplot(y='count_payment_code_week',data=data)"
   ]
  },
  {
   "cell_type": "markdown",
   "id": "427e71f1",
   "metadata": {},
   "source": [
    "Use IQR method to identify Outliers."
   ]
  },
  {
   "cell_type": "code",
   "execution_count": 25,
   "id": "5b64c3be",
   "metadata": {},
   "outputs": [],
   "source": [
    "count_payment_code_week = data['count_payment_code_week'].values.tolist()\n",
    "Q1 = np.percentile(data[['count_payment_code_week']], 25, interpolation = 'midpoint')\n",
    "Q2 = np.percentile(data[['count_payment_code_week']], 50, interpolation = 'midpoint')\n",
    "Q3 = np.percentile(data[['count_payment_code_week']], 75, interpolation = 'midpoint')\n",
    "IQR = Q3 - Q1\n",
    "low_lim = Q1 - 1.5 * IQR\n",
    "up_lim = Q3 + 1.5 * IQR"
   ]
  },
  {
   "cell_type": "markdown",
   "id": "af453f73",
   "metadata": {},
   "source": [
    "Handling Outliers by Capping."
   ]
  },
  {
   "cell_type": "code",
   "execution_count": 26,
   "id": "beacaad3",
   "metadata": {},
   "outputs": [],
   "source": [
    "data['count_payment_code_week'] = np.where(data['count_payment_code_week'] > up_lim, up_lim, \n",
    "                               np.where(data['count_payment_code_week'] < low_lim, low_lim, data['count_payment_code_week']))"
   ]
  },
  {
   "cell_type": "code",
   "execution_count": 27,
   "id": "1bfcbc25",
   "metadata": {},
   "outputs": [
    {
     "data": {
      "text/plain": [
       "<AxesSubplot:ylabel='count_payment_code_week'>"
      ]
     },
     "execution_count": 27,
     "metadata": {},
     "output_type": "execute_result"
    },
    {
     "data": {
      "image/png": "[encoded data removed]",
      "text/plain": [
       "<Figure size 432x288 with 1 Axes>"
      ]
     },
     "metadata": {
      "needs_background": "light"
     },
     "output_type": "display_data"
    }
   ],
   "source": [
    "sns.boxplot(y='count_payment_code_week',data=data)"
   ]
  },
  {
   "cell_type": "markdown",
   "id": "339532e0",
   "metadata": {},
   "source": [
    "<h2> 7. 'distinct_trans_group_week' column\n"
   ]
  },
  {
   "cell_type": "code",
   "execution_count": 28,
   "id": "9e9ca88a",
   "metadata": {},
   "outputs": [
    {
     "data": {
      "text/plain": [
       "<AxesSubplot:xlabel='Is_churn', ylabel='distinct_trans_group_week'>"
      ]
     },
     "execution_count": 28,
     "metadata": {},
     "output_type": "execute_result"
    },
    {
     "data": {
      "image/png": "[encoded data removed]",
      "text/plain": [
       "<Figure size 432x288 with 1 Axes>"
      ]
     },
     "metadata": {
      "needs_background": "light"
     },
     "output_type": "display_data"
    }
   ],
   "source": [
    "sns.boxplot(x = 'Is_churn', y='distinct_trans_group_week',data=data)"
   ]
  },
  {
   "cell_type": "code",
   "execution_count": 29,
   "id": "2e3029ac",
   "metadata": {},
   "outputs": [
    {
     "data": {
      "text/plain": [
       "<AxesSubplot:ylabel='distinct_trans_group_week'>"
      ]
     },
     "execution_count": 29,
     "metadata": {},
     "output_type": "execute_result"
    },
    {
     "data": {
      "image/png": "[encoded data removed]",
      "text/plain": [
       "<Figure size 432x288 with 1 Axes>"
      ]
     },
     "metadata": {
      "needs_background": "light"
     },
     "output_type": "display_data"
    }
   ],
   "source": [
    "sns.boxplot(y = 'distinct_trans_group_week',data=data)"
   ]
  },
  {
   "cell_type": "markdown",
   "id": "ffa20ac6",
   "metadata": {},
   "source": [
    "Handling Outliers by Binning."
   ]
  },
  {
   "cell_type": "code",
   "execution_count": 30,
   "id": "fa863109",
   "metadata": {},
   "outputs": [],
   "source": [
    "distinct_trans_group_week = data['distinct_trans_group_week'].values.tolist()\n",
    "\n",
    "def impute_distinct_trans_group_week(col):\n",
    "    distinct_trans_group_week = col[0]\n",
    "    if distinct_trans_group_week < 3:\n",
    "        return distinct_trans_group_week\n",
    "    else:\n",
    "        return 'Other'"
   ]
  },
  {
   "cell_type": "code",
   "execution_count": 31,
   "id": "dddee204",
   "metadata": {},
   "outputs": [],
   "source": [
    "data['distinct_trans_group_week'] = data[['distinct_trans_group_week']].apply(impute_distinct_trans_group_week, axis = 1)"
   ]
  },
  {
   "cell_type": "code",
   "execution_count": 32,
   "id": "0bc24379",
   "metadata": {},
   "outputs": [
    {
     "data": {
      "text/plain": [
       "1.0      32842\n",
       "2.0      17100\n",
       "Other     4848\n",
       "Name: distinct_trans_group_week, dtype: int64"
      ]
     },
     "execution_count": 32,
     "metadata": {},
     "output_type": "execute_result"
    }
   ],
   "source": [
    "data['distinct_trans_group_week'].value_counts()"
   ]
  },
  {
   "cell_type": "markdown",
   "id": "e4b27671",
   "metadata": {},
   "source": [
    "<h2> 8. 'distinct_ref_no_week' column"
   ]
  },
  {
   "cell_type": "code",
   "execution_count": 33,
   "id": "67abb43d",
   "metadata": {},
   "outputs": [
    {
     "name": "stderr",
     "output_type": "stream",
     "text": [
      "C:\\Users\\Admin\\anaconda3\\lib\\site-packages\\seaborn\\_decorators.py:36: FutureWarning: Pass the following variable as a keyword arg: x. From version 0.12, the only valid positional argument will be `data`, and passing other arguments without an explicit keyword will result in an error or misinterpretation.\n",
      "  warnings.warn(\n"
     ]
    },
    {
     "data": {
      "text/plain": [
       "<AxesSubplot:xlabel='distinct_ref_no_week'>"
      ]
     },
     "execution_count": 33,
     "metadata": {},
     "output_type": "execute_result"
    },
    {
     "data": {
      "image/png": "[encoded data removed]",
      "text/plain": [
       "<Figure size 432x288 with 1 Axes>"
      ]
     },
     "metadata": {
      "needs_background": "light"
     },
     "output_type": "display_data"
    }
   ],
   "source": [
    "sns.boxplot('distinct_ref_no_week',data=data)"
   ]
  },
  {
   "cell_type": "code",
   "execution_count": 34,
   "id": "8b5923f8",
   "metadata": {},
   "outputs": [],
   "source": [
    "distinct_ref_no_week = data['distinct_ref_no_week'].values.tolist()\n",
    "Q1 = np.percentile(data[['distinct_ref_no_week']], 25, interpolation = 'midpoint')\n",
    "Q2 = np.percentile(data[['distinct_ref_no_week']], 50, interpolation = 'midpoint')\n",
    "Q3 = np.percentile(data[['distinct_ref_no_week']], 75, interpolation = 'midpoint')\n",
    "IQR = Q3 - Q1\n",
    "low_lim = Q1 - 1.5 * IQR\n",
    "up_lim = Q3 + 1.5 * IQR"
   ]
  },
  {
   "cell_type": "code",
   "execution_count": 35,
   "id": "646e7eec",
   "metadata": {},
   "outputs": [],
   "source": [
    "data['distinct_ref_no_week'] = np.where(data['distinct_ref_no_week'] > up_lim, up_lim, \n",
    "                               np.where(data['distinct_ref_no_week'] < low_lim, low_lim, data['distinct_ref_no_week']))"
   ]
  },
  {
   "cell_type": "code",
   "execution_count": 36,
   "id": "318547a2",
   "metadata": {},
   "outputs": [
    {
     "name": "stderr",
     "output_type": "stream",
     "text": [
      "C:\\Users\\Admin\\anaconda3\\lib\\site-packages\\seaborn\\_decorators.py:36: FutureWarning: Pass the following variable as a keyword arg: x. From version 0.12, the only valid positional argument will be `data`, and passing other arguments without an explicit keyword will result in an error or misinterpretation.\n",
      "  warnings.warn(\n"
     ]
    },
    {
     "data": {
      "text/plain": [
       "<AxesSubplot:xlabel='distinct_ref_no_week'>"
      ]
     },
     "execution_count": 36,
     "metadata": {},
     "output_type": "execute_result"
    },
    {
     "data": {
      "image/png": "[encoded data removed]",
      "text/plain": [
       "<Figure size 432x288 with 1 Axes>"
      ]
     },
     "metadata": {
      "needs_background": "light"
     },
     "output_type": "display_data"
    }
   ],
   "source": [
    "sns.boxplot('distinct_ref_no_week',data=data)"
   ]
  },
  {
   "cell_type": "markdown",
   "id": "6c03d041",
   "metadata": {},
   "source": [
    "<h2> 9. 'amount_month' column"
   ]
  },
  {
   "cell_type": "code",
   "execution_count": 37,
   "id": "aeabc9c7",
   "metadata": {},
   "outputs": [
    {
     "name": "stderr",
     "output_type": "stream",
     "text": [
      "C:\\Users\\Admin\\anaconda3\\lib\\site-packages\\seaborn\\distributions.py:2619: FutureWarning: `distplot` is a deprecated function and will be removed in a future version. Please adapt your code to use either `displot` (a figure-level function with similar flexibility) or `kdeplot` (an axes-level function for kernel density plots).\n",
      "  warnings.warn(msg, FutureWarning)\n"
     ]
    },
    {
     "data": {
      "text/plain": [
       "<AxesSubplot:xlabel='amount_month', ylabel='Density'>"
      ]
     },
     "execution_count": 37,
     "metadata": {},
     "output_type": "execute_result"
    },
    {
     "data": {
      "image/png": "[encoded data removed]",
      "text/plain": [
       "<Figure size 432x288 with 1 Axes>"
      ]
     },
     "metadata": {
      "needs_background": "light"
     },
     "output_type": "display_data"
    }
   ],
   "source": [
    "sns.distplot(data['amount_month'], hist = False, color = 'b')"
   ]
  },
  {
   "cell_type": "code",
   "execution_count": 38,
   "id": "3c725b0e",
   "metadata": {},
   "outputs": [
    {
     "name": "stderr",
     "output_type": "stream",
     "text": [
      "C:\\Users\\Admin\\anaconda3\\lib\\site-packages\\seaborn\\_decorators.py:36: FutureWarning: Pass the following variable as a keyword arg: x. From version 0.12, the only valid positional argument will be `data`, and passing other arguments without an explicit keyword will result in an error or misinterpretation.\n",
      "  warnings.warn(\n"
     ]
    },
    {
     "data": {
      "text/plain": [
       "<AxesSubplot:xlabel='amount_month'>"
      ]
     },
     "execution_count": 38,
     "metadata": {},
     "output_type": "execute_result"
    },
    {
     "data": {
      "image/png": "[encoded data removed]",
      "text/plain": [
       "<Figure size 432x288 with 1 Axes>"
      ]
     },
     "metadata": {
      "needs_background": "light"
     },
     "output_type": "display_data"
    }
   ],
   "source": [
    "sns.boxplot('amount_month',data=data)"
   ]
  },
  {
   "cell_type": "markdown",
   "id": "c4f60332",
   "metadata": {},
   "source": [
    "Use IQR to identify Outliers."
   ]
  },
  {
   "cell_type": "code",
   "execution_count": 39,
   "id": "b133dd9a",
   "metadata": {},
   "outputs": [],
   "source": [
    "amount_month = data['amount_month'].values.tolist()\n",
    "Q1 = np.percentile(data[['amount_month']], 25, interpolation = 'midpoint')\n",
    "Q2 = np.percentile(data[['amount_month']], 50, interpolation = 'midpoint')\n",
    "Q3 = np.percentile(data[['amount_month']], 75, interpolation = 'midpoint')\n",
    "IQR = Q3 - Q1\n",
    "low_lim = Q1 - 1.5 * IQR\n",
    "up_lim = Q3 + 1.5 * IQR"
   ]
  },
  {
   "cell_type": "markdown",
   "id": "707bf6cf",
   "metadata": {},
   "source": [
    "Handling Outliers by Capping."
   ]
  },
  {
   "cell_type": "code",
   "execution_count": 40,
   "id": "1fd6234f",
   "metadata": {},
   "outputs": [],
   "source": [
    "data['amount_month'] = np.where(data['amount_month'] > up_lim, up_lim, \n",
    "                               np.where(data['amount_month'] < low_lim, low_lim, data['amount_month']))"
   ]
  },
  {
   "cell_type": "code",
   "execution_count": 41,
   "id": "4ba5d4fc",
   "metadata": {},
   "outputs": [
    {
     "name": "stderr",
     "output_type": "stream",
     "text": [
      "C:\\Users\\Admin\\anaconda3\\lib\\site-packages\\seaborn\\_decorators.py:36: FutureWarning: Pass the following variable as a keyword arg: x. From version 0.12, the only valid positional argument will be `data`, and passing other arguments without an explicit keyword will result in an error or misinterpretation.\n",
      "  warnings.warn(\n"
     ]
    },
    {
     "data": {
      "text/plain": [
       "<AxesSubplot:xlabel='amount_month'>"
      ]
     },
     "execution_count": 41,
     "metadata": {},
     "output_type": "execute_result"
    },
    {
     "data": {
      "image/png": "[encoded data removed]",
      "text/plain": [
       "<Figure size 432x288 with 1 Axes>"
      ]
     },
     "metadata": {
      "needs_background": "light"
     },
     "output_type": "display_data"
    }
   ],
   "source": [
    "sns.boxplot('amount_month',data=data)"
   ]
  },
  {
   "cell_type": "markdown",
   "id": "cb538ddf",
   "metadata": {},
   "source": [
    "<h2> 10. 'max_amount_month' column"
   ]
  },
  {
   "cell_type": "code",
   "execution_count": 42,
   "id": "9d06440b",
   "metadata": {},
   "outputs": [
    {
     "name": "stderr",
     "output_type": "stream",
     "text": [
      "C:\\Users\\Admin\\anaconda3\\lib\\site-packages\\seaborn\\_decorators.py:36: FutureWarning: Pass the following variable as a keyword arg: x. From version 0.12, the only valid positional argument will be `data`, and passing other arguments without an explicit keyword will result in an error or misinterpretation.\n",
      "  warnings.warn(\n"
     ]
    },
    {
     "data": {
      "text/plain": [
       "<AxesSubplot:xlabel='max_amount_month'>"
      ]
     },
     "execution_count": 42,
     "metadata": {},
     "output_type": "execute_result"
    },
    {
     "data": {
      "image/png": "[encoded data removed]",
      "text/plain": [
       "<Figure size 432x288 with 1 Axes>"
      ]
     },
     "metadata": {
      "needs_background": "light"
     },
     "output_type": "display_data"
    }
   ],
   "source": [
    "sns.boxplot('max_amount_month',data=data)"
   ]
  },
  {
   "cell_type": "markdown",
   "id": "fa73b92d",
   "metadata": {},
   "source": [
    "Use IQR method to identify Outliers."
   ]
  },
  {
   "cell_type": "code",
   "execution_count": 43,
   "id": "6e2cb81d",
   "metadata": {},
   "outputs": [],
   "source": [
    "max_amount_month = data['max_amount_month'].values.tolist()\n",
    "Q1 = np.percentile(data[['max_amount_month']], 25, interpolation = 'midpoint')\n",
    "Q2 = np.percentile(data[['max_amount_month']], 50, interpolation = 'midpoint')\n",
    "Q3 = np.percentile(data[['max_amount_month']], 75, interpolation = 'midpoint')\n",
    "IQR = Q3 - Q1\n",
    "low_lim = Q1 - 1.5 * IQR\n",
    "up_lim = Q3 + 1.5 * IQR"
   ]
  },
  {
   "cell_type": "markdown",
   "id": "e0ee7694",
   "metadata": {},
   "source": [
    "Handling Outliers by Capping."
   ]
  },
  {
   "cell_type": "code",
   "execution_count": 44,
   "id": "d7a03301",
   "metadata": {},
   "outputs": [],
   "source": [
    "data['max_amount_month'] = np.where(data['max_amount_month'] > up_lim, up_lim, \n",
    "                               np.where(data['max_amount_month'] < low_lim, low_lim, data['max_amount_month']))"
   ]
  },
  {
   "cell_type": "code",
   "execution_count": 45,
   "id": "62de0861",
   "metadata": {},
   "outputs": [
    {
     "name": "stderr",
     "output_type": "stream",
     "text": [
      "C:\\Users\\Admin\\anaconda3\\lib\\site-packages\\seaborn\\_decorators.py:36: FutureWarning: Pass the following variable as a keyword arg: x. From version 0.12, the only valid positional argument will be `data`, and passing other arguments without an explicit keyword will result in an error or misinterpretation.\n",
      "  warnings.warn(\n"
     ]
    },
    {
     "data": {
      "text/plain": [
       "<AxesSubplot:xlabel='max_amount_month'>"
      ]
     },
     "execution_count": 45,
     "metadata": {},
     "output_type": "execute_result"
    },
    {
     "data": {
      "image/png": "[encoded data removed]",
      "text/plain": [
       "<Figure size 432x288 with 1 Axes>"
      ]
     },
     "metadata": {
      "needs_background": "light"
     },
     "output_type": "display_data"
    }
   ],
   "source": [
    "sns.boxplot('max_amount_month',data=data)"
   ]
  },
  {
   "cell_type": "markdown",
   "id": "3172d4a9",
   "metadata": {},
   "source": [
    "<h2> 11. 'min_amount_month' column"
   ]
  },
  {
   "cell_type": "code",
   "execution_count": 46,
   "id": "76ca7c30",
   "metadata": {},
   "outputs": [
    {
     "name": "stderr",
     "output_type": "stream",
     "text": [
      "C:\\Users\\Admin\\anaconda3\\lib\\site-packages\\seaborn\\_decorators.py:36: FutureWarning: Pass the following variable as a keyword arg: x. From version 0.12, the only valid positional argument will be `data`, and passing other arguments without an explicit keyword will result in an error or misinterpretation.\n",
      "  warnings.warn(\n"
     ]
    },
    {
     "data": {
      "text/plain": [
       "<AxesSubplot:xlabel='min_amount_month'>"
      ]
     },
     "execution_count": 46,
     "metadata": {},
     "output_type": "execute_result"
    },
    {
     "data": {
      "image/png": "[encoded data removed]",
      "text/plain": [
       "<Figure size 432x288 with 1 Axes>"
      ]
     },
     "metadata": {
      "needs_background": "light"
     },
     "output_type": "display_data"
    }
   ],
   "source": [
    "sns.boxplot('min_amount_month',data=data)"
   ]
  },
  {
   "cell_type": "markdown",
   "id": "2465ce71",
   "metadata": {},
   "source": [
    "Use IQR method to identify Outliers."
   ]
  },
  {
   "cell_type": "code",
   "execution_count": 47,
   "id": "10c3a5bf",
   "metadata": {},
   "outputs": [],
   "source": [
    "min_amount_month = data['min_amount_month'].values.tolist()\n",
    "Q1 = np.percentile(data[['min_amount_month']], 25, interpolation = 'midpoint')\n",
    "Q2 = np.percentile(data[['min_amount_month']], 50, interpolation = 'midpoint')\n",
    "Q3 = np.percentile(data[['min_amount_month']], 75, interpolation = 'midpoint')\n",
    "IQR = Q3 - Q1\n",
    "low_lim = Q1 - 1.5 * IQR\n",
    "up_lim = Q3 + 1.5 * IQR"
   ]
  },
  {
   "cell_type": "markdown",
   "id": "5cf980c3",
   "metadata": {},
   "source": [
    "Handling Outliers by Capping."
   ]
  },
  {
   "cell_type": "code",
   "execution_count": 48,
   "id": "953a6a9c",
   "metadata": {},
   "outputs": [],
   "source": [
    "data['min_amount_month'] = np.where(data['min_amount_month'] > up_lim, up_lim, \n",
    "                               np.where(data['min_amount_month'] < low_lim, low_lim, data['min_amount_month']))"
   ]
  },
  {
   "cell_type": "code",
   "execution_count": 49,
   "id": "3f25834d",
   "metadata": {},
   "outputs": [
    {
     "name": "stderr",
     "output_type": "stream",
     "text": [
      "C:\\Users\\Admin\\anaconda3\\lib\\site-packages\\seaborn\\_decorators.py:36: FutureWarning: Pass the following variable as a keyword arg: x. From version 0.12, the only valid positional argument will be `data`, and passing other arguments without an explicit keyword will result in an error or misinterpretation.\n",
      "  warnings.warn(\n"
     ]
    },
    {
     "data": {
      "text/plain": [
       "<AxesSubplot:xlabel='min_amount_month'>"
      ]
     },
     "execution_count": 49,
     "metadata": {},
     "output_type": "execute_result"
    },
    {
     "data": {
      "image/png": "[encoded data removed]",
      "text/plain": [
       "<Figure size 432x288 with 1 Axes>"
      ]
     },
     "metadata": {
      "needs_background": "light"
     },
     "output_type": "display_data"
    }
   ],
   "source": [
    "sns.boxplot('min_amount_month',data=data)"
   ]
  },
  {
   "cell_type": "markdown",
   "id": "ccbcbc5f",
   "metadata": {},
   "source": [
    "<h2> 12. 'diff_amount_month' column"
   ]
  },
  {
   "cell_type": "code",
   "execution_count": 50,
   "id": "c040e82c",
   "metadata": {},
   "outputs": [
    {
     "name": "stderr",
     "output_type": "stream",
     "text": [
      "C:\\Users\\Admin\\anaconda3\\lib\\site-packages\\seaborn\\_decorators.py:36: FutureWarning: Pass the following variable as a keyword arg: x. From version 0.12, the only valid positional argument will be `data`, and passing other arguments without an explicit keyword will result in an error or misinterpretation.\n",
      "  warnings.warn(\n"
     ]
    },
    {
     "data": {
      "text/plain": [
       "<AxesSubplot:xlabel='diff_amount_month'>"
      ]
     },
     "execution_count": 50,
     "metadata": {},
     "output_type": "execute_result"
    },
    {
     "data": {
      "image/png": "[encoded data removed]",
      "text/plain": [
       "<Figure size 432x288 with 1 Axes>"
      ]
     },
     "metadata": {
      "needs_background": "light"
     },
     "output_type": "display_data"
    }
   ],
   "source": [
    "sns.boxplot('diff_amount_month',data=data)"
   ]
  },
  {
   "cell_type": "markdown",
   "id": "7526eab6",
   "metadata": {},
   "source": [
    "Use IQR method to identify Outliers."
   ]
  },
  {
   "cell_type": "code",
   "execution_count": 51,
   "id": "aec36d3b",
   "metadata": {},
   "outputs": [],
   "source": [
    "diff_amount_month = data['diff_amount_month'].values.tolist()\n",
    "Q1 = np.percentile(data[['diff_amount_month']], 25, interpolation = 'midpoint')\n",
    "Q2 = np.percentile(data[['diff_amount_month']], 50, interpolation = 'midpoint')\n",
    "Q3 = np.percentile(data[['diff_amount_month']], 75, interpolation = 'midpoint')\n",
    "IQR = Q3 - Q1\n",
    "low_lim = Q1 - 1.5 * IQR\n",
    "up_lim = Q3 + 1.5 * IQR"
   ]
  },
  {
   "cell_type": "markdown",
   "id": "43587dce",
   "metadata": {},
   "source": [
    "Handling Outliers by Capping."
   ]
  },
  {
   "cell_type": "code",
   "execution_count": 52,
   "id": "1b640d1f",
   "metadata": {},
   "outputs": [],
   "source": [
    "data['diff_amount_month'] = np.where(data['diff_amount_month'] > up_lim, up_lim, \n",
    "                               np.where(data['diff_amount_month'] < low_lim, low_lim, data['diff_amount_month']))"
   ]
  },
  {
   "cell_type": "code",
   "execution_count": 53,
   "id": "9d7adff3",
   "metadata": {},
   "outputs": [
    {
     "name": "stderr",
     "output_type": "stream",
     "text": [
      "C:\\Users\\Admin\\anaconda3\\lib\\site-packages\\seaborn\\_decorators.py:36: FutureWarning: Pass the following variable as a keyword arg: x. From version 0.12, the only valid positional argument will be `data`, and passing other arguments without an explicit keyword will result in an error or misinterpretation.\n",
      "  warnings.warn(\n"
     ]
    },
    {
     "data": {
      "text/plain": [
       "<AxesSubplot:xlabel='diff_amount_month'>"
      ]
     },
     "execution_count": 53,
     "metadata": {},
     "output_type": "execute_result"
    },
    {
     "data": {
      "image/png": "[encoded data removed]",
      "text/plain": [
       "<Figure size 432x288 with 1 Axes>"
      ]
     },
     "metadata": {
      "needs_background": "light"
     },
     "output_type": "display_data"
    }
   ],
   "source": [
    "sns.boxplot('diff_amount_month',data=data)"
   ]
  },
  {
   "cell_type": "markdown",
   "id": "a57d5580",
   "metadata": {},
   "source": [
    "<h2> 13. 'distinct_payment_code_month' column"
   ]
  },
  {
   "cell_type": "code",
   "execution_count": 54,
   "id": "0b7d2488",
   "metadata": {},
   "outputs": [
    {
     "data": {
      "text/plain": [
       "<AxesSubplot:ylabel='distinct_payment_code_month'>"
      ]
     },
     "execution_count": 54,
     "metadata": {},
     "output_type": "execute_result"
    },
    {
     "data": {
      "image/png": "[encoded data removed]",
      "text/plain": [
       "<Figure size 432x288 with 1 Axes>"
      ]
     },
     "metadata": {
      "needs_background": "light"
     },
     "output_type": "display_data"
    }
   ],
   "source": [
    "sns.boxplot(y='distinct_payment_code_month',data=data)"
   ]
  },
  {
   "cell_type": "markdown",
   "id": "849afc7d",
   "metadata": {},
   "source": [
    "Handling Outliers by Binning."
   ]
  },
  {
   "cell_type": "code",
   "execution_count": 55,
   "id": "3e71365e",
   "metadata": {},
   "outputs": [],
   "source": [
    "distinct_payment_code_month = data['distinct_payment_code_month'].values.tolist()\n",
    "\n",
    "def impute_distinct_payment_code_month(col):\n",
    "    distinct_payment_code_month = col[0]\n",
    "    if distinct_payment_code_month < 3:\n",
    "        return distinct_payment_code_month\n",
    "    else:\n",
    "        return 'Other'"
   ]
  },
  {
   "cell_type": "code",
   "execution_count": 56,
   "id": "b67e90f0",
   "metadata": {},
   "outputs": [],
   "source": [
    "data['distinct_payment_code_month'] = data[['distinct_payment_code_month']].apply(impute_distinct_payment_code_month, axis = 1)"
   ]
  },
  {
   "cell_type": "code",
   "execution_count": 57,
   "id": "9c249999",
   "metadata": {},
   "outputs": [
    {
     "data": {
      "text/plain": [
       "1.0      24868\n",
       "0.0      19940\n",
       "2.0       6479\n",
       "Other     3503\n",
       "Name: distinct_payment_code_month, dtype: int64"
      ]
     },
     "execution_count": 57,
     "metadata": {},
     "output_type": "execute_result"
    }
   ],
   "source": [
    "data['distinct_payment_code_month'].value_counts()"
   ]
  },
  {
   "cell_type": "markdown",
   "id": "113a2a0b",
   "metadata": {},
   "source": [
    "<h2> 14. 'count_payment_code_month' column"
   ]
  },
  {
   "cell_type": "code",
   "execution_count": 58,
   "id": "8f2cb020",
   "metadata": {},
   "outputs": [
    {
     "data": {
      "text/plain": [
       "<AxesSubplot:ylabel='count_payment_code_month'>"
      ]
     },
     "execution_count": 58,
     "metadata": {},
     "output_type": "execute_result"
    },
    {
     "data": {
      "image/png": "[encoded data removed]",
      "text/plain": [
       "<Figure size 432x288 with 1 Axes>"
      ]
     },
     "metadata": {
      "needs_background": "light"
     },
     "output_type": "display_data"
    }
   ],
   "source": [
    "sns.boxplot(y='count_payment_code_month',data=data)"
   ]
  },
  {
   "cell_type": "markdown",
   "id": "00e05b19",
   "metadata": {},
   "source": [
    "Use IQR method to identify Outliers."
   ]
  },
  {
   "cell_type": "code",
   "execution_count": 59,
   "id": "c2cad929",
   "metadata": {},
   "outputs": [],
   "source": [
    "count_payment_code_month = data['count_payment_code_month'].values.tolist()\n",
    "Q1 = np.percentile(data[['count_payment_code_month']], 25, interpolation = 'midpoint')\n",
    "Q2 = np.percentile(data[['count_payment_code_month']], 50, interpolation = 'midpoint')\n",
    "Q3 = np.percentile(data[['count_payment_code_month']], 75, interpolation = 'midpoint')\n",
    "IQR = Q3 - Q1\n",
    "low_lim = Q1 - 1.5 * IQR\n",
    "up_lim = Q3 + 1.5 * IQR"
   ]
  },
  {
   "cell_type": "markdown",
   "id": "c452071d",
   "metadata": {},
   "source": [
    "Handling Outliers by Capping."
   ]
  },
  {
   "cell_type": "code",
   "execution_count": 60,
   "id": "cc2d435b",
   "metadata": {},
   "outputs": [],
   "source": [
    "data['count_payment_code_month'] = np.where(data['count_payment_code_month'] > up_lim, up_lim, \n",
    "                               np.where(data['count_payment_code_month'] < low_lim, low_lim, data['count_payment_code_month']))"
   ]
  },
  {
   "cell_type": "code",
   "execution_count": 61,
   "id": "41f4577a",
   "metadata": {},
   "outputs": [
    {
     "data": {
      "text/plain": [
       "<AxesSubplot:ylabel='count_payment_code_month'>"
      ]
     },
     "execution_count": 61,
     "metadata": {},
     "output_type": "execute_result"
    },
    {
     "data": {
      "image/png": "[encoded data removed]",
      "text/plain": [
       "<Figure size 432x288 with 1 Axes>"
      ]
     },
     "metadata": {
      "needs_background": "light"
     },
     "output_type": "display_data"
    }
   ],
   "source": [
    "sns.boxplot(y='count_payment_code_month',data=data)"
   ]
  },
  {
   "cell_type": "markdown",
   "id": "f198f50c",
   "metadata": {},
   "source": [
    "<h2> 15. 'distinct_trans_group_month' column"
   ]
  },
  {
   "cell_type": "code",
   "execution_count": 62,
   "id": "f42295ac",
   "metadata": {},
   "outputs": [
    {
     "data": {
      "text/plain": [
       "<AxesSubplot:ylabel='distinct_trans_group_month'>"
      ]
     },
     "execution_count": 62,
     "metadata": {},
     "output_type": "execute_result"
    },
    {
     "data": {
      "image/png": "[encoded data removed]",
      "text/plain": [
       "<Figure size 432x288 with 1 Axes>"
      ]
     },
     "metadata": {
      "needs_background": "light"
     },
     "output_type": "display_data"
    }
   ],
   "source": [
    "sns.boxplot(y='distinct_trans_group_month',data=data)"
   ]
  },
  {
   "cell_type": "markdown",
   "id": "8f425d15",
   "metadata": {},
   "source": [
    "Handling Outliers by Binning."
   ]
  },
  {
   "cell_type": "code",
   "execution_count": 63,
   "id": "fb15cdaf",
   "metadata": {},
   "outputs": [],
   "source": [
    "distinct_trans_group_month = data['distinct_trans_group_month'].values.tolist()\n",
    "\n",
    "def impute_distinct_trans_group_month(col):\n",
    "    distinct_trans_group_month = col[0]\n",
    "    if distinct_trans_group_month < 4:\n",
    "        return distinct_trans_group_month\n",
    "    else:\n",
    "        return 'Other'"
   ]
  },
  {
   "cell_type": "code",
   "execution_count": 64,
   "id": "6cb803ce",
   "metadata": {},
   "outputs": [],
   "source": [
    "data['distinct_trans_group_month'] = data[['distinct_trans_group_month']].apply(impute_distinct_trans_group_month, axis = 1)"
   ]
  },
  {
   "cell_type": "code",
   "execution_count": 65,
   "id": "2970d26c",
   "metadata": {},
   "outputs": [
    {
     "data": {
      "text/plain": [
       "2.0      24747\n",
       "3.0      12473\n",
       "1.0      11569\n",
       "Other     6001\n",
       "Name: distinct_trans_group_month, dtype: int64"
      ]
     },
     "execution_count": 65,
     "metadata": {},
     "output_type": "execute_result"
    }
   ],
   "source": [
    "data['distinct_trans_group_month'].value_counts()"
   ]
  },
  {
   "cell_type": "markdown",
   "id": "f217b221",
   "metadata": {},
   "source": [
    "<h2> 16. 'distinct_ref_no_month' column"
   ]
  },
  {
   "cell_type": "code",
   "execution_count": 67,
   "id": "1dc56776",
   "metadata": {},
   "outputs": [
    {
     "data": {
      "text/plain": [
       "<AxesSubplot:ylabel='distinct_ref_no_month'>"
      ]
     },
     "execution_count": 67,
     "metadata": {},
     "output_type": "execute_result"
    },
    {
     "data": {
      "image/png": "[encoded data removed]",
      "text/plain": [
       "<Figure size 432x288 with 1 Axes>"
      ]
     },
     "metadata": {
      "needs_background": "light"
     },
     "output_type": "display_data"
    }
   ],
   "source": [
    "sns.boxplot(y = 'distinct_ref_no_month',data=data)"
   ]
  },
  {
   "cell_type": "markdown",
   "id": "d46247cc",
   "metadata": {},
   "source": [
    "Use IQR method to identify Outliers."
   ]
  },
  {
   "cell_type": "code",
   "execution_count": 68,
   "id": "93d73c86",
   "metadata": {},
   "outputs": [],
   "source": [
    "distinct_ref_no_month = data['distinct_ref_no_month'].values.tolist()\n",
    "Q1 = np.percentile(data[['distinct_ref_no_month']], 25, interpolation = 'midpoint')\n",
    "Q2 = np.percentile(data[['distinct_ref_no_month']], 50, interpolation = 'midpoint')\n",
    "Q3 = np.percentile(data[['distinct_ref_no_month']], 75, interpolation = 'midpoint')\n",
    "IQR = Q3 - Q1\n",
    "low_lim = Q1 - 1.5 * IQR\n",
    "up_lim = Q3 + 1.5 * IQR"
   ]
  },
  {
   "cell_type": "markdown",
   "id": "ce3d2c7c",
   "metadata": {},
   "source": [
    "Handling Outliers by Capping."
   ]
  },
  {
   "cell_type": "code",
   "execution_count": 69,
   "id": "98f69088",
   "metadata": {},
   "outputs": [],
   "source": [
    "data['distinct_ref_no_month'] = np.where(data['distinct_ref_no_month'] > up_lim, up_lim, \n",
    "                               np.where(data['distinct_ref_no_month'] < low_lim, low_lim, data['distinct_ref_no_month']))"
   ]
  },
  {
   "cell_type": "code",
   "execution_count": 71,
   "id": "aebc410f",
   "metadata": {},
   "outputs": [
    {
     "data": {
      "text/plain": [
       "<AxesSubplot:ylabel='distinct_ref_no_month'>"
      ]
     },
     "execution_count": 71,
     "metadata": {},
     "output_type": "execute_result"
    },
    {
     "data": {
      "image/png": "[encoded data removed]",
      "text/plain": [
       "<Figure size 432x288 with 1 Axes>"
      ]
     },
     "metadata": {
      "needs_background": "light"
     },
     "output_type": "display_data"
    }
   ],
   "source": [
    "sns.boxplot(y = 'distinct_ref_no_month',data=data)"
   ]
  },
  {
   "cell_type": "markdown",
   "id": "11850179",
   "metadata": {},
   "source": [
    "<h2> 17. 'amount_3month' column"
   ]
  },
  {
   "cell_type": "code",
   "execution_count": 72,
   "id": "a8fe1823",
   "metadata": {},
   "outputs": [
    {
     "name": "stderr",
     "output_type": "stream",
     "text": [
      "C:\\Users\\Admin\\anaconda3\\lib\\site-packages\\seaborn\\distributions.py:2619: FutureWarning: `distplot` is a deprecated function and will be removed in a future version. Please adapt your code to use either `displot` (a figure-level function with similar flexibility) or `kdeplot` (an axes-level function for kernel density plots).\n",
      "  warnings.warn(msg, FutureWarning)\n"
     ]
    },
    {
     "data": {
      "text/plain": [
       "<AxesSubplot:xlabel='amount_3month', ylabel='Density'>"
      ]
     },
     "execution_count": 72,
     "metadata": {},
     "output_type": "execute_result"
    },
    {
     "data": {
      "image/png": "[encoded data removed]",
      "text/plain": [
       "<Figure size 432x288 with 1 Axes>"
      ]
     },
     "metadata": {
      "needs_background": "light"
     },
     "output_type": "display_data"
    }
   ],
   "source": [
    "sns.distplot(data['amount_3month'], hist = False, color = 'b')"
   ]
  },
  {
   "cell_type": "code",
   "execution_count": 73,
   "id": "02b75c77",
   "metadata": {},
   "outputs": [
    {
     "data": {
      "text/plain": [
       "<AxesSubplot:ylabel='amount_3month'>"
      ]
     },
     "execution_count": 73,
     "metadata": {},
     "output_type": "execute_result"
    },
    {
     "data": {
      "image/png": "[encoded data removed]",
      "text/plain": [
       "<Figure size 432x288 with 1 Axes>"
      ]
     },
     "metadata": {
      "needs_background": "light"
     },
     "output_type": "display_data"
    }
   ],
   "source": [
    "sns.boxplot(y = 'amount_3month',data=data)"
   ]
  },
  {
   "cell_type": "markdown",
   "id": "acadeb16",
   "metadata": {},
   "source": [
    "Use IQR method to identify Outliers."
   ]
  },
  {
   "cell_type": "code",
   "execution_count": 74,
   "id": "d601b4fd",
   "metadata": {},
   "outputs": [],
   "source": [
    "amount_3month = data['amount_3month'].values.tolist()\n",
    "Q1 = np.percentile(data[['amount_3month']], 25, interpolation = 'midpoint')\n",
    "Q2 = np.percentile(data[['amount_3month']], 50, interpolation = 'midpoint')\n",
    "Q3 = np.percentile(data[['amount_3month']], 75, interpolation = 'midpoint')\n",
    "IQR = Q3 - Q1\n",
    "low_lim = Q1 - 1.5 * IQR\n",
    "up_lim = Q3 + 1.5 * IQR"
   ]
  },
  {
   "cell_type": "markdown",
   "id": "1915abb3",
   "metadata": {},
   "source": [
    "Handling Outliers by Capping"
   ]
  },
  {
   "cell_type": "code",
   "execution_count": 75,
   "id": "120bf643",
   "metadata": {},
   "outputs": [],
   "source": [
    "data['amount_3month'] = np.where(data['amount_3month'] > up_lim, up_lim, \n",
    "                               np.where(data['amount_3month'] < low_lim, low_lim, data['amount_3month']))"
   ]
  },
  {
   "cell_type": "code",
   "execution_count": 76,
   "id": "6590720d",
   "metadata": {},
   "outputs": [
    {
     "data": {
      "text/plain": [
       "<AxesSubplot:ylabel='amount_3month'>"
      ]
     },
     "execution_count": 76,
     "metadata": {},
     "output_type": "execute_result"
    },
    {
     "data": {
      "image/png": "[encoded data removed]",
      "text/plain": [
       "<Figure size 432x288 with 1 Axes>"
      ]
     },
     "metadata": {
      "needs_background": "light"
     },
     "output_type": "display_data"
    }
   ],
   "source": [
    "sns.boxplot(y = 'amount_3month',data=data)"
   ]
  },
  {
   "cell_type": "markdown",
   "id": "631a43e4",
   "metadata": {},
   "source": [
    "<h2> 18. 'max_amount_3month' column"
   ]
  },
  {
   "cell_type": "code",
   "execution_count": 77,
   "id": "70e41453",
   "metadata": {},
   "outputs": [
    {
     "data": {
      "text/plain": [
       "<AxesSubplot:ylabel='max_amount_3month'>"
      ]
     },
     "execution_count": 77,
     "metadata": {},
     "output_type": "execute_result"
    },
    {
     "data": {
      "image/png": "[encoded data removed]",
      "text/plain": [
       "<Figure size 432x288 with 1 Axes>"
      ]
     },
     "metadata": {
      "needs_background": "light"
     },
     "output_type": "display_data"
    }
   ],
   "source": [
    "sns.boxplot(y = 'max_amount_3month',data=data)"
   ]
  },
  {
   "cell_type": "markdown",
   "id": "35ab046e",
   "metadata": {},
   "source": [
    "Use IQR method to identify Outliers."
   ]
  },
  {
   "cell_type": "code",
   "execution_count": 78,
   "id": "aee36ed9",
   "metadata": {},
   "outputs": [],
   "source": [
    "max_amount_3month = data['max_amount_3month'].values.tolist()\n",
    "Q1 = np.percentile(data[['max_amount_3month']], 25, interpolation = 'midpoint')\n",
    "Q2 = np.percentile(data[['max_amount_3month']], 50, interpolation = 'midpoint')\n",
    "Q3 = np.percentile(data[['max_amount_3month']], 75, interpolation = 'midpoint')\n",
    "IQR = Q3 - Q1\n",
    "low_lim = Q1 - 1.5 * IQR\n",
    "up_lim = Q3 + 1.5 * IQR"
   ]
  },
  {
   "cell_type": "markdown",
   "id": "ab447542",
   "metadata": {},
   "source": [
    "Handling Outliers by Capping."
   ]
  },
  {
   "cell_type": "code",
   "execution_count": 79,
   "id": "70a84d42",
   "metadata": {},
   "outputs": [],
   "source": [
    "data['max_amount_3month'] = np.where(data['max_amount_3month'] > up_lim, up_lim, \n",
    "                               np.where(data['max_amount_3month'] < low_lim, low_lim, data['max_amount_3month']))"
   ]
  },
  {
   "cell_type": "code",
   "execution_count": 80,
   "id": "468527ac",
   "metadata": {},
   "outputs": [
    {
     "name": "stderr",
     "output_type": "stream",
     "text": [
      "C:\\Users\\Admin\\anaconda3\\lib\\site-packages\\seaborn\\_decorators.py:36: FutureWarning: Pass the following variable as a keyword arg: x. From version 0.12, the only valid positional argument will be `data`, and passing other arguments without an explicit keyword will result in an error or misinterpretation.\n",
      "  warnings.warn(\n"
     ]
    },
    {
     "data": {
      "text/plain": [
       "<AxesSubplot:xlabel='max_amount_3month'>"
      ]
     },
     "execution_count": 80,
     "metadata": {},
     "output_type": "execute_result"
    },
    {
     "data": {
      "image/png": "[encoded data removed]",
      "text/plain": [
       "<Figure size 432x288 with 1 Axes>"
      ]
     },
     "metadata": {
      "needs_background": "light"
     },
     "output_type": "display_data"
    }
   ],
   "source": [
    "sns.boxplot('max_amount_3month',data=data)"
   ]
  },
  {
   "cell_type": "markdown",
   "id": "a3393b4e",
   "metadata": {},
   "source": [
    "<h2> 19. 'min_amount_3month' column"
   ]
  },
  {
   "cell_type": "code",
   "execution_count": 82,
   "id": "cd14e99b",
   "metadata": {},
   "outputs": [
    {
     "data": {
      "text/plain": [
       "<AxesSubplot:ylabel='min_amount_3month'>"
      ]
     },
     "execution_count": 82,
     "metadata": {},
     "output_type": "execute_result"
    },
    {
     "data": {
      "image/png": "[encoded data removed]",
      "text/plain": [
       "<Figure size 432x288 with 1 Axes>"
      ]
     },
     "metadata": {
      "needs_background": "light"
     },
     "output_type": "display_data"
    }
   ],
   "source": [
    "sns.boxplot(y = 'min_amount_3month',data=data)"
   ]
  },
  {
   "cell_type": "markdown",
   "id": "be58d479",
   "metadata": {},
   "source": [
    "Use IQR method to identify Outliers."
   ]
  },
  {
   "cell_type": "code",
   "execution_count": 83,
   "id": "0cec1091",
   "metadata": {},
   "outputs": [],
   "source": [
    "min_amount_3month = data['min_amount_3month'].values.tolist()\n",
    "Q1 = np.percentile(data[['min_amount_3month']], 25, interpolation = 'midpoint')\n",
    "Q2 = np.percentile(data[['min_amount_3month']], 50, interpolation = 'midpoint')\n",
    "Q3 = np.percentile(data[['min_amount_3month']], 75, interpolation = 'midpoint')\n",
    "IQR = Q3 - Q1\n",
    "low_lim = Q1 - 1.5 * IQR\n",
    "up_lim = Q3 + 1.5 * IQR"
   ]
  },
  {
   "cell_type": "markdown",
   "id": "1f270d3f",
   "metadata": {},
   "source": [
    "Handling Outliers by Capping."
   ]
  },
  {
   "cell_type": "code",
   "execution_count": 84,
   "id": "7a6adbf2",
   "metadata": {},
   "outputs": [],
   "source": [
    "data['min_amount_3month'] = np.where(data['min_amount_3month'] > up_lim, up_lim, \n",
    "                               np.where(data['min_amount_3month'] < low_lim, low_lim, data['min_amount_3month']))"
   ]
  },
  {
   "cell_type": "code",
   "execution_count": 85,
   "id": "a1632593",
   "metadata": {},
   "outputs": [
    {
     "data": {
      "text/plain": [
       "<AxesSubplot:ylabel='min_amount_3month'>"
      ]
     },
     "execution_count": 85,
     "metadata": {},
     "output_type": "execute_result"
    },
    {
     "data": {
      "image/png": "[encoded data removed]",
      "text/plain": [
       "<Figure size 432x288 with 1 Axes>"
      ]
     },
     "metadata": {
      "needs_background": "light"
     },
     "output_type": "display_data"
    }
   ],
   "source": [
    "sns.boxplot(y = 'min_amount_3month',data=data)"
   ]
  },
  {
   "cell_type": "markdown",
   "id": "14a2c984",
   "metadata": {},
   "source": [
    "<h2> 20. 'diff_amount_3month' column"
   ]
  },
  {
   "cell_type": "code",
   "execution_count": 86,
   "id": "84ece171",
   "metadata": {},
   "outputs": [
    {
     "data": {
      "text/plain": [
       "<AxesSubplot:ylabel='diff_amount_3month'>"
      ]
     },
     "execution_count": 86,
     "metadata": {},
     "output_type": "execute_result"
    },
    {
     "data": {
      "image/png": "[encoded data removed]",
      "text/plain": [
       "<Figure size 432x288 with 1 Axes>"
      ]
     },
     "metadata": {
      "needs_background": "light"
     },
     "output_type": "display_data"
    }
   ],
   "source": [
    "sns.boxplot(y = 'diff_amount_3month',data=data)"
   ]
  },
  {
   "cell_type": "markdown",
   "id": "3bd1ac50",
   "metadata": {},
   "source": [
    "Use IQR method to identify Outliers."
   ]
  },
  {
   "cell_type": "code",
   "execution_count": 87,
   "id": "75b319f3",
   "metadata": {},
   "outputs": [],
   "source": [
    "diff_amount_3month = data['diff_amount_3month'].values.tolist()\n",
    "Q1 = np.percentile(data[['diff_amount_3month']], 25, interpolation = 'midpoint')\n",
    "Q2 = np.percentile(data[['diff_amount_3month']], 50, interpolation = 'midpoint')\n",
    "Q3 = np.percentile(data[['diff_amount_3month']], 75, interpolation = 'midpoint')\n",
    "IQR = Q3 - Q1\n",
    "low_lim = Q1 - 1.5 * IQR\n",
    "up_lim = Q3 + 1.5 * IQR"
   ]
  },
  {
   "cell_type": "markdown",
   "id": "d2acc501",
   "metadata": {},
   "source": [
    "Handling Outliers by Capping."
   ]
  },
  {
   "cell_type": "code",
   "execution_count": 88,
   "id": "e795f1ab",
   "metadata": {},
   "outputs": [],
   "source": [
    "data['diff_amount_3month'] = np.where(data['diff_amount_3month'] > up_lim, up_lim, \n",
    "                               np.where(data['diff_amount_3month'] < low_lim, low_lim, data['diff_amount_3month']))"
   ]
  },
  {
   "cell_type": "code",
   "execution_count": 90,
   "id": "65ec0b2d",
   "metadata": {},
   "outputs": [
    {
     "data": {
      "text/plain": [
       "<AxesSubplot:ylabel='diff_amount_3month'>"
      ]
     },
     "execution_count": 90,
     "metadata": {},
     "output_type": "execute_result"
    },
    {
     "data": {
      "image/png": "[encoded data removed]",
      "text/plain": [
       "<Figure size 432x288 with 1 Axes>"
      ]
     },
     "metadata": {
      "needs_background": "light"
     },
     "output_type": "display_data"
    }
   ],
   "source": [
    "sns.boxplot(y = 'diff_amount_3month',data=data)"
   ]
  },
  {
   "cell_type": "markdown",
   "id": "b853aab7",
   "metadata": {},
   "source": [
    "<h2> 21. 'distinct_payment_code_3month' column\n"
   ]
  },
  {
   "cell_type": "code",
   "execution_count": 92,
   "id": "f85f1232",
   "metadata": {},
   "outputs": [
    {
     "data": {
      "text/plain": [
       "<AxesSubplot:ylabel='distinct_payment_code_3month'>"
      ]
     },
     "execution_count": 92,
     "metadata": {},
     "output_type": "execute_result"
    },
    {
     "data": {
      "image/png": "[encoded data removed]",
      "text/plain": [
       "<Figure size 432x288 with 1 Axes>"
      ]
     },
     "metadata": {
      "needs_background": "light"
     },
     "output_type": "display_data"
    }
   ],
   "source": [
    "sns.boxplot(y = 'distinct_payment_code_3month',data=data)"
   ]
  },
  {
   "cell_type": "markdown",
   "id": "cd533b9c",
   "metadata": {},
   "source": [
    "Handling Outliers by Binning."
   ]
  },
  {
   "cell_type": "code",
   "execution_count": 93,
   "id": "6a50952f",
   "metadata": {},
   "outputs": [],
   "source": [
    "distinct_payment_code_3month = data['distinct_payment_code_3month'].values.tolist()\n",
    "\n",
    "def impute_distinct_payment_code_3month(col):\n",
    "    distinct_payment_code_3month = col[0]\n",
    "    if distinct_payment_code_3month < 4:\n",
    "        return distinct_payment_code_3month\n",
    "    else:\n",
    "        return 'Other'"
   ]
  },
  {
   "cell_type": "code",
   "execution_count": 94,
   "id": "7b53a309",
   "metadata": {},
   "outputs": [],
   "source": [
    "data['distinct_payment_code_3month'] = data[['distinct_payment_code_3month']].apply(impute_distinct_payment_code_3month, axis = 1)"
   ]
  },
  {
   "cell_type": "code",
   "execution_count": 95,
   "id": "61276b08",
   "metadata": {},
   "outputs": [
    {
     "data": {
      "text/plain": [
       "1        26206\n",
       "0        13934\n",
       "2         8290\n",
       "3         3975\n",
       "Other     2385\n",
       "Name: distinct_payment_code_3month, dtype: int64"
      ]
     },
     "execution_count": 95,
     "metadata": {},
     "output_type": "execute_result"
    }
   ],
   "source": [
    "data['distinct_payment_code_3month'].value_counts()"
   ]
  },
  {
   "cell_type": "markdown",
   "id": "2a2807df",
   "metadata": {},
   "source": [
    "<h2> 22. 'count_payment_code_3month' column"
   ]
  },
  {
   "cell_type": "code",
   "execution_count": 96,
   "id": "d7011f08",
   "metadata": {},
   "outputs": [
    {
     "data": {
      "text/plain": [
       "<AxesSubplot:ylabel='count_payment_code_3month'>"
      ]
     },
     "execution_count": 96,
     "metadata": {},
     "output_type": "execute_result"
    },
    {
     "data": {
      "image/png": "[encoded data removed]",
      "text/plain": [
       "<Figure size 432x288 with 1 Axes>"
      ]
     },
     "metadata": {
      "needs_background": "light"
     },
     "output_type": "display_data"
    }
   ],
   "source": [
    "sns.boxplot(y='count_payment_code_3month',data=data)"
   ]
  },
  {
   "cell_type": "markdown",
   "id": "7663c5da",
   "metadata": {},
   "source": [
    "Use IQR method to identify Outliers."
   ]
  },
  {
   "cell_type": "code",
   "execution_count": 97,
   "id": "270de4de",
   "metadata": {},
   "outputs": [],
   "source": [
    "count_payment_code_3month = data['count_payment_code_3month'].values.tolist()\n",
    "Q1 = np.percentile(data[['count_payment_code_3month']], 25, interpolation = 'midpoint')\n",
    "Q2 = np.percentile(data[['count_payment_code_3month']], 50, interpolation = 'midpoint')\n",
    "Q3 = np.percentile(data[['count_payment_code_3month']], 75, interpolation = 'midpoint')\n",
    "IQR = Q3 - Q1\n",
    "low_lim = Q1 - 1.5 * IQR\n",
    "up_lim = Q3 + 1.5 * IQR"
   ]
  },
  {
   "cell_type": "markdown",
   "id": "b2bdbd28",
   "metadata": {},
   "source": [
    "Handling Outliers by Capping."
   ]
  },
  {
   "cell_type": "code",
   "execution_count": 98,
   "id": "2a377328",
   "metadata": {},
   "outputs": [],
   "source": [
    "data['count_payment_code_3month'] = np.where(data['count_payment_code_3month'] > up_lim, up_lim, \n",
    "                               np.where(data['count_payment_code_3month'] < low_lim, low_lim, data['count_payment_code_3month']))"
   ]
  },
  {
   "cell_type": "code",
   "execution_count": 99,
   "id": "2be16d57",
   "metadata": {},
   "outputs": [
    {
     "data": {
      "text/plain": [
       "<AxesSubplot:ylabel='count_payment_code_3month'>"
      ]
     },
     "execution_count": 99,
     "metadata": {},
     "output_type": "execute_result"
    },
    {
     "data": {
      "image/png": "[encoded data removed]",
      "text/plain": [
       "<Figure size 432x288 with 1 Axes>"
      ]
     },
     "metadata": {
      "needs_background": "light"
     },
     "output_type": "display_data"
    }
   ],
   "source": [
    "sns.boxplot(y='count_payment_code_3month',data=data)"
   ]
  },
  {
   "cell_type": "markdown",
   "id": "22f87fc2",
   "metadata": {},
   "source": [
    "<h2> 23. 'distinct_trans_group_3month' column"
   ]
  },
  {
   "cell_type": "code",
   "execution_count": 101,
   "id": "08c452b2",
   "metadata": {},
   "outputs": [
    {
     "data": {
      "text/plain": [
       "<AxesSubplot:ylabel='distinct_trans_group_3month'>"
      ]
     },
     "execution_count": 101,
     "metadata": {},
     "output_type": "execute_result"
    },
    {
     "data": {
      "image/png": "[encoded data removed]",
      "text/plain": [
       "<Figure size 432x288 with 1 Axes>"
      ]
     },
     "metadata": {
      "needs_background": "light"
     },
     "output_type": "display_data"
    }
   ],
   "source": [
    "sns.boxplot(y='distinct_trans_group_3month',data=data)"
   ]
  },
  {
   "cell_type": "markdown",
   "id": "ff2cae16",
   "metadata": {},
   "source": [
    "Handling Outliers by Binning."
   ]
  },
  {
   "cell_type": "code",
   "execution_count": 102,
   "id": "b63ff2cc",
   "metadata": {},
   "outputs": [],
   "source": [
    "distinct_trans_group_3month = data['distinct_trans_group_3month'].values.tolist()\n",
    "\n",
    "def impute_distinct_trans_group_3month(col):\n",
    "    distinct_trans_group_3month = col[0]\n",
    "    if distinct_trans_group_3month < 5:\n",
    "        return distinct_trans_group_3month\n",
    "    else:\n",
    "        return 'Other'"
   ]
  },
  {
   "cell_type": "code",
   "execution_count": 103,
   "id": "0524cebf",
   "metadata": {},
   "outputs": [],
   "source": [
    "data['distinct_trans_group_3month'] = data[['distinct_trans_group_3month']].apply(impute_distinct_trans_group_3month, axis = 1)"
   ]
  },
  {
   "cell_type": "code",
   "execution_count": 104,
   "id": "3e8437d7",
   "metadata": {},
   "outputs": [
    {
     "data": {
      "text/plain": [
       "3        23593\n",
       "2        13764\n",
       "4         9126\n",
       "Other     4447\n",
       "1         3860\n",
       "Name: distinct_trans_group_3month, dtype: int64"
      ]
     },
     "execution_count": 104,
     "metadata": {},
     "output_type": "execute_result"
    }
   ],
   "source": [
    "data['distinct_trans_group_3month'].value_counts()"
   ]
  },
  {
   "cell_type": "markdown",
   "id": "a8ec856c",
   "metadata": {},
   "source": [
    "<h2> 24. 'distinct_ref_no_3month' column"
   ]
  },
  {
   "cell_type": "code",
   "execution_count": 105,
   "id": "4cfbdeab",
   "metadata": {},
   "outputs": [
    {
     "data": {
      "text/plain": [
       "<AxesSubplot:ylabel='distinct_ref_no_3month'>"
      ]
     },
     "execution_count": 105,
     "metadata": {},
     "output_type": "execute_result"
    },
    {
     "data": {
      "image/png": "[encoded data removed]",
      "text/plain": [
       "<Figure size 432x288 with 1 Axes>"
      ]
     },
     "metadata": {
      "needs_background": "light"
     },
     "output_type": "display_data"
    }
   ],
   "source": [
    "sns.boxplot(y ='distinct_ref_no_3month',data=data)"
   ]
  },
  {
   "cell_type": "markdown",
   "id": "37ec708f",
   "metadata": {},
   "source": [
    "Use IQR method to identify Outliers."
   ]
  },
  {
   "cell_type": "code",
   "execution_count": 106,
   "id": "1c45c58d",
   "metadata": {},
   "outputs": [],
   "source": [
    "distinct_ref_no_3month = data['distinct_ref_no_3month'].values.tolist()\n",
    "Q1 = np.percentile(data[['distinct_ref_no_3month']], 25, interpolation = 'midpoint')\n",
    "Q2 = np.percentile(data[['distinct_ref_no_3month']], 50, interpolation = 'midpoint')\n",
    "Q3 = np.percentile(data[['distinct_ref_no_3month']], 75, interpolation = 'midpoint')\n",
    "IQR = Q3 - Q1\n",
    "low_lim = Q1 - 1.5 * IQR\n",
    "up_lim = Q3 + 1.5 * IQR"
   ]
  },
  {
   "cell_type": "markdown",
   "id": "b492e79b",
   "metadata": {},
   "source": [
    "Handling Outliers by Capping."
   ]
  },
  {
   "cell_type": "code",
   "execution_count": 107,
   "id": "8afda306",
   "metadata": {},
   "outputs": [],
   "source": [
    "data['distinct_ref_no_3month'] = np.where(data['distinct_ref_no_3month'] > up_lim, up_lim, \n",
    "                               np.where(data['distinct_ref_no_3month'] < low_lim, low_lim, data['distinct_ref_no_3month']))"
   ]
  },
  {
   "cell_type": "code",
   "execution_count": 108,
   "id": "3c4e8b90",
   "metadata": {},
   "outputs": [
    {
     "data": {
      "text/plain": [
       "<AxesSubplot:ylabel='distinct_ref_no_3month'>"
      ]
     },
     "execution_count": 108,
     "metadata": {},
     "output_type": "execute_result"
    },
    {
     "data": {
      "image/png": "[encoded data removed]",
      "text/plain": [
       "<Figure size 432x288 with 1 Axes>"
      ]
     },
     "metadata": {
      "needs_background": "light"
     },
     "output_type": "display_data"
    }
   ],
   "source": [
    "sns.boxplot(y = 'distinct_ref_no_3month',data=data)"
   ]
  },
  {
   "cell_type": "code",
   "execution_count": 111,
   "id": "1b4b657e",
   "metadata": {},
   "outputs": [],
   "source": [
    "data.to_csv('dataset without outlier.csv', index=False)"
   ]
  },
  {
   "cell_type": "code",
   "execution_count": null,
   "id": "0e94bec0",
   "metadata": {},
   "outputs": [],
   "source": []
  }
 ],
 "metadata": {
  "kernelspec": {
   "display_name": "Python 3 (ipykernel)",
   "language": "python",
   "name": "python3"
  },
  "language_info": {
   "codemirror_mode": {
    "name": "ipython",
    "version": 3
   },
   "file_extension": ".py",
   "mimetype": "text/x-python",
   "name": "python",
   "nbconvert_exporter": "python",
   "pygments_lexer": "ipython3",
   "version": "3.9.7"
  }
 },
 "nbformat": 4,
 "nbformat_minor": 5
}
