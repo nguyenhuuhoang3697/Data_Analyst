{
 "cells": [
  {
   "cell_type": "code",
   "execution_count": 1,
   "id": "6b20ffce",
   "metadata": {},
   "outputs": [],
   "source": [
    "import pandas as pd\n",
    "import numpy as np\n",
    "from sklearn.model_selection import train_test_split\n",
    "from sklearn.naive_bayes import GaussianNB\n",
    "from sklearn.metrics import accuracy_score, precision_score, recall_score, precision_recall_curve, classification_report\n",
    "from sklearn.metrics import confusion_matrix, plot_confusion_matrix\n",
    "from sklearn.metrics import roc_auc_score\n",
    "import matplotlib.pyplot as plt\n",
    "import seaborn as sns\n",
    "from sklearn.preprocessing import PolynomialFeatures\n",
    "%matplotlib inline"
   ]
  },
  {
   "cell_type": "code",
   "execution_count": 2,
   "id": "3aa7e94c",
   "metadata": {},
   "outputs": [],
   "source": [
    "data_train = pd.read_csv('data_train_ros.csv')\n",
    "data_test = pd.read_csv('data_test.csv')"
   ]
  },
  {
   "cell_type": "code",
   "execution_count": 3,
   "id": "fbf1623b",
   "metadata": {},
   "outputs": [],
   "source": [
    "x_train = data_train[['distinct_ref_no_3month', 'distinct_ref_no_month', 'trans_group_3month_1', 'diff_amount_3month',\n",
    "          'diff_amount_week', 'diff_amount_month', 'trans_group_month_1.0', 'amount_3month', 'distinct_ref_no_week',\n",
    "          'amount_month', 'max_amount_3month']]\n",
    "y_train = data_train['Is_churn']\n",
    "x_test = data_test[['distinct_ref_no_3month', 'distinct_ref_no_month', 'trans_group_3month_1', 'diff_amount_3month',\n",
    "          'diff_amount_week', 'diff_amount_month', 'trans_group_month_1.0', 'amount_3month', 'distinct_ref_no_week',\n",
    "          'amount_month', 'max_amount_3month']]\n",
    "y_test = data_test['Is_churn']"
   ]
  },
  {
   "cell_type": "code",
   "execution_count": 4,
   "id": "cecaaeef",
   "metadata": {},
   "outputs": [
    {
     "name": "stdout",
     "output_type": "stream",
     "text": [
      "              precision    recall  f1-score   support\n",
      "\n",
      "           0       0.98      0.42      0.58     10459\n",
      "           1       0.06      0.79      0.11       499\n",
      "\n",
      "    accuracy                           0.43     10958\n",
      "   macro avg       0.52      0.60      0.35     10958\n",
      "weighted avg       0.93      0.43      0.56     10958\n",
      "\n"
     ]
    }
   ],
   "source": [
    "nb = GaussianNB()\n",
    "nb.fit(x_train, y_train)\n",
    "y_pred = nb.predict(x_test)\n",
    "print(classification_report(y_test, y_pred))"
   ]
  },
  {
   "cell_type": "code",
   "execution_count": 6,
   "id": "390baebd",
   "metadata": {
    "scrolled": true
   },
   "outputs": [
    {
     "data": {
      "text/plain": [
       "0.6025073380339414"
      ]
     },
     "execution_count": 6,
     "metadata": {},
     "output_type": "execute_result"
    }
   ],
   "source": [
    "roc_auc_score(y_test, y_pred)"
   ]
  },
  {
   "cell_type": "code",
   "execution_count": 7,
   "id": "cdcc7e90",
   "metadata": {},
   "outputs": [
    {
     "name": "stdout",
     "output_type": "stream",
     "text": [
      "              precision    recall  f1-score   support\n",
      "\n",
      "           0       0.70      0.42      0.52     41835\n",
      "           1       0.58      0.82      0.68     41835\n",
      "\n",
      "    accuracy                           0.62     83670\n",
      "   macro avg       0.64      0.62      0.60     83670\n",
      "weighted avg       0.64      0.62      0.60     83670\n",
      "\n"
     ]
    }
   ],
   "source": [
    "y_pred = nb.predict(x_train)\n",
    "print(classification_report(y_train, y_pred))"
   ]
  },
  {
   "cell_type": "code",
   "execution_count": 8,
   "id": "9408feae",
   "metadata": {},
   "outputs": [
    {
     "data": {
      "text/plain": [
       "0.618549061790367"
      ]
     },
     "execution_count": 8,
     "metadata": {},
     "output_type": "execute_result"
    }
   ],
   "source": [
    "roc_auc_score(y_train, y_pred)"
   ]
  },
  {
   "cell_type": "code",
   "execution_count": null,
   "id": "4d65c136",
   "metadata": {},
   "outputs": [],
   "source": []
  }
 ],
 "metadata": {
  "kernelspec": {
   "display_name": "Python 3 (ipykernel)",
   "language": "python",
   "name": "python3"
  },
  "language_info": {
   "codemirror_mode": {
    "name": "ipython",
    "version": 3
   },
   "file_extension": ".py",
   "mimetype": "text/x-python",
   "name": "python",
   "nbconvert_exporter": "python",
   "pygments_lexer": "ipython3",
   "version": "3.9.7"
  }
 },
 "nbformat": 4,
 "nbformat_minor": 5
}
