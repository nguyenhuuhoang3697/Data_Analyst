{
 "cells": [
  {
   "cell_type": "code",
   "execution_count": 4,
   "id": "b9665680",
   "metadata": {},
   "outputs": [],
   "source": [
    "import pandas as pd\n",
    "import numpy as np\n",
    "import matplotlib.pyplot as plt\n",
    "from sklearn.svm import SVC\n",
    "from sklearn.metrics import confusion_matrix, accuracy_score, classification_report, precision_score, recall_score, f1_score\n",
    "from sklearn.metrics import roc_auc_score\n",
    "from sklearn.preprocessing import PolynomialFeatures\n",
    "%matplotlib inline"
   ]
  },
  {
   "cell_type": "code",
   "execution_count": 2,
   "id": "2361904e",
   "metadata": {},
   "outputs": [],
   "source": [
    "data_train = pd.read_csv('data_train_ros.csv')\n",
    "data_test = pd.read_csv('data_test.csv')"
   ]
  },
  {
   "cell_type": "code",
   "execution_count": 3,
   "id": "cf5761d0",
   "metadata": {},
   "outputs": [],
   "source": [
    "x_train = data_train[['distinct_ref_no_3month', 'distinct_ref_no_month', 'trans_group_3month_1', 'diff_amount_3month',\n",
    "          'diff_amount_week', 'diff_amount_month', 'trans_group_month_1.0', 'amount_3month', 'distinct_ref_no_week',\n",
    "          'amount_month', 'max_amount_3month']]\n",
    "y_train = data_train['Is_churn']\n",
    "x_test = data_test[['distinct_ref_no_3month', 'distinct_ref_no_month', 'trans_group_3month_1', 'diff_amount_3month',\n",
    "          'diff_amount_week', 'diff_amount_month', 'trans_group_month_1.0', 'amount_3month', 'distinct_ref_no_week',\n",
    "          'amount_month', 'max_amount_3month']]\n",
    "y_test = data_test['Is_churn']"
   ]
  },
  {
   "cell_type": "code",
   "execution_count": 5,
   "id": "19b83b67",
   "metadata": {},
   "outputs": [
    {
     "name": "stdout",
     "output_type": "stream",
     "text": [
      "              precision    recall  f1-score   support\n",
      "\n",
      "           0       0.98      0.74      0.84     10459\n",
      "           1       0.11      0.67      0.19       499\n",
      "\n",
      "    accuracy                           0.74     10958\n",
      "   macro avg       0.55      0.71      0.52     10958\n",
      "weighted avg       0.94      0.74      0.81     10958\n",
      "\n"
     ]
    }
   ],
   "source": [
    "svc = SVC(kernel='rbf')\n",
    "svc.fit(x_train, y_train)\n",
    "y_pred = svc.predict(x_test)\n",
    "print(classification_report(y_test, y_pred))"
   ]
  },
  {
   "cell_type": "code",
   "execution_count": 6,
   "id": "7959606a",
   "metadata": {},
   "outputs": [
    {
     "data": {
      "text/plain": [
       "0.7075022978359434"
      ]
     },
     "execution_count": 6,
     "metadata": {},
     "output_type": "execute_result"
    }
   ],
   "source": [
    "roc_auc_score(y_test, y_pred)\n"
   ]
  },
  {
   "cell_type": "code",
   "execution_count": 7,
   "id": "25901c53",
   "metadata": {},
   "outputs": [
    {
     "name": "stdout",
     "output_type": "stream",
     "text": [
      "              precision    recall  f1-score   support\n",
      "\n",
      "           0       0.73      0.74      0.73     41835\n",
      "           1       0.73      0.72      0.73     41835\n",
      "\n",
      "    accuracy                           0.73     83670\n",
      "   macro avg       0.73      0.73      0.73     83670\n",
      "weighted avg       0.73      0.73      0.73     83670\n",
      "\n"
     ]
    }
   ],
   "source": [
    "y_pred = svc.predict(x_train)\n",
    "print(classification_report(y_train, y_pred))"
   ]
  },
  {
   "cell_type": "code",
   "execution_count": 9,
   "id": "70fbde4d",
   "metadata": {},
   "outputs": [
    {
     "data": {
      "text/plain": [
       "0.7301780805545595"
      ]
     },
     "execution_count": 9,
     "metadata": {},
     "output_type": "execute_result"
    }
   ],
   "source": [
    "roc_auc_score(y_train, y_pred)\n"
   ]
  },
  {
   "cell_type": "markdown",
   "id": "eac8584a",
   "metadata": {},
   "source": [
    "## Conclusion"
   ]
  },
  {
   "cell_type": "markdown",
   "id": "b163aee9",
   "metadata": {},
   "source": [
    "Based on these above information, we can see that the K_Nearest Neighbors model is\n",
    "the most efficient model with Accuracy reaching 94%, AUC reaching 66.5% and F1-score reaching 37%. Do\n",
    "Therefore, we have selected K-Nearest Neighbors as the Churn Customer forecasting model."
   ]
  },
  {
   "cell_type": "code",
   "execution_count": null,
   "id": "3e06774b",
   "metadata": {},
   "outputs": [],
   "source": []
  }
 ],
 "metadata": {
  "kernelspec": {
   "display_name": "Python 3 (ipykernel)",
   "language": "python",
   "name": "python3"
  },
  "language_info": {
   "codemirror_mode": {
    "name": "ipython",
    "version": 3
   },
   "file_extension": ".py",
   "mimetype": "text/x-python",
   "name": "python",
   "nbconvert_exporter": "python",
   "pygments_lexer": "ipython3",
   "version": "3.9.7"
  }
 },
 "nbformat": 4,
 "nbformat_minor": 5
}
